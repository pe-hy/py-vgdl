{
 "cells": [
  {
   "cell_type": "code",
   "execution_count": 1,
   "outputs": [],
   "source": [
    "import warnings\n",
    "warnings.filterwarnings('ignore')\n",
    "warnings.simplefilter('ignore')"
   ],
   "metadata": {
    "collapsed": false,
    "pycharm": {
     "name": "#%%\n"
    }
   }
  },
  {
   "cell_type": "code",
   "execution_count": 2,
   "outputs": [],
   "source": [
    "import gym\n",
    "import vgdl.interfaces.gym as vdgym\n",
    "import vgdl"
   ],
   "metadata": {
    "collapsed": false,
    "pycharm": {
     "name": "#%%\n"
    }
   }
  },
  {
   "cell_type": "code",
   "execution_count": 3,
   "metadata": {
    "collapsed": true,
    "jupyter": {
     "outputs_hidden": true
    },
    "pycharm": {
     "name": "#%%\n"
    }
   },
   "outputs": [],
   "source": [
    "vdgym.register_sample_games()"
   ]
  },
  {
   "cell_type": "code",
   "execution_count": 4,
   "metadata": {
    "pycharm": {
     "name": "#%%\n"
    }
   },
   "outputs": [
    {
     "data": {
      "text/plain": "<module 'vgdl.interfaces.gym.list_space' from '/home/irafm/hyner/vgdl_2_0/py-vgdl/vgdl/interfaces/gym/list_space.py'>"
     },
     "execution_count": 4,
     "metadata": {},
     "output_type": "execute_result"
    }
   ],
   "source": [
    "vdgym.list_space"
   ]
  },
  {
   "cell_type": "code",
   "execution_count": 5,
   "metadata": {
    "pycharm": {
     "name": "#%%\n"
    }
   },
   "outputs": [
    {
     "data": {
      "text/plain": "├──CartPole: [ v0, v1 ]\n├──MountainCar: [ v0 ]\n├──MountainCarContinuous: [ v0 ]\n├──Pendulum: [ v1 ]\n├──Acrobot: [ v1 ]\n├──LunarLander: [ v2 ]\n├──LunarLanderContinuous: [ v2 ]\n├──BipedalWalker: [ v3 ]\n├──BipedalWalkerHardcore: [ v3 ]\n├──CarRacing: [ v1 ]\n├──Blackjack: [ v1 ]\n├──FrozenLake: [ v1 ]\n├──FrozenLake8x8: [ v1 ]\n├──CliffWalking: [ v0 ]\n├──Taxi: [ v3 ]\n├──Reacher: [ v2 ]\n├──Pusher: [ v2 ]\n├──InvertedPendulum: [ v2 ]\n├──InvertedDoublePendulum: [ v2 ]\n├──HalfCheetah: [ v2, v3 ]\n├──Hopper: [ v2, v3 ]\n├──Swimmer: [ v2, v3 ]\n├──Walker2d: [ v2, v3 ]\n├──Ant: [ v2, v3 ]\n├──Humanoid: [ v2, v3 ]\n├──HumanoidStandup: [ v2 ]\n├──vgdl_aliens: [ v0 ]\n├──vgdl_aliens_objects: [ v0 ]\n├──vgdl_aliens_features: [ v0 ]\n├──vgdl_boulderdash: [ v0 ]\n├──vgdl_boulderdash_objects: [ v0 ]\n├──vgdl_boulderdash_features: [ v0 ]\n├──vgdl_chase: [ v0 ]\n├──vgdl_chase_objects: [ v0 ]\n├──vgdl_chase_features: [ v0 ]\n├──vgdl_frogs: [ v0 ]\n├──vgdl_frogs_objects: [ v0 ]\n├──vgdl_frogs_features: [ v0 ]\n├──vgdl_missilecommand: [ v0 ]\n├──vgdl_missilecommand_objects: [ v0 ]\n├──vgdl_missilecommand_features: [ v0 ]\n├──vgdl_sokoban: [ v0 ]\n├──vgdl_sokoban_objects: [ v0 ]\n├──vgdl_sokoban_features: [ v0 ]\n├──vgdl_portals: [ v0 ]\n├──vgdl_portals_objects: [ v0 ]\n├──vgdl_portals_features: [ v0 ]\n├──vgdl_survivezombies: [ v0 ]\n├──vgdl_survivezombies_objects: [ v0 ]\n├──vgdl_survivezombies_features: [ v0 ]\n├──vgdl_zelda: [ v0 ]\n├──vgdl_zelda_objects: [ v0 ]\n└──vgdl_zelda_features: [ v0 ]"
     },
     "execution_count": 5,
     "metadata": {},
     "output_type": "execute_result"
    }
   ],
   "source": [
    "gym.envs.registry"
   ]
  },
  {
   "cell_type": "code",
   "execution_count": 6,
   "metadata": {
    "pycharm": {
     "name": "#%%\n"
    }
   },
   "outputs": [
    {
     "ename": "AttributeError",
     "evalue": "'NoneType' object has no attribute 'get_image'",
     "output_type": "error",
     "traceback": [
      "\u001B[0;31m---------------------------------------------------------------------------\u001B[0m",
      "\u001B[0;31mAttributeError\u001B[0m                            Traceback (most recent call last)",
      "\u001B[0;32m/tmp/ipykernel_2447201/2287179980.py\u001B[0m in \u001B[0;36m<module>\u001B[0;34m\u001B[0m\n\u001B[1;32m      1\u001B[0m \u001B[0mgame\u001B[0m \u001B[0;34m=\u001B[0m \u001B[0mgym\u001B[0m\u001B[0;34m.\u001B[0m\u001B[0mmake\u001B[0m\u001B[0;34m(\u001B[0m\u001B[0;34m'vgdl_sokoban-v0'\u001B[0m\u001B[0;34m)\u001B[0m\u001B[0;34m\u001B[0m\u001B[0;34m\u001B[0m\u001B[0m\n\u001B[0;32m----> 2\u001B[0;31m \u001B[0mgame\u001B[0m\u001B[0;34m.\u001B[0m\u001B[0mreset\u001B[0m\u001B[0;34m(\u001B[0m\u001B[0;34m)\u001B[0m\u001B[0;34m\u001B[0m\u001B[0;34m\u001B[0m\u001B[0m\n\u001B[0m",
      "\u001B[0;32m~/miniconda3/envs/vgdl37/lib/python3.7/site-packages/gym/wrappers/order_enforcing.py\u001B[0m in \u001B[0;36mreset\u001B[0;34m(self, **kwargs)\u001B[0m\n\u001B[1;32m     16\u001B[0m     \u001B[0;32mdef\u001B[0m \u001B[0mreset\u001B[0m\u001B[0;34m(\u001B[0m\u001B[0mself\u001B[0m\u001B[0;34m,\u001B[0m \u001B[0;34m**\u001B[0m\u001B[0mkwargs\u001B[0m\u001B[0;34m)\u001B[0m\u001B[0;34m:\u001B[0m\u001B[0;34m\u001B[0m\u001B[0;34m\u001B[0m\u001B[0m\n\u001B[1;32m     17\u001B[0m         \u001B[0mself\u001B[0m\u001B[0;34m.\u001B[0m\u001B[0m_has_reset\u001B[0m \u001B[0;34m=\u001B[0m \u001B[0;32mTrue\u001B[0m\u001B[0;34m\u001B[0m\u001B[0;34m\u001B[0m\u001B[0m\n\u001B[0;32m---> 18\u001B[0;31m         \u001B[0;32mreturn\u001B[0m \u001B[0mself\u001B[0m\u001B[0;34m.\u001B[0m\u001B[0menv\u001B[0m\u001B[0;34m.\u001B[0m\u001B[0mreset\u001B[0m\u001B[0;34m(\u001B[0m\u001B[0;34m**\u001B[0m\u001B[0mkwargs\u001B[0m\u001B[0;34m)\u001B[0m\u001B[0;34m\u001B[0m\u001B[0;34m\u001B[0m\u001B[0m\n\u001B[0m",
      "\u001B[0;32m~/hyner/vgdl_2_0/py-vgdl/vgdl/interfaces/gym/env.py\u001B[0m in \u001B[0;36mreset\u001B[0;34m(self)\u001B[0m\n\u001B[1;32m    119\u001B[0m         \u001B[0;31m# self.game = self.game.domain.build_level(self.level_desc)\u001B[0m\u001B[0;34m\u001B[0m\u001B[0;34m\u001B[0m\u001B[0;34m\u001B[0m\u001B[0m\n\u001B[1;32m    120\u001B[0m         \u001B[0mself\u001B[0m\u001B[0;34m.\u001B[0m\u001B[0mscore_last\u001B[0m \u001B[0;34m=\u001B[0m \u001B[0mself\u001B[0m\u001B[0;34m.\u001B[0m\u001B[0mgame\u001B[0m\u001B[0;34m.\u001B[0m\u001B[0mscore\u001B[0m\u001B[0;34m\u001B[0m\u001B[0;34m\u001B[0m\u001B[0m\n\u001B[0;32m--> 121\u001B[0;31m         \u001B[0mstate\u001B[0m \u001B[0;34m=\u001B[0m \u001B[0mself\u001B[0m\u001B[0;34m.\u001B[0m\u001B[0m_get_obs\u001B[0m\u001B[0;34m(\u001B[0m\u001B[0;34m)\u001B[0m\u001B[0;34m\u001B[0m\u001B[0;34m\u001B[0m\u001B[0m\n\u001B[0m\u001B[1;32m    122\u001B[0m         \u001B[0;32mreturn\u001B[0m \u001B[0mstate\u001B[0m\u001B[0;34m\u001B[0m\u001B[0;34m\u001B[0m\u001B[0m\n\u001B[1;32m    123\u001B[0m \u001B[0;34m\u001B[0m\u001B[0m\n",
      "\u001B[0;32m~/hyner/vgdl_2_0/py-vgdl/vgdl/interfaces/gym/env.py\u001B[0m in \u001B[0;36m_get_obs\u001B[0;34m(self)\u001B[0m\n\u001B[1;32m     97\u001B[0m     \u001B[0;32mdef\u001B[0m \u001B[0m_get_obs\u001B[0m\u001B[0;34m(\u001B[0m\u001B[0mself\u001B[0m\u001B[0;34m)\u001B[0m\u001B[0;34m:\u001B[0m\u001B[0;34m\u001B[0m\u001B[0;34m\u001B[0m\u001B[0m\n\u001B[1;32m     98\u001B[0m         \u001B[0;32mif\u001B[0m \u001B[0mself\u001B[0m\u001B[0;34m.\u001B[0m\u001B[0m_obs_type\u001B[0m \u001B[0;34m==\u001B[0m \u001B[0;34m'image'\u001B[0m\u001B[0;34m:\u001B[0m\u001B[0;34m\u001B[0m\u001B[0;34m\u001B[0m\u001B[0m\n\u001B[0;32m---> 99\u001B[0;31m             \u001B[0;32mreturn\u001B[0m \u001B[0mself\u001B[0m\u001B[0;34m.\u001B[0m\u001B[0mrenderer\u001B[0m\u001B[0;34m.\u001B[0m\u001B[0mget_image\u001B[0m\u001B[0;34m(\u001B[0m\u001B[0;34m)\u001B[0m\u001B[0;34m\u001B[0m\u001B[0;34m\u001B[0m\u001B[0m\n\u001B[0m\u001B[1;32m    100\u001B[0m         \u001B[0;32melse\u001B[0m\u001B[0;34m:\u001B[0m\u001B[0;34m\u001B[0m\u001B[0;34m\u001B[0m\u001B[0m\n\u001B[1;32m    101\u001B[0m             \u001B[0mobservation\u001B[0m \u001B[0;34m=\u001B[0m \u001B[0mself\u001B[0m\u001B[0;34m.\u001B[0m\u001B[0mobserver\u001B[0m\u001B[0;34m.\u001B[0m\u001B[0mget_observation\u001B[0m\u001B[0;34m(\u001B[0m\u001B[0;34m)\u001B[0m\u001B[0;34m\u001B[0m\u001B[0;34m\u001B[0m\u001B[0m\n",
      "\u001B[0;31mAttributeError\u001B[0m: 'NoneType' object has no attribute 'get_image'"
     ]
    }
   ],
   "source": [
    "game = gym.make('vgdl_sokoban-v0')\n",
    "game.reset()"
   ]
  },
  {
   "cell_type": "code",
   "execution_count": 7,
   "outputs": [
    {
     "data": {
      "text/plain": "'0.23.1'"
     },
     "execution_count": 7,
     "metadata": {},
     "output_type": "execute_result"
    }
   ],
   "source": [
    "gym.__version__"
   ],
   "metadata": {
    "collapsed": false,
    "pycharm": {
     "name": "#%%\n"
    }
   }
  },
  {
   "cell_type": "code",
   "execution_count": 8,
   "metadata": {
    "pycharm": {
     "name": "#%%\n"
    }
   },
   "outputs": [
    {
     "data": {
      "text/plain": "<Figure size 432x288 with 1 Axes>",
      "image/png": "[encoded data removed]"
     },
     "metadata": {},
     "output_type": "display_data"
    },
    {
     "name": "stdout",
     "output_type": "stream",
     "text": [
      "(240,)\n",
      "[(4, 3) list([0.0, 0.0]) list([1.0, 0.0, 0.0, 0.0]) list([]) (10, 3)\n",
      " list([0.0, 0.0]) list([0.0, 1.0, 0.0, 0.0]) list([]) (10, 5)\n",
      " list([0.0, 0.0]) list([0.0, 1.0, 0.0, 0.0]) list([]) (4, 2)\n",
      " list([0.0, 0.0]) list([0.0, 0.0, 1.0, 0.0]) list([]) (6, 3)\n",
      " list([0.0, 0.0]) list([0.0, 0.0, 1.0, 0.0]) list([]) (5, 4)\n",
      " list([0.0, 0.0]) list([0.0, 0.0, 1.0, 0.0]) list([]) (2, 6)\n",
      " list([0.0, 0.0]) list([0.0, 0.0, 1.0, 0.0]) list([]) (0, 0)\n",
      " list([0.0, 0.0]) list([0.0, 0.0, 0.0, 1.0]) list([]) (1, 0)\n",
      " list([0.0, 0.0]) list([0.0, 0.0, 0.0, 1.0]) list([]) (2, 0)\n",
      " list([0.0, 0.0]) list([0.0, 0.0, 0.0, 1.0]) list([]) (3, 0)\n",
      " list([0.0, 0.0]) list([0.0, 0.0, 0.0, 1.0]) list([]) (4, 0)\n",
      " list([0.0, 0.0]) list([0.0, 0.0, 0.0, 1.0]) list([]) (5, 0)\n",
      " list([0.0, 0.0]) list([0.0, 0.0, 0.0, 1.0]) list([]) (6, 0)\n",
      " list([0.0, 0.0]) list([0.0, 0.0, 0.0, 1.0]) list([]) (7, 0)\n",
      " list([0.0, 0.0]) list([0.0, 0.0, 0.0, 1.0]) list([]) (8, 0)\n",
      " list([0.0, 0.0]) list([0.0, 0.0, 0.0, 1.0]) list([]) (9, 0)\n",
      " list([0.0, 0.0]) list([0.0, 0.0, 0.0, 1.0]) list([]) (10, 0)\n",
      " list([0.0, 0.0]) list([0.0, 0.0, 0.0, 1.0]) list([]) (11, 0)\n",
      " list([0.0, 0.0]) list([0.0, 0.0, 0.0, 1.0]) list([]) (12, 0)\n",
      " list([0.0, 0.0]) list([0.0, 0.0, 0.0, 1.0]) list([]) (0, 1)\n",
      " list([0.0, 0.0]) list([0.0, 0.0, 0.0, 1.0]) list([]) (9, 1)\n",
      " list([0.0, 0.0]) list([0.0, 0.0, 0.0, 1.0]) list([]) (12, 1)\n",
      " list([0.0, 0.0]) list([0.0, 0.0, 0.0, 1.0]) list([]) (0, 2)\n",
      " list([0.0, 0.0]) list([0.0, 0.0, 0.0, 1.0]) list([]) (12, 2)\n",
      " list([0.0, 0.0]) list([0.0, 0.0, 0.0, 1.0]) list([]) (0, 3)\n",
      " list([0.0, 0.0]) list([0.0, 0.0, 0.0, 1.0]) list([]) (8, 3)\n",
      " list([0.0, 0.0]) list([0.0, 0.0, 0.0, 1.0]) list([]) (11, 3)\n",
      " list([0.0, 0.0]) list([0.0, 0.0, 0.0, 1.0]) list([]) (12, 3)\n",
      " list([0.0, 0.0]) list([0.0, 0.0, 0.0, 1.0]) list([]) (0, 4)\n",
      " list([0.0, 0.0]) list([0.0, 0.0, 0.0, 1.0]) list([]) (1, 4)\n",
      " list([0.0, 0.0]) list([0.0, 0.0, 0.0, 1.0]) list([]) (2, 4)\n",
      " list([0.0, 0.0]) list([0.0, 0.0, 0.0, 1.0]) list([]) (4, 4)\n",
      " list([0.0, 0.0]) list([0.0, 0.0, 0.0, 1.0]) list([]) (8, 4)\n",
      " list([0.0, 0.0]) list([0.0, 0.0, 0.0, 1.0]) list([]) (9, 4)\n",
      " list([0.0, 0.0]) list([0.0, 0.0, 0.0, 1.0]) list([]) (10, 4)\n",
      " list([0.0, 0.0]) list([0.0, 0.0, 0.0, 1.0]) list([]) (11, 4)\n",
      " list([0.0, 0.0]) list([0.0, 0.0, 0.0, 1.0]) list([]) (12, 4)\n",
      " list([0.0, 0.0]) list([0.0, 0.0, 0.0, 1.0]) list([]) (0, 5)\n",
      " list([0.0, 0.0]) list([0.0, 0.0, 0.0, 1.0]) list([]) (8, 5)\n",
      " list([0.0, 0.0]) list([0.0, 0.0, 0.0, 1.0]) list([]) (12, 5)\n",
      " list([0.0, 0.0]) list([0.0, 0.0, 0.0, 1.0]) list([]) (0, 6)\n",
      " list([0.0, 0.0]) list([0.0, 0.0, 0.0, 1.0]) list([]) (11, 6)\n",
      " list([0.0, 0.0]) list([0.0, 0.0, 0.0, 1.0]) list([]) (12, 6)\n",
      " list([0.0, 0.0]) list([0.0, 0.0, 0.0, 1.0]) list([]) (0, 7)\n",
      " list([0.0, 0.0]) list([0.0, 0.0, 0.0, 1.0]) list([]) (11, 7)\n",
      " list([0.0, 0.0]) list([0.0, 0.0, 0.0, 1.0]) list([]) (12, 7)\n",
      " list([0.0, 0.0]) list([0.0, 0.0, 0.0, 1.0]) list([]) (0, 8)\n",
      " list([0.0, 0.0]) list([0.0, 0.0, 0.0, 1.0]) list([]) (1, 8)\n",
      " list([0.0, 0.0]) list([0.0, 0.0, 0.0, 1.0]) list([]) (2, 8)\n",
      " list([0.0, 0.0]) list([0.0, 0.0, 0.0, 1.0]) list([]) (3, 8)\n",
      " list([0.0, 0.0]) list([0.0, 0.0, 0.0, 1.0]) list([]) (4, 8)\n",
      " list([0.0, 0.0]) list([0.0, 0.0, 0.0, 1.0]) list([]) (5, 8)\n",
      " list([0.0, 0.0]) list([0.0, 0.0, 0.0, 1.0]) list([]) (6, 8)\n",
      " list([0.0, 0.0]) list([0.0, 0.0, 0.0, 1.0]) list([]) (7, 8)\n",
      " list([0.0, 0.0]) list([0.0, 0.0, 0.0, 1.0]) list([]) (8, 8)\n",
      " list([0.0, 0.0]) list([0.0, 0.0, 0.0, 1.0]) list([]) (9, 8)\n",
      " list([0.0, 0.0]) list([0.0, 0.0, 0.0, 1.0]) list([]) (10, 8)\n",
      " list([0.0, 0.0]) list([0.0, 0.0, 0.0, 1.0]) list([]) (11, 8)\n",
      " list([0.0, 0.0]) list([0.0, 0.0, 0.0, 1.0]) list([]) (12, 8)\n",
      " list([0.0, 0.0]) list([0.0, 0.0, 0.0, 1.0]) list([])]\n",
      "['avatar', 'hole', 'box', 'wall']\n",
      "GameState(time=1, score=0, reward=0, ended=False, avatar=(pos=(4, 3), alive=True))\n"
     ]
    },
    {
     "data": {
      "text/plain": "<Figure size 432x288 with 1 Axes>",
      "image/png": "[encoded data removed]"
     },
     "metadata": {
      "needs_background": "light"
     },
     "output_type": "display_data"
    }
   ],
   "source": [
    "import gnwrapper\n",
    "import gym\n",
    "\n",
    "env = gnwrapper.Animation(gym.make('vgdl_sokoban-v0', obs_type=\"objects\"))\n",
    "env.render()\n",
    "obs = env.reset()\n",
    "\n",
    "for _ in range(1000):\n",
    "    next_obs, reward, done, info = env.step(env.action_space.sample())\n",
    "    env.render()\n",
    "\n",
    "    obs = next_obs\n",
    "    print(obs.shape)\n",
    "    print(obs)\n",
    "    print(env.notable_sprites)\n",
    "    print(env.game.get_game_state())\n",
    "    break\n",
    "\n",
    "    if done:\n",
    "        obs = env.reset()"
   ]
  },
  {
   "cell_type": "code",
   "execution_count": 9,
   "metadata": {
    "pycharm": {
     "name": "#%%\n"
    }
   },
   "outputs": [],
   "source": [
    "import itertools\n",
    "import heapq as hq\n",
    "from dataclasses import dataclass, field\n",
    "from typing import Any,List,Tuple\n",
    "\n",
    "@dataclass(order=True)\n",
    "class Subgoal:\n",
    "    priority: int\n",
    "    previous_actions: list\n",
    "    info: Any=field(compare=False)\n",
    "\n",
    "\n",
    "class PriorityQueue:\n",
    "    def __init__(self):\n",
    "        self.elements: List[Subgoal] = []\n",
    "\n",
    "    def empty(self) -> bool:\n",
    "        return not self.elements\n",
    "\n",
    "    def put(self, item: Subgoal):\n",
    "        hq.heappush(self.elements,item)\n",
    "\n",
    "    def get(self) -> Subgoal:\n",
    "        return hq.heappop(self.elements)\n",
    "\n",
    "    def merge(self,items: List):\n",
    "        for item in items:\n",
    "            hq.heappush(self.elements,item)"
   ]
  },
  {
   "cell_type": "code",
   "execution_count": 10,
   "outputs": [
    {
     "name": "stdout",
     "output_type": "stream",
     "text": [
      "[0, 1, 2, 1, 1, 1, 1, 2, 0, 1, 3, 3, 0, 0, 2, 0, 0, 0, 0, 3, 1, 1, 2, 1, 1, 1, 1, 2, 2, 0, 0, 3, 1, 1, 3, 3, 0, 0, 3, 0, 0, 1, 1, 1, 1, 2, 2, 0, 0, 0, 0, 0, 1, 1, 1, 1, 1, 3, 3, 0, 0, 0, 0, 3, 0, 0, 2, 1, 0, 3, 3, 1, 1, 0, 0, 2, 2, 1, 1, 0, 0, 3, 3, 1, 1, 1, 0, 0, 0, 3]\n",
      "KeysView(GameState(time=0, score=0, reward=0, ended=False, avatar=(pos=(4, 3), alive=True)))\n"
     ]
    },
    {
     "name": "stderr",
     "output_type": "stream",
     "text": [
      "/home/irafm/miniconda3/envs/vgdl37/lib/python3.7/site-packages/gym/wrappers/monitoring/video_recorder.py:44: DeprecationWarning: \u001B[33mWARN: `env.metadata[\"render.modes\"] is marked as deprecated and will be replaced with `env.metadata[\"render_modes\"]` see https://github.com/openai/gym/pull/2654 for more details\u001B[0m\n",
      "  '`env.metadata[\"render.modes\"] is marked as deprecated and will be replaced with `env.metadata[\"render_modes\"]` '\n",
      "/home/irafm/miniconda3/envs/vgdl37/lib/python3.7/site-packages/gym/wrappers/monitoring/video_recorder.py:116: DeprecationWarning: \u001B[33mWARN: `env.metadata[\"video.frames_per_second\"] is marked as deprecated and will be replaced with `env.metadata[\"render_fps\"]` see https://github.com/openai/gym/pull/2654 for more details\u001B[0m\n",
      "  '`env.metadata[\"video.frames_per_second\"] is marked as deprecated and will be replaced with `env.metadata[\"render_fps\"]` '\n",
      "/home/irafm/miniconda3/envs/vgdl37/lib/python3.7/site-packages/gym/wrappers/monitoring/video_recorder.py:422: DeprecationWarning: distutils Version classes are deprecated. Use packaging.version instead.\n",
      "  np.__version__\n"
     ]
    }
   ],
   "source": [
    "env = gym.make('vgdl_sokoban-v0', obs_type=\"objects\")\n",
    "obs = env.reset()\n",
    "first_state_info = env.game.get_game_state()\n",
    "first_state = Subgoal(priority=0, previous_actions=[],\\\n",
    "                      info=first_state_info)\n",
    "frontier = PriorityQueue()\n",
    "frontier.put(first_state)\n",
    "\n",
    "def evaluate_state(state):\n",
    "    return 0;\n",
    "\n",
    "\n",
    "\n",
    "def visualize_actions(action_list, current_state):\n",
    "    env = gnwrapper.Monitor(gym.make('vgdl_sokoban-v0', obs_type=\"objects\"))\n",
    "    env.reset()\n",
    "    env.game.set_game_state(current_state)\n",
    "    print(current_state.keys())\n",
    "    for i in action_list:\n",
    "        next_obs, reward, done, info = env.step(i)\n",
    "    return env\n",
    "seen_states = {first_state_info}\n",
    "for i in range(100):\n",
    "    if len(frontier.elements)==0:\n",
    "        #print(f\"no more subgoals on {i}th iteration\")\n",
    "        break\n",
    "    #else: print('frontier size:',len(frontier.elements))\n",
    "    current = frontier.get()\n",
    "    state = current.info\n",
    "    env.game.set_game_state(state)\n",
    "    for i, a in enumerate(env.game.get_possible_actions()):\n",
    "        next_obs, reward, done, info = env.step(i)\n",
    "        if done:\n",
    "            env.game.set_game_state(state)\n",
    "            continue\n",
    "        new_state = env.game.get_game_state()\n",
    "        if done or new_state in seen_states:\n",
    "            env.game.set_game_state(state)\n",
    "            continue\n",
    "        seen_states.add(new_state)\n",
    "        actions = current.previous_actions+[i]\n",
    "        new_state = Subgoal(evaluate_state(new_state), actions, new_state)\n",
    "        frontier.put(new_state)\n",
    "        env.game.set_game_state(state)\n",
    "\n",
    "tmp_state = frontier.get()\n",
    "tmp_state = frontier.get()\n",
    "print(tmp_state.previous_actions)\n",
    "env = visualize_actions(tmp_state.previous_actions, first_state_info)"
   ],
   "metadata": {
    "collapsed": false,
    "pycharm": {
     "name": "#%%\n"
    }
   }
  },
  {
   "cell_type": "code",
   "execution_count": 11,
   "outputs": [
    {
     "data": {
      "text/plain": "['avatar', 'hole', 'box', 'wall']"
     },
     "execution_count": 11,
     "metadata": {},
     "output_type": "execute_result"
    }
   ],
   "source": [
    "env.observer.notable_sprites"
   ],
   "metadata": {
    "collapsed": false,
    "pycharm": {
     "name": "#%%\n"
    }
   }
  },
  {
   "cell_type": "code",
   "execution_count": 12,
   "outputs": [
    {
     "ename": "NameError",
     "evalue": "name 'game_file' is not defined",
     "output_type": "error",
     "traceback": [
      "\u001B[0;31m---------------------------------------------------------------------------\u001B[0m",
      "\u001B[0;31mNameError\u001B[0m                                 Traceback (most recent call last)",
      "\u001B[0;32m/tmp/ipykernel_2447201/1217003772.py\u001B[0m in \u001B[0;36m<module>\u001B[0;34m\u001B[0m\n\u001B[0;32m----> 1\u001B[0;31m \u001B[0;32mwith\u001B[0m \u001B[0mopen\u001B[0m \u001B[0;34m(\u001B[0m\u001B[0mgame_file\u001B[0m\u001B[0;34m,\u001B[0m \u001B[0;34m\"r\"\u001B[0m\u001B[0;34m)\u001B[0m \u001B[0;32mas\u001B[0m \u001B[0mgf\u001B[0m\u001B[0;34m:\u001B[0m\u001B[0;34m\u001B[0m\u001B[0;34m\u001B[0m\u001B[0m\n\u001B[0m\u001B[1;32m      2\u001B[0m     \u001B[0mgame_desc\u001B[0m \u001B[0;34m=\u001B[0m \u001B[0mgf\u001B[0m\u001B[0;34m.\u001B[0m\u001B[0mread\u001B[0m\u001B[0;34m(\u001B[0m\u001B[0;34m)\u001B[0m\u001B[0;34m\u001B[0m\u001B[0;34m\u001B[0m\u001B[0m\n\u001B[1;32m      3\u001B[0m \u001B[0;32mwith\u001B[0m \u001B[0mopen\u001B[0m \u001B[0;34m(\u001B[0m\u001B[0mlevel_file\u001B[0m\u001B[0;34m,\u001B[0m \u001B[0;34m\"r\"\u001B[0m\u001B[0;34m)\u001B[0m \u001B[0;32mas\u001B[0m \u001B[0mlf\u001B[0m\u001B[0;34m:\u001B[0m\u001B[0;34m\u001B[0m\u001B[0;34m\u001B[0m\u001B[0m\n\u001B[1;32m      4\u001B[0m     \u001B[0mlevel_desc\u001B[0m \u001B[0;34m=\u001B[0m \u001B[0mlf\u001B[0m\u001B[0;34m.\u001B[0m\u001B[0mread\u001B[0m\u001B[0;34m(\u001B[0m\u001B[0;34m)\u001B[0m\u001B[0;34m\u001B[0m\u001B[0;34m\u001B[0m\u001B[0m\n\u001B[1;32m      5\u001B[0m \u001B[0;34m\u001B[0m\u001B[0m\n",
      "\u001B[0;31mNameError\u001B[0m: name 'game_file' is not defined"
     ]
    }
   ],
   "source": [
    "with open (game_file, \"r\") as gf:\n",
    "    game_desc = gf.read()\n",
    "with open (level_file, \"r\") as lf:\n",
    "    level_desc = lf.read()\n",
    "\n",
    "domain = vgdl.VGDLParser.parse_game(game_desc)\n"
   ],
   "metadata": {
    "collapsed": false,
    "pycharm": {
     "name": "#%%\n"
    }
   }
  },
  {
   "cell_type": "code",
   "execution_count": null,
   "outputs": [],
   "source": [
    "env = gnwrapper.Monitor(gym.make('vgdl_survivezombies-v0', obs_type=\"objects\"))\n",
    "print(dir(env.game))"
   ],
   "metadata": {
    "collapsed": false,
    "pycharm": {
     "name": "#%%\n"
    }
   }
  },
  {
   "cell_type": "code",
   "execution_count": null,
   "outputs": [],
   "source": [
    "dir(env.game.domain)"
   ],
   "metadata": {
    "collapsed": false,
    "pycharm": {
     "name": "#%%\n"
    }
   }
  },
  {
   "cell_type": "code",
   "execution_count": null,
   "outputs": [],
   "source": [
    "env.game.domain.terminations[1].win"
   ],
   "metadata": {
    "collapsed": false,
    "pycharm": {
     "name": "#%%\n"
    }
   }
  },
  {
   "cell_type": "code",
   "execution_count": null,
   "outputs": [],
   "source": [
    "dir(env.game.domain.collision_eff[0])"
   ],
   "metadata": {
    "collapsed": false,
    "pycharm": {
     "name": "#%%\n"
    }
   }
  },
  {
   "cell_type": "code",
   "execution_count": null,
   "outputs": [],
   "source": [
    "env.game.domain.collision_eff[1].call_fn"
   ],
   "metadata": {
    "collapsed": false,
    "pycharm": {
     "name": "#%%\n"
    }
   }
  },
  {
   "cell_type": "code",
   "execution_count": null,
   "outputs": [],
   "source": [
    "len(env.game.domain.collision_eff)"
   ],
   "metadata": {
    "collapsed": false,
    "pycharm": {
     "name": "#%%\n"
    }
   }
  },
  {
   "cell_type": "code",
   "execution_count": null,
   "outputs": [],
   "source": [
    "[f.call_fn for f in env.game.domain.collision_eff]"
   ],
   "metadata": {
    "collapsed": false,
    "pycharm": {
     "name": "#%%\n"
    }
   }
  },
  {
   "cell_type": "code",
   "execution_count": null,
   "outputs": [],
   "source": [
    "import networkx as nx\n",
    "import matplotlib.pyplot as plt\n",
    "\n",
    "g = nx.DiGraph()\n",
    "g.add_edge(1,2)\n",
    "nx.draw(g)\n",
    "plt.show()"
   ],
   "metadata": {
    "collapsed": false,
    "pycharm": {
     "name": "#%%\n"
    }
   }
  },
  {
   "cell_type": "code",
   "execution_count": null,
   "outputs": [],
   "source": [
    "temp = {1: \"Timeout Win\", }"
   ],
   "metadata": {
    "collapsed": false,
    "pycharm": {
     "name": "#%%\n"
    }
   }
  },
  {
   "cell_type": "code",
   "execution_count": null,
   "outputs": [],
   "source": [
    "import os\n",
    "\n",
    "for i in os.walk(\"vgdl/games\"):\n",
    "    for j in i[2]:\n",
    "        if \"_\" not in j and j[-3:] == \"txt\":\n",
    "            game_name = \"vgdl_\" + j.split(\".\")[0] + \"-v0\"\n",
    "            env = gnwrapper.Monitor(gym.make(game_name, obs_type=\"objects\"))\n",
    "            if check_conditions(env):\n",
    "                print(\"*\"*30)\n",
    "                for t in env.game.domain.terminations:\n",
    "                    print(\"*\"*10)\n",
    "                    print(\n",
    "                            t.limit,\n",
    "                            t.score,\n",
    "                            t.stype,\n",
    "                            t.win)\n",
    "\n",
    "            #print(game_name, env.game.domain.terminations)"
   ],
   "metadata": {
    "collapsed": false,
    "pycharm": {
     "name": "#%%\n"
    }
   }
  },
  {
   "cell_type": "code",
   "execution_count": null,
   "outputs": [],
   "source": [
    "def check_conditions(env):\n",
    "    isSpriteCounter = True\n",
    "    for i in env.game.domain.terminations:\n",
    "        if not type(i) == vgdl.ontology.terminations.SpriteCounter:\n",
    "            isSpriteCounter = False\n",
    "    return isSpriteCounter"
   ],
   "metadata": {
    "collapsed": false,
    "pycharm": {
     "name": "#%%\n"
    }
   }
  },
  {
   "cell_type": "code",
   "execution_count": null,
   "outputs": [],
   "source": [
    "dir(env.game.domain.terminations[0])"
   ],
   "metadata": {
    "collapsed": false,
    "pycharm": {
     "name": "#%%\n"
    }
   }
  },
  {
   "cell_type": "code",
   "execution_count": 28,
   "outputs": [],
   "source": [
    "def create_nodes(env):\n",
    "    for i in env.game.domain.terminations:\n",
    "        if(i.win):\n",
    "            G = nx.DiGraph()\n",
    "            create_win_graph(i.stype, env.game.domain.collision_eff,G,0,{})\n",
    "    return G"
   ],
   "metadata": {
    "collapsed": false,
    "pycharm": {
     "name": "#%%\n"
    }
   }
  },
  {
   "cell_type": "code",
   "execution_count": 48,
   "outputs": [],
   "source": [
    "def create_win_graph(stype, collision_eff,G,root_id,dic):\n",
    "    last_id = root_id + 1\n",
    "    for ef in collision_eff:\n",
    "        print(stype,ef.actee_stype,ef.call_fn)\n",
    "        if check_eff(ef.actor_stype,stype,ef.call_fn):\n",
    "            print(stype,ef.actee_stype,ef.call_fn)\n",
    "            at = ef.actee_stype\n",
    "            if not at in dic:\n",
    "                dic[at] = last_id\n",
    "                #last_id += 1\n",
    "            G.add_edge(dic[at],root_id)\n",
    "            last_id,G,dic = create_win_graph(at,collision_eff,G,dic[at],dic)\n",
    "    return last_id,G,dic\n",
    "\n"
   ],
   "metadata": {
    "collapsed": false,
    "pycharm": {
     "name": "#%%\n"
    }
   }
  },
  {
   "cell_type": "code",
   "execution_count": 49,
   "outputs": [
    {
     "name": "stdout",
     "output_type": "stream",
     "text": [
      "box wall <function stepBack at 0x7fd0470b57a0>\n",
      "box avatar <function bounceForward at 0x7fd0470b58c0>\n",
      "box wall <function undoAll at 0x7fd0470b5830>\n",
      "box box <function undoAll at 0x7fd0470b5830>\n",
      "box hole <function killSprite at 0x7fd0470a33b0>\n",
      "box hole <function killSprite at 0x7fd0470a33b0>\n",
      "hole wall <function stepBack at 0x7fd0470b57a0>\n",
      "hole avatar <function bounceForward at 0x7fd0470b58c0>\n",
      "hole wall <function undoAll at 0x7fd0470b5830>\n",
      "hole box <function undoAll at 0x7fd0470b5830>\n",
      "hole hole <function killSprite at 0x7fd0470a33b0>\n"
     ]
    },
    {
     "data": {
      "text/plain": "<Figure size 432x288 with 1 Axes>",
      "image/png": "[encoded data removed]"
     },
     "metadata": {},
     "output_type": "display_data"
    }
   ],
   "source": [
    "import networkx as nx\n",
    "import matplotlib.pyplot as plt\n",
    "\n",
    "env = gnwrapper.Monitor(gym.make(\"vgdl_sokoban-v0\", obs_type=\"objects\"))\n",
    "G=create_nodes(env)\n",
    "nx.draw(G)\n",
    "plt.show()"
   ],
   "metadata": {
    "collapsed": false,
    "pycharm": {
     "name": "#%%\n"
    }
   }
  },
  {
   "cell_type": "code",
   "execution_count": 33,
   "outputs": [],
   "source": [
    "def check_eff(actor_stype, stype, call_fn):\n",
    "    remove_fns = [vgdl.ontology.effects.killSprite]\n",
    "    if(actor_stype == stype and call_fn in remove_fns):\n",
    "        return True\n",
    "    return False"
   ],
   "metadata": {
    "collapsed": false,
    "pycharm": {
     "name": "#%%\n"
    }
   }
  },
  {
   "cell_type": "code",
   "execution_count": 8,
   "outputs": [
    {
     "name": "stdout",
     "output_type": "stream",
     "text": [
      "111111111111111111111111\n",
      "111100001000110000000111\n",
      "100000101000000011000011\n",
      "100000000011002011100001\n",
      "101111011111000011000111\n",
      "100000000100000000000011\n",
      "110001000000110001110001\n",
      "110000110001111000010001\n",
      "111000000000000001000001\n",
      "111111000000111111000011\n",
      "111111111111111111111111\n",
      "\n"
     ]
    },
    {
     "ename": "NetworkXError",
     "evalue": "Input array must be 2D, not 0",
     "output_type": "error",
     "traceback": [
      "\u001B[0;31m---------------------------------------------------------------------------\u001B[0m",
      "\u001B[0;31mNetworkXError\u001B[0m                             Traceback (most recent call last)",
      "\u001B[0;32m/tmp/ipykernel_3649/509240723.py\u001B[0m in \u001B[0;36m<module>\u001B[0;34m\u001B[0m\n\u001B[1;32m     20\u001B[0m         \u001B[0mprint\u001B[0m\u001B[0;34m(\u001B[0m\u001B[0mG\u001B[0m\u001B[0;34m)\u001B[0m\u001B[0;34m\u001B[0m\u001B[0;34m\u001B[0m\u001B[0m\n\u001B[1;32m     21\u001B[0m \u001B[0;34m\u001B[0m\u001B[0m\n\u001B[0;32m---> 22\u001B[0;31m \u001B[0mcreate_matrix_from_layout\u001B[0m\u001B[0;34m(\u001B[0m\u001B[0;34m\"/home/irafm/hyner/vgdl_2_0/py-vgdl/vgdl/layouts/*.txt\"\u001B[0m\u001B[0;34m)\u001B[0m\u001B[0;34m\u001B[0m\u001B[0;34m\u001B[0m\u001B[0m\n\u001B[0m",
      "\u001B[0;32m/tmp/ipykernel_3649/509240723.py\u001B[0m in \u001B[0;36mcreate_matrix_from_layout\u001B[0;34m(folder)\u001B[0m\n\u001B[1;32m     17\u001B[0m         \u001B[0;31m#print(arr.ndim)\u001B[0m\u001B[0;34m\u001B[0m\u001B[0;34m\u001B[0m\u001B[0;34m\u001B[0m\u001B[0m\n\u001B[1;32m     18\u001B[0m         \u001B[0mprint\u001B[0m\u001B[0;34m(\u001B[0m\u001B[0marr\u001B[0m\u001B[0;34m)\u001B[0m\u001B[0;34m\u001B[0m\u001B[0;34m\u001B[0m\u001B[0m\n\u001B[0;32m---> 19\u001B[0;31m         \u001B[0mG\u001B[0m \u001B[0;34m=\u001B[0m \u001B[0mnx\u001B[0m\u001B[0;34m.\u001B[0m\u001B[0mfrom_numpy_matrix\u001B[0m\u001B[0;34m(\u001B[0m\u001B[0marr\u001B[0m\u001B[0;34m)\u001B[0m\u001B[0;34m\u001B[0m\u001B[0;34m\u001B[0m\u001B[0m\n\u001B[0m\u001B[1;32m     20\u001B[0m         \u001B[0mprint\u001B[0m\u001B[0;34m(\u001B[0m\u001B[0mG\u001B[0m\u001B[0;34m)\u001B[0m\u001B[0;34m\u001B[0m\u001B[0;34m\u001B[0m\u001B[0m\n\u001B[1;32m     21\u001B[0m \u001B[0;34m\u001B[0m\u001B[0m\n",
      "\u001B[0;32m~/miniconda3/envs/vgdl37/lib/python3.7/site-packages/networkx/convert_matrix.py\u001B[0m in \u001B[0;36mfrom_numpy_matrix\u001B[0;34m(A, parallel_edges, create_using)\u001B[0m\n\u001B[1;32m    685\u001B[0m         \u001B[0mDeprecationWarning\u001B[0m\u001B[0;34m,\u001B[0m\u001B[0;34m\u001B[0m\u001B[0;34m\u001B[0m\u001B[0m\n\u001B[1;32m    686\u001B[0m     )\n\u001B[0;32m--> 687\u001B[0;31m     \u001B[0;32mreturn\u001B[0m \u001B[0mfrom_numpy_array\u001B[0m\u001B[0;34m(\u001B[0m\u001B[0mA\u001B[0m\u001B[0;34m,\u001B[0m \u001B[0mparallel_edges\u001B[0m\u001B[0;34m=\u001B[0m\u001B[0mparallel_edges\u001B[0m\u001B[0;34m,\u001B[0m \u001B[0mcreate_using\u001B[0m\u001B[0;34m=\u001B[0m\u001B[0mcreate_using\u001B[0m\u001B[0;34m)\u001B[0m\u001B[0;34m\u001B[0m\u001B[0;34m\u001B[0m\u001B[0m\n\u001B[0m\u001B[1;32m    688\u001B[0m \u001B[0;34m\u001B[0m\u001B[0m\n\u001B[1;32m    689\u001B[0m \u001B[0;34m\u001B[0m\u001B[0m\n",
      "\u001B[0;32m~/miniconda3/envs/vgdl37/lib/python3.7/site-packages/networkx/convert_matrix.py\u001B[0m in \u001B[0;36mfrom_numpy_array\u001B[0;34m(A, parallel_edges, create_using)\u001B[0m\n\u001B[1;32m   1352\u001B[0m     \u001B[0mG\u001B[0m \u001B[0;34m=\u001B[0m \u001B[0mnx\u001B[0m\u001B[0;34m.\u001B[0m\u001B[0mempty_graph\u001B[0m\u001B[0;34m(\u001B[0m\u001B[0;36m0\u001B[0m\u001B[0;34m,\u001B[0m \u001B[0mcreate_using\u001B[0m\u001B[0;34m)\u001B[0m\u001B[0;34m\u001B[0m\u001B[0;34m\u001B[0m\u001B[0m\n\u001B[1;32m   1353\u001B[0m     \u001B[0;32mif\u001B[0m \u001B[0mA\u001B[0m\u001B[0;34m.\u001B[0m\u001B[0mndim\u001B[0m \u001B[0;34m!=\u001B[0m \u001B[0;36m2\u001B[0m\u001B[0;34m:\u001B[0m\u001B[0;34m\u001B[0m\u001B[0;34m\u001B[0m\u001B[0m\n\u001B[0;32m-> 1354\u001B[0;31m         \u001B[0;32mraise\u001B[0m \u001B[0mnx\u001B[0m\u001B[0;34m.\u001B[0m\u001B[0mNetworkXError\u001B[0m\u001B[0;34m(\u001B[0m\u001B[0;34mf\"Input array must be 2D, not {A.ndim}\"\u001B[0m\u001B[0;34m)\u001B[0m\u001B[0;34m\u001B[0m\u001B[0;34m\u001B[0m\u001B[0m\n\u001B[0m\u001B[1;32m   1355\u001B[0m     \u001B[0mn\u001B[0m\u001B[0;34m,\u001B[0m \u001B[0mm\u001B[0m \u001B[0;34m=\u001B[0m \u001B[0mA\u001B[0m\u001B[0;34m.\u001B[0m\u001B[0mshape\u001B[0m\u001B[0;34m\u001B[0m\u001B[0;34m\u001B[0m\u001B[0m\n\u001B[1;32m   1356\u001B[0m     \u001B[0;32mif\u001B[0m \u001B[0mn\u001B[0m \u001B[0;34m!=\u001B[0m \u001B[0mm\u001B[0m\u001B[0;34m:\u001B[0m\u001B[0;34m\u001B[0m\u001B[0;34m\u001B[0m\u001B[0m\n",
      "\u001B[0;31mNetworkXError\u001B[0m: Input array must be 2D, not 0"
     ]
    }
   ],
   "source": [
    "import glob\n",
    "import os\n",
    "import re\n",
    "import numpy as np\n",
    "import ast\n",
    "import networkx as nx\n",
    "def create_matrix_from_layout(folder):\n",
    "    files = glob.glob(folder)\n",
    "    file_set = {}\n",
    "    for f in files:\n",
    "        fname = os.path.basename(f)\n",
    "        with open(f, \"r\") as tmp:\n",
    "            tmp_data = tmp.read()\n",
    "        tmp_data = re.sub(r\"[^wA\\n]\", r\"0\", tmp_data)\n",
    "        tmp_data = tmp_data.replace(\"w\", \"1\").replace(\"A\", \"2\")\n",
    "        arr = np.array(tmp_data)\n",
    "        #print(arr.ndim)\n",
    "        print(arr)\n",
    "        #G = nx.from_numpy_matrix(arr)\n",
    "        #print(G)\n",
    "\n",
    "create_matrix_from_layout(\"/home/irafm/hyner/vgdl_2_0/py-vgdl/vgdl/layouts/*.txt\")"
   ],
   "metadata": {
    "collapsed": false,
    "pycharm": {
     "name": "#%%\n"
    }
   }
  },
  {
   "cell_type": "code",
   "execution_count": null,
   "outputs": [],
   "source": [],
   "metadata": {
    "collapsed": false,
    "pycharm": {
     "name": "#%%\n"
    }
   }
  }
 ],
 "metadata": {
  "kernelspec": {
   "display_name": "Python 3",
   "language": "python",
   "name": "python3"
  },
  "language_info": {
   "codemirror_mode": {
    "name": "ipython",
    "version": 3
   },
   "file_extension": ".py",
   "mimetype": "text/x-python",
   "name": "python",
   "nbconvert_exporter": "python",
   "pygments_lexer": "ipython3",
   "version": "3.7.6"
  }
 },
 "nbformat": 4,
 "nbformat_minor": 4
}