{
 "cells": [
  {
   "cell_type": "code",
   "execution_count": 9,
   "metadata": {
    "pycharm": {
     "name": "#%%\n"
    }
   },
   "outputs": [],
   "source": [
    "import gym\n",
    "import vgdl.interfaces.gym as vdgym"
   ]
  },
  {
   "cell_type": "code",
   "execution_count": 93,
   "metadata": {
    "collapsed": true,
    "jupyter": {
     "outputs_hidden": true
    },
    "pycharm": {
     "name": "#%%\n"
    }
   },
   "outputs": [
    {
     "name": "stderr",
     "output_type": "stream",
     "text": [
      "/home/irafm/miniconda3/envs/vgdl37/lib/python3.7/site-packages/gym/envs/registration.py:595: UserWarning: \u001B[33mWARN: Overriding environment vgdl_aliens-v0\u001B[0m\n",
      "  logger.warn(f\"Overriding environment {id}\")\n",
      "/home/irafm/miniconda3/envs/vgdl37/lib/python3.7/site-packages/gym/envs/registration.py:595: UserWarning: \u001B[33mWARN: Overriding environment vgdl_aliens_objects-v0\u001B[0m\n",
      "  logger.warn(f\"Overriding environment {id}\")\n",
      "/home/irafm/miniconda3/envs/vgdl37/lib/python3.7/site-packages/gym/envs/registration.py:595: UserWarning: \u001B[33mWARN: Overriding environment vgdl_aliens_features-v0\u001B[0m\n",
      "  logger.warn(f\"Overriding environment {id}\")\n",
      "/home/irafm/miniconda3/envs/vgdl37/lib/python3.7/site-packages/gym/envs/registration.py:595: UserWarning: \u001B[33mWARN: Overriding environment vgdl_boulderdash-v0\u001B[0m\n",
      "  logger.warn(f\"Overriding environment {id}\")\n",
      "/home/irafm/miniconda3/envs/vgdl37/lib/python3.7/site-packages/gym/envs/registration.py:595: UserWarning: \u001B[33mWARN: Overriding environment vgdl_boulderdash_objects-v0\u001B[0m\n",
      "  logger.warn(f\"Overriding environment {id}\")\n",
      "/home/irafm/miniconda3/envs/vgdl37/lib/python3.7/site-packages/gym/envs/registration.py:595: UserWarning: \u001B[33mWARN: Overriding environment vgdl_boulderdash_features-v0\u001B[0m\n",
      "  logger.warn(f\"Overriding environment {id}\")\n",
      "/home/irafm/miniconda3/envs/vgdl37/lib/python3.7/site-packages/gym/envs/registration.py:595: UserWarning: \u001B[33mWARN: Overriding environment vgdl_chase-v0\u001B[0m\n",
      "  logger.warn(f\"Overriding environment {id}\")\n",
      "/home/irafm/miniconda3/envs/vgdl37/lib/python3.7/site-packages/gym/envs/registration.py:595: UserWarning: \u001B[33mWARN: Overriding environment vgdl_chase_objects-v0\u001B[0m\n",
      "  logger.warn(f\"Overriding environment {id}\")\n",
      "/home/irafm/miniconda3/envs/vgdl37/lib/python3.7/site-packages/gym/envs/registration.py:595: UserWarning: \u001B[33mWARN: Overriding environment vgdl_chase_features-v0\u001B[0m\n",
      "  logger.warn(f\"Overriding environment {id}\")\n",
      "/home/irafm/miniconda3/envs/vgdl37/lib/python3.7/site-packages/gym/envs/registration.py:595: UserWarning: \u001B[33mWARN: Overriding environment vgdl_frogs-v0\u001B[0m\n",
      "  logger.warn(f\"Overriding environment {id}\")\n",
      "/home/irafm/miniconda3/envs/vgdl37/lib/python3.7/site-packages/gym/envs/registration.py:595: UserWarning: \u001B[33mWARN: Overriding environment vgdl_frogs_objects-v0\u001B[0m\n",
      "  logger.warn(f\"Overriding environment {id}\")\n",
      "/home/irafm/miniconda3/envs/vgdl37/lib/python3.7/site-packages/gym/envs/registration.py:595: UserWarning: \u001B[33mWARN: Overriding environment vgdl_frogs_features-v0\u001B[0m\n",
      "  logger.warn(f\"Overriding environment {id}\")\n",
      "/home/irafm/miniconda3/envs/vgdl37/lib/python3.7/site-packages/gym/envs/registration.py:595: UserWarning: \u001B[33mWARN: Overriding environment vgdl_missilecommand-v0\u001B[0m\n",
      "  logger.warn(f\"Overriding environment {id}\")\n",
      "/home/irafm/miniconda3/envs/vgdl37/lib/python3.7/site-packages/gym/envs/registration.py:595: UserWarning: \u001B[33mWARN: Overriding environment vgdl_missilecommand_objects-v0\u001B[0m\n",
      "  logger.warn(f\"Overriding environment {id}\")\n",
      "/home/irafm/miniconda3/envs/vgdl37/lib/python3.7/site-packages/gym/envs/registration.py:595: UserWarning: \u001B[33mWARN: Overriding environment vgdl_missilecommand_features-v0\u001B[0m\n",
      "  logger.warn(f\"Overriding environment {id}\")\n",
      "/home/irafm/miniconda3/envs/vgdl37/lib/python3.7/site-packages/gym/envs/registration.py:595: UserWarning: \u001B[33mWARN: Overriding environment vgdl_portals-v0\u001B[0m\n",
      "  logger.warn(f\"Overriding environment {id}\")\n",
      "/home/irafm/miniconda3/envs/vgdl37/lib/python3.7/site-packages/gym/envs/registration.py:595: UserWarning: \u001B[33mWARN: Overriding environment vgdl_portals_objects-v0\u001B[0m\n",
      "  logger.warn(f\"Overriding environment {id}\")\n",
      "/home/irafm/miniconda3/envs/vgdl37/lib/python3.7/site-packages/gym/envs/registration.py:595: UserWarning: \u001B[33mWARN: Overriding environment vgdl_portals_features-v0\u001B[0m\n",
      "  logger.warn(f\"Overriding environment {id}\")\n",
      "/home/irafm/miniconda3/envs/vgdl37/lib/python3.7/site-packages/gym/envs/registration.py:595: UserWarning: \u001B[33mWARN: Overriding environment vgdl_survivezombies-v0\u001B[0m\n",
      "  logger.warn(f\"Overriding environment {id}\")\n",
      "/home/irafm/miniconda3/envs/vgdl37/lib/python3.7/site-packages/gym/envs/registration.py:595: UserWarning: \u001B[33mWARN: Overriding environment vgdl_survivezombies_objects-v0\u001B[0m\n",
      "  logger.warn(f\"Overriding environment {id}\")\n",
      "/home/irafm/miniconda3/envs/vgdl37/lib/python3.7/site-packages/gym/envs/registration.py:595: UserWarning: \u001B[33mWARN: Overriding environment vgdl_survivezombies_features-v0\u001B[0m\n",
      "  logger.warn(f\"Overriding environment {id}\")\n",
      "/home/irafm/miniconda3/envs/vgdl37/lib/python3.7/site-packages/gym/envs/registration.py:595: UserWarning: \u001B[33mWARN: Overriding environment vgdl_zelda-v0\u001B[0m\n",
      "  logger.warn(f\"Overriding environment {id}\")\n",
      "/home/irafm/miniconda3/envs/vgdl37/lib/python3.7/site-packages/gym/envs/registration.py:595: UserWarning: \u001B[33mWARN: Overriding environment vgdl_zelda_objects-v0\u001B[0m\n",
      "  logger.warn(f\"Overriding environment {id}\")\n",
      "/home/irafm/miniconda3/envs/vgdl37/lib/python3.7/site-packages/gym/envs/registration.py:595: UserWarning: \u001B[33mWARN: Overriding environment vgdl_zelda_features-v0\u001B[0m\n",
      "  logger.warn(f\"Overriding environment {id}\")\n"
     ]
    }
   ],
   "source": [
    "vdgym.register_sample_games()"
   ]
  },
  {
   "cell_type": "code",
   "execution_count": 94,
   "metadata": {
    "pycharm": {
     "name": "#%%\n"
    }
   },
   "outputs": [
    {
     "data": {
      "text/plain": "<module 'vgdl.interfaces.gym.list_space' from '/home/irafm/hyner/vgdl_2_0/py-vgdl/vgdl/interfaces/gym/list_space.py'>"
     },
     "execution_count": 94,
     "metadata": {},
     "output_type": "execute_result"
    }
   ],
   "source": [
    "vdgym.list_space"
   ]
  },
  {
   "cell_type": "code",
   "execution_count": 95,
   "metadata": {
    "pycharm": {
     "name": "#%%\n"
    }
   },
   "outputs": [
    {
     "data": {
      "text/plain": "├──CartPole: [ v0, v1 ]\n├──MountainCar: [ v0 ]\n├──MountainCarContinuous: [ v0 ]\n├──Pendulum: [ v1 ]\n├──Acrobot: [ v1 ]\n├──LunarLander: [ v2 ]\n├──LunarLanderContinuous: [ v2 ]\n├──BipedalWalker: [ v3 ]\n├──BipedalWalkerHardcore: [ v3 ]\n├──CarRacing: [ v1 ]\n├──Blackjack: [ v1 ]\n├──FrozenLake: [ v1 ]\n├──FrozenLake8x8: [ v1 ]\n├──CliffWalking: [ v0 ]\n├──Taxi: [ v3 ]\n├──Reacher: [ v2 ]\n├──Pusher: [ v2 ]\n├──InvertedPendulum: [ v2 ]\n├──InvertedDoublePendulum: [ v2 ]\n├──HalfCheetah: [ v2, v3 ]\n├──Hopper: [ v2, v3 ]\n├──Swimmer: [ v2, v3 ]\n├──Walker2d: [ v2, v3 ]\n├──Ant: [ v2, v3 ]\n├──Humanoid: [ v2, v3 ]\n├──HumanoidStandup: [ v2 ]\n├──vgdl_aliens: [ v0 ]\n├──vgdl_aliens_objects: [ v0 ]\n├──vgdl_aliens_features: [ v0 ]\n├──vgdl_boulderdash: [ v0 ]\n├──vgdl_boulderdash_objects: [ v0 ]\n├──vgdl_boulderdash_features: [ v0 ]\n├──vgdl_chase: [ v0 ]\n├──vgdl_chase_objects: [ v0 ]\n├──vgdl_chase_features: [ v0 ]\n├──vgdl_frogs: [ v0 ]\n├──vgdl_frogs_objects: [ v0 ]\n├──vgdl_frogs_features: [ v0 ]\n├──vgdl_missilecommand: [ v0 ]\n├──vgdl_missilecommand_objects: [ v0 ]\n├──vgdl_missilecommand_features: [ v0 ]\n├──vgdl_portals: [ v0 ]\n├──vgdl_portals_objects: [ v0 ]\n├──vgdl_portals_features: [ v0 ]\n├──vgdl_survivezombies: [ v0 ]\n├──vgdl_survivezombies_objects: [ v0 ]\n├──vgdl_survivezombies_features: [ v0 ]\n├──vgdl_zelda: [ v0 ]\n├──vgdl_zelda_objects: [ v0 ]\n└──vgdl_zelda_features: [ v0 ]"
     },
     "execution_count": 95,
     "metadata": {},
     "output_type": "execute_result"
    }
   ],
   "source": [
    "gym.envs.registry"
   ]
  },
  {
   "cell_type": "code",
   "execution_count": 13,
   "metadata": {
    "pycharm": {
     "name": "#%%\n"
    }
   },
   "outputs": [
    {
     "name": "stdout",
     "output_type": "stream",
     "text": [
      "WARNING: undefined parameter 'notable_sprites' for game! \n",
      "WARNING: undefined parameter 'notable_resources' for game! \n"
     ]
    },
    {
     "ename": "AttributeError",
     "evalue": "'NoneType' object has no attribute 'get_image'",
     "output_type": "error",
     "traceback": [
      "\u001B[0;31m---------------------------------------------------------------------------\u001B[0m",
      "\u001B[0;31mAttributeError\u001B[0m                            Traceback (most recent call last)",
      "\u001B[0;32m/tmp/ipykernel_1778188/1659489099.py\u001B[0m in \u001B[0;36m<module>\u001B[0;34m\u001B[0m\n\u001B[1;32m      1\u001B[0m \u001B[0mgame\u001B[0m \u001B[0;34m=\u001B[0m \u001B[0mgym\u001B[0m\u001B[0;34m.\u001B[0m\u001B[0mmake\u001B[0m\u001B[0;34m(\u001B[0m\u001B[0;34m'vgdl_zelda-v0'\u001B[0m\u001B[0;34m)\u001B[0m\u001B[0;34m\u001B[0m\u001B[0;34m\u001B[0m\u001B[0m\n\u001B[0;32m----> 2\u001B[0;31m \u001B[0mgame\u001B[0m\u001B[0;34m.\u001B[0m\u001B[0mreset\u001B[0m\u001B[0;34m(\u001B[0m\u001B[0;34m)\u001B[0m\u001B[0;34m\u001B[0m\u001B[0;34m\u001B[0m\u001B[0m\n\u001B[0m",
      "\u001B[0;32m~/miniconda3/envs/vgdl37/lib/python3.7/site-packages/gym/wrappers/order_enforcing.py\u001B[0m in \u001B[0;36mreset\u001B[0;34m(self, **kwargs)\u001B[0m\n\u001B[1;32m     16\u001B[0m     \u001B[0;32mdef\u001B[0m \u001B[0mreset\u001B[0m\u001B[0;34m(\u001B[0m\u001B[0mself\u001B[0m\u001B[0;34m,\u001B[0m \u001B[0;34m**\u001B[0m\u001B[0mkwargs\u001B[0m\u001B[0;34m)\u001B[0m\u001B[0;34m:\u001B[0m\u001B[0;34m\u001B[0m\u001B[0;34m\u001B[0m\u001B[0m\n\u001B[1;32m     17\u001B[0m         \u001B[0mself\u001B[0m\u001B[0;34m.\u001B[0m\u001B[0m_has_reset\u001B[0m \u001B[0;34m=\u001B[0m \u001B[0;32mTrue\u001B[0m\u001B[0;34m\u001B[0m\u001B[0;34m\u001B[0m\u001B[0m\n\u001B[0;32m---> 18\u001B[0;31m         \u001B[0;32mreturn\u001B[0m \u001B[0mself\u001B[0m\u001B[0;34m.\u001B[0m\u001B[0menv\u001B[0m\u001B[0;34m.\u001B[0m\u001B[0mreset\u001B[0m\u001B[0;34m(\u001B[0m\u001B[0;34m**\u001B[0m\u001B[0mkwargs\u001B[0m\u001B[0;34m)\u001B[0m\u001B[0;34m\u001B[0m\u001B[0;34m\u001B[0m\u001B[0m\n\u001B[0m",
      "\u001B[0;32m~/hyner/vgdl_2_0/py-vgdl/vgdl/interfaces/gym/env.py\u001B[0m in \u001B[0;36mreset\u001B[0;34m(self)\u001B[0m\n\u001B[1;32m    119\u001B[0m         \u001B[0;31m# self.game = self.game.domain.build_level(self.level_desc)\u001B[0m\u001B[0;34m\u001B[0m\u001B[0;34m\u001B[0m\u001B[0;34m\u001B[0m\u001B[0m\n\u001B[1;32m    120\u001B[0m         \u001B[0mself\u001B[0m\u001B[0;34m.\u001B[0m\u001B[0mscore_last\u001B[0m \u001B[0;34m=\u001B[0m \u001B[0mself\u001B[0m\u001B[0;34m.\u001B[0m\u001B[0mgame\u001B[0m\u001B[0;34m.\u001B[0m\u001B[0mscore\u001B[0m\u001B[0;34m\u001B[0m\u001B[0;34m\u001B[0m\u001B[0m\n\u001B[0;32m--> 121\u001B[0;31m         \u001B[0mstate\u001B[0m \u001B[0;34m=\u001B[0m \u001B[0mself\u001B[0m\u001B[0;34m.\u001B[0m\u001B[0m_get_obs\u001B[0m\u001B[0;34m(\u001B[0m\u001B[0;34m)\u001B[0m\u001B[0;34m\u001B[0m\u001B[0;34m\u001B[0m\u001B[0m\n\u001B[0m\u001B[1;32m    122\u001B[0m         \u001B[0;32mreturn\u001B[0m \u001B[0mstate\u001B[0m\u001B[0;34m\u001B[0m\u001B[0;34m\u001B[0m\u001B[0m\n\u001B[1;32m    123\u001B[0m \u001B[0;34m\u001B[0m\u001B[0m\n",
      "\u001B[0;32m~/hyner/vgdl_2_0/py-vgdl/vgdl/interfaces/gym/env.py\u001B[0m in \u001B[0;36m_get_obs\u001B[0;34m(self)\u001B[0m\n\u001B[1;32m     97\u001B[0m     \u001B[0;32mdef\u001B[0m \u001B[0m_get_obs\u001B[0m\u001B[0;34m(\u001B[0m\u001B[0mself\u001B[0m\u001B[0;34m)\u001B[0m\u001B[0;34m:\u001B[0m\u001B[0;34m\u001B[0m\u001B[0;34m\u001B[0m\u001B[0m\n\u001B[1;32m     98\u001B[0m         \u001B[0;32mif\u001B[0m \u001B[0mself\u001B[0m\u001B[0;34m.\u001B[0m\u001B[0m_obs_type\u001B[0m \u001B[0;34m==\u001B[0m \u001B[0;34m'image'\u001B[0m\u001B[0;34m:\u001B[0m\u001B[0;34m\u001B[0m\u001B[0;34m\u001B[0m\u001B[0m\n\u001B[0;32m---> 99\u001B[0;31m             \u001B[0;32mreturn\u001B[0m \u001B[0mself\u001B[0m\u001B[0;34m.\u001B[0m\u001B[0mrenderer\u001B[0m\u001B[0;34m.\u001B[0m\u001B[0mget_image\u001B[0m\u001B[0;34m(\u001B[0m\u001B[0;34m)\u001B[0m\u001B[0;34m\u001B[0m\u001B[0;34m\u001B[0m\u001B[0m\n\u001B[0m\u001B[1;32m    100\u001B[0m         \u001B[0;32melse\u001B[0m\u001B[0;34m:\u001B[0m\u001B[0;34m\u001B[0m\u001B[0;34m\u001B[0m\u001B[0m\n\u001B[1;32m    101\u001B[0m             \u001B[0mobservation\u001B[0m \u001B[0;34m=\u001B[0m \u001B[0mself\u001B[0m\u001B[0;34m.\u001B[0m\u001B[0mobserver\u001B[0m\u001B[0;34m.\u001B[0m\u001B[0mget_observation\u001B[0m\u001B[0;34m(\u001B[0m\u001B[0;34m)\u001B[0m\u001B[0;34m\u001B[0m\u001B[0;34m\u001B[0m\u001B[0m\n",
      "\u001B[0;31mAttributeError\u001B[0m: 'NoneType' object has no attribute 'get_image'"
     ]
    }
   ],
   "source": [
    "game = gym.make('vgdl_zelda-v0')\n",
    "game.reset()"
   ]
  },
  {
   "cell_type": "code",
   "execution_count": null,
   "outputs": [],
   "source": [
    "gym.__version__"
   ],
   "metadata": {
    "collapsed": false,
    "pycharm": {
     "name": "#%%\n"
    }
   }
  },
  {
   "cell_type": "code",
   "execution_count": 53,
   "metadata": {
    "pycharm": {
     "name": "#%%\n"
    }
   },
   "outputs": [
    {
     "data": {
      "text/plain": "<Figure size 432x288 with 1 Axes>",
      "image/png": "[encoded data removed]"
     },
     "metadata": {},
     "output_type": "display_data"
    },
    {
     "name": "stdout",
     "output_type": "stream",
     "text": [
      "(84,)\n",
      "[(1, 1) list([0.0, 0.0]) list([1.0, 0.0, 0.0, 0.0, 0.0, 0.0]) list([1.0])\n",
      " (17, 2) list([0.0, 0.0]) list([0.0, 0.0, 1.0, 0.0, 0.0, 0.0]) list([0.0])\n",
      " (2, 5) list([0.0, 0.0]) list([0.0, 0.0, 1.0, 0.0, 0.0, 0.0]) list([0.0])\n",
      " (13, 9) list([0.0, 0.0]) list([0.0, 0.0, 1.0, 0.0, 0.0, 0.0]) list([0.0])\n",
      " (17, 1) list([0.0, 0.0]) list([0.0, 0.0, 0.0, 1.0, 0.0, 0.0]) list([0.0])\n",
      " (16, 4) list([0.0, 0.0]) list([0.0, 0.0, 0.0, 1.0, 0.0, 0.0]) list([0.0])\n",
      " (3, 8) list([0.0, 0.0]) list([0.0, 0.0, 0.0, 1.0, 0.0, 0.0]) list([0.0])\n",
      " (4, 1) list([0.0, 0.0]) list([0.0, 0.0, 0.0, 0.0, 1.0, 0.0]) list([0.0])\n",
      " (13, 1) list([0.0, 0.0]) list([0.0, 0.0, 0.0, 0.0, 1.0, 0.0]) list([0.0])\n",
      " (14, 1) list([0.0, 0.0]) list([0.0, 0.0, 0.0, 0.0, 1.0, 0.0]) list([0.0])\n",
      " (3, 2) list([0.0, 0.0]) list([0.0, 0.0, 0.0, 0.0, 1.0, 0.0]) list([0.0])\n",
      " (13, 2) list([0.0, 0.0]) list([0.0, 0.0, 0.0, 0.0, 1.0, 0.0]) list([0.0])\n",
      " (14, 2) list([0.0, 0.0]) list([0.0, 0.0, 0.0, 0.0, 1.0, 0.0]) list([0.0])\n",
      " (8, 4) list([0.0, 0.0]) list([0.0, 0.0, 0.0, 0.0, 1.0, 0.0]) list([0.0])\n",
      " (9, 4) list([0.0, 0.0]) list([0.0, 0.0, 0.0, 0.0, 1.0, 0.0]) list([0.0])\n",
      " (17, 4) list([0.0, 0.0]) list([0.0, 0.0, 0.0, 0.0, 1.0, 0.0]) list([0.0])\n",
      " (3, 6) list([0.0, 0.0]) list([0.0, 0.0, 0.0, 0.0, 1.0, 0.0]) list([0.0])\n",
      " (9, 9) list([0.0, 0.0]) list([0.0, 0.0, 0.0, 0.0, 1.0, 0.0]) list([0.0])\n",
      " (10, 9) list([0.0, 0.0]) list([0.0, 0.0, 0.0, 0.0, 1.0, 0.0]) list([0.0])\n",
      " (11, 9) list([0.0, 0.0]) list([0.0, 0.0, 0.0, 0.0, 1.0, 0.0]) list([0.0])\n",
      " (4, 5) list([0.0, 0.0]) list([0.0, 0.0, 0.0, 0.0, 0.0, 1.0]) list([0.0])]\n",
      "['avatar', 'bee', 'flower', 'hell', 'honey', 'zombie']\n",
      "GameState(time=1, score=1, reward=1, ended=False, avatar=(pos=(2, 3), alive=True))\n"
     ]
    },
    {
     "data": {
      "text/plain": "<Figure size 432x288 with 1 Axes>",
      "image/png": "[encoded data removed]"
     },
     "metadata": {
      "needs_background": "light"
     },
     "output_type": "display_data"
    }
   ],
   "source": [
    "import gnwrapper\n",
    "import gym\n",
    "\n",
    "env = gnwrapper.Animation(gym.make('vgdl_survivezombies-v0', obs_type=\"objects\"))\n",
    "env.render()\n",
    "obs = env.reset()\n",
    "\n",
    "for _ in range(1000):\n",
    "    next_obs, reward, done, info = env.step(env.action_space.sample())\n",
    "    env.render()\n",
    "\n",
    "    obs = next_obs\n",
    "    print(obs.shape)\n",
    "    print(obs)\n",
    "    print(env.notable_sprites)\n",
    "    print(env.game.get_game_state())\n",
    "    break\n",
    "\n",
    "    if done:\n",
    "        obs = env.reset()"
   ]
  },
  {
   "cell_type": "code",
   "execution_count": 54,
   "metadata": {
    "pycharm": {
     "name": "#%%\n"
    }
   },
   "outputs": [],
   "source": [
    "import itertools\n",
    "import heapq as hq\n",
    "from dataclasses import dataclass, field\n",
    "from typing import Any,List,Tuple\n",
    "\n",
    "@dataclass(order=True)\n",
    "class Subgoal:\n",
    "    priority: int\n",
    "    previous_actions: list\n",
    "    info: Any=field(compare=False)\n",
    "\n",
    "\n",
    "class PriorityQueue:\n",
    "    def __init__(self):\n",
    "        self.elements: List[Subgoal] = []\n",
    "\n",
    "    def empty(self) -> bool:\n",
    "        return not self.elements\n",
    "\n",
    "    def put(self, item: Subgoal):\n",
    "        hq.heappush(self.elements,item)\n",
    "\n",
    "    def get(self) -> Subgoal:\n",
    "        return hq.heappop(self.elements)\n",
    "\n",
    "    def merge(self,items: List):\n",
    "        for item in items:\n",
    "            hq.heappush(self.elements,item)"
   ]
  },
  {
   "cell_type": "code",
   "execution_count": 109,
   "outputs": [
    {
     "name": "stdout",
     "output_type": "stream",
     "text": [
      "WARNING: undefined parameter 'notable_sprites' for game! \n",
      "WARNING: undefined parameter 'notable_resources' for game! \n",
      "[1, 0, 3, 1, 0, 0, 0, 1, 1, 2, 0, 0, 1, 1, 3, 3, 0, 0, 3, 3, 1, 0, 1, 0, 2, 1, 0, 0, 1, 1, 0, 0, 2, 1, 1, 2, 2, 0, 0, 3, 2, 1, 1, 3, 0, 0, 1, 0, 1, 0, 2, 4, 1, 0, 3, 3, 1, 0, 2, 2, 1, 1, 3, 0, 0, 1, 0, 2, 1, 1, 0, 0, 1, 0, 1, 1, 0, 0, 3, 1, 0, 0, 1, 1, 0, 0, 1, 1, 0, 0, 3, 1, 1, 3, 3, 0, 0, 2, 2]\n",
      "WARNING: undefined parameter 'notable_sprites' for game! \n",
      "WARNING: undefined parameter 'notable_resources' for game! \n",
      "KeysView(GameState(time=0, score=0, reward=0, ended=False, avatar=(pos=(2, 2), alive=True)))\n"
     ]
    },
    {
     "name": "stderr",
     "output_type": "stream",
     "text": [
      "/home/irafm/miniconda3/envs/vgdl37/lib/python3.7/site-packages/gym/wrappers/monitoring/video_recorder.py:44: DeprecationWarning: \u001B[33mWARN: `env.metadata[\"render.modes\"] is marked as deprecated and will be replaced with `env.metadata[\"render_modes\"]` see https://github.com/openai/gym/pull/2654 for more details\u001B[0m\n",
      "  '`env.metadata[\"render.modes\"] is marked as deprecated and will be replaced with `env.metadata[\"render_modes\"]` '\n",
      "/home/irafm/miniconda3/envs/vgdl37/lib/python3.7/site-packages/gym/wrappers/monitoring/video_recorder.py:116: DeprecationWarning: \u001B[33mWARN: `env.metadata[\"video.frames_per_second\"] is marked as deprecated and will be replaced with `env.metadata[\"render_fps\"]` see https://github.com/openai/gym/pull/2654 for more details\u001B[0m\n",
      "  '`env.metadata[\"video.frames_per_second\"] is marked as deprecated and will be replaced with `env.metadata[\"render_fps\"]` '\n",
      "/home/irafm/miniconda3/envs/vgdl37/lib/python3.7/site-packages/gym/wrappers/monitoring/video_recorder.py:422: DeprecationWarning: distutils Version classes are deprecated. Use packaging.version instead.\n",
      "  np.__version__\n",
      "/home/irafm/hyner/vgdl_2_0/py-vgdl/vgdl/state.py:24: VisibleDeprecationWarning: Creating an ndarray from ragged nested sequences (which is a list-or-tuple of lists-or-tuples-or ndarrays with different lengths or shapes) is deprecated. If you meant to do this, you must specify 'dtype=object' when creating the ndarray.\n",
      "  return np.array(list(self.values()))\n"
     ]
    }
   ],
   "source": [
    "env = gym.make('vgdl_survivezombies-v0', obs_type=\"objects\")\n",
    "obs = env.reset()\n",
    "first_state_info = env.game.get_game_state()\n",
    "first_state = Subgoal(priority=0, previous_actions=[],\\\n",
    "                      info=first_state_info)\n",
    "frontier = PriorityQueue()\n",
    "frontier.put(first_state)\n",
    "\n",
    "def evaluate_state(state):\n",
    "    return 0;\n",
    "\n",
    "\n",
    "\n",
    "def visualize_actions(action_list, current_state):\n",
    "    env = gnwrapper.Monitor(gym.make('vgdl_survivezombies-v0', obs_type=\"objects\"))\n",
    "    env.reset()\n",
    "    env.game.set_game_state(current_state)\n",
    "    print(current_state.keys())\n",
    "    for i in action_list:\n",
    "        next_obs, reward, done, info = env.step(i)\n",
    "    return env\n",
    "seen_states = {first_state_info}\n",
    "for i in range(100):\n",
    "    if len(frontier.elements)==0:\n",
    "        #print(f\"no more subgoals on {i}th iteration\")\n",
    "        break\n",
    "    #else: print('frontier size:',len(frontier.elements))\n",
    "    current = frontier.get()\n",
    "    state = current.info\n",
    "    env.game.set_game_state(state)\n",
    "    for i, a in enumerate(env.game.get_possible_actions()):\n",
    "        next_obs, reward, done, info = env.step(i)\n",
    "        if done:\n",
    "            env.game.set_game_state(state)\n",
    "            continue\n",
    "        new_state = env.game.get_game_state()\n",
    "        if done or new_state in seen_states:\n",
    "            env.game.set_game_state(state)\n",
    "            continue\n",
    "        seen_states.add(new_state)\n",
    "        actions = current.previous_actions+[i]\n",
    "        new_state = Subgoal(evaluate_state(new_state), actions, new_state)\n",
    "        frontier.put(new_state)\n",
    "        env.game.set_game_state(state)\n",
    "\n",
    "tmp_state = frontier.get()\n",
    "tmp_state = frontier.get()\n",
    "print(tmp_state.previous_actions)\n",
    "env = visualize_actions(tmp_state.previous_actions, first_state_info)"
   ],
   "metadata": {
    "collapsed": false,
    "pycharm": {
     "name": "#%%\n"
    }
   }
  },
  {
   "cell_type": "code",
   "execution_count": 100,
   "outputs": [
    {
     "data": {
      "text/plain": "'rl-video-episode-0.mp4'"
     },
     "metadata": {},
     "output_type": "display_data"
    },
    {
     "data": {
      "text/plain": "<IPython.core.display.HTML object>",
      "text/html": "\n            <video alt=\"test\" controls>\n            <source src=\"data:video/mp4;base64,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\" type=\"video/mp4\" />\n            </video>\n            "
     },
     "metadata": {},
     "output_type": "display_data"
    }
   ],
   "source": [
    "env.display()"
   ],
   "metadata": {
    "collapsed": false,
    "pycharm": {
     "name": "#%%\n"
    }
   }
  },
  {
   "cell_type": "code",
   "execution_count": null,
   "outputs": [],
   "source": [],
   "metadata": {
    "collapsed": false,
    "pycharm": {
     "name": "#%%\n"
    }
   }
  }
 ],
 "metadata": {
  "kernelspec": {
   "display_name": "Python 3",
   "language": "python",
   "name": "python3"
  },
  "language_info": {
   "codemirror_mode": {
    "name": "ipython",
    "version": 3
   },
   "file_extension": ".py",
   "mimetype": "text/x-python",
   "name": "python",
   "nbconvert_exporter": "python",
   "pygments_lexer": "ipython3",
   "version": "3.7.6"
  }
 },
 "nbformat": 4,
 "nbformat_minor": 4
}