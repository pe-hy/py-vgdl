{
 "cells": [
  {
   "cell_type": "code",
   "execution_count": 97,
   "metadata": {},
   "outputs": [],
   "source": [
    "import matplotlib.pyplot as plt\n",
    "import pickle"
   ]
  },
  {
   "cell_type": "code",
   "execution_count": 98,
   "metadata": {},
   "outputs": [
    {
     "name": "stdout",
     "output_type": "stream",
     "text": [
      "The autoreload extension is already loaded. To reload it, use:\n",
      "  %reload_ext autoreload\n"
     ]
    }
   ],
   "source": [
    "%load_ext autoreload\n",
    "%autoreload 2\n",
    "from LayoutUtils import *"
   ]
  },
  {
   "cell_type": "code",
   "execution_count": 99,
   "metadata": {
    "collapsed": false,
    "jupyter": {
     "outputs_hidden": false
    }
   },
   "outputs": [],
   "source": [
    "with open('testGraph.pkl', 'rb') as file:\n",
    "    molecules_G = pickle.load(file)"
   ]
  },
  {
   "cell_type": "code",
   "execution_count": 100,
   "metadata": {
    "collapsed": false,
    "jupyter": {
     "outputs_hidden": false
    }
   },
   "outputs": [],
   "source": [
    "def load_parse_molecules(molecules_G):\n",
    "    node_data = molecules_G[\"layout_spec\"].nodes(data=True)\n",
    "    edge_data = molecules_G[\"layout_spec\"].edges(data=True)\n",
    "    print(edge_data)\n",
    "    node_data = dict(node_data)\n",
    "    group_id_room_number = {}\n",
    "\n",
    "    for i, data in node_data.items():\n",
    "        group_id_room_number[i] = 2 if len(data['data']) == 1 else len(data['data'])\n",
    "\n",
    "    group_sizes = list(group_id_room_number.values())\n",
    "    num_rooms = sum(group_sizes)\n",
    "    group_ids = [k for k, v in node_data.items()]\n",
    "    groups_to_connect = [(edge[0], edge[1]) for edge in edge_data]\n",
    "\n",
    "    obstacles = {}\n",
    "    for tuple_ in edge_data:\n",
    "        obstacles[tuple_[2]['obstacle_id']] = (tuple_[0], tuple_[1])\n",
    "    obstacles = {key+30: value for key, value in obstacles.items()}\n",
    "\n",
    "    return node_data, num_rooms, group_sizes, group_ids, groups_to_connect, obstacles"
   ]
  },
  {
   "cell_type": "code",
   "execution_count": 101,
   "metadata": {
    "collapsed": false,
    "jupyter": {
     "outputs_hidden": false
    }
   },
   "outputs": [
    {
     "name": "stdout",
     "output_type": "stream",
     "text": [
      "[(2, 1, {'obstacle_id': 2}), (1, 0, {'obstacle_id': 44})]\n",
      "{32: (2, 1), 74: (1, 0)}\n"
     ]
    }
   ],
   "source": [
    "node_data, num_rooms, group_sizes, group_ids, groups_to_connect, obstacle_ids = load_parse_molecules(molecules_G)\n",
    "print(obstacle_ids)"
   ]
  },
  {
   "cell_type": "code",
   "execution_count": 102,
   "metadata": {
    "collapsed": false,
    "jupyter": {
     "outputs_hidden": false
    }
   },
   "outputs": [
    {
     "name": "stdout",
     "output_type": "stream",
     "text": [
      "7\n",
      "[2, 3, 2]\n",
      "[2, 1, 0]\n",
      "[(2, 1), (1, 0)]\n"
     ]
    }
   ],
   "source": [
    "print(num_rooms)\n",
    "print(group_sizes)\n",
    "print(group_ids)\n",
    "print(groups_to_connect)"
   ]
  },
  {
   "cell_type": "code",
   "execution_count": 103,
   "metadata": {
    "collapsed": false,
    "jupyter": {
     "outputs_hidden": false
    }
   },
   "outputs": [],
   "source": [
    "num_columns = 4\n",
    "grid_size = 30\n",
    "min_room_size = 3\n",
    "roomspace = grid_size - (num_columns + 1)"
   ]
  },
  {
   "cell_type": "code",
   "execution_count": 104,
   "metadata": {
    "collapsed": false,
    "jupyter": {
     "outputs_hidden": false
    }
   },
   "outputs": [],
   "source": [
    "divisions = get_divisions(roomspace, num_columns, min_room_size)\n",
    "walkable_points, chosen_rooms = get_choosen_rooms(divisions, min_room_size, num_rooms)\n",
    "\n",
    "distances = {}\n",
    "for i, r1 in enumerate(chosen_rooms):\n",
    "    for j, r2 in enumerate(chosen_rooms):\n",
    "        if i < j:\n",
    "            distances[(i, j)] = get_distance(r1, r2)\n",
    "\n",
    "sorted_pairs = list(sorted(map(lambda x: (x[0], x[1]), distances.items()), key=lambda x: x[1]))\n",
    "G = get_grid_graph(grid_size, walkable_points, chosen_rooms)\n",
    "paths = get_paths(G, sorted_pairs, chosen_rooms, grid_size)\n",
    "paths_lst = [(k, v) for k, v in paths.items()]\n",
    "rooms_points = get_room_points(chosen_rooms)\n",
    "room_G = get_rooms_graph(chosen_rooms, paths_lst, rooms_points)"
   ]
  },
  {
   "cell_type": "code",
   "execution_count": 105,
   "metadata": {
    "collapsed": false,
    "jupyter": {
     "outputs_hidden": false
    }
   },
   "outputs": [
    {
     "name": "stdout",
     "output_type": "stream",
     "text": [
      "[(15, (2, 1)), (0, (1, 0))]\n",
      "0 :::: [{'edges': {13}, 'intersections': {8, 19}}, {'edges': {14, 7}, 'intersections': {16, 18, 20, 15}}, {'edges': {5}, 'intersections': set()}]\n"
     ]
    }
   ],
   "source": [
    "available_indices = set(range(num_rooms))  # num rooms=součet\n",
    "\n",
    "splits_it = iterate_G(available_indices, group_sizes, 0, room_G)\n",
    "\n",
    "found = False\n",
    "for i, split in enumerate(splits_it):\n",
    "    skels_it = get_possible_split(split)\n",
    "    for skels in skels_it:\n",
    "        if len(skels) == len(group_sizes):\n",
    "            crossing_edges = get_crossing_edges_list(skels, room_G, groups_to_connect, paths_lst)\n",
    "            #if None in crossing_edges:\n",
    "            #    print(crossing_edges)\n",
    "            #    continue\n",
    "            found = True\n",
    "            print(i, '::::', skels)\n",
    "            break\n",
    "    #if i>100:\n",
    "    if found == True:\n",
    "        break\n",
    "#crossing_edges = [] # zakomentovat\n",
    "#string = get_layout_str(walkable_points,skels,crossing_edges,paths_lst,grid_size)\n",
    "#print(string)"
   ]
  },
  {
   "cell_type": "code",
   "execution_count": 106,
   "metadata": {
    "collapsed": false,
    "jupyter": {
     "outputs_hidden": false
    }
   },
   "outputs": [],
   "source": [
    "def intersect_first_group(corridor_id, groups, room_G, skels, paths_lst):\n",
    "    group1 = groups[0]\n",
    "    group2 = groups[1]\n",
    "    rooms, corridor_points = paths_lst[corridor_id]\n",
    "    rooms_points = [get_points_from_room(i, room_G) for i in rooms]\n",
    "    rooms_points = [tuple for sublist in rooms_points for tuple in sublist]\n",
    "    rooms_points = set(rooms_points)\n",
    "    corridor_points = set(corridor_points)\n",
    "    corridor_points = corridor_points.difference(set(rooms_points))\n",
    "    vertices_edges_dict = nx.get_edge_attributes(room_G, 'corridor_key')\n",
    "    vertices_edges_dict_inv = {v: k for k, v in vertices_edges_dict.items()}\n",
    "    group1_points = get_points_from_group(group1, skels, vertices_edges_dict_inv, room_G, paths_lst)\n",
    "    group2_points = get_points_from_group(group2, skels, vertices_edges_dict_inv, room_G, paths_lst)\n",
    "    intersect_1 = group1_points.intersection(corridor_points)\n",
    "    intersect_2 = group2_points.intersection(corridor_points)\n",
    "    assert not (len(intersect_1) != 0 and len(intersect_2) != 0)\n",
    "    return len(intersect_1) != 0"
   ]
  },
  {
   "cell_type": "code",
   "execution_count": 107,
   "metadata": {
    "collapsed": false,
    "jupyter": {
     "outputs_hidden": false
    }
   },
   "outputs": [],
   "source": [
    "vertices_edges_dict = nx.get_edge_attributes(room_G, 'corridor_key')"
   ]
  },
  {
   "cell_type": "code",
   "execution_count": 108,
   "metadata": {
    "collapsed": false,
    "jupyter": {
     "outputs_hidden": false
    }
   },
   "outputs": [],
   "source": [
    "def get_rooms_from_skels(skels, vertices_edges_dict):\n",
    "    result = {}\n",
    "    for i, d in enumerate(skels):\n",
    "        rooms = []\n",
    "        for v in vertices_edges_dict.items():\n",
    "            if v[1] in d['edges']:\n",
    "                rooms.append(v[0])\n",
    "        result[i] = rooms\n",
    "    return result"
   ]
  },
  {
   "cell_type": "code",
   "execution_count": 109,
   "metadata": {
    "collapsed": false,
    "jupyter": {
     "outputs_hidden": false
    }
   },
   "outputs": [],
   "source": [
    "skels_rooms_dict = get_rooms_from_skels(skels, vertices_edges_dict)"
   ]
  },
  {
   "cell_type": "code",
   "execution_count": 110,
   "metadata": {
    "collapsed": false,
    "jupyter": {
     "outputs_hidden": false
    }
   },
   "outputs": [
    {
     "data": {
      "text/plain": "{0: [(0, 1)], 1: [(2, 3), (2, 4)], 2: [(5, 6)]}"
     },
     "execution_count": 110,
     "metadata": {},
     "output_type": "execute_result"
    }
   ],
   "source": [
    "skels_rooms_dict"
   ]
  },
  {
   "cell_type": "code",
   "execution_count": 111,
   "metadata": {
    "collapsed": false,
    "jupyter": {
     "outputs_hidden": false
    }
   },
   "outputs": [],
   "source": [
    "def get_room_ids_for_group(skels_rooms_dict):\n",
    "    ret = {}\n",
    "    for k, v in skels_rooms_dict.items():\n",
    "        temp = []\n",
    "        for i in v:\n",
    "            temp += list(i)\n",
    "        ret[k] = set(temp)\n",
    "    return ret"
   ]
  },
  {
   "cell_type": "code",
   "execution_count": 112,
   "metadata": {
    "collapsed": false,
    "jupyter": {
     "outputs_hidden": false
    }
   },
   "outputs": [],
   "source": [
    "room_ids_from_node_data = get_room_ids_for_group(skels_rooms_dict)"
   ]
  },
  {
   "cell_type": "code",
   "execution_count": 112,
   "metadata": {},
   "outputs": [],
   "source": []
  },
  {
   "cell_type": "code",
   "execution_count": 113,
   "metadata": {
    "collapsed": false,
    "jupyter": {
     "outputs_hidden": false
    }
   },
   "outputs": [],
   "source": [
    "def get_obstacle_room(corridor_id, groups, room_G, skels, paths_lst, room_ids_from_node_data):\n",
    "    intersect = intersect_first_group(corridor_id, groups, room_G, skels, paths_lst)\n",
    "    room1 = paths_lst[corridor_id][0][0]\n",
    "    room2 = paths_lst[corridor_id][0][1]\n",
    "    r1_in_g1 = room1 in room_ids_from_node_data[groups[0]]\n",
    "    if r1_in_g1:\n",
    "        rooms = [room1, room2]\n",
    "    else:\n",
    "        rooms = [room2, room1]\n",
    "    if intersect:\n",
    "        obstacle_room = rooms[1]\n",
    "    else:\n",
    "        obstacle_room = rooms[0]\n",
    "    return obstacle_room"
   ]
  },
  {
   "cell_type": "code",
   "execution_count": 114,
   "metadata": {
    "collapsed": false,
    "jupyter": {
     "outputs_hidden": false
    }
   },
   "outputs": [],
   "source": [
    "def get_line_around_room(path):\n",
    "    border = []\n",
    "    for p in path:\n",
    "        border += get_neighs(p)\n",
    "    surrounding_nodes = list(set(border) - set(path))\n",
    "    return surrounding_nodes\n",
    "\n",
    "def get_obstacle_pos(room_id, corridor_id, paths_lst,room_G):\n",
    "    room_points= get_points_from_room(room_id, room_G)\n",
    "    corridor_points = paths_lst[corridor_id][1]\n",
    "    room_points = set(room_points)\n",
    "    corridor_points = set(corridor_points)\n",
    "    assert len(corridor_points.intersection(room_points))!=0\n",
    "    corridor_points = corridor_points.difference(room_points)\n",
    "    room_border = set(get_line_around_room(room_points))\n",
    "    obstacle_pos = list(room_border.intersection(corridor_points))\n",
    "    assert len(obstacle_pos)==1\n",
    "    return obstacle_pos[0]"
   ]
  },
  {
   "cell_type": "code",
   "execution_count": 115,
   "metadata": {
    "collapsed": false,
    "jupyter": {
     "outputs_hidden": false
    }
   },
   "outputs": [
    {
     "name": "stdout",
     "output_type": "stream",
     "text": [
      "False\n"
     ]
    }
   ],
   "source": [
    "idx = crossing_edges[0][0]\n",
    "grps = crossing_edges[0][1]\n",
    "intersect = intersect_first_group(idx, grps, room_G, skels, paths_lst)\n",
    "print(intersect)"
   ]
  },
  {
   "cell_type": "code",
   "execution_count": 116,
   "outputs": [],
   "source": [
    "#1. fce která vezme crossing_edges jako argument a vrátí list tuplů, kde každý tuple je obstacle_id a druhý prvek jeho pozice, vrátí obstacles a tu pak do fce. create string\n",
    "# iterovat přes crossing_edges, vždy vytáhnout idx a groups, groups řekne které dvě groupy propojuje\n",
    "# na edgich z picklu je uložené obstacle_id, zavolat get_obstacle_room a get_obstacle_pos. (tuple obstacle_id a pozice) append to pole a return\n",
    "#2. fce\n",
    "# 2 dicty - jeden z ID na symbol a druhý ze symbolu na ID (prvních n symbolů)\n",
    "# 50 symbolů je pro submolekuly a 50 symbolů je pro finální molekuly (taky parametrizovat)"
   ],
   "metadata": {
    "collapsed": false
   }
  },
  {
   "cell_type": "code",
   "execution_count": 117,
   "metadata": {
    "collapsed": false,
    "jupyter": {
     "outputs_hidden": false
    }
   },
   "outputs": [],
   "source": [
    "obstacle_room_id = get_obstacle_room(idx, grps, room_G, skels, paths_lst, room_ids_from_node_data)\n",
    "obstacle_pos = get_obstacle_pos(obstacle_room_id,idx,paths_lst,room_G)"
   ]
  },
  {
   "cell_type": "code",
   "execution_count": 117,
   "outputs": [],
   "source": [],
   "metadata": {
    "collapsed": false
   }
  },
  {
   "cell_type": "code",
   "execution_count": 118,
   "metadata": {
    "collapsed": false,
    "jupyter": {
     "outputs_hidden": false
    }
   },
   "outputs": [],
   "source": [
    "# 1. skels edge spojuje 2 roomky (20 - edge spojuje 2 vrcholy (roomy))\n",
    "# 2. funkce bude vracet list množin (počet množin = počet group, každá množina bude mít tolik prvků - indexů roomek, kolik je v groupě roomek)\n",
    "# 3. ke každé groupě znám které symboly patří do těch jednotlivých roomek (dle indexů)\n",
    "#   - funkce vezme index roomky z kroku 2 a počet atomů a vrátí pozice rovnající se počtu atomů, které nesmí být stejné, pozice přiřadím atomům které v té roomce mají být\n",
    "#### - pro každou roomku vzít atomy, index roomky z kroku 2 a funkce vrátí\n",
    "# skels:\n",
    "# {0: [(0, 1)], 1: [(2, 4), (2, 3)], 2: [(5, 6)]}\n",
    "# room_ids from groups node_data:\n",
    "# {2: {0, 1}, 1: {2, 3, 4}, 0: {5}}\n",
    "# node_data:\n",
    "# {2: {'data': [['13'], ['8', '7']]},\n",
    "# 1: {'data': [['15'], ['8', '19', '13'], ['19', '8', '7', '0']]},\n",
    "# 0: {'data': [['17']]}}"
   ]
  },
  {
   "cell_type": "code",
   "execution_count": 119,
   "metadata": {
    "collapsed": false,
    "jupyter": {
     "outputs_hidden": false
    }
   },
   "outputs": [
    {
     "data": {
      "text/plain": "{2: {'data': [['13'], ['8', '7']]},\n 1: {'data': [['15'], ['8', '19', '13'], ['19', '8', '7', '0']]},\n 0: {'data': [['17']]}}"
     },
     "execution_count": 119,
     "metadata": {},
     "output_type": "execute_result"
    }
   ],
   "source": [
    "node_data"
   ]
  },
  {
   "cell_type": "code",
   "execution_count": 120,
   "metadata": {
    "collapsed": false,
    "jupyter": {
     "outputs_hidden": false
    }
   },
   "outputs": [],
   "source": [
    "from collections import defaultdict\n",
    "\n",
    "\n",
    "def get_room_points_from_node_data(room_ids_from_node_data, room_G):\n",
    "    room_points = defaultdict(list)\n",
    "    for k, v in room_ids_from_node_data.items():\n",
    "        for room_id in v:\n",
    "            room_points[k].append((room_id, get_points_from_room(room_id, room_G)))\n",
    "    return room_points"
   ]
  },
  {
   "cell_type": "code",
   "execution_count": 121,
   "metadata": {
    "collapsed": true,
    "jupyter": {
     "outputs_hidden": true
    }
   },
   "outputs": [
    {
     "data": {
      "text/plain": "defaultdict(list,\n            {0: [(0,\n               [(16, 21),\n                (16, 22),\n                (16, 23),\n                (17, 21),\n                (17, 22),\n                (17, 23),\n                (18, 21),\n                (18, 22),\n                (18, 23),\n                (19, 21),\n                (19, 22),\n                (19, 23),\n                (20, 21),\n                (20, 22),\n                (20, 23),\n                (21, 21),\n                (21, 22),\n                (21, 23),\n                (22, 21),\n                (22, 22),\n                (22, 23)]),\n              (1,\n               [(20, 0),\n                (20, 1),\n                (20, 2),\n                (21, 0),\n                (21, 1),\n                (21, 2),\n                (22, 0),\n                (22, 1),\n                (22, 2),\n                (23, 0),\n                (23, 1),\n                (23, 2),\n                (24, 0),\n                (24, 1),\n                (24, 2),\n                (25, 0),\n                (25, 1),\n                (25, 2),\n                (26, 0),\n                (26, 1),\n                (26, 2),\n                (27, 0),\n                (27, 1),\n                (27, 2)])],\n             1: [(2,\n               [(5, 0),\n                (5, 1),\n                (5, 2),\n                (6, 0),\n                (6, 1),\n                (6, 2),\n                (7, 0),\n                (7, 1),\n                (7, 2),\n                (8, 0),\n                (8, 1),\n                (8, 2),\n                (9, 0),\n                (9, 1),\n                (9, 2),\n                (10, 0),\n                (10, 1),\n                (10, 2),\n                (11, 0),\n                (11, 1),\n                (11, 2),\n                (12, 0),\n                (12, 1),\n                (12, 2)]),\n              (3,\n               [(15, 4),\n                (15, 5),\n                (15, 6),\n                (15, 7),\n                (15, 8),\n                (15, 9),\n                (15, 10),\n                (15, 11),\n                (15, 12),\n                (15, 13),\n                (15, 14),\n                (15, 15),\n                (15, 16),\n                (15, 17),\n                (15, 18),\n                (15, 19),\n                (16, 4),\n                (16, 5),\n                (16, 6),\n                (16, 7),\n                (16, 8),\n                (16, 9),\n                (16, 10),\n                (16, 11),\n                (16, 12),\n                (16, 13),\n                (16, 14),\n                (16, 15),\n                (16, 16),\n                (16, 17),\n                (16, 18),\n                (16, 19),\n                (17, 4),\n                (17, 5),\n                (17, 6),\n                (17, 7),\n                (17, 8),\n                (17, 9),\n                (17, 10),\n                (17, 11),\n                (17, 12),\n                (17, 13),\n                (17, 14),\n                (17, 15),\n                (17, 16),\n                (17, 17),\n                (17, 18),\n                (17, 19),\n                (18, 4),\n                (18, 5),\n                (18, 6),\n                (18, 7),\n                (18, 8),\n                (18, 9),\n                (18, 10),\n                (18, 11),\n                (18, 12),\n                (18, 13),\n                (18, 14),\n                (18, 15),\n                (18, 16),\n                (18, 17),\n                (18, 18),\n                (18, 19),\n                (19, 4),\n                (19, 5),\n                (19, 6),\n                (19, 7),\n                (19, 8),\n                (19, 9),\n                (19, 10),\n                (19, 11),\n                (19, 12),\n                (19, 13),\n                (19, 14),\n                (19, 15),\n                (19, 16),\n                (19, 17),\n                (19, 18),\n                (19, 19),\n                (20, 4),\n                (20, 5),\n                (20, 6),\n                (20, 7),\n                (20, 8),\n                (20, 9),\n                (20, 10),\n                (20, 11),\n                (20, 12),\n                (20, 13),\n                (20, 14),\n                (20, 15),\n                (20, 16),\n                (20, 17),\n                (20, 18),\n                (20, 19)]),\n              (4,\n               [(0, 21),\n                (0, 22),\n                (0, 23),\n                (1, 21),\n                (1, 22),\n                (1, 23),\n                (2, 21),\n                (2, 22),\n                (2, 23),\n                (3, 21),\n                (3, 22),\n                (3, 23),\n                (4, 21),\n                (4, 22),\n                (4, 23),\n                (5, 21),\n                (5, 22),\n                (5, 23),\n                (6, 21),\n                (6, 22),\n                (6, 23)])],\n             2: [(5,\n               [(8, 21),\n                (8, 22),\n                (8, 23),\n                (9, 21),\n                (9, 22),\n                (9, 23),\n                (10, 21),\n                (10, 22),\n                (10, 23),\n                (11, 21),\n                (11, 22),\n                (11, 23),\n                (12, 21),\n                (12, 22),\n                (12, 23),\n                (13, 21),\n                (13, 22),\n                (13, 23),\n                (14, 21),\n                (14, 22),\n                (14, 23)]),\n              (6,\n               [(14, 25),\n                (14, 26),\n                (14, 27),\n                (15, 25),\n                (15, 26),\n                (15, 27),\n                (16, 25),\n                (16, 26),\n                (16, 27)])]})"
     },
     "execution_count": 121,
     "metadata": {},
     "output_type": "execute_result"
    }
   ],
   "source": [
    "groups_rooms_points = get_room_points_from_node_data(room_ids_from_node_data, room_G)\n",
    "groups_rooms_points"
   ]
  },
  {
   "cell_type": "code",
   "execution_count": 122,
   "metadata": {
    "collapsed": false,
    "jupyter": {
     "outputs_hidden": false
    }
   },
   "outputs": [
    {
     "data": {
      "text/plain": "{2: {'data': [['13'], ['8', '7']]},\n 1: {'data': [['15'], ['8', '19', '13'], ['19', '8', '7', '0']]},\n 0: {'data': [['17']]}}"
     },
     "execution_count": 122,
     "metadata": {},
     "output_type": "execute_result"
    }
   ],
   "source": [
    "node_data"
   ]
  },
  {
   "cell_type": "code",
   "execution_count": 123,
   "metadata": {
    "collapsed": false,
    "jupyter": {
     "outputs_hidden": false
    }
   },
   "outputs": [],
   "source": [
    "import random\n",
    "from collections import defaultdict\n",
    "\n",
    "\n",
    "def get_atom_placements(groups_rooms_points, node_data, obstacles):\n",
    "    result = defaultdict(list)\n",
    "    for k, v in node_data.items():\n",
    "        idx_g = k\n",
    "        for i, data in enumerate(v[\"data\"]):\n",
    "            used_points = []\n",
    "            for idx, coords in obstacles:\n",
    "                used_points.append(coords)\n",
    "            room_points = groups_rooms_points[k][i][1]\n",
    "            for symbol_id in data:\n",
    "                while True:\n",
    "                    sampled_point = random.sample(room_points, 1)[0]\n",
    "                    if sampled_point not in used_points:\n",
    "                        result[groups_rooms_points[k][i][0]].append((symbol_id, sampled_point, k))\n",
    "                        used_points.append(sampled_point)\n",
    "                        print(used_points)\n",
    "                        break\n",
    "                    #Vrací dict listů, kde klíč je ID roomky, value je list tuplů kde prvním prvkem je id atomu a druhým prvkem je (tuple) pozice umístění atomu v roomce.\n",
    "                    # 1: [('8', (8, 13)), ('7', (9, 14))]\n",
    "\n",
    "    return result\n"
   ]
  },
  {
   "cell_type": "code",
   "execution_count": 124,
   "outputs": [],
   "source": [
    "def get_obstacle_id_and_pos(crossing_edges, room_G, skels, paths_lst, room_ids_from_node_data):\n",
    "    obstacles = []\n",
    "    for c_e in crossing_edges:\n",
    "        idx = c_e[0]\n",
    "        groups = c_e[1]\n",
    "        print(groups)\n",
    "        ob_room = get_obstacle_room(idx, groups, room_G, skels, paths_lst, room_ids_from_node_data)\n",
    "        ob_pos = get_obstacle_pos(ob_room, idx, paths_lst, room_G)\n",
    "        ob_pos = toL(ob_pos)\n",
    "        group_list = []\n",
    "        for k, v in obstacle_ids.items():\n",
    "            group_list.append(groups)\n",
    "            if v in group_list:\n",
    "                ob_id = k\n",
    "        obstacles.append((ob_id, ob_pos))\n",
    "    return obstacles"
   ],
   "metadata": {
    "collapsed": false
   }
  },
  {
   "cell_type": "code",
   "execution_count": 125,
   "outputs": [
    {
     "name": "stdout",
     "output_type": "stream",
     "text": [
      "(19, 20)\n"
     ]
    }
   ],
   "source": [
    "idx = crossing_edges[1][0]\n",
    "groups = crossing_edges[1][1]\n",
    "ob_room = get_obstacle_room(idx, groups, room_G, skels, paths_lst, room_ids_from_node_data)\n",
    "ob_pos = get_obstacle_pos(ob_room, idx, paths_lst, room_G)\n",
    "print(ob_pos)"
   ],
   "metadata": {
    "collapsed": false
   }
  },
  {
   "cell_type": "code",
   "execution_count": 126,
   "outputs": [
    {
     "name": "stdout",
     "output_type": "stream",
     "text": [
      "(2, 1)\n",
      "(1, 0)\n"
     ]
    },
    {
     "data": {
      "text/plain": "[(32, (14, 21)), (74, (20, 21))]"
     },
     "execution_count": 126,
     "metadata": {},
     "output_type": "execute_result"
    }
   ],
   "source": [
    "obstacles = get_obstacle_id_and_pos(crossing_edges, room_G, skels, paths_lst, room_ids_from_node_data)\n",
    "obstacles"
   ],
   "metadata": {
    "collapsed": false
   }
  },
  {
   "cell_type": "code",
   "execution_count": 127,
   "outputs": [
    {
     "name": "stdout",
     "output_type": "stream",
     "text": [
      "[(14, 21), (20, 21), (12, 21)]\n",
      "[(14, 21), (20, 21), (16, 25)]\n",
      "[(14, 21), (20, 21), (16, 25), (15, 26)]\n",
      "[(14, 21), (20, 21), (10, 1)]\n",
      "[(14, 21), (20, 21), (15, 8)]\n",
      "[(14, 21), (20, 21), (15, 8), (20, 4)]\n",
      "[(14, 21), (20, 21), (15, 8), (20, 4), (20, 14)]\n",
      "[(14, 21), (20, 21), (0, 21)]\n",
      "[(14, 21), (20, 21), (0, 21), (3, 23)]\n",
      "[(14, 21), (20, 21), (0, 21), (3, 23), (6, 23)]\n",
      "[(14, 21), (20, 21), (0, 21), (3, 23), (6, 23), (2, 21)]\n",
      "[(14, 21), (20, 21), (17, 21)]\n",
      "defaultdict(<class 'list'>, {5: [('13', (12, 21), 2)], 6: [('8', (16, 25), 2), ('7', (15, 26), 2)], 2: [('15', (10, 1), 1)], 3: [('8', (15, 8), 1), ('19', (20, 4), 1), ('13', (20, 14), 1)], 4: [('19', (0, 21), 1), ('8', (3, 23), 1), ('7', (6, 23), 1), ('0', (2, 21), 1)], 0: [('17', (17, 21), 0)]})\n"
     ]
    }
   ],
   "source": [
    "atom_placements = get_atom_placements(groups_rooms_points, node_data, obstacles)\n",
    "print(atom_placements)"
   ],
   "metadata": {
    "collapsed": false
   }
  },
  {
   "cell_type": "code",
   "execution_count": 128,
   "outputs": [
    {
     "name": "stdout",
     "output_type": "stream",
     "text": [
      "defaultdict(<class 'list'>, {5: [('13', (12, 21), 2)], 6: [('8', (16, 25), 2), ('7', (15, 26), 2)], 2: [('15', (10, 1), 1)], 3: [('8', (15, 8), 1), ('19', (20, 4), 1), ('13', (20, 14), 1)], 4: [('19', (0, 21), 1), ('8', (3, 23), 1), ('7', (6, 23), 1), ('0', (2, 21), 1)], 0: [('17', (17, 21), 0)]})\n"
     ]
    }
   ],
   "source": [
    "print(atom_placements)"
   ],
   "metadata": {
    "collapsed": false
   }
  },
  {
   "cell_type": "code",
   "execution_count": 129,
   "outputs": [],
   "source": [
    "def get_atom_obstacle_ids_and_positions(atoms, obstacles):\n",
    "    atoms_pos_lst = []\n",
    "    for key in atoms:\n",
    "        for pair in atoms[key]:\n",
    "            tuple = pair[1]\n",
    "            idx = int(pair[0])\n",
    "            tol = toL(tuple)\n",
    "            atoms_pos_lst.append((idx,tol))\n",
    "    merged_list = obstacles + atoms_pos_lst\n",
    "    all_pos_dic = {v: k for k, v in merged_list}\n",
    "    if len(merged_list) != len(all_pos_dic):\n",
    "        print(\"some atoms/obstacles have same placements\")\n",
    "        print(len(merged_list))\n",
    "        print(merged_list)\n",
    "        print(len(all_pos_dic))\n",
    "        print(all_pos_dic)\n",
    "    return all_pos_dic\n"
   ],
   "metadata": {
    "collapsed": false
   }
  },
  {
   "cell_type": "code",
   "execution_count": 130,
   "outputs": [],
   "source": [
    "def convert_to_ascii(all_pos_dic):\n",
    "    print(len(all_pos_dic))\n",
    "    symbols = [chr(i) for i in range(33, 123) if i not in [119, 65, 97, 87]]\n",
    "    symbol_map = {}\n",
    "    for i in range(0, 86):\n",
    "        symbol_map[i] = symbols[i]\n",
    "    print(symbol_map)\n",
    "    new_all_pos_dic = {}\n",
    "    for k, v in all_pos_dic.items():\n",
    "        new_all_pos_dic[k] = symbol_map[v]\n",
    "    print(len(new_all_pos_dic))\n",
    "    return new_all_pos_dic\n"
   ],
   "metadata": {
    "collapsed": false
   }
  },
  {
   "cell_type": "code",
   "execution_count": 131,
   "outputs": [
    {
     "data": {
      "text/plain": "{(14, 21): 32,\n (20, 21): 74,\n (13, 22): 13,\n (17, 26): 8,\n (16, 27): 7,\n (11, 2): 15,\n (16, 9): 8,\n (21, 5): 19,\n (21, 15): 13,\n (1, 22): 19,\n (4, 24): 8,\n (7, 24): 7,\n (3, 22): 0,\n (18, 22): 17}"
     },
     "execution_count": 131,
     "metadata": {},
     "output_type": "execute_result"
    }
   ],
   "source": [
    "atom_obstacles_dict = get_atom_obstacle_ids_and_positions(atom_placements, obstacles)\n",
    "atom_obstacles_dict"
   ],
   "metadata": {
    "collapsed": false
   }
  },
  {
   "cell_type": "code",
   "execution_count": 132,
   "outputs": [
    {
     "name": "stdout",
     "output_type": "stream",
     "text": [
      "14\n",
      "{0: '!', 1: '\"', 2: '#', 3: '$', 4: '%', 5: '&', 6: \"'\", 7: '(', 8: ')', 9: '*', 10: '+', 11: ',', 12: '-', 13: '.', 14: '/', 15: '0', 16: '1', 17: '2', 18: '3', 19: '4', 20: '5', 21: '6', 22: '7', 23: '8', 24: '9', 25: ':', 26: ';', 27: '<', 28: '=', 29: '>', 30: '?', 31: '@', 32: 'B', 33: 'C', 34: 'D', 35: 'E', 36: 'F', 37: 'G', 38: 'H', 39: 'I', 40: 'J', 41: 'K', 42: 'L', 43: 'M', 44: 'N', 45: 'O', 46: 'P', 47: 'Q', 48: 'R', 49: 'S', 50: 'T', 51: 'U', 52: 'V', 53: 'X', 54: 'Y', 55: 'Z', 56: '[', 57: '\\\\', 58: ']', 59: '^', 60: '_', 61: '`', 62: 'b', 63: 'c', 64: 'd', 65: 'e', 66: 'f', 67: 'g', 68: 'h', 69: 'i', 70: 'j', 71: 'k', 72: 'l', 73: 'm', 74: 'n', 75: 'o', 76: 'p', 77: 'q', 78: 'r', 79: 's', 80: 't', 81: 'u', 82: 'v', 83: 'x', 84: 'y', 85: 'z'}\n",
      "14\n"
     ]
    },
    {
     "data": {
      "text/plain": "{(14, 21): 'B',\n (20, 21): 'n',\n (13, 22): '.',\n (17, 26): ')',\n (16, 27): '(',\n (11, 2): '0',\n (16, 9): ')',\n (21, 5): '4',\n (21, 15): '.',\n (1, 22): '4',\n (4, 24): ')',\n (7, 24): '(',\n (3, 22): '!',\n (18, 22): '2'}"
     },
     "execution_count": 132,
     "metadata": {},
     "output_type": "execute_result"
    }
   ],
   "source": [
    "atom_obstacles_dict_converted = convert_to_ascii(atom_obstacles_dict)\n",
    "atom_obstacles_dict_converted"
   ],
   "metadata": {
    "collapsed": false
   }
  },
  {
   "cell_type": "code",
   "execution_count": 133,
   "metadata": {
    "collapsed": false,
    "jupyter": {
     "outputs_hidden": false
    }
   },
   "outputs": [
    {
     "name": "stdout",
     "output_type": "stream",
     "text": [
      "[15, 0]\n"
     ]
    }
   ],
   "source": [
    "crossing_edge_this = [c_e[0] for c_e in crossing_edges]\n",
    "print(crossing_edge_this)"
   ]
  },
  {
   "cell_type": "code",
   "execution_count": 134,
   "metadata": {
    "collapsed": false,
    "jupyter": {
     "outputs_hidden": false
    }
   },
   "outputs": [
    {
     "name": "stdout",
     "output_type": "stream",
     "text": [
      "wwwwwwwwwwwwwwwwwwwwwwwwwwwwww\n",
      "wwwwwwwwwwwwwwwwwwwwww4  wwwww\n",
      "wwwwwwwwwwwwwwwwwwwwww   wwwww\n",
      "wwwwwwwwwwwwwwwwwwwwww!  wwwww\n",
      "www                     )wwwww\n",
      "www wwwwwwwwwwwwwwwwww   wwwww\n",
      "w   wwwwwwwwwwwwwwwwww   wwwww\n",
      "w   wwwwwwwwwwwwwwwwww  (wwwww\n",
      "w   wwwwwwwwwwwwwwwwwwwwwwwwww\n",
      "w   wwwwwwwwwwwwwwwwww   wwwww\n",
      "w   wwwwwwwwwwwwwwwwww   wwwww\n",
      "w 0 wwwwwwwwwwwwwwwwww   wwwww\n",
      "w   wwwwwwwwwwwwwwwwww   wwwww\n",
      "w     wwwwwwwwwwwwwwww.  wwwww\n",
      "wwwww                B   wwwww\n",
      "wwwwwww wwwwwwwwwwwwww       w\n",
      "wwwww    )           wwwww ( w\n",
      "wwwww                w   w)  w\n",
      "wwwww                w2  wwwww\n",
      "wwwww                w   wwwww\n",
      "wwwww                n   wwwww\n",
      "w   w4         .     w   wwwww\n",
      "w   wwwwwwwwwwwwwwwwww   wwwww\n",
      "w   wwwwwwwwwwwwwwww     wwwww\n",
      "w   www              wwwwwwwww\n",
      "w   w   wwwwwwwwwwwwwwwwwwwwww\n",
      "w   w wwwwwwwwwwwwwwwwwwwwwwww\n",
      "w     wwwwwwwwwwwwwwwwwwwwwwww\n",
      "w   wwwwwwwwwwwwwwwwwwwwwwwwww\n",
      "wwwwwwwwwwwwwwwwwwwwwwwwwwwwww\n",
      "\n"
     ]
    }
   ],
   "source": [
    "\n",
    "layout = get_layout_str_with_atoms(walkable_points, skels, crossing_edge_this, paths_lst, grid_size, atom_placements, obstacles, atom_obstacles_dict_converted)\n",
    "print(layout)\n",
    "# kontrolovat, jestli se neobjeví případ, kdy se protínal crossing_corridor s groupou s obstaclem"
   ]
  },
  {
   "cell_type": "code",
   "execution_count": 135,
   "metadata": {
    "collapsed": false,
    "jupyter": {
     "outputs_hidden": false
    }
   },
   "outputs": [
    {
     "name": "stdout",
     "output_type": "stream",
     "text": [
      "[{'edges': {13}, 'intersections': {8, 19}}, {'edges': {14, 7}, 'intersections': {16, 18, 20, 15}}, {'edges': {5}, 'intersections': set()}]\n"
     ]
    }
   ],
   "source": [
    "print(skels)"
   ]
  },
  {
   "cell_type": "code",
   "execution_count": 136,
   "metadata": {
    "collapsed": false,
    "jupyter": {
     "outputs_hidden": false
    }
   },
   "outputs": [],
   "source": [
    "def checkLayout(skels, crossing_edges, paths_lst, room_points):\n",
    "    # vytáhnout všechny edges ze skels (pro každou group bude jedno pole edges)\n",
    "    # edges = [[edge_z_groupy]]\n",
    "    # loop přes edges a v každé iteraci budu mít všechny edge v dané groupě\n",
    "    # vytvořit pole všech bodů mimo tuto groupu (všechny roomky a koridory v ostatních groupách)\n",
    "    # inner přes každý edge:\n",
    "    # check jestli edge se protíná s čímkoliv co je mimo tuto groupu\n",
    "    # loop přes všechny crossing_edges\n",
    "    # zjistit, jestli se neprotínají navzájem (intersection)\n",
    "    pass"
   ]
  },
  {
   "cell_type": "code",
   "execution_count": 137,
   "metadata": {
    "collapsed": false,
    "jupyter": {
     "outputs_hidden": false
    }
   },
   "outputs": [],
   "source": [
    "sorted_pairs = list(sorted(map(lambda x: (x[0], x[1]), distances.items()), key=lambda x: x[1]))"
   ]
  },
  {
   "cell_type": "code",
   "execution_count": 138,
   "metadata": {},
   "outputs": [],
   "source": [
    "G = get_grid_graph(grid_size, walkable_points, chosen_rooms)"
   ]
  },
  {
   "cell_type": "code",
   "execution_count": 139,
   "metadata": {
    "collapsed": false,
    "jupyter": {
     "outputs_hidden": false
    }
   },
   "outputs": [],
   "source": [
    "paths = get_paths(G, sorted_pairs, chosen_rooms, grid_size)"
   ]
  },
  {
   "cell_type": "code",
   "execution_count": 140,
   "metadata": {},
   "outputs": [],
   "source": [
    "paths_lst = [(k, v) for k, v in paths.items()]\n",
    "rooms_points = get_room_points(chosen_rooms)\n",
    "\n",
    "room_G = get_rooms_graph(chosen_rooms, paths_lst, rooms_points)"
   ]
  },
  {
   "cell_type": "code",
   "execution_count": 141,
   "metadata": {
    "collapsed": true,
    "jupyter": {
     "outputs_hidden": true
    }
   },
   "outputs": [
    {
     "data": {
      "text/plain": "<Figure size 640x480 with 1 Axes>",
      "image/png": "[encoded data removed]"
     },
     "metadata": {},
     "output_type": "display_data"
    }
   ],
   "source": [
    "nx.draw(room_G, with_labels=True)\n",
    "edgs = room_G.edges(data=True)"
   ]
  },
  {
   "cell_type": "code",
   "execution_count": 142,
   "metadata": {
    "collapsed": true,
    "jupyter": {
     "outputs_hidden": true
    }
   },
   "outputs": [
    {
     "name": "stdout",
     "output_type": "stream",
     "text": [
      "(0, 3, {'corridor_key': 0, 'crossed_corridors': [], 'crossed_rooms': []})\n",
      "(0, 5, {'corridor_key': 1, 'crossed_corridors': [12], 'crossed_rooms': []})\n",
      "(0, 6, {'corridor_key': 2, 'crossed_corridors': [8, 19], 'crossed_rooms': []})\n",
      "(0, 4, {'corridor_key': 12, 'crossed_corridors': [1, 4, 5, 6, 15, 17], 'crossed_rooms': [5]})\n",
      "(0, 1, {'corridor_key': 13, 'crossed_corridors': [8, 19], 'crossed_rooms': []})\n",
      "(0, 2, {'corridor_key': 16, 'crossed_corridors': [6, 7, 11, 15, 17], 'crossed_rooms': [3]})\n",
      "(1, 3, {'corridor_key': 3, 'crossed_corridors': [17], 'crossed_rooms': []})\n",
      "(1, 2, {'corridor_key': 9, 'crossed_corridors': [20], 'crossed_rooms': []})\n",
      "(1, 5, {'corridor_key': 17, 'crossed_corridors': [3, 6, 7, 11, 15, 16], 'crossed_rooms': [3]})\n",
      "(1, 6, {'corridor_key': 19, 'crossed_corridors': [2, 8, 13], 'crossed_rooms': []})\n",
      "(1, 4, {'corridor_key': 20, 'crossed_corridors': [9, 14, 18], 'crossed_rooms': [2]})\n",
      "(2, 3, {'corridor_key': 7, 'crossed_corridors': [15, 16], 'crossed_rooms': []})\n",
      "(2, 4, {'corridor_key': 14, 'crossed_corridors': [18, 20], 'crossed_rooms': []})\n",
      "(2, 5, {'corridor_key': 15, 'crossed_corridors': [6, 7, 11, 16, 17], 'crossed_rooms': []})\n",
      "(2, 6, {'corridor_key': 18, 'crossed_corridors': [10, 14, 20], 'crossed_rooms': [4]})\n",
      "(3, 5, {'corridor_key': 6, 'crossed_corridors': [11, 15, 17], 'crossed_rooms': []})\n",
      "(3, 6, {'corridor_key': 8, 'crossed_corridors': [2, 13, 19], 'crossed_rooms': []})\n",
      "(3, 4, {'corridor_key': 11, 'crossed_corridors': [6, 15, 17], 'crossed_rooms': []})\n",
      "(4, 5, {'corridor_key': 4, 'crossed_corridors': [12], 'crossed_rooms': []})\n",
      "(4, 6, {'corridor_key': 10, 'crossed_corridors': [18], 'crossed_rooms': []})\n",
      "(5, 6, {'corridor_key': 5, 'crossed_corridors': [], 'crossed_rooms': []})\n"
     ]
    }
   ],
   "source": [
    "for e in edgs:\n",
    "    print(e)"
   ]
  },
  {
   "cell_type": "code",
   "execution_count": 143,
   "outputs": [],
   "source": [
    "groups_to_connect = [(0, 1), (1, 2)]\n",
    "available_indices = set(range(num_rooms))\n",
    "splits_it = iterate_G(available_indices, [3, 3, 3], 0, room_G)\n",
    "found = False\n",
    "for i, split in enumerate(splits_it):\n",
    "    skels_it = get_possible_split(split)\n",
    "    for skels in skels_it:\n",
    "        if len(skels) == 3:\n",
    "            crossing_edges = get_crossing_edges_list(skels, room_G, groups_to_connect, paths_lst)\n",
    "            found = True\n",
    "            print(i, '::::', skels)\n",
    "            break\n",
    "    #if i>100:\n",
    "    if found == True:\n",
    "        break"
   ],
   "metadata": {
    "collapsed": false
   }
  },
  {
   "cell_type": "code",
   "execution_count": 144,
   "outputs": [
    {
     "name": "stderr",
     "output_type": "stream",
     "text": [
      "UsageError: Line magic function `%` not found.\n"
     ]
    }
   ],
   "source": [
    "% load_ext autoreload\n",
    "% autoreload 2\n",
    "from LayoutUtils import *\n",
    "\n",
    "string = get_layout_str(walkable_points, skels, [], paths_lst, grid_size)\n",
    "print(string)"
   ],
   "metadata": {
    "collapsed": false
   }
  },
  {
   "cell_type": "code",
   "execution_count": null,
   "outputs": [],
   "source": [
    "ix = 2\n",
    "\n",
    "\n",
    "def get_layout_str(walkable_points, skels, crossing_edges):\n",
    "    edges = []\n",
    "    for s in skels:\n",
    "        edges += list(s['edges'])\n",
    "    edges += crossing_edges\n",
    "    walkable_points_all = list(walkable_points)\n",
    "    for ix in edges:\n",
    "        walkable_points_all += list(map(toL, paths_lst[ix][1]))\n",
    "    walkable_points_all = set(walkable_points_all)\n",
    "    string = create_string(walkable_points, grid_size)\n",
    "    return string"
   ],
   "metadata": {
    "collapsed": false
   }
  },
  {
   "cell_type": "code",
   "execution_count": null,
   "outputs": [],
   "source": [
    "get_points_from_group(2, skels, vertices_edges_dict_inv, room_G, paths_lst)"
   ],
   "metadata": {
    "collapsed": false
   }
  },
  {
   "cell_type": "code",
   "execution_count": null,
   "outputs": [],
   "source": [],
   "metadata": {
    "collapsed": false
   }
  },
  {
   "cell_type": "code",
   "execution_count": null,
   "outputs": [],
   "source": [
    "\n",
    "get_points_from_room(1, room_G)"
   ],
   "metadata": {
    "collapsed": false
   }
  },
  {
   "cell_type": "code",
   "execution_count": null,
   "outputs": [],
   "source": [
    "# skels is a list of skeletons for each group such as the one in the cell above\n",
    "# [{'edges': {0, 12}, 'intersections': {15, 21, 24, 25, 28, 29}},\n",
    "# {'edges': {5, 34}, 'intersections': {31, 35}},\n",
    "# {'edges': {9, 10}, 'intersections': {14}}]\n",
    "# groups is a tuple of indices (i,j) of the groups which should be connected..it uses the skels list indices\n",
    "# [0,1]\n",
    "# setA = get all vertices from group i (use get_vertices_from_edge_ids)\n",
    "# setB = get all vertices from group j (use get_vertices_from_edge_ids)\n",
    "# create all possible pairs (crossing edges) where the first element is from setA and the second from setB\n",
    "# iterate over the crossing edges (refered here as e): (itertools)\n",
    "# now when we speak about corridors we mean corridors which are present in the skeletons in the skel list\n",
    "# these corridors are stored in the 'edges' key of a given skeleton\n",
    "# if the crossing_edge e intersects some room or corridor from some other group than i or j then skip this edge (other groups are present in skels list)\n",
    "# intA = get intersection between the crossing edge e and anything (either room or chosen corridor) in group i\n",
    "# intB = same thing but for group j\n",
    "# if both intA and intB are not empty then skip this crossing edge\n",
    "# else return this edge"
   ],
   "metadata": {
    "collapsed": false
   }
  },
  {
   "cell_type": "code",
   "execution_count": null,
   "outputs": [],
   "source": [
    "\n",
    "print(crossing_edges)"
   ],
   "metadata": {
    "collapsed": false
   }
  },
  {
   "cell_type": "code",
   "execution_count": null,
   "outputs": [],
   "source": [
    "\n",
    "crossing_edges = get_crossing_edges(skels, groups_to_connect, vertices_edges_dict_inv, vertices_edges_dict)\n",
    "get_edges_from_skels(crossing_edges, groups_to_connect, skels, vertices_edges_dict_inv, room_G, paths_lst,\n",
    "                     vertices_edges_dict)"
   ],
   "metadata": {
    "collapsed": false
   }
  },
  {
   "cell_type": "code",
   "execution_count": null,
   "outputs": [],
   "source": [
    "paths_lst[4]"
   ],
   "metadata": {
    "collapsed": false
   }
  }
 ],
 "metadata": {
  "kernelspec": {
   "display_name": "Python 3",
   "language": "python",
   "name": "python3"
  },
  "language_info": {
   "codemirror_mode": {
    "name": "ipython",
    "version": 3
   },
   "file_extension": ".py",
   "mimetype": "text/x-python",
   "name": "python",
   "nbconvert_exporter": "python",
   "pygments_lexer": "ipython3",
   "version": "3.7.6"
  }
 },
 "nbformat": 4,
 "nbformat_minor": 4
}
