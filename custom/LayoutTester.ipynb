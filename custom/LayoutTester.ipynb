{
 "cells": [
  {
   "cell_type": "code",
   "execution_count": 20,
   "outputs": [],
   "source": [
    "import warnings\n",
    "\n",
    "warnings.filterwarnings('ignore')\n",
    "warnings.simplefilter('ignore')\n",
    "import gym\n",
    "import vgdl.interfaces.gym as vdgym\n",
    "import vgdl\n",
    "import numpy as np\n",
    "import gnwrapper\n",
    "import matplotlib.pyplot as plt\n",
    "import itertools\n",
    "import heapq as hq\n",
    "from dataclasses import dataclass, field\n",
    "from typing import Any, List, Tuple\n",
    "\n",
    "vdgym.register_sample_games()\n",
    "from itertools import product\n",
    "import networkx as nx\n",
    "from joblib import Memory\n",
    "import imageio\n",
    "import os\n",
    "\n",
    "vdgym.register_sample_games()\n",
    "\n",
    "env = gym.make('vgdl_chase-v0', obs_type=\"objects\")\n",
    "env.reset()\n",
    "for _ in range(1000):\n",
    "    env.render()\n",
    "    env.step(env.action_space.sample()) # take a random action\n",
    "env.close()"
   ],
   "metadata": {
    "collapsed": false,
    "pycharm": {
     "name": "#%%\n"
    }
   }
  },
  {
   "cell_type": "code",
   "execution_count": 21,
   "outputs": [],
   "source": [
    "def repeat_upsample(rgb_array, k=1, l=1, err=[]):\n",
    "    # repeat kinda crashes if k/l are zero\n",
    "    if k <= 0 or l <= 0:\n",
    "        if not err:\n",
    "            print(\"Number of repeats must be larger than 0, k: {}, l: {}, returning default array!\".format(k, l))\n",
    "            err.append('logged')\n",
    "        return rgb_array\n",
    "\n",
    "    # repeat the pixels k times along the y axis and l times along the x axis\n",
    "    # if the input image is of shape (m,n,3), the output image will be of shape (k*m, l*n, 3)\n",
    "\n",
    "    return np.repeat(np.repeat(rgb_array, k, axis=0), l, axis=1)"
   ],
   "metadata": {
    "collapsed": false,
    "pycharm": {
     "name": "#%%\n"
    }
   }
  },
  {
   "cell_type": "code",
   "execution_count": 22,
   "outputs": [],
   "source": [
    "def save_gif():\n",
    "    env = gym.make('vgdl_chase-v0', obs_type=\"objects\")\n",
    "    env.reset()\n",
    "    frames = []\n",
    "    for _ in range(1000):\n",
    "        rgb = env.render(mode='rgb_array')\n",
    "        frame = repeat_upsample(rgb, 4, 4)\n",
    "        frames.append(frame)\n",
    "        env.step(env.action_space.sample()) # take a random action\n",
    "    env.close()\n",
    "    imageio.mimwrite(os.path.join('./videos/', 'last_run_test.gif'), frames, fps=60)"
   ],
   "metadata": {
    "collapsed": false,
    "pycharm": {
     "name": "#%%\n"
    }
   }
  },
  {
   "cell_type": "code",
   "execution_count": 23,
   "outputs": [],
   "source": [
    "save_gif()"
   ],
   "metadata": {
    "collapsed": false,
    "pycharm": {
     "name": "#%%\n"
    }
   }
  },
  {
   "cell_type": "code",
   "execution_count": null,
   "outputs": [],
   "source": [],
   "metadata": {
    "collapsed": false,
    "pycharm": {
     "name": "#%%\n"
    }
   }
  }
 ],
 "metadata": {
  "kernelspec": {
   "display_name": "Python 3",
   "language": "python",
   "name": "python3"
  },
  "language_info": {
   "codemirror_mode": {
    "name": "ipython",
    "version": 2
   },
   "file_extension": ".py",
   "mimetype": "text/x-python",
   "name": "python",
   "nbconvert_exporter": "python",
   "pygments_lexer": "ipython2",
   "version": "2.7.6"
  }
 },
 "nbformat": 4,
 "nbformat_minor": 0
}