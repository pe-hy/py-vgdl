{
 "cells": [
  {
   "cell_type": "code",
   "execution_count": 210,
   "metadata": {
    "pycharm": {
     "name": "#%%\n"
    }
   },
   "outputs": [],
   "source": [
    "import random\n",
    "import itertools\n",
    "import matplotlib.pyplot as plt\n",
    "import networkx as nx"
   ]
  },
  {
   "cell_type": "code",
   "execution_count": 211,
   "outputs": [],
   "source": [
    "num_columns = 4\n",
    "grid_size = 30\n",
    "min_room_size = 3\n",
    "\n",
    "roomspace = grid_size - (num_columns + 1)\n",
    "def all_less_then(comb,n):\n",
    "    for i in comb:\n",
    "        if i<n:\n",
    "            return False\n",
    "    return True\n",
    "\n",
    "def get_divisions(n, k):\n",
    "    divisions = []\n",
    "    combs = itertools.product(range(1, n), repeat=k)\n",
    "    dic={}\n",
    "    for comb in combs:\n",
    "        if sum(comb) == n and all_less_then(comb,min_room_size):\n",
    "            dic[\"\".join(map(str,sorted(comb)))]=comb\n",
    "    return list(dic.values())\n",
    "\n",
    "divisions = get_divisions(roomspace, num_columns)\n",
    "\n",
    "\n",
    "horizontal_split = list(random.choice(divisions))\n",
    "vertical_splits = [list(random.choice(divisions)) for i in horizontal_split]\n",
    "random.shuffle(horizontal_split)\n",
    "for split in vertical_splits:\n",
    "    random.shuffle(split)\n",
    "\n",
    "horizontal_data = []\n",
    "x_accum = 1\n",
    "for part in horizontal_split:\n",
    "    horizontal_data.append((x_accum,part))\n",
    "    x_accum += part+1\n",
    "\n",
    "vertical_data = []\n",
    "for split in vertical_splits:\n",
    "    y_accum = 1\n",
    "    data = []\n",
    "    for part in split:\n",
    "        data.append((y_accum,part))\n",
    "        y_accum += part+1\n",
    "    vertical_data.append(data)\n",
    "divisions = get_divisions(roomspace, num_columns)"
   ],
   "metadata": {
    "collapsed": false,
    "pycharm": {
     "name": "#%%\n"
    }
   }
  },
  {
   "cell_type": "code",
   "execution_count": 212,
   "outputs": [
    {
     "name": "stdout",
     "output_type": "stream",
     "text": [
      "##############################\n",
      "##########################   #\n",
      "##########################   #\n",
      "##########################   #\n",
      "##########################   #\n",
      "###################      #   #\n",
      "###################      #####\n",
      "###################      #####\n",
      "###################      #####\n",
      "###################      #####\n",
      "###################      #####\n",
      "##############################\n",
      "##############################\n",
      "##############################\n",
      "##########################   #\n",
      "##########################   #\n",
      "#############     ########   #\n",
      "#############     ########   #\n",
      "#############     ########   #\n",
      "#############     ########   #\n",
      "#############     ########   #\n",
      "#############     ########   #\n",
      "##########################   #\n",
      "#############     ########   #\n",
      "#############     ############\n",
      "#############     ############\n",
      "#############     ############\n",
      "#############     ############\n",
      "#############     ############\n",
      "##############################\n",
      "\n"
     ]
    }
   ],
   "source": [
    "num_rooms = 5\n",
    "\n",
    "horizontal_split = list(random.choice(divisions))\n",
    "vertical_splits = [list(random.choice(divisions)) for i in horizontal_split]\n",
    "random.shuffle(horizontal_split)\n",
    "for split in vertical_splits:\n",
    "    random.shuffle(split)\n",
    "\n",
    "horizontal_data = []\n",
    "x_accum = 1\n",
    "for part in horizontal_split:\n",
    "    horizontal_data.append((x_accum,part))\n",
    "    x_accum += part+1\n",
    "\n",
    "vertical_data = []\n",
    "for split in vertical_splits:\n",
    "    y_accum = 1\n",
    "    data = []\n",
    "    for part in split:\n",
    "        data.append((y_accum,part))\n",
    "        y_accum += part+1\n",
    "    vertical_data.append(data)\n",
    "\n",
    "\n",
    "chosen_cells = 0\n",
    "rooms_ixs = []\n",
    "\n",
    "while True:\n",
    "    x = random.choice(range(len(horizontal_split)))\n",
    "    y = random.choice(range(len(vertical_splits[x])))\n",
    "    ix = (x,y)\n",
    "    if ix not in rooms_ixs:\n",
    "        rooms_ixs.append(ix)\n",
    "    if len(rooms_ixs) == num_rooms:\n",
    "        break\n",
    "\n",
    "chosen_rooms = []\n",
    "for ix_x,ix_y in rooms_ixs:\n",
    "    x,w = horizontal_data[ix_x]\n",
    "    y,h = vertical_data[ix_x][ix_y]\n",
    "    chosen_rooms.append((y,x,h,w))\n",
    "\n",
    "def get_points(part):\n",
    "    points = []\n",
    "    y = part[0]\n",
    "    x = part[1]\n",
    "    for i in range(part[2]):\n",
    "        for j in range(part[3]):\n",
    "            points.append((y+i,x+j))\n",
    "    return points\n",
    "            \n",
    "    \n",
    "walkable_points = []\n",
    "for w in chosen_rooms:\n",
    "    walkable_points += get_points(w)\n",
    "walkable_points = set(walkable_points)\n",
    "\n",
    "def create_string(walkable):\n",
    "    string = \"\"\n",
    "    for i in range(grid_size):\n",
    "        for j in range(grid_size):\n",
    "            if (i,j) in walkable:\n",
    "                string += \" \"\n",
    "            else: string += \"#\"\n",
    "        string += \"\\n\"\n",
    "    return string\n",
    "\n",
    "print(create_string(walkable_points))"
   ],
   "metadata": {
    "collapsed": false,
    "pycharm": {
     "name": "#%%\n"
    }
   }
  },
  {
   "cell_type": "code",
   "execution_count": 213,
   "outputs": [],
   "source": [
    "def toG(y,x):\n",
    "    return y-1,x-1\n",
    "def toL(p):\n",
    "    y,x = p\n",
    "    return y+1,x+1\n",
    "def get_room_center(room):\n",
    "    y,x,h,w=room\n",
    "    cy = y + (h//2)\n",
    "    cx = x + (w//2)\n",
    "    return (cy,cx)"
   ],
   "metadata": {
    "collapsed": false,
    "pycharm": {
     "name": "#%%\n"
    }
   }
  },
  {
   "cell_type": "code",
   "execution_count": 214,
   "outputs": [],
   "source": [
    "import numpy as np\n",
    "from scipy.spatial.distance import cdist\n",
    "\n",
    "def get_distance(r1,r2):\n",
    "    A = np.array(get_points(r1))\n",
    "    B = np.array(get_points(r2))\n",
    "    distances = cdist(A, B)\n",
    "    min_distance = np.min(distances)\n",
    "    return min_distance\n",
    "\n",
    "distances = {}\n",
    "for i,r1 in enumerate(chosen_rooms):\n",
    "    for j,r2 in enumerate(chosen_rooms):\n",
    "        if i<j:\n",
    "            distances[(i,j)]=get_distance(r1,r2)\n"
   ],
   "metadata": {
    "collapsed": false,
    "pycharm": {
     "name": "#%%\n"
    }
   }
  },
  {
   "cell_type": "code",
   "execution_count": 215,
   "outputs": [],
   "source": [
    "sorted_pairs=list(sorted(map(lambda x:(x[0],x[1]),distances.items()),key=lambda x:x[1]))"
   ],
   "metadata": {
    "collapsed": false,
    "pycharm": {
     "name": "#%%\n"
    }
   }
  },
  {
   "cell_type": "code",
   "execution_count": 216,
   "outputs": [],
   "source": [
    "import networkx as nx\n",
    "G=nx.grid_graph(dim=[grid_size-2,grid_size-2])\n",
    "\n",
    "for e in G.edges(data=True):\n",
    "    e[2]['weigth']=1\n",
    "for n,d in G.nodes(data=True):\n",
    "    d['taken']=False\n",
    "for y,x in walkable_points:\n",
    "    G.nodes[(y-1,x-1)]['taken']=True\n",
    "\n",
    "def set_weights(G,taken,weigth):\n",
    "    for node in taken:\n",
    "        for k,v in G[node].items(): #edges connected to the node\n",
    "            if G.nodes[k]['taken']==True: #ignore if the node on the other side is already taken\n",
    "                  continue\n",
    "            else:\n",
    "                v['weigth']+=weigth\n",
    "    return G\n",
    "rooms_points =  map(lambda x:x[0],filter(lambda d: d[1]['taken'] == True, G.nodes(data=True)))\n",
    "G = set_weights(G,rooms_points,100)"
   ],
   "metadata": {
    "collapsed": false,
    "pycharm": {
     "name": "#%%\n"
    }
   }
  },
  {
   "cell_type": "code",
   "execution_count": 217,
   "outputs": [],
   "source": [
    "paths = {}\n",
    "for pair,_ in sorted_pairs:\n",
    "    r1 = chosen_rooms[pair[0]]\n",
    "    r2 = chosen_rooms[pair[1]]\n",
    "    c1=get_room_center(r1)\n",
    "    c2=get_room_center(r2)\n",
    "    path=nx.shortest_path(G, source=c1, target=c2, weight='weigth')\n",
    "    paths[pair]=path\n",
    "    for y,x in path:\n",
    "        G.nodes[(y,x)]['taken']=True\n",
    "    G=set_weights(G,path,50)"
   ],
   "metadata": {
    "collapsed": false,
    "pycharm": {
     "name": "#%%\n"
    }
   }
  },
  {
   "cell_type": "code",
   "execution_count": 218,
   "outputs": [
    {
     "data": {
      "text/plain": "{(0, 1): [(19, 15),\n  (20, 15),\n  (21, 15),\n  (22, 15),\n  (23, 15),\n  (24, 15),\n  (25, 15),\n  (26, 15)],\n (3, 4): [(3, 27),\n  (3, 26),\n  (3, 25),\n  (4, 25),\n  (4, 24),\n  (4, 23),\n  (4, 22),\n  (5, 22),\n  (6, 22),\n  (7, 22),\n  (8, 22)],\n (2, 4): [(19, 27),\n  (18, 27),\n  (17, 27),\n  (16, 27),\n  (15, 27),\n  (14, 27),\n  (14, 26),\n  (14, 25),\n  (14, 24),\n  (14, 23),\n  (13, 23),\n  (12, 23),\n  (11, 23),\n  (10, 23),\n  (9, 23),\n  (9, 22),\n  (8, 22)],\n (0, 4): [(19, 15),\n  (18, 15),\n  (17, 15),\n  (16, 15),\n  (15, 15),\n  (14, 15),\n  (13, 15),\n  (12, 15),\n  (11, 15),\n  (10, 15),\n  (9, 15),\n  (9, 16),\n  (9, 17),\n  (9, 18),\n  (8, 18),\n  (8, 19),\n  (8, 20),\n  (8, 21),\n  (8, 22)],\n (0, 2): [(19, 15),\n  (19, 16),\n  (19, 17),\n  (19, 18),\n  (19, 19),\n  (19, 20),\n  (19, 21),\n  (19, 22),\n  (19, 23),\n  (19, 24),\n  (19, 25),\n  (19, 26),\n  (19, 27)],\n (1, 2): [(26, 15),\n  (25, 15),\n  (24, 15),\n  (23, 15),\n  (22, 15),\n  (22, 16),\n  (22, 17),\n  (22, 18),\n  (22, 19),\n  (22, 20),\n  (22, 21),\n  (22, 22),\n  (22, 23),\n  (22, 24),\n  (22, 25),\n  (21, 25),\n  (20, 25),\n  (19, 25),\n  (19, 26),\n  (19, 27)],\n (2, 3): [(19, 27),\n  (18, 27),\n  (17, 27),\n  (16, 27),\n  (15, 27),\n  (14, 27),\n  (13, 27),\n  (12, 27),\n  (11, 27),\n  (10, 27),\n  (9, 27),\n  (8, 27),\n  (7, 27),\n  (6, 27),\n  (5, 27),\n  (4, 27),\n  (3, 27)],\n (1, 4): [(26, 15),\n  (25, 15),\n  (24, 15),\n  (23, 15),\n  (22, 15),\n  (22, 14),\n  (22, 13),\n  (22, 12),\n  (21, 12),\n  (21, 11),\n  (20, 11),\n  (19, 11),\n  (18, 11),\n  (17, 11),\n  (16, 11),\n  (15, 11),\n  (14, 11),\n  (13, 11),\n  (12, 11),\n  (11, 11),\n  (10, 11),\n  (9, 11),\n  (8, 11),\n  (7, 11),\n  (7, 12),\n  (7, 13),\n  (7, 14),\n  (7, 15),\n  (7, 16),\n  (7, 17),\n  (7, 18),\n  (7, 19),\n  (7, 20),\n  (7, 21),\n  (7, 22),\n  (8, 22)],\n (0, 3): [(19, 15),\n  (18, 15),\n  (17, 15),\n  (16, 15),\n  (15, 15),\n  (15, 14),\n  (15, 13),\n  (15, 12),\n  (15, 11),\n  (14, 11),\n  (13, 11),\n  (12, 11),\n  (11, 11),\n  (10, 11),\n  (9, 11),\n  (8, 11),\n  (7, 11),\n  (6, 11),\n  (5, 11),\n  (4, 11),\n  (3, 11),\n  (2, 11),\n  (2, 12),\n  (2, 13),\n  (2, 14),\n  (2, 15),\n  (2, 16),\n  (2, 17),\n  (2, 18),\n  (2, 19),\n  (2, 20),\n  (2, 21),\n  (2, 22),\n  (2, 23),\n  (2, 24),\n  (2, 25),\n  (2, 26),\n  (2, 27),\n  (3, 27)],\n (1, 3): [(26, 15),\n  (25, 15),\n  (24, 15),\n  (23, 15),\n  (23, 14),\n  (23, 13),\n  (23, 12),\n  (23, 11),\n  (22, 11),\n  (22, 10),\n  (21, 10),\n  (20, 10),\n  (19, 10),\n  (18, 10),\n  (17, 10),\n  (16, 10),\n  (15, 10),\n  (14, 10),\n  (13, 10),\n  (12, 10),\n  (11, 10),\n  (10, 10),\n  (9, 10),\n  (8, 10),\n  (7, 10),\n  (6, 10),\n  (5, 10),\n  (4, 10),\n  (3, 10),\n  (2, 10),\n  (1, 10),\n  (1, 11),\n  (1, 12),\n  (1, 13),\n  (1, 14),\n  (1, 15),\n  (1, 16),\n  (1, 17),\n  (1, 18),\n  (1, 19),\n  (1, 20),\n  (1, 21),\n  (1, 22),\n  (1, 23),\n  (1, 24),\n  (1, 25),\n  (1, 26),\n  (1, 27),\n  (2, 27),\n  (3, 27)]}"
     },
     "execution_count": 218,
     "metadata": {},
     "output_type": "execute_result"
    }
   ],
   "source": [
    "paths"
   ],
   "metadata": {
    "collapsed": false,
    "pycharm": {
     "name": "#%%\n"
    }
   }
  },
  {
   "cell_type": "code",
   "execution_count": 219,
   "outputs": [
    {
     "name": "stdout",
     "output_type": "stream",
     "text": [
      "##############################\n",
      "##########################   #\n",
      "##########################   #\n",
      "##########################   #\n",
      "##########################   #\n",
      "###################      #   #\n",
      "###################      #####\n",
      "###################      #####\n",
      "###################      #####\n",
      "###################      #####\n",
      "###################      #####\n",
      "##############################\n",
      "##############################\n",
      "##############################\n",
      "##########################   #\n",
      "##########################   #\n",
      "#############     ########   #\n",
      "#############     ########   #\n",
      "#############     ########   #\n",
      "#############     ########   #\n",
      "#############     ########   #\n",
      "#############     ########   #\n",
      "##########################   #\n",
      "#############     ########   #\n",
      "#############     ############\n",
      "#############     ############\n",
      "#############     ############\n",
      "#############     ############\n",
      "#############     ############\n",
      "##############################\n",
      "\n"
     ]
    }
   ],
   "source": [
    "ix = -1\n",
    "walkable_points1 = set(list(walkable_points) + list(map(toL,paths[sorted_pairs[ix][0]])))\n",
    "print(create_string(walkable_points))"
   ],
   "metadata": {
    "collapsed": false,
    "pycharm": {
     "name": "#%%\n"
    }
   }
  },
  {
   "cell_type": "code",
   "execution_count": null,
   "outputs": [],
   "source": [
    "def get_room_subgraph(graph, room, room_id):\n",
    "    y, x, h, w = room\n",
    "    surrounding_nodes = [(y - 1 + i, x - 1 + j) for i in range(h + 2) for j in range(w + 2) if i in [0, h + 1] or j in [0, w + 1]]\n",
    "    ret = []\n",
    "    for node in surrounding_nodes:\n",
    "        x, y = node\n",
    "        neighbors = [(x + dx, y + dy) for dx, dy in [(1, 0), (-1, 0), (0, 1), (0, -1)]]\n",
    "        for neighbor in neighbors:\n",
    "            if neighbor in surrounding_nodes:\n",
    "                ret.append((node, neighbor))\n",
    "    print(ret)\n",
    "\n",
    "    return ret\n"
   ],
   "metadata": {
    "collapsed": false,
    "pycharm": {
     "name": "#%%\n"
    }
   }
  },
  {
   "cell_type": "code",
   "execution_count": null,
   "outputs": [],
   "source": [
    "get_room_subgraph(G,(1,1,2,2),1)"
   ],
   "metadata": {
    "collapsed": false,
    "pycharm": {
     "name": "#%%\n"
    }
   }
  }
 ],
 "metadata": {
  "kernelspec": {
   "display_name": "Python 3",
   "language": "python",
   "name": "python3"
  },
  "language_info": {
   "codemirror_mode": {
    "name": "ipython",
    "version": 3
   },
   "file_extension": ".py",
   "mimetype": "text/x-python",
   "name": "python",
   "nbconvert_exporter": "python",
   "pygments_lexer": "ipython3",
   "version": "3.7.6"
  }
 },
 "nbformat": 4,
 "nbformat_minor": 4
}