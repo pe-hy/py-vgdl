{
 "cells": [
  {
   "cell_type": "code",
   "execution_count": 1,
   "metadata": {
    "collapsed": false,
    "jupyter": {
     "outputs_hidden": false
    },
    "pycharm": {
     "name": "#%%\n"
    }
   },
   "outputs": [],
   "source": [
    "%load_ext autoreload\n",
    "%autoreload 2\n",
    "import warnings\n",
    "warnings.filterwarnings('ignore')\n",
    "warnings.simplefilter('ignore')\n",
    "import gym\n",
    "import vgdl.interfaces.gym as vdgym\n",
    "import vgdl\n",
    "import numpy as np"
   ]
  },
  {
   "cell_type": "code",
   "execution_count": 2,
   "metadata": {
    "pycharm": {
     "name": "#%%\n"
    }
   },
   "outputs": [],
   "source": [
    "vdgym.register_sample_games()"
   ]
  },
  {
   "cell_type": "code",
   "execution_count": 3,
   "metadata": {
    "pycharm": {
     "name": "#%%\n"
    }
   },
   "outputs": [
    {
     "data": {
      "text/plain": "<module 'vgdl.interfaces.gym.list_space' from 'F:\\\\Download\\\\py-vgdl\\\\vgdl\\\\interfaces\\\\gym\\\\list_space.py'>"
     },
     "execution_count": 3,
     "metadata": {},
     "output_type": "execute_result"
    }
   ],
   "source": [
    "vdgym.list_space"
   ]
  },
  {
   "cell_type": "code",
   "execution_count": 4,
   "metadata": {
    "pycharm": {
     "name": "#%%\n"
    }
   },
   "outputs": [
    {
     "data": {
      "text/plain": "├──CartPole: [ v0, v1 ]\n├──MountainCar: [ v0 ]\n├──MountainCarContinuous: [ v0 ]\n├──Pendulum: [ v1 ]\n├──Acrobot: [ v1 ]\n├──LunarLander: [ v2 ]\n├──LunarLanderContinuous: [ v2 ]\n├──BipedalWalker: [ v3 ]\n├──BipedalWalkerHardcore: [ v3 ]\n├──CarRacing: [ v1 ]\n├──Blackjack: [ v1 ]\n├──FrozenLake: [ v1 ]\n├──FrozenLake8x8: [ v1 ]\n├──CliffWalking: [ v0 ]\n├──Taxi: [ v3 ]\n├──Reacher: [ v2 ]\n├──Pusher: [ v2 ]\n├──InvertedPendulum: [ v2 ]\n├──InvertedDoublePendulum: [ v2 ]\n├──HalfCheetah: [ v2, v3 ]\n├──Hopper: [ v2, v3 ]\n├──Swimmer: [ v2, v3 ]\n├──Walker2d: [ v2, v3 ]\n├──Ant: [ v2, v3 ]\n├──Humanoid: [ v2, v3 ]\n├──HumanoidStandup: [ v2 ]\n├──vgdl_aliens: [ v0 ]\n├──vgdl_aliens_objects: [ v0 ]\n├──vgdl_aliens_features: [ v0 ]\n├──vgdl_boulderdash: [ v0 ]\n├──vgdl_boulderdash_objects: [ v0 ]\n├──vgdl_boulderdash_features: [ v0 ]\n├──vgdl_chase: [ v0 ]\n├──vgdl_chase_objects: [ v0 ]\n├──vgdl_chase_features: [ v0 ]\n├──vgdl_frogs: [ v0 ]\n├──vgdl_frogs_objects: [ v0 ]\n├──vgdl_frogs_features: [ v0 ]\n├──vgdl_missilecommand: [ v0 ]\n├──vgdl_missilecommand_objects: [ v0 ]\n├──vgdl_missilecommand_features: [ v0 ]\n├──vgdl_sokoban: [ v0 ]\n├──vgdl_sokoban_objects: [ v0 ]\n├──vgdl_sokoban_features: [ v0 ]\n├──vgdl_portals: [ v0 ]\n├──vgdl_portals_objects: [ v0 ]\n├──vgdl_portals_features: [ v0 ]\n├──vgdl_survivezombies: [ v0 ]\n├──vgdl_survivezombies_objects: [ v0 ]\n├──vgdl_survivezombies_features: [ v0 ]\n├──vgdl_zelda: [ v0 ]\n├──vgdl_zelda_objects: [ v0 ]\n└──vgdl_zelda_features: [ v0 ]"
     },
     "execution_count": 4,
     "metadata": {},
     "output_type": "execute_result"
    }
   ],
   "source": [
    "gym.envs.registry"
   ]
  },
  {
   "cell_type": "code",
   "execution_count": 5,
   "metadata": {
    "collapsed": false,
    "jupyter": {
     "outputs_hidden": false
    },
    "pycharm": {
     "name": "#%%\n"
    }
   },
   "outputs": [
    {
     "ename": "AttributeError",
     "evalue": "'NoneType' object has no attribute 'get_image'",
     "output_type": "error",
     "traceback": [
      "\u001B[0;31m---------------------------------------------------------------------------\u001B[0m",
      "\u001B[0;31mAttributeError\u001B[0m                            Traceback (most recent call last)",
      "\u001B[0;32m<ipython-input-5-49af5a519a12>\u001B[0m in \u001B[0;36m<module>\u001B[0;34m\u001B[0m\n\u001B[1;32m      1\u001B[0m \u001B[0mgame\u001B[0m \u001B[0;34m=\u001B[0m \u001B[0mgym\u001B[0m\u001B[0;34m.\u001B[0m\u001B[0mmake\u001B[0m\u001B[0;34m(\u001B[0m\u001B[0;34m'vgdl_sokoban-v0'\u001B[0m\u001B[0;34m)\u001B[0m\u001B[0;34m\u001B[0m\u001B[0;34m\u001B[0m\u001B[0m\n\u001B[0;32m----> 2\u001B[0;31m \u001B[0mgame\u001B[0m\u001B[0;34m.\u001B[0m\u001B[0mreset\u001B[0m\u001B[0;34m(\u001B[0m\u001B[0;34m)\u001B[0m\u001B[0;34m\u001B[0m\u001B[0;34m\u001B[0m\u001B[0m\n\u001B[0m",
      "\u001B[0;32m~/miniconda3/envs/fastai/lib/python3.7/site-packages/gym/wrappers/order_enforcing.py\u001B[0m in \u001B[0;36mreset\u001B[0;34m(self, **kwargs)\u001B[0m\n\u001B[1;32m     16\u001B[0m     \u001B[0;32mdef\u001B[0m \u001B[0mreset\u001B[0m\u001B[0;34m(\u001B[0m\u001B[0mself\u001B[0m\u001B[0;34m,\u001B[0m \u001B[0;34m**\u001B[0m\u001B[0mkwargs\u001B[0m\u001B[0;34m)\u001B[0m\u001B[0;34m:\u001B[0m\u001B[0;34m\u001B[0m\u001B[0;34m\u001B[0m\u001B[0m\n\u001B[1;32m     17\u001B[0m         \u001B[0mself\u001B[0m\u001B[0;34m.\u001B[0m\u001B[0m_has_reset\u001B[0m \u001B[0;34m=\u001B[0m \u001B[0;32mTrue\u001B[0m\u001B[0;34m\u001B[0m\u001B[0;34m\u001B[0m\u001B[0m\n\u001B[0;32m---> 18\u001B[0;31m         \u001B[0;32mreturn\u001B[0m \u001B[0mself\u001B[0m\u001B[0;34m.\u001B[0m\u001B[0menv\u001B[0m\u001B[0;34m.\u001B[0m\u001B[0mreset\u001B[0m\u001B[0;34m(\u001B[0m\u001B[0;34m**\u001B[0m\u001B[0mkwargs\u001B[0m\u001B[0;34m)\u001B[0m\u001B[0;34m\u001B[0m\u001B[0;34m\u001B[0m\u001B[0m\n\u001B[0m",
      "\u001B[0;32m~/projects/IRAFM/studentProjects/Hyner/py-vgdl/vgdl/interfaces/gym/env.py\u001B[0m in \u001B[0;36mreset\u001B[0;34m(self)\u001B[0m\n\u001B[1;32m    119\u001B[0m         \u001B[0;31m# self.game = self.game.domain.build_level(self.level_desc)\u001B[0m\u001B[0;34m\u001B[0m\u001B[0;34m\u001B[0m\u001B[0;34m\u001B[0m\u001B[0m\n\u001B[1;32m    120\u001B[0m         \u001B[0mself\u001B[0m\u001B[0;34m.\u001B[0m\u001B[0mscore_last\u001B[0m \u001B[0;34m=\u001B[0m \u001B[0mself\u001B[0m\u001B[0;34m.\u001B[0m\u001B[0mgame\u001B[0m\u001B[0;34m.\u001B[0m\u001B[0mscore\u001B[0m\u001B[0;34m\u001B[0m\u001B[0;34m\u001B[0m\u001B[0m\n\u001B[0;32m--> 121\u001B[0;31m         \u001B[0mstate\u001B[0m \u001B[0;34m=\u001B[0m \u001B[0mself\u001B[0m\u001B[0;34m.\u001B[0m\u001B[0m_get_obs\u001B[0m\u001B[0;34m(\u001B[0m\u001B[0;34m)\u001B[0m\u001B[0;34m\u001B[0m\u001B[0;34m\u001B[0m\u001B[0m\n\u001B[0m\u001B[1;32m    122\u001B[0m         \u001B[0;32mreturn\u001B[0m \u001B[0mstate\u001B[0m\u001B[0;34m\u001B[0m\u001B[0;34m\u001B[0m\u001B[0m\n\u001B[1;32m    123\u001B[0m \u001B[0;34m\u001B[0m\u001B[0m\n",
      "\u001B[0;32m~/projects/IRAFM/studentProjects/Hyner/py-vgdl/vgdl/interfaces/gym/env.py\u001B[0m in \u001B[0;36m_get_obs\u001B[0;34m(self)\u001B[0m\n\u001B[1;32m     97\u001B[0m     \u001B[0;32mdef\u001B[0m \u001B[0m_get_obs\u001B[0m\u001B[0;34m(\u001B[0m\u001B[0mself\u001B[0m\u001B[0;34m)\u001B[0m\u001B[0;34m:\u001B[0m\u001B[0;34m\u001B[0m\u001B[0;34m\u001B[0m\u001B[0m\n\u001B[1;32m     98\u001B[0m         \u001B[0;32mif\u001B[0m \u001B[0mself\u001B[0m\u001B[0;34m.\u001B[0m\u001B[0m_obs_type\u001B[0m \u001B[0;34m==\u001B[0m \u001B[0;34m'image'\u001B[0m\u001B[0;34m:\u001B[0m\u001B[0;34m\u001B[0m\u001B[0;34m\u001B[0m\u001B[0m\n\u001B[0;32m---> 99\u001B[0;31m             \u001B[0;32mreturn\u001B[0m \u001B[0mself\u001B[0m\u001B[0;34m.\u001B[0m\u001B[0mrenderer\u001B[0m\u001B[0;34m.\u001B[0m\u001B[0mget_image\u001B[0m\u001B[0;34m(\u001B[0m\u001B[0;34m)\u001B[0m\u001B[0;34m\u001B[0m\u001B[0;34m\u001B[0m\u001B[0m\n\u001B[0m\u001B[1;32m    100\u001B[0m         \u001B[0;32melse\u001B[0m\u001B[0;34m:\u001B[0m\u001B[0;34m\u001B[0m\u001B[0;34m\u001B[0m\u001B[0m\n\u001B[1;32m    101\u001B[0m             \u001B[0mobservation\u001B[0m \u001B[0;34m=\u001B[0m \u001B[0mself\u001B[0m\u001B[0;34m.\u001B[0m\u001B[0mobserver\u001B[0m\u001B[0;34m.\u001B[0m\u001B[0mget_observation\u001B[0m\u001B[0;34m(\u001B[0m\u001B[0;34m)\u001B[0m\u001B[0;34m\u001B[0m\u001B[0;34m\u001B[0m\u001B[0m\n",
      "\u001B[0;31mAttributeError\u001B[0m: 'NoneType' object has no attribute 'get_image'"
     ]
    }
   ],
   "source": [
    "game = gym.make('vgdl_sokoban-v0')\n",
    "game.reset()"
   ]
  },
  {
   "cell_type": "code",
   "execution_count": 6,
   "metadata": {
    "pycharm": {
     "name": "#%%\n"
    }
   },
   "outputs": [
    {
     "name": "stdout",
     "output_type": "stream",
     "text": [
      "GameState(time=1, score=0, reward=0, ended=False, avatar=(pos=(101, 20), alive=True))\n"
     ]
    }
   ],
   "source": [
    "import gnwrapper\n",
    "import gym\n",
    "\n",
    "env = gnwrapper.Animation(gym.make('vgdl_zelda-v0', obs_type=\"objects\"))\n",
    "env = gym.make('vgdl_zelda-v0', obs_type=\"objects\")\n",
    "env.render()\n",
    "obs = env.reset()\n",
    "\n",
    "for _ in range(1000):\n",
    "    next_obs, reward, done, info = env.step(env.action_space.sample())\n",
    "    env.render()\n",
    "\n",
    "    obs = next_obs\n",
    "    #print(obs.shape)\n",
    "    #print(obs)\n",
    "    #print(env.notable_sprites)\n",
    "    print(env.game.get_game_state())\n",
    "    break\n",
    "\n",
    "    if done:\n",
    "        obs = env.reset()"
   ]
  },
  {
   "cell_type": "code",
   "execution_count": 7,
   "metadata": {
    "collapsed": false,
    "jupyter": {
     "outputs_hidden": false
    },
    "pycharm": {
     "name": "#%%\n"
    }
   },
   "outputs": [
    {
     "name": "stderr",
     "output_type": "stream",
     "text": [
      "/home/jan/miniconda3/envs/fastai/lib/python3.7/site-packages/ipykernel/ipkernel.py:287: DeprecationWarning: `should_run_async` will not call `transform_cell` automatically in the future. Please pass the result to `transformed_cell` argument and any exception that happen during thetransform in `preprocessing_exc_tuple` in IPython 7.17 and above.\n",
      "  and should_run_async(code)\n"
     ]
    }
   ],
   "source": [
    "def get_sprite_positions(data, env):\n",
    "    pos_lst = []\n",
    "    block_size = env.game.block_size\n",
    "    for i in data:\n",
    "        rect = i['state']['rect']\n",
    "        pos = (rect.top, rect.left)\n",
    "        pos_lst.append(pos)\n",
    "\n",
    "    return pos_lst\n"
   ]
  },
  {
   "cell_type": "code",
   "execution_count": 8,
   "metadata": {
    "pycharm": {
     "name": "#%%\n"
    }
   },
   "outputs": [],
   "source": [
    "import itertools\n",
    "import heapq as hq\n",
    "from dataclasses import dataclass, field\n",
    "from typing import Any,List,Tuple\n",
    "\n",
    "@dataclass(order=True)\n",
    "class Subgoal:\n",
    "    priority: int\n",
    "    previous_actions: list\n",
    "    info: Any=field(compare=False)\n",
    "\n",
    "\n",
    "class PriorityQueue:\n",
    "    def __init__(self):\n",
    "        self.elements: List[Subgoal] = []\n",
    "\n",
    "    def empty(self) -> bool:\n",
    "        return not self.elements\n",
    "\n",
    "    def put(self, item: Subgoal):\n",
    "        hq.heappush(self.elements,item)\n",
    "\n",
    "    def get(self) -> Subgoal:\n",
    "        return hq.heappop(self.elements)\n",
    "\n",
    "    def merge(self,items: List):\n",
    "        for item in items:\n",
    "            hq.heappush(self.elements,item)"
   ]
  },
  {
   "cell_type": "code",
   "execution_count": 9,
   "metadata": {
    "pycharm": {
     "name": "#%%\n"
    }
   },
   "outputs": [],
   "source": [
    "from itertools import product\n",
    "import networkx as nx\n",
    "def get_distances(env):\n",
    "    h,w = env.game.height,env.game.width\n",
    "    bs = env.game.block_size\n",
    "    grid = np.zeros((h*bs,w*bs))\n",
    "    for w in env.game.get_game_state().data['sprites']['wall']:\n",
    "        pos = w['state']['rect'].top,w['state']['rect'].left\n",
    "        for i in range(-bs+1,bs):\n",
    "            for j in range(-bs+1,bs):\n",
    "                x = pos[0]+i\n",
    "                y = pos[1]+j\n",
    "                if x>=0 and y>=0:\n",
    "                    grid[x,y]=1\n",
    "    coor = np.array(list(product(*map(range, grid.shape))))\n",
    "    G = nx.grid_2d_graph(*grid.shape)\n",
    "    G.remove_nodes_from(map(tuple, coor[grid.flatten() == 1]))\n",
    "    return dict(nx.all_pairs_shortest_path_length(G))\n"
   ]
  },
  {
   "cell_type": "code",
   "execution_count": 31,
   "metadata": {
    "pycharm": {
     "name": "#%%\n"
    }
   },
   "outputs": [],
   "source": [
    "env = gym.make('vgdl_zelda-v0', obs_type=\"objects\")\n",
    "all_distances = get_distances(env)"
   ]
  },
  {
   "cell_type": "code",
   "execution_count": 38,
   "metadata": {
    "collapsed": false,
    "jupyter": {
     "outputs_hidden": false
    },
    "pycharm": {
     "name": "#%%\n"
    }
   },
   "outputs": [],
   "source": [
    "\n",
    "def evaluate_state(env, distances_dict):\n",
    "    block_size = env.game.block_size\n",
    "    bad_lst = ['monsterQuick', 'monsterNormal', 'monsterSlow']\n",
    "    avatar_name = env.game.get_avatars()[-1].key\n",
    "    if avatar_name=='withkey2':\n",
    "        sub_goal = 'goal'\n",
    "    else:\n",
    "        sub_goal = 'key'\n",
    "    bad_pos_lst = []\n",
    "    pos = env.game.get_game_state().data['sprites'][sub_goal]\n",
    "    sub_goal_pos_lst = get_sprite_positions(pos, env)\n",
    "    rect = env.game.get_avatars()[-1].rect\n",
    "    agent_pos = rect.top, rect.left \n",
    "    print(agent_pos)\n",
    "    for i in bad_lst:\n",
    "        pos = env.game.get_game_state().data['sprites'][i]\n",
    "        bad_pos_lst += get_sprite_positions(pos, env)\n",
    "    sub_goal_distances = []\n",
    "    for i in sub_goal_pos_lst:\n",
    "        if i in distances_dict[agent_pos]:\n",
    "            sub_goal_distances.append(distances_dict[agent_pos][i])\n",
    "    enemy_distances = [40]\n",
    "    for i in bad_pos_lst:\n",
    "        if i in distances_dict[agent_pos]:\n",
    "            enemy_distances.append(distances_dict[agent_pos][i])\n",
    "            \n",
    "\n",
    "    min_sub_goal_dist = min(sub_goal_distances)\n",
    "    min_enemy_dist = min(enemy_distances)\n",
    "    if min_enemy_dist<15:\n",
    "        score = 10**6\n",
    "    else: score = 2*min_sub_goal_dist - min_enemy_dist\n",
    "\n",
    "\n",
    "    return score, min_sub_goal_dist,min_enemy_dist"
   ]
  },
  {
   "cell_type": "code",
   "execution_count": 42,
   "metadata": {
    "collapsed": true,
    "jupyter": {
     "outputs_hidden": true
    },
    "pycharm": {
     "name": "#%%\n"
    }
   },
   "outputs": [
    {
     "name": "stdout",
     "output_type": "stream",
     "text": [
      "(10, 20)\n",
      "160 100 40\n",
      "(11, 20)\n",
      "162 101 40\n",
      "(10, 19)\n",
      "162 101 40\n",
      "(10, 21)\n",
      "158 99 40\n",
      "(10, 20)\n",
      "160 100 40\n",
      "(10, 21)\n",
      "158 99 40\n",
      "(10, 21)\n",
      "158 99 40\n",
      "(10, 20)\n",
      "160 100 40\n",
      "(10, 22)\n",
      "156 98 40\n",
      "(10, 21)\n",
      "158 99 40\n",
      "(10, 22)\n",
      "156 98 40\n",
      "(10, 22)\n",
      "156 98 40\n",
      "(10, 21)\n",
      "158 99 40\n",
      "(10, 23)\n",
      "154 97 40\n",
      "(10, 22)\n",
      "156 98 40\n",
      "(10, 23)\n",
      "154 97 40\n",
      "(10, 23)\n",
      "154 97 40\n",
      "(10, 22)\n",
      "156 98 40\n",
      "(10, 24)\n",
      "152 96 40\n",
      "(10, 23)\n",
      "154 97 40\n",
      "(10, 24)\n",
      "152 96 40\n",
      "(10, 24)\n",
      "152 96 40\n",
      "(10, 23)\n",
      "154 97 40\n",
      "(10, 25)\n",
      "150 95 40\n",
      "(10, 24)\n",
      "152 96 40\n",
      "(10, 25)\n",
      "150 95 40\n",
      "(10, 25)\n",
      "150 95 40\n",
      "(10, 24)\n",
      "152 96 40\n",
      "(10, 26)\n",
      "148 94 40\n",
      "(10, 25)\n",
      "150 95 40\n",
      "(10, 26)\n",
      "148 94 40\n",
      "(10, 26)\n",
      "148 94 40\n",
      "(10, 25)\n",
      "150 95 40\n",
      "(10, 27)\n",
      "146 93 40\n",
      "(10, 26)\n",
      "148 94 40\n",
      "(10, 27)\n",
      "146 93 40\n",
      "(10, 27)\n",
      "146 93 40\n",
      "(10, 26)\n",
      "148 94 40\n",
      "(10, 28)\n",
      "144 92 40\n",
      "(10, 27)\n",
      "146 93 40\n",
      "(10, 28)\n",
      "144 92 40\n",
      "(10, 28)\n",
      "144 92 40\n",
      "(10, 27)\n",
      "146 93 40\n",
      "(10, 29)\n",
      "142 91 40\n",
      "(10, 28)\n",
      "144 92 40\n",
      "(10, 29)\n",
      "142 91 40\n",
      "(10, 29)\n",
      "142 91 40\n",
      "(10, 28)\n",
      "144 92 40\n",
      "(10, 30)\n",
      "140 90 40\n",
      "(10, 29)\n",
      "142 91 40\n",
      "(10, 30)\n",
      "140 90 40\n",
      "(10, 30)\n",
      "140 90 40\n",
      "(10, 29)\n",
      "142 91 40\n",
      "(10, 31)\n",
      "138 89 40\n",
      "(10, 30)\n",
      "140 90 40\n",
      "(10, 31)\n",
      "138 89 40\n",
      "(10, 31)\n",
      "138 89 40\n",
      "(10, 30)\n",
      "140 90 40\n",
      "(10, 32)\n",
      "136 88 40\n",
      "(10, 31)\n",
      "138 89 40\n",
      "(10, 32)\n",
      "136 88 40\n",
      "(10, 32)\n",
      "136 88 40\n",
      "(10, 31)\n",
      "138 89 40\n",
      "(10, 33)\n",
      "134 87 40\n",
      "(10, 32)\n",
      "136 88 40\n",
      "(10, 33)\n",
      "134 87 40\n",
      "(10, 33)\n",
      "134 87 40\n",
      "(10, 32)\n",
      "136 88 40\n",
      "(10, 34)\n",
      "132 86 40\n",
      "(10, 33)\n",
      "134 87 40\n",
      "(10, 34)\n",
      "132 86 40\n",
      "(10, 34)\n",
      "132 86 40\n",
      "(10, 33)\n",
      "134 87 40\n",
      "(10, 35)\n",
      "130 85 40\n",
      "(10, 34)\n",
      "132 86 40\n",
      "(10, 35)\n",
      "130 85 40\n",
      "(10, 35)\n",
      "130 85 40\n",
      "(10, 34)\n",
      "132 86 40\n",
      "(10, 36)\n",
      "128 84 40\n",
      "(10, 35)\n",
      "130 85 40\n",
      "(10, 36)\n",
      "128 84 40\n",
      "(10, 36)\n",
      "128 84 40\n",
      "(10, 35)\n",
      "130 85 40\n",
      "(10, 37)\n",
      "126 83 40\n",
      "(10, 36)\n",
      "128 84 40\n",
      "(10, 37)\n",
      "126 83 40\n",
      "(10, 37)\n",
      "126 83 40\n",
      "(10, 36)\n",
      "128 84 40\n",
      "(10, 38)\n",
      "124 82 40\n",
      "(10, 37)\n",
      "126 83 40\n",
      "(10, 38)\n",
      "124 82 40\n",
      "(10, 38)\n",
      "124 82 40\n",
      "(10, 37)\n",
      "126 83 40\n",
      "(10, 39)\n",
      "122 81 40\n",
      "(10, 38)\n",
      "124 82 40\n",
      "(10, 39)\n",
      "122 81 40\n",
      "(10, 39)\n",
      "122 81 40\n",
      "(10, 38)\n",
      "124 82 40\n",
      "(10, 40)\n",
      "120 80 40\n",
      "(10, 39)\n",
      "122 81 40\n",
      "(10, 40)\n",
      "120 80 40\n",
      "(11, 40)\n",
      "119 79 39\n",
      "(10, 39)\n",
      "122 81 40\n",
      "(10, 41)\n",
      "119 79 39\n",
      "(10, 40)\n",
      "120 80 40\n",
      "(12, 40)\n",
      "118 78 38\n",
      "(11, 40)\n",
      "119 79 39\n",
      "(11, 41)\n",
      "118 78 38\n",
      "(11, 40)\n",
      "119 79 39\n",
      "(11, 40)\n",
      "119 79 39\n",
      "(13, 40)\n",
      "117 77 37\n",
      "(12, 40)\n",
      "118 78 38\n",
      "(12, 41)\n",
      "117 77 37\n",
      "(12, 40)\n",
      "118 78 38\n",
      "(12, 40)\n",
      "118 78 38\n",
      "(14, 40)\n",
      "116 76 36\n",
      "(13, 40)\n",
      "117 77 37\n",
      "(13, 41)\n",
      "116 76 36\n",
      "(13, 40)\n",
      "117 77 37\n",
      "(13, 40)\n",
      "117 77 37\n",
      "(15, 40)\n",
      "115 75 35\n",
      "(14, 40)\n",
      "116 76 36\n",
      "(14, 41)\n",
      "115 75 35\n",
      "(14, 40)\n",
      "116 76 36\n",
      "(14, 40)\n",
      "116 76 36\n",
      "(16, 40)\n",
      "114 74 34\n",
      "(15, 40)\n",
      "115 75 35\n",
      "(15, 41)\n",
      "114 74 34\n",
      "(15, 40)\n",
      "115 75 35\n",
      "(15, 40)\n",
      "115 75 35\n",
      "(17, 40)\n",
      "113 73 33\n",
      "(16, 40)\n",
      "114 74 34\n",
      "(16, 41)\n",
      "113 73 33\n",
      "(16, 40)\n",
      "114 74 34\n",
      "(16, 40)\n",
      "114 74 34\n",
      "(18, 40)\n",
      "112 72 32\n",
      "(17, 40)\n",
      "113 73 33\n",
      "(17, 41)\n",
      "112 72 32\n",
      "(17, 40)\n",
      "113 73 33\n",
      "(17, 40)\n",
      "113 73 33\n",
      "(19, 40)\n",
      "111 71 31\n",
      "(18, 40)\n",
      "112 72 32\n",
      "(18, 41)\n",
      "111 71 31\n",
      "(18, 40)\n",
      "112 72 32\n",
      "(18, 40)\n",
      "112 72 32\n",
      "(20, 40)\n",
      "110 70 30\n",
      "(19, 40)\n",
      "111 71 31\n",
      "(19, 41)\n",
      "110 70 30\n",
      "(19, 40)\n",
      "111 71 31\n",
      "(19, 40)\n",
      "111 71 31\n",
      "(20, 40)\n",
      "110 70 30\n",
      "(20, 41)\n",
      "109 69 29\n",
      "(20, 40)\n",
      "110 70 30\n",
      "(19, 41)\n",
      "110 70 30\n",
      "(20, 41)\n",
      "109 69 29\n",
      "(20, 42)\n",
      "108 68 28\n",
      "(20, 41)\n",
      "109 69 29\n",
      "(19, 42)\n",
      "109 69 29\n",
      "(20, 42)\n",
      "108 68 28\n",
      "(20, 41)\n",
      "109 69 29\n",
      "(20, 43)\n",
      "107 67 27\n",
      "(20, 42)\n",
      "108 68 28\n",
      "(19, 43)\n",
      "108 68 28\n",
      "(20, 43)\n",
      "107 67 27\n",
      "(20, 42)\n",
      "108 68 28\n",
      "(20, 44)\n",
      "106 66 26\n",
      "(20, 43)\n",
      "107 67 27\n",
      "(19, 44)\n",
      "107 67 27\n",
      "(20, 44)\n",
      "106 66 26\n",
      "(20, 43)\n",
      "107 67 27\n",
      "(20, 45)\n",
      "105 65 25\n",
      "(20, 44)\n",
      "106 66 26\n",
      "(19, 45)\n",
      "106 66 26\n",
      "(20, 45)\n",
      "105 65 25\n",
      "(20, 44)\n",
      "106 66 26\n",
      "(20, 46)\n",
      "104 64 24\n",
      "(20, 45)\n",
      "105 65 25\n",
      "(19, 46)\n",
      "105 65 25\n",
      "(20, 46)\n",
      "104 64 24\n",
      "(20, 45)\n",
      "105 65 25\n",
      "(20, 47)\n",
      "103 63 23\n",
      "(20, 46)\n",
      "104 64 24\n",
      "(19, 47)\n",
      "104 64 24\n",
      "(20, 47)\n",
      "103 63 23\n",
      "(20, 46)\n",
      "104 64 24\n",
      "(20, 48)\n",
      "102 62 22\n",
      "(20, 47)\n",
      "103 63 23\n",
      "(19, 48)\n",
      "103 63 23\n",
      "(20, 48)\n",
      "102 62 22\n",
      "(20, 47)\n",
      "103 63 23\n",
      "(20, 49)\n",
      "101 61 21\n",
      "(20, 48)\n",
      "102 62 22\n",
      "(19, 49)\n",
      "102 62 22\n",
      "(20, 49)\n",
      "101 61 21\n",
      "(20, 48)\n",
      "102 62 22\n",
      "(20, 50)\n",
      "100 60 20\n",
      "(20, 49)\n",
      "101 61 21\n",
      "(19, 50)\n",
      "101 61 21\n",
      "(21, 50)\n",
      "103 61 19\n",
      "(20, 49)\n",
      "101 61 21\n",
      "(20, 51)\n",
      "97 59 21\n",
      "(20, 50)\n",
      "100 60 20\n",
      "(19, 51)\n",
      "98 60 22\n",
      "(21, 51)\n",
      "100 60 20\n",
      "(20, 50)\n",
      "100 60 20\n",
      "(20, 52)\n",
      "94 58 22\n",
      "(20, 51)\n",
      "97 59 21\n",
      "(19, 52)\n",
      "95 59 23\n",
      "(21, 52)\n",
      "97 59 21\n",
      "(20, 51)\n",
      "97 59 21\n",
      "(20, 53)\n",
      "91 57 23\n",
      "(20, 52)\n",
      "94 58 22\n",
      "(19, 53)\n",
      "92 58 24\n",
      "(21, 53)\n",
      "94 58 22\n",
      "(20, 52)\n",
      "94 58 22\n",
      "(20, 54)\n",
      "88 56 24\n",
      "(20, 53)\n",
      "91 57 23\n",
      "(19, 54)\n",
      "89 57 25\n",
      "(21, 54)\n",
      "91 57 23\n",
      "(20, 53)\n",
      "91 57 23\n",
      "(20, 55)\n",
      "85 55 25\n",
      "(20, 54)\n",
      "88 56 24\n",
      "(19, 55)\n",
      "86 56 26\n",
      "(21, 55)\n",
      "88 56 24\n",
      "(20, 54)\n",
      "88 56 24\n",
      "(20, 56)\n",
      "82 54 26\n",
      "(20, 55)\n",
      "85 55 25\n",
      "(19, 56)\n",
      "83 55 27\n",
      "(21, 56)\n",
      "85 55 25\n",
      "(20, 55)\n",
      "85 55 25\n",
      "(20, 57)\n",
      "79 53 27\n",
      "(20, 56)\n",
      "82 54 26\n",
      "(19, 57)\n",
      "80 54 28\n",
      "(21, 57)\n",
      "82 54 26\n",
      "(20, 56)\n",
      "82 54 26\n",
      "(20, 58)\n",
      "76 52 28\n",
      "(20, 57)\n",
      "79 53 27\n",
      "(19, 58)\n",
      "77 53 29\n",
      "(21, 58)\n",
      "79 53 27\n",
      "(20, 57)\n",
      "79 53 27\n",
      "(20, 59)\n",
      "73 51 29\n",
      "(20, 58)\n",
      "76 52 28\n",
      "(19, 59)\n",
      "74 52 30\n",
      "(21, 59)\n",
      "76 52 28\n",
      "(20, 58)\n",
      "76 52 28\n",
      "(20, 60)\n",
      "70 50 30\n",
      "(20, 59)\n",
      "73 51 29\n",
      "(19, 60)\n",
      "71 51 31\n",
      "(21, 60)\n",
      "73 51 29\n",
      "(20, 59)\n",
      "73 51 29\n",
      "(20, 61)\n",
      "67 49 31\n",
      "(20, 60)\n",
      "70 50 30\n",
      "(19, 61)\n",
      "68 50 32\n",
      "(21, 61)\n",
      "70 50 30\n",
      "(20, 60)\n",
      "70 50 30\n",
      "(20, 62)\n",
      "64 48 32\n",
      "(20, 61)\n",
      "67 49 31\n",
      "(19, 62)\n",
      "65 49 33\n",
      "(21, 62)\n",
      "67 49 31\n",
      "(20, 61)\n",
      "67 49 31\n",
      "(20, 63)\n",
      "61 47 33\n",
      "(20, 62)\n",
      "64 48 32\n",
      "(19, 63)\n",
      "62 48 34\n",
      "(21, 63)\n",
      "64 48 32\n",
      "(20, 62)\n",
      "64 48 32\n",
      "(20, 64)\n",
      "58 46 34\n",
      "(20, 63)\n",
      "61 47 33\n",
      "(19, 64)\n",
      "59 47 35\n",
      "(21, 64)\n",
      "61 47 33\n",
      "(20, 63)\n",
      "61 47 33\n",
      "(20, 65)\n",
      "55 45 35\n",
      "(20, 64)\n",
      "58 46 34\n",
      "(19, 65)\n",
      "56 46 36\n",
      "(21, 65)\n",
      "58 46 34\n",
      "(20, 64)\n",
      "58 46 34\n",
      "(20, 66)\n",
      "52 44 36\n",
      "(20, 65)\n",
      "55 45 35\n",
      "(19, 66)\n",
      "53 45 37\n",
      "(21, 66)\n",
      "55 45 35\n",
      "(20, 65)\n",
      "55 45 35\n",
      "(20, 67)\n",
      "49 43 37\n",
      "(20, 66)\n",
      "52 44 36\n",
      "(19, 67)\n",
      "50 44 38\n",
      "(21, 67)\n",
      "52 44 36\n",
      "(20, 66)\n",
      "52 44 36\n",
      "(20, 68)\n",
      "46 42 38\n",
      "(20, 67)\n",
      "49 43 37\n",
      "(19, 68)\n",
      "47 43 39\n",
      "(21, 68)\n",
      "49 43 37\n",
      "(20, 67)\n",
      "49 43 37\n",
      "(20, 69)\n",
      "43 41 39\n",
      "(20, 68)\n",
      "46 42 38\n",
      "(19, 69)\n",
      "44 42 40\n",
      "(21, 69)\n",
      "46 42 38\n",
      "(20, 68)\n",
      "46 42 38\n",
      "(20, 70)\n",
      "40 40 40\n",
      "(20, 69)\n",
      "43 41 39\n",
      "(19, 70)\n",
      "42 41 40\n",
      "(21, 70)\n",
      "43 41 39\n",
      "(20, 69)\n",
      "43 41 39\n",
      "(20, 71)\n",
      "38 39 40\n",
      "(20, 70)\n",
      "40 40 40\n",
      "(19, 71)\n",
      "40 40 40\n",
      "(20, 71)\n",
      "38 39 40\n",
      "(20, 70)\n",
      "40 40 40\n",
      "(20, 72)\n",
      "36 38 40\n",
      "(20, 71)\n",
      "38 39 40\n",
      "(19, 72)\n",
      "38 39 40\n",
      "(20, 72)\n",
      "36 38 40\n",
      "(20, 71)\n",
      "38 39 40\n",
      "(20, 73)\n",
      "34 37 40\n",
      "(20, 72)\n",
      "36 38 40\n",
      "(19, 73)\n",
      "36 38 40\n",
      "(20, 73)\n",
      "34 37 40\n",
      "(20, 72)\n",
      "36 38 40\n",
      "(20, 74)\n",
      "32 36 40\n",
      "(20, 73)\n",
      "34 37 40\n",
      "(19, 74)\n",
      "34 37 40\n",
      "(20, 74)\n",
      "32 36 40\n",
      "(20, 73)\n",
      "34 37 40\n",
      "(20, 75)\n",
      "30 35 40\n",
      "(20, 74)\n",
      "32 36 40\n",
      "(19, 75)\n",
      "32 36 40\n",
      "(20, 75)\n",
      "30 35 40\n",
      "(20, 74)\n",
      "32 36 40\n",
      "(20, 76)\n",
      "28 34 40\n",
      "(20, 75)\n",
      "30 35 40\n",
      "(19, 76)\n",
      "30 35 40\n",
      "(20, 76)\n",
      "28 34 40\n",
      "(20, 75)\n",
      "30 35 40\n",
      "(20, 77)\n",
      "26 33 40\n",
      "(20, 76)\n",
      "28 34 40\n",
      "(19, 77)\n",
      "28 34 40\n",
      "(20, 77)\n",
      "26 33 40\n",
      "(20, 76)\n",
      "28 34 40\n",
      "(20, 78)\n",
      "24 32 40\n",
      "(20, 77)\n",
      "26 33 40\n",
      "(19, 78)\n",
      "26 33 40\n",
      "(20, 78)\n",
      "24 32 40\n",
      "(20, 77)\n",
      "26 33 40\n",
      "(20, 79)\n",
      "22 31 40\n",
      "(20, 78)\n",
      "24 32 40\n",
      "(19, 79)\n",
      "24 32 40\n",
      "(20, 79)\n",
      "22 31 40\n",
      "(20, 78)\n",
      "24 32 40\n",
      "(20, 80)\n",
      "20 30 40\n",
      "(20, 79)\n",
      "22 31 40\n",
      "(19, 80)\n",
      "22 31 40\n",
      "(20, 80)\n",
      "20 30 40\n",
      "(20, 79)\n",
      "22 31 40\n",
      "(20, 81)\n",
      "18 29 40\n",
      "(20, 80)\n",
      "20 30 40\n",
      "(20, 81)\n",
      "18 29 40\n",
      "(20, 81)\n",
      "18 29 40\n",
      "(20, 80)\n",
      "20 30 40\n",
      "(20, 82)\n",
      "16 28 40\n",
      "(20, 81)\n",
      "18 29 40\n",
      "(20, 82)\n",
      "16 28 40\n",
      "(20, 82)\n",
      "16 28 40\n",
      "(20, 81)\n",
      "18 29 40\n",
      "(20, 83)\n",
      "14 27 40\n",
      "(20, 82)\n",
      "16 28 40\n",
      "(20, 83)\n",
      "14 27 40\n",
      "(20, 83)\n",
      "14 27 40\n",
      "(20, 82)\n",
      "16 28 40\n",
      "(20, 84)\n",
      "12 26 40\n",
      "(20, 83)\n",
      "14 27 40\n",
      "(20, 84)\n",
      "12 26 40\n",
      "(20, 84)\n",
      "12 26 40\n",
      "(20, 83)\n",
      "14 27 40\n",
      "(20, 85)\n",
      "10 25 40\n",
      "(20, 84)\n",
      "12 26 40\n",
      "(20, 85)\n",
      "10 25 40\n",
      "(20, 85)\n",
      "10 25 40\n",
      "(20, 84)\n",
      "12 26 40\n",
      "(20, 86)\n",
      "8 24 40\n",
      "(20, 85)\n",
      "10 25 40\n",
      "(20, 86)\n",
      "8 24 40\n",
      "(20, 86)\n",
      "8 24 40\n",
      "(20, 85)\n",
      "10 25 40\n",
      "(20, 87)\n",
      "6 23 40\n",
      "(20, 86)\n",
      "8 24 40\n",
      "(20, 87)\n",
      "6 23 40\n",
      "(20, 87)\n",
      "6 23 40\n",
      "(20, 86)\n",
      "8 24 40\n",
      "(20, 88)\n",
      "4 22 40\n",
      "(20, 87)\n",
      "6 23 40\n",
      "(20, 88)\n",
      "4 22 40\n",
      "(20, 88)\n",
      "4 22 40\n",
      "(20, 87)\n",
      "6 23 40\n",
      "(20, 89)\n",
      "2 21 40\n",
      "(20, 88)\n",
      "4 22 40\n",
      "(20, 89)\n",
      "2 21 40\n",
      "(20, 89)\n",
      "2 21 40\n",
      "(20, 88)\n",
      "4 22 40\n",
      "(20, 90)\n",
      "0 20 40\n",
      "(20, 89)\n",
      "2 21 40\n",
      "(20, 90)\n",
      "0 20 40\n",
      "(21, 90)\n",
      "-2 19 40\n",
      "(20, 89)\n",
      "2 21 40\n",
      "(20, 91)\n",
      "-2 19 40\n",
      "(20, 90)\n",
      "0 20 40\n",
      "(22, 90)\n",
      "-4 18 40\n",
      "(21, 90)\n",
      "-2 19 40\n",
      "(21, 91)\n"
     ]
    },
    {
     "ename": "NameError",
     "evalue": "name 'kk' is not defined",
     "output_type": "error",
     "traceback": [
      "\u001B[0;31m---------------------------------------------------------------------------\u001B[0m",
      "\u001B[0;31mNameError\u001B[0m                                 Traceback (most recent call last)",
      "\u001B[0;32m<ipython-input-42-f55cd97c3e61>\u001B[0m in \u001B[0;36m<module>\u001B[0;34m\u001B[0m\n\u001B[1;32m     45\u001B[0m         \u001B[0;32mif\u001B[0m \u001B[0mlen\u001B[0m\u001B[0;34m(\u001B[0m\u001B[0menv\u001B[0m\u001B[0;34m.\u001B[0m\u001B[0mgame\u001B[0m\u001B[0;34m.\u001B[0m\u001B[0mget_avatars\u001B[0m\u001B[0;34m(\u001B[0m\u001B[0;34m)\u001B[0m\u001B[0;34m)\u001B[0m\u001B[0;34m==\u001B[0m\u001B[0;36m2\u001B[0m \u001B[0;32mand\u001B[0m \u001B[0;32mnot\u001B[0m \u001B[0mswitched\u001B[0m\u001B[0;34m:\u001B[0m\u001B[0;34m\u001B[0m\u001B[0;34m\u001B[0m\u001B[0m\n\u001B[1;32m     46\u001B[0m             \u001B[0mfrontier\u001B[0m \u001B[0;34m=\u001B[0m \u001B[0mPriorityQueue\u001B[0m\u001B[0;34m(\u001B[0m\u001B[0;34m)\u001B[0m\u001B[0;34m\u001B[0m\u001B[0;34m\u001B[0m\u001B[0m\n\u001B[0;32m---> 47\u001B[0;31m             \u001B[0mprint\u001B[0m\u001B[0;34m(\u001B[0m\u001B[0mkk\u001B[0m\u001B[0;34m)\u001B[0m\u001B[0;34m\u001B[0m\u001B[0;34m\u001B[0m\u001B[0m\n\u001B[0m\u001B[1;32m     48\u001B[0m             \u001B[0mseen_states\u001B[0m \u001B[0;34m=\u001B[0m \u001B[0;34m{\u001B[0m\u001B[0mnew_state\u001B[0m\u001B[0;34m}\u001B[0m\u001B[0;34m\u001B[0m\u001B[0;34m\u001B[0m\u001B[0m\n\u001B[1;32m     49\u001B[0m             \u001B[0mswitched\u001B[0m \u001B[0;34m=\u001B[0m \u001B[0;32mTrue\u001B[0m\u001B[0;34m\u001B[0m\u001B[0;34m\u001B[0m\u001B[0m\n",
      "\u001B[0;31mNameError\u001B[0m: name 'kk' is not defined"
     ]
    }
   ],
   "source": [
    "env = gym.make('vgdl_zelda-v0', obs_type=\"objects\")\n",
    "obs = env.reset()\n",
    "first_state_info = env.game.get_game_state()\n",
    "first_state = Subgoal(priority=0, previous_actions=[],\\\n",
    "                      info=first_state_info)\n",
    "frontier = PriorityQueue()\n",
    "frontier.put(first_state)\n",
    "\n",
    "def visualize_actions(action_list, current_state):\n",
    "    env = gnwrapper.Animation(gym.make('vgdl_zelda-v0', obs_type=\"objects\"))\n",
    "    env.reset()\n",
    "    env.game.set_game_state(current_state)\n",
    "    print(current_state.keys())\n",
    "    for i in action_list:\n",
    "        next_obs, reward, done, info = env.step(i)\n",
    "        env.render()\n",
    "    return env\n",
    "seen_states = {first_state_info}\n",
    "switched = False\n",
    "done = False\n",
    "for i in range(1000):\n",
    "    if done:\n",
    "        break\n",
    "    if len(frontier.elements)==0:\n",
    "        #print(f\"no more subgoals on {i}th iteration\")\n",
    "        break\n",
    "    #else: print('frontier size:',len(frontier.elements))\n",
    "    current = frontier.get()\n",
    "    state = current.info\n",
    "    env.game.set_game_state(state)\n",
    "    for i, a in enumerate(env.game.get_possible_actions()):\n",
    "        next_obs, reward, done, info = env.step(i)\n",
    "        if not env.game.get_game_state().avatar_state['state']['alive']:\n",
    "            env.game.set_game_state(state)\n",
    "            print('death',\"*\"*20)\n",
    "            continue # here should be continue...check for win \n",
    "        new_state = env.game.get_game_state()\n",
    "        \n",
    "        if new_state in seen_states:\n",
    "            env.game.set_game_state(state)\n",
    "            continue\n",
    "        seen_states.add(new_state)\n",
    "        actions = current.previous_actions+[i]\n",
    "        score, min_subgoal,min_enemy = evaluate_state(env, all_distances)\n",
    "        if len(env.game.get_avatars())==2 and not switched:\n",
    "            frontier = PriorityQueue()\n",
    "            print(kk)\n",
    "            seen_states = {new_state}\n",
    "            switched = True\n",
    "            new_goal = Subgoal(score, actions, new_state)\n",
    "            frontier.put(new_goal)\n",
    "            print(\"*\"*50)\n",
    "            break\n",
    "        else:\n",
    "            print(score,min_subgoal,min_enemy)\n",
    "            new_goal = Subgoal(score, actions, new_state)\n",
    "            frontier.put(new_goal)\n",
    "            env.game.set_game_state(state)\n",
    "        if env.game.get_game_state().ended():\n",
    "            tmp_state = new_goal\n",
    "            print('done','*'*20)\n",
    "            done=True\n",
    "            break\n",
    "        \n",
    "#tmp_state = frontier.get()\n",
    "#tmp_state = frontier.get()\n",
    "#print(tmp_state.previous_actions)\n",
    "#env = visualize_actions(tmp_state.previous_actions, first_state_info)"
   ]
  },
  {
   "cell_type": "code",
   "execution_count": 43,
   "metadata": {
    "pycharm": {
     "name": "#%%\n"
    }
   },
   "outputs": [
    {
     "name": "stdout",
     "output_type": "stream",
     "text": [
      "> \u001B[0;32m<ipython-input-42-f55cd97c3e61>\u001B[0m(47)\u001B[0;36m<module>\u001B[0;34m()\u001B[0m\n",
      "\u001B[0;32m     45 \u001B[0;31m        \u001B[0;32mif\u001B[0m \u001B[0mlen\u001B[0m\u001B[0;34m(\u001B[0m\u001B[0menv\u001B[0m\u001B[0;34m.\u001B[0m\u001B[0mgame\u001B[0m\u001B[0;34m.\u001B[0m\u001B[0mget_avatars\u001B[0m\u001B[0;34m(\u001B[0m\u001B[0;34m)\u001B[0m\u001B[0;34m)\u001B[0m\u001B[0;34m==\u001B[0m\u001B[0;36m2\u001B[0m \u001B[0;32mand\u001B[0m \u001B[0;32mnot\u001B[0m \u001B[0mswitched\u001B[0m\u001B[0;34m:\u001B[0m\u001B[0;34m\u001B[0m\u001B[0;34m\u001B[0m\u001B[0m\n",
      "\u001B[0m\u001B[0;32m     46 \u001B[0;31m            \u001B[0mfrontier\u001B[0m \u001B[0;34m=\u001B[0m \u001B[0mPriorityQueue\u001B[0m\u001B[0;34m(\u001B[0m\u001B[0;34m)\u001B[0m\u001B[0;34m\u001B[0m\u001B[0;34m\u001B[0m\u001B[0m\n",
      "\u001B[0m\u001B[0;32m---> 47 \u001B[0;31m            \u001B[0mprint\u001B[0m\u001B[0;34m(\u001B[0m\u001B[0mkk\u001B[0m\u001B[0;34m)\u001B[0m\u001B[0;34m\u001B[0m\u001B[0;34m\u001B[0m\u001B[0m\n",
      "\u001B[0m\u001B[0;32m     48 \u001B[0;31m            \u001B[0mseen_states\u001B[0m \u001B[0;34m=\u001B[0m \u001B[0;34m{\u001B[0m\u001B[0mnew_state\u001B[0m\u001B[0;34m}\u001B[0m\u001B[0;34m\u001B[0m\u001B[0;34m\u001B[0m\u001B[0m\n",
      "\u001B[0m\u001B[0;32m     49 \u001B[0;31m            \u001B[0mswitched\u001B[0m \u001B[0;34m=\u001B[0m \u001B[0;32mTrue\u001B[0m\u001B[0;34m\u001B[0m\u001B[0;34m\u001B[0m\u001B[0m\n",
      "\u001B[0m\n"
     ]
    },
    {
     "name": "stdin",
     "output_type": "stream",
     "text": [
      "ipdb>  env.game.get_avatars()\n"
     ]
    },
    {
     "name": "stdout",
     "output_type": "stream",
     "text": [
      "[nokey `nokey.1` at (91, 21), withkey2 `withkey2.1` at (91, 21)]\n"
     ]
    },
    {
     "name": "stdin",
     "output_type": "stream",
     "text": [
      "ipdb>  env.game.get_avatars()[1]\n"
     ]
    },
    {
     "name": "stdout",
     "output_type": "stream",
     "text": [
      "withkey2 `withkey2.1` at (91, 21)\n"
     ]
    },
    {
     "name": "stdin",
     "output_type": "stream",
     "text": [
      "ipdb>  dir(env.game.get_avatars()[1])\n"
     ]
    },
    {
     "name": "stdout",
     "output_type": "stream",
     "text": [
      "['COLOR_DISC', '__class__', '__delattr__', '__dict__', '__dir__', '__doc__', '__eq__', '__format__', '__ge__', '__getattribute__', '__gt__', '__hash__', '__init__', '__init_subclass__', '__le__', '__lt__', '__module__', '__ne__', '__new__', '__reduce__', '__reduce_ex__', '__repr__', '__setattr__', '__sizeof__', '__str__', '__subclasshook__', '__weakref__', '_draw', '_effect_data', '_has_ammo', '_read_action', '_shoot', '_shoot_directions', '_spend_ammo', '_update_position', 'alive', 'alternate_keys', 'ammo', 'color', 'cooldown', 'count_resource', 'declare_possible_actions', 'draw_arrow', 'frameRate', 'get_game_state', 'has_resource', 'id', 'img', 'img_orient', 'is_avatar', 'is_static', 'is_stochastic', 'key', 'keys_to_action', 'lastdirection', 'lastmove', 'lastrect', 'mass', 'only_active', 'orientation', 'physics', 'physicstype', 'rect', 'resources', 'rng', 'set_game_state', 'shrinkfactor', 'speed', 'state_attributes', 'stype', 'stypes', 'update', 'velocity']\n"
     ]
    },
    {
     "name": "stdin",
     "output_type": "stream",
     "text": [
      "ipdb>  env.game.get_avatars()[1].speed\n"
     ]
    },
    {
     "name": "stdout",
     "output_type": "stream",
     "text": [
      "1\n"
     ]
    },
    {
     "name": "stdin",
     "output_type": "stream",
     "text": [
      "ipdb>  env.game.get_avatars()[0].speed\n"
     ]
    },
    {
     "name": "stdout",
     "output_type": "stream",
     "text": [
      "1\n"
     ]
    },
    {
     "name": "stdin",
     "output_type": "stream",
     "text": [
      "ipdb>  exit\n"
     ]
    }
   ],
   "source": [
    "%debug"
   ]
  },
  {
   "cell_type": "code",
   "execution_count": 41,
   "metadata": {
    "collapsed": false,
    "jupyter": {
     "outputs_hidden": false
    },
    "pycharm": {
     "name": "#%%\n"
    }
   },
   "outputs": [
    {
     "data": {
      "image/png": "[encoded data removed]",
      "text/plain": [
       "<Figure size 432x288 with 1 Axes>"
      ]
     },
     "metadata": {},
     "output_type": "display_data"
    },
    {
     "data": {
      "text/plain": [
       "<Animation<OrderEnforcing<VGDLEnv<vgdl_zelda-v0>>>>"
      ]
     },
     "execution_count": 41,
     "metadata": {},
     "output_type": "execute_result"
    },
    {
     "data": {
      "image/png": "[encoded data removed]",
      "text/plain": [
       "<Figure size 432x288 with 1 Axes>"
      ]
     },
     "metadata": {
      "needs_background": "light"
     },
     "output_type": "display_data"
    }
   ],
   "source": [
    "def visualize_actions(env,action_list, current_state):\n",
    "    action_list = action_list\n",
    "    env = gnwrapper.Animation(gym.make('vgdl_zelda-v0', obs_type=\"objects\"))\n",
    "    env.reset()\n",
    "    env.game.set_game_state(current_state)\n",
    "    for j,i in enumerate(action_list):\n",
    "        next_obs, reward, done, info = env.step(i)\n",
    "        #print(env.game.get_game_state().avatar_state['state']['alive'])\n",
    "        env.render()\n",
    "    return env\n",
    "\n",
    "visualize_actions(env,new_goal.previous_actions, first_state_info)"
   ]
  },
  {
   "cell_type": "code",
   "execution_count": null,
   "metadata": {
    "collapsed": false,
    "jupyter": {
     "outputs_hidden": false
    },
    "pycharm": {
     "name": "#%%\n"
    }
   },
   "outputs": [],
   "source": [
    "\n",
    "\n",
    "env.game.get_avatars()[0].key"
   ]
  },
  {
   "cell_type": "code",
   "execution_count": 67,
   "metadata": {
    "collapsed": false,
    "jupyter": {
     "outputs_hidden": false
    },
    "pycharm": {
     "name": "#%%\n"
    }
   },
   "outputs": [
    {
     "data": {
      "text/plain": [
       "dict_keys(['last_reward', 'sprites', 'kill_list', 'time', 'ended', 'score'])"
      ]
     },
     "execution_count": 67,
     "metadata": {},
     "output_type": "execute_result"
    }
   ],
   "source": [
    "env.game.get_game_state().data['sprites']"
   ]
  },
  {
   "cell_type": "code",
   "execution_count": 115,
   "metadata": {
    "collapsed": false,
    "jupyter": {
     "outputs_hidden": false
    },
    "pycharm": {
     "name": "#%%\n"
    }
   },
   "outputs": [
    {
     "ename": "KeyError",
     "evalue": "'avatar'",
     "output_type": "error",
     "traceback": [
      "\u001B[0;31m---------------------------------------------------------------------------\u001B[0m",
      "\u001B[0;31mKeyError\u001B[0m                                  Traceback (most recent call last)",
      "\u001B[0;32m/tmp/ipykernel_53897/1144599931.py\u001B[0m in \u001B[0;36m<module>\u001B[0;34m\u001B[0m\n\u001B[0;32m----> 1\u001B[0;31m \u001B[0mfirst_state_info\u001B[0m\u001B[0;34m.\u001B[0m\u001B[0mdata\u001B[0m\u001B[0;34m[\u001B[0m\u001B[0;34m'sprites'\u001B[0m\u001B[0;34m]\u001B[0m\u001B[0;34m[\u001B[0m\u001B[0;34m\"avatar\"\u001B[0m\u001B[0;34m]\u001B[0m\u001B[0;34m\u001B[0m\u001B[0;34m\u001B[0m\u001B[0m\n\u001B[0m",
      "\u001B[0;31mKeyError\u001B[0m: 'avatar'"
     ]
    }
   ],
   "source": [
    " first_state_info.data['sprites']"
   ]
  },
  {
   "cell_type": "code",
   "execution_count": 34,
   "metadata": {
    "collapsed": false,
    "jupyter": {
     "outputs_hidden": false
    },
    "pycharm": {
     "name": "#%%\n"
    }
   },
   "outputs": [
    {
     "name": "stdout",
     "output_type": "stream",
     "text": [
      "> \u001B[0;32m/tmp/ipykernel_53897/1992062355.py\u001B[0m(15)\u001B[0;36mevaluate_state\u001B[0;34m()\u001B[0m\n",
      "\u001B[0;32m     13 \u001B[0;31m    \u001B[0msub_goal_distances\u001B[0m \u001B[0;34m=\u001B[0m \u001B[0;34m[\u001B[0m\u001B[0;34m]\u001B[0m\u001B[0;34m\u001B[0m\u001B[0;34m\u001B[0m\u001B[0m\n",
      "\u001B[0m\u001B[0;32m     14 \u001B[0;31m    \u001B[0;32mfor\u001B[0m \u001B[0mi\u001B[0m \u001B[0;32min\u001B[0m \u001B[0msub_goal_pos_lst\u001B[0m\u001B[0;34m:\u001B[0m\u001B[0;34m\u001B[0m\u001B[0;34m\u001B[0m\u001B[0m\n",
      "\u001B[0m\u001B[0;32m---> 15 \u001B[0;31m        \u001B[0;32mif\u001B[0m \u001B[0mi\u001B[0m \u001B[0;32min\u001B[0m \u001B[0mdistances_dict\u001B[0m\u001B[0;34m[\u001B[0m\u001B[0magent_pos\u001B[0m\u001B[0;34m]\u001B[0m\u001B[0;34m:\u001B[0m\u001B[0;34m\u001B[0m\u001B[0;34m\u001B[0m\u001B[0m\n",
      "\u001B[0m\u001B[0;32m     16 \u001B[0;31m            \u001B[0msub_goal_distances\u001B[0m\u001B[0;34m.\u001B[0m\u001B[0mappend\u001B[0m\u001B[0;34m(\u001B[0m\u001B[0mdistances_dict\u001B[0m\u001B[0;34m[\u001B[0m\u001B[0magent_pos\u001B[0m\u001B[0;34m]\u001B[0m\u001B[0;34m[\u001B[0m\u001B[0mi\u001B[0m\u001B[0;34m]\u001B[0m\u001B[0;34m)\u001B[0m\u001B[0;34m\u001B[0m\u001B[0;34m\u001B[0m\u001B[0m\n",
      "\u001B[0m\u001B[0;32m     17 \u001B[0;31m    \u001B[0menemy_distances\u001B[0m \u001B[0;34m=\u001B[0m \u001B[0;34m[\u001B[0m\u001B[0;36m3\u001B[0m\u001B[0;34m]\u001B[0m\u001B[0;34m\u001B[0m\u001B[0;34m\u001B[0m\u001B[0m\n",
      "\u001B[0m\n"
     ]
    }
   ],
   "source": [
    "%debug"
   ]
  },
  {
   "cell_type": "code",
   "execution_count": 47,
   "metadata": {
    "collapsed": false,
    "jupyter": {
     "outputs_hidden": false
    },
    "pycharm": {
     "name": "#%%\n"
    }
   },
   "outputs": [
    {
     "ename": "NameError",
     "evalue": "name 'game_file' is not defined",
     "output_type": "error",
     "traceback": [
      "\u001B[0;31m---------------------------------------------------------------------------\u001B[0m",
      "\u001B[0;31mNameError\u001B[0m                                 Traceback (most recent call last)",
      "\u001B[0;32m/tmp/ipykernel_53897/1217003772.py\u001B[0m in \u001B[0;36m<module>\u001B[0;34m\u001B[0m\n\u001B[0;32m----> 1\u001B[0;31m \u001B[0;32mwith\u001B[0m \u001B[0mopen\u001B[0m \u001B[0;34m(\u001B[0m\u001B[0mgame_file\u001B[0m\u001B[0;34m,\u001B[0m \u001B[0;34m\"r\"\u001B[0m\u001B[0;34m)\u001B[0m \u001B[0;32mas\u001B[0m \u001B[0mgf\u001B[0m\u001B[0;34m:\u001B[0m\u001B[0;34m\u001B[0m\u001B[0;34m\u001B[0m\u001B[0m\n\u001B[0m\u001B[1;32m      2\u001B[0m     \u001B[0mgame_desc\u001B[0m \u001B[0;34m=\u001B[0m \u001B[0mgf\u001B[0m\u001B[0;34m.\u001B[0m\u001B[0mread\u001B[0m\u001B[0;34m(\u001B[0m\u001B[0;34m)\u001B[0m\u001B[0;34m\u001B[0m\u001B[0;34m\u001B[0m\u001B[0m\n\u001B[1;32m      3\u001B[0m \u001B[0;32mwith\u001B[0m \u001B[0mopen\u001B[0m \u001B[0;34m(\u001B[0m\u001B[0mlevel_file\u001B[0m\u001B[0;34m,\u001B[0m \u001B[0;34m\"r\"\u001B[0m\u001B[0;34m)\u001B[0m \u001B[0;32mas\u001B[0m \u001B[0mlf\u001B[0m\u001B[0;34m:\u001B[0m\u001B[0;34m\u001B[0m\u001B[0;34m\u001B[0m\u001B[0m\n\u001B[1;32m      4\u001B[0m     \u001B[0mlevel_desc\u001B[0m \u001B[0;34m=\u001B[0m \u001B[0mlf\u001B[0m\u001B[0;34m.\u001B[0m\u001B[0mread\u001B[0m\u001B[0;34m(\u001B[0m\u001B[0;34m)\u001B[0m\u001B[0;34m\u001B[0m\u001B[0;34m\u001B[0m\u001B[0m\n\u001B[1;32m      5\u001B[0m \u001B[0;34m\u001B[0m\u001B[0m\n",
      "\u001B[0;31mNameError\u001B[0m: name 'game_file' is not defined"
     ]
    }
   ],
   "source": [
    "with open (game_file, \"r\") as gf:\n",
    "    game_desc = gf.read()\n",
    "with open (level_file, \"r\") as lf:\n",
    "    level_desc = lf.read()\n",
    "\n",
    "domain = vgdl.VGDLParser.parse_game(game_desc)\n"
   ]
  },
  {
   "cell_type": "code",
   "execution_count": 48,
   "metadata": {
    "collapsed": false,
    "jupyter": {
     "outputs_hidden": false
    },
    "pycharm": {
     "name": "#%%\n"
    }
   },
   "outputs": [
    {
     "name": "stdout",
     "output_type": "stream",
     "text": [
      "['__class__', '__delattr__', '__dict__', '__dir__', '__doc__', '__eq__', '__format__', '__ge__', '__getattribute__', '__getstate__', '__gt__', '__hash__', '__init__', '__init_subclass__', '__le__', '__lt__', '__module__', '__ne__', '__new__', '__reduce__', '__reduce_ex__', '__repr__', '__setattr__', '__setstate__', '__sizeof__', '__str__', '__subclasshook__', '__weakref__', '_check_terminations', '_event_handling', 'add_score', 'block_size', 'colliding_sprites', 'contains_position', 'contains_rect', 'create_sprite', 'create_sprites', 'destroy_sprite', 'domain', 'ended', 'get_avatars', 'get_game_state', 'get_possible_actions', 'get_sprites', 'height', 'identity', 'init_state', 'is_avatar', 'is_avatar_cls', 'is_freshly_killed', 'is_stochastic', 'kill_list', 'kill_sprite', 'last_reward', 'last_state', 'levelstring', 'num_sprites', 'random_generator', 'reset', 'score', 'screensize', 'seed', 'set_game_state', 'set_seed', 'sprite_registry', 'sprites_at', 'tick', 'time', 'title', 'update_queue', 'width']\n"
     ]
    }
   ],
   "source": [
    "env = gnwrapper.Monitor(gym.make('vgdl_survivezombies-v0', obs_type=\"objects\"))\n",
    "print(dir(env.game))"
   ]
  },
  {
   "cell_type": "code",
   "execution_count": 49,
   "metadata": {
    "collapsed": false,
    "jupyter": {
     "outputs_hidden": false
    },
    "pycharm": {
     "name": "#%%\n"
    }
   },
   "outputs": [
    {
     "data": {
      "text/plain": [
       "['MAX_SPRITES',\n",
       " '__class__',\n",
       " '__delattr__',\n",
       " '__dict__',\n",
       " '__dir__',\n",
       " '__doc__',\n",
       " '__eq__',\n",
       " '__format__',\n",
       " '__ge__',\n",
       " '__getattribute__',\n",
       " '__gt__',\n",
       " '__hash__',\n",
       " '__init__',\n",
       " '__init_subclass__',\n",
       " '__le__',\n",
       " '__lt__',\n",
       " '__module__',\n",
       " '__ne__',\n",
       " '__new__',\n",
       " '__reduce__',\n",
       " '__reduce_ex__',\n",
       " '__repr__',\n",
       " '__setattr__',\n",
       " '__sizeof__',\n",
       " '__str__',\n",
       " '__subclasshook__',\n",
       " '__weakref__',\n",
       " 'block_size',\n",
       " 'build_level',\n",
       " 'char_mapping',\n",
       " 'collision_eff',\n",
       " 'domain_registry',\n",
       " 'finish_setup',\n",
       " 'identity',\n",
       " 'identity_dict',\n",
       " 'is_stochastic',\n",
       " 'notable_resources',\n",
       " 'resources_colors',\n",
       " 'resources_limits',\n",
       " 'setup_resources',\n",
       " 'sprite_order',\n",
       " 'terminations',\n",
       " 'title']"
      ]
     },
     "execution_count": 49,
     "metadata": {},
     "output_type": "execute_result"
    }
   ],
   "source": [
    "dir(env.game.domain)"
   ]
  },
  {
   "cell_type": "code",
   "execution_count": 50,
   "metadata": {
    "collapsed": false,
    "jupyter": {
     "outputs_hidden": false
    },
    "pycharm": {
     "name": "#%%\n"
    }
   },
   "outputs": [
    {
     "data": {
      "text/plain": [
       "False"
      ]
     },
     "execution_count": 50,
     "metadata": {},
     "output_type": "execute_result"
    }
   ],
   "source": [
    "env.game.domain.terminations[1].win"
   ]
  },
  {
   "cell_type": "code",
   "execution_count": 51,
   "metadata": {
    "collapsed": false,
    "jupyter": {
     "outputs_hidden": false
    },
    "pycharm": {
     "name": "#%%\n"
    }
   },
   "outputs": [
    {
     "data": {
      "text/plain": [
       "['__call__',\n",
       " '__class__',\n",
       " '__delattr__',\n",
       " '__dict__',\n",
       " '__dir__',\n",
       " '__doc__',\n",
       " '__eq__',\n",
       " '__format__',\n",
       " '__ge__',\n",
       " '__getattribute__',\n",
       " '__gt__',\n",
       " '__hash__',\n",
       " '__init__',\n",
       " '__init_subclass__',\n",
       " '__le__',\n",
       " '__lt__',\n",
       " '__module__',\n",
       " '__ne__',\n",
       " '__new__',\n",
       " '__reduce__',\n",
       " '__reduce_ex__',\n",
       " '__repr__',\n",
       " '__setattr__',\n",
       " '__sizeof__',\n",
       " '__str__',\n",
       " '__subclasshook__',\n",
       " '__weakref__',\n",
       " 'actee_stype',\n",
       " 'actor_stype',\n",
       " 'call_fn',\n",
       " 'fn_args',\n",
       " 'is_stochastic',\n",
       " 'score']"
      ]
     },
     "execution_count": 51,
     "metadata": {},
     "output_type": "execute_result"
    }
   ],
   "source": [
    "dir(env.game.domain.collision_eff[0])"
   ]
  },
  {
   "cell_type": "code",
   "execution_count": 52,
   "metadata": {
    "collapsed": false,
    "jupyter": {
     "outputs_hidden": false
    },
    "pycharm": {
     "name": "#%%\n"
    }
   },
   "outputs": [
    {
     "data": {
      "text/plain": [
       "<function vgdl.ontology.effects.killSprite(sprite, partner, game)>"
      ]
     },
     "execution_count": 52,
     "metadata": {},
     "output_type": "execute_result"
    }
   ],
   "source": [
    "env.game.domain.collision_eff[1].call_fn"
   ]
  },
  {
   "cell_type": "code",
   "execution_count": 53,
   "metadata": {
    "collapsed": false,
    "jupyter": {
     "outputs_hidden": false
    },
    "pycharm": {
     "name": "#%%\n"
    }
   },
   "outputs": [
    {
     "data": {
      "text/plain": [
       "9"
      ]
     },
     "execution_count": 53,
     "metadata": {},
     "output_type": "execute_result"
    }
   ],
   "source": [
    "len(env.game.domain.collision_eff)"
   ]
  },
  {
   "cell_type": "code",
   "execution_count": 54,
   "metadata": {
    "collapsed": false,
    "jupyter": {
     "outputs_hidden": false
    },
    "pycharm": {
     "name": "#%%\n"
    }
   },
   "outputs": [
    {
     "data": {
      "text/plain": [
       "[<function vgdl.ontology.effects.collectResource(sprite, partner, game)>,\n",
       " <function vgdl.ontology.effects.killSprite(sprite, partner, game)>,\n",
       " <function vgdl.ontology.effects.stepBack(sprite, partner, game)>,\n",
       " <function vgdl.ontology.effects.killIfHasLess(sprite, partner, game, resource, limit=1)>,\n",
       " <function vgdl.ontology.effects.changeResource(sprite, partner, game, resource, value=1)>,\n",
       " <function vgdl.ontology.effects.killSprite(sprite, partner, game)>,\n",
       " <function vgdl.ontology.effects.transformTo(sprite, partner, game, stype='wall')>,\n",
       " <function vgdl.ontology.effects.killSprite(sprite, partner, game)>,\n",
       " <function vgdl.ontology.effects.killSprite(sprite, partner, game)>]"
      ]
     },
     "execution_count": 54,
     "metadata": {},
     "output_type": "execute_result"
    }
   ],
   "source": [
    "[f.call_fn for f in env.game.domain.collision_eff]"
   ]
  },
  {
   "cell_type": "code",
   "execution_count": 55,
   "metadata": {
    "collapsed": false,
    "jupyter": {
     "outputs_hidden": false
    },
    "pycharm": {
     "name": "#%%\n"
    }
   },
   "outputs": [
    {
     "data": {
      "image/png": "[encoded data removed]",
      "text/plain": [
       "<Figure size 432x288 with 1 Axes>"
      ]
     },
     "metadata": {},
     "output_type": "display_data"
    }
   ],
   "source": [
    "import networkx as nx\n",
    "import matplotlib.pyplot as plt\n",
    "\n",
    "g = nx.DiGraph()\n",
    "g.add_edge(1,2)\n",
    "nx.draw(g)\n",
    "plt.show()"
   ]
  },
  {
   "cell_type": "code",
   "execution_count": 56,
   "metadata": {
    "collapsed": false,
    "jupyter": {
     "outputs_hidden": false
    },
    "pycharm": {
     "name": "#%%\n"
    }
   },
   "outputs": [],
   "source": [
    "temp = {1: \"Timeout Win\", }"
   ]
  },
  {
   "cell_type": "code",
   "execution_count": 57,
   "metadata": {
    "collapsed": false,
    "jupyter": {
     "outputs_hidden": false
    },
    "pycharm": {
     "name": "#%%\n"
    }
   },
   "outputs": [
    {
     "ename": "NameError",
     "evalue": "name 'check_conditions' is not defined",
     "output_type": "error",
     "traceback": [
      "\u001B[0;31m---------------------------------------------------------------------------\u001B[0m",
      "\u001B[0;31mNameError\u001B[0m                                 Traceback (most recent call last)",
      "\u001B[0;32m/tmp/ipykernel_53897/2235032835.py\u001B[0m in \u001B[0;36m<module>\u001B[0;34m\u001B[0m\n\u001B[1;32m      6\u001B[0m             \u001B[0mgame_name\u001B[0m \u001B[0;34m=\u001B[0m \u001B[0;34m\"vgdl_\"\u001B[0m \u001B[0;34m+\u001B[0m \u001B[0mj\u001B[0m\u001B[0;34m.\u001B[0m\u001B[0msplit\u001B[0m\u001B[0;34m(\u001B[0m\u001B[0;34m\".\"\u001B[0m\u001B[0;34m)\u001B[0m\u001B[0;34m[\u001B[0m\u001B[0;36m0\u001B[0m\u001B[0;34m]\u001B[0m \u001B[0;34m+\u001B[0m \u001B[0;34m\"-v0\"\u001B[0m\u001B[0;34m\u001B[0m\u001B[0;34m\u001B[0m\u001B[0m\n\u001B[1;32m      7\u001B[0m             \u001B[0menv\u001B[0m \u001B[0;34m=\u001B[0m \u001B[0mgnwrapper\u001B[0m\u001B[0;34m.\u001B[0m\u001B[0mMonitor\u001B[0m\u001B[0;34m(\u001B[0m\u001B[0mgym\u001B[0m\u001B[0;34m.\u001B[0m\u001B[0mmake\u001B[0m\u001B[0;34m(\u001B[0m\u001B[0mgame_name\u001B[0m\u001B[0;34m,\u001B[0m \u001B[0mobs_type\u001B[0m\u001B[0;34m=\u001B[0m\u001B[0;34m\"objects\"\u001B[0m\u001B[0;34m)\u001B[0m\u001B[0;34m)\u001B[0m\u001B[0;34m\u001B[0m\u001B[0;34m\u001B[0m\u001B[0m\n\u001B[0;32m----> 8\u001B[0;31m             \u001B[0;32mif\u001B[0m \u001B[0mcheck_conditions\u001B[0m\u001B[0;34m(\u001B[0m\u001B[0menv\u001B[0m\u001B[0;34m)\u001B[0m\u001B[0;34m:\u001B[0m\u001B[0;34m\u001B[0m\u001B[0;34m\u001B[0m\u001B[0m\n\u001B[0m\u001B[1;32m      9\u001B[0m                 \u001B[0mprint\u001B[0m\u001B[0;34m(\u001B[0m\u001B[0;34m\"*\"\u001B[0m\u001B[0;34m*\u001B[0m\u001B[0;36m30\u001B[0m\u001B[0;34m)\u001B[0m\u001B[0;34m\u001B[0m\u001B[0;34m\u001B[0m\u001B[0m\n\u001B[1;32m     10\u001B[0m                 \u001B[0;32mfor\u001B[0m \u001B[0mt\u001B[0m \u001B[0;32min\u001B[0m \u001B[0menv\u001B[0m\u001B[0;34m.\u001B[0m\u001B[0mgame\u001B[0m\u001B[0;34m.\u001B[0m\u001B[0mdomain\u001B[0m\u001B[0;34m.\u001B[0m\u001B[0mterminations\u001B[0m\u001B[0;34m:\u001B[0m\u001B[0;34m\u001B[0m\u001B[0;34m\u001B[0m\u001B[0m\n",
      "\u001B[0;31mNameError\u001B[0m: name 'check_conditions' is not defined"
     ]
    }
   ],
   "source": [
    "import os\n",
    "\n",
    "for i in os.walk(\"vgdl/games\"):\n",
    "    for j in i[2]:\n",
    "        if \"_\" not in j and j[-3:] == \"txt\":\n",
    "            game_name = \"vgdl_\" + j.split(\".\")[0] + \"-v0\"\n",
    "            env = gnwrapper.Monitor(gym.make(game_name, obs_type=\"objects\"))\n",
    "            if check_conditions(env):\n",
    "                print(\"*\"*30)\n",
    "                for t in env.game.domain.terminations:\n",
    "                    print(\"*\"*10)\n",
    "                    print(\n",
    "                            t.limit,\n",
    "                            t.score,\n",
    "                            t.stype,\n",
    "                            t.win)\n",
    "\n",
    "            #print(game_name, env.game.domain.terminations)"
   ]
  },
  {
   "cell_type": "code",
   "execution_count": 58,
   "metadata": {
    "collapsed": false,
    "jupyter": {
     "outputs_hidden": false
    },
    "pycharm": {
     "name": "#%%\n"
    }
   },
   "outputs": [],
   "source": [
    "def check_conditions(env):\n",
    "    isSpriteCounter = True\n",
    "    for i in env.game.domain.terminations:\n",
    "        if not type(i) == vgdl.ontology.terminations.SpriteCounter:\n",
    "            isSpriteCounter = False\n",
    "    return isSpriteCounter"
   ]
  },
  {
   "cell_type": "code",
   "execution_count": 59,
   "metadata": {
    "collapsed": false,
    "jupyter": {
     "outputs_hidden": false
    },
    "pycharm": {
     "name": "#%%\n"
    }
   },
   "outputs": [
    {
     "data": {
      "text/plain": [
       "['__class__',\n",
       " '__delattr__',\n",
       " '__dict__',\n",
       " '__dir__',\n",
       " '__doc__',\n",
       " '__eq__',\n",
       " '__format__',\n",
       " '__ge__',\n",
       " '__getattribute__',\n",
       " '__gt__',\n",
       " '__hash__',\n",
       " '__init__',\n",
       " '__init_subclass__',\n",
       " '__le__',\n",
       " '__lt__',\n",
       " '__module__',\n",
       " '__ne__',\n",
       " '__new__',\n",
       " '__reduce__',\n",
       " '__reduce_ex__',\n",
       " '__repr__',\n",
       " '__setattr__',\n",
       " '__sizeof__',\n",
       " '__str__',\n",
       " '__subclasshook__',\n",
       " '__weakref__',\n",
       " 'is_done',\n",
       " 'limit',\n",
       " 'score',\n",
       " 'stype',\n",
       " 'win']"
      ]
     },
     "execution_count": 59,
     "metadata": {},
     "output_type": "execute_result"
    }
   ],
   "source": [
    "dir(env.game.domain.terminations[0])"
   ]
  },
  {
   "cell_type": "code",
   "execution_count": 505,
   "metadata": {
    "collapsed": false,
    "jupyter": {
     "outputs_hidden": false
    },
    "pycharm": {
     "name": "#%%\n"
    }
   },
   "outputs": [],
   "source": [
    "def create_nodes(env):\n",
    "    for i in env.game.domain.terminations:\n",
    "        if(i.win):\n",
    "            G = nx.DiGraph()\n",
    "            create_win_graph(i.stype, env.game.domain.collision_eff,G,0,{})\n",
    "    return G"
   ]
  },
  {
   "cell_type": "code",
   "execution_count": 506,
   "metadata": {
    "collapsed": false,
    "jupyter": {
     "outputs_hidden": false
    },
    "pycharm": {
     "name": "#%%\n"
    }
   },
   "outputs": [],
   "source": [
    "def create_win_graph(stype, collision_eff,G,root_id,dic):\n",
    "    last_id = root_id + 1\n",
    "    for ef in collision_eff:\n",
    "        print(stype,ef.actee_stype,ef.call_fn)\n",
    "        if check_eff(ef.actor_stype,stype,ef.call_fn):\n",
    "            print(stype,ef.actee_stype,ef.call_fn)\n",
    "            at = ef.actee_stype\n",
    "            if not at in dic:\n",
    "                dic[at] = last_id\n",
    "                #last_id += 1\n",
    "            G.add_edge(dic[at],root_id)\n",
    "            last_id,G,dic = create_win_graph(at,collision_eff,G,dic[at],dic)\n",
    "    return last_id,G,dic\n",
    "\n"
   ]
  },
  {
   "cell_type": "code",
   "execution_count": 507,
   "metadata": {
    "collapsed": false,
    "jupyter": {
     "outputs_hidden": false
    },
    "pycharm": {
     "name": "#%%\n"
    }
   },
   "outputs": [],
   "source": [
    "def check_eff(actor_stype, stype, call_fn):\n",
    "    remove_fns = [vgdl.ontology.effects.killSprite]\n",
    "    if(actor_stype == stype and call_fn in remove_fns):\n",
    "        return True\n",
    "    return False"
   ]
  },
  {
   "cell_type": "code",
   "execution_count": 508,
   "metadata": {
    "collapsed": false,
    "jupyter": {
     "outputs_hidden": false
    },
    "pycharm": {
     "name": "#%%\n"
    }
   },
   "outputs": [
    {
     "name": "stdout",
     "output_type": "stream",
     "text": [
      "box wall <function stepBack at 0x7fde5f3f3440>\n",
      "box avatar <function bounceForward at 0x7fde5f3f3560>\n",
      "box wall <function undoAll at 0x7fde5f3f34d0>\n",
      "box box <function undoAll at 0x7fde5f3f34d0>\n",
      "box hole <function killSprite at 0x7fde5f44c3b0>\n",
      "box hole <function killSprite at 0x7fde5f44c3b0>\n",
      "hole wall <function stepBack at 0x7fde5f3f3440>\n",
      "hole avatar <function bounceForward at 0x7fde5f3f3560>\n",
      "hole wall <function undoAll at 0x7fde5f3f34d0>\n",
      "hole box <function undoAll at 0x7fde5f3f34d0>\n",
      "hole hole <function killSprite at 0x7fde5f44c3b0>\n"
     ]
    },
    {
     "data": {
      "image/png": "[encoded data removed]",
      "text/plain": [
       "<Figure size 432x288 with 1 Axes>"
      ]
     },
     "metadata": {},
     "output_type": "display_data"
    }
   ],
   "source": [
    "import networkx as nx\n",
    "import matplotlib.pyplot as plt\n",
    "\n",
    "env = gnwrapper.Monitor(gym.make(\"vgdl_sokoban-v0\", obs_type=\"objects\"))\n",
    "G=create_nodes(env)\n",
    "nx.draw(G)\n",
    "plt.show()"
   ]
  },
  {
   "cell_type": "code",
   "execution_count": 64,
   "metadata": {
    "collapsed": false,
    "jupyter": {
     "outputs_hidden": false
    },
    "pycharm": {
     "name": "#%%\n"
    }
   },
   "outputs": [],
   "source": []
  },
  {
   "cell_type": "code",
   "execution_count": null,
   "metadata": {
    "collapsed": false,
    "jupyter": {
     "outputs_hidden": false
    },
    "pycharm": {
     "name": "#%%\n"
    }
   },
   "outputs": [],
   "source": []
  }
 ],
 "metadata": {
  "kernelspec": {
   "display_name": "Python 3",
   "language": "python",
   "name": "python3"
  },
  "language_info": {
   "codemirror_mode": {
    "name": "ipython",
    "version": 3
   },
   "file_extension": ".py",
   "mimetype": "text/x-python",
   "name": "python",
   "nbconvert_exporter": "python",
   "pygments_lexer": "ipython3",
   "version": "3.7.6"
  }
 },
 "nbformat": 4,
 "nbformat_minor": 4
}