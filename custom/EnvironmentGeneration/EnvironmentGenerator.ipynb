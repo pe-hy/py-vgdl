{
 "cells": [
  {
   "cell_type": "markdown",
   "metadata": {
    "collapsed": false
   },
   "source": [
    "### Run problem_generator.py first to create problem instances, their definitions and symbol mappings."
   ]
  },
  {
   "cell_type": "code",
   "execution_count": 4,
   "metadata": {
    "collapsed": false
   },
   "outputs": [],
   "source": [
    "import os.path\n",
    "import sys\n",
    "from definition_generator import *\n",
    "from layout_generator import *\n",
    "import shutil\n",
    "import pickle"
   ]
  },
  {
   "cell_type": "code",
   "execution_count": 5,
   "metadata": {},
   "outputs": [],
   "source": [
    "%load_ext autoreload\n",
    "%autoreload 2"
   ]
  },
  {
   "cell_type": "code",
   "execution_count": 6,
   "metadata": {
    "collapsed": false
   },
   "outputs": [],
   "source": [
    "with open('pickles/graph_instances_lst.pkl', 'rb') as file:\n",
    "    graph_instances_lst = pickle.load(file)\n",
    "\n",
    "with open('pickles/definition_dic.pkl', 'rb') as file:\n",
    "    definition_dic = pickle.load(file)\n",
    "\n",
    "with open('pickles/obstacle_dic.pkl', 'rb') as file:\n",
    "    obstacle_dic = pickle.load(file)"
   ]
  },
  {
   "cell_type": "markdown",
   "metadata": {
    "collapsed": false
   },
   "source": [
    "#### Set MOL_IDX to select a molecule to instantiate as environment (default: 18)\n",
    "#### Set instances_num to define how many environment instances to generate (default: 1)\n",
    "#### Set num_columns to change how the layout is generated (number of partitions) (default: 4)\n",
    "#### Set grid_size to change the size of the generated layout (default: 30) (30x30 = 900 total points)\n",
    "#### Set min_room_size to set minimum size of every room (defaukt: 3) (3x3 = 9 walkable points)"
   ]
  },
  {
   "cell_type": "code",
   "execution_count": 44,
   "metadata": {
    "collapsed": false
   },
   "outputs": [],
   "source": [
    "MOL_IDX = 18\n",
    "instances_num = 50\n",
    "num_columns = 4\n",
    "grid_size = 20\n",
    "min_room_size = 2"
   ]
  },
  {
   "cell_type": "markdown",
   "metadata": {
    "collapsed": false
   },
   "source": [
    "Remove the \"generated\" folder. Otherwise, old files linger there."
   ]
  },
  {
   "cell_type": "code",
   "execution_count": 21,
   "metadata": {
    "collapsed": false
   },
   "outputs": [],
   "source": [
    "if os.path.isdir(\"generated\"):\n",
    "    shutil.rmtree('generated')"
   ]
  },
  {
   "cell_type": "markdown",
   "metadata": {
    "collapsed": false
   },
   "source": [
    "### Run this to obtain generated definition file and layouts of a problem instance."
   ]
  },
  {
   "cell_type": "code",
   "execution_count": 34,
   "metadata": {
    "collapsed": false
   },
   "outputs": [
    {
     "name": "stdout",
     "output_type": "stream",
     "text": [
      "definition saved: generated_definition.txt\n"
     ]
    }
   ],
   "source": [
    "generate_game_definition(graph_instances_lst, definition_dic, obstacle_dic, MOL_IDX)"
   ]
  },
  {
   "cell_type": "code",
   "execution_count": 47,
   "metadata": {
    "collapsed": false
   },
   "outputs": [
    {
     "name": "stdout",
     "output_type": "stream",
     "text": [
      "failed\n"
     ]
    }
   ],
   "source": [
    "try: \n",
    "    generate_layout(graph_instances_lst, instances_num, MOL_IDX, num_columns, grid_size, min_room_size)\n",
    "except Exception as e:\n",
    "    print(\"e\")"
   ]
  },
  {
   "cell_type": "code",
   "execution_count": null,
   "metadata": {},
   "outputs": [],
   "source": []
  },
  {
   "cell_type": "code",
   "execution_count": null,
   "metadata": {},
   "outputs": [],
   "source": []
  }
 ],
 "metadata": {
  "kernelspec": {
   "display_name": "Python 3",
   "language": "python",
   "name": "python3"
  },
  "language_info": {
   "codemirror_mode": {
    "name": "ipython",
    "version": 3
   },
   "file_extension": ".py",
   "mimetype": "text/x-python",
   "name": "python",
   "nbconvert_exporter": "python",
   "pygments_lexer": "ipython3",
   "version": "3.7.12"
  }
 },
 "nbformat": 4,
 "nbformat_minor": 0
}
