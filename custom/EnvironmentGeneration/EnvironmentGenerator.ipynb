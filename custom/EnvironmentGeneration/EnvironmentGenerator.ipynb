{
 "cells": [
  {
   "cell_type": "markdown",
   "source": [
    "### Run problem_generator.py first to create problem instances, their definitions and symbol mappings."
   ],
   "metadata": {
    "collapsed": false
   }
  },
  {
   "cell_type": "code",
   "execution_count": 233,
   "outputs": [
    {
     "name": "stdout",
     "output_type": "stream",
     "text": [
      "The autoreload extension is already loaded. To reload it, use:\n",
      "  %reload_ext autoreload\n"
     ]
    }
   ],
   "source": [
    "import os.path\n",
    "%load_ext autoreload\n",
    "%autoreload 2\n",
    "from definition_generator import *\n",
    "from layout_generator import *\n",
    "import shutil\n",
    "import pickle"
   ],
   "metadata": {
    "collapsed": false
   }
  },
  {
   "cell_type": "code",
   "execution_count": 234,
   "outputs": [],
   "source": [
    "with open('pickles/graph_instances_lst.pkl', 'rb') as file:\n",
    "    graph_instances_lst = pickle.load(file)\n",
    "\n",
    "with open('pickles/definition_dic.pkl', 'rb') as file:\n",
    "    definition_dic = pickle.load(file)\n",
    "\n",
    "with open('pickles/obstacle_dic.pkl', 'rb') as file:\n",
    "    obstacle_dic = pickle.load(file)"
   ],
   "metadata": {
    "collapsed": false
   }
  },
  {
   "cell_type": "markdown",
   "source": [
    "#### Set MOL_IDX to select a molecule to instantiate as environment (default: 18)\n",
    "#### Set instances_num to define how many environment instances to generate (default: 1)\n",
    "#### Set num_columns to change how the layout is generated (number of partitions) (default: 4)\n",
    "#### Set grid_size to change the size of the generated layout (default: 30) (30x30 = 900 total points)\n",
    "#### Set min_room_size to set minimum size of every room (defaukt: 3) (3x3 = 9 walkable points)"
   ],
   "metadata": {
    "collapsed": false
   }
  },
  {
   "cell_type": "code",
   "execution_count": 235,
   "outputs": [],
   "source": [
    "MOL_IDX = 18\n",
    "instances_num = 1\n",
    "num_columns = 4\n",
    "grid_size = 30\n",
    "min_room_size = 3"
   ],
   "metadata": {
    "collapsed": false
   }
  },
  {
   "cell_type": "markdown",
   "source": [
    "Remove the \"generated\" folder. Otherwise, old files linger there."
   ],
   "metadata": {
    "collapsed": false
   }
  },
  {
   "cell_type": "code",
   "execution_count": 236,
   "outputs": [],
   "source": [
    "if os.path.isdir(\"generated\"):\n",
    "    shutil.rmtree('generated')"
   ],
   "metadata": {
    "collapsed": false
   }
  },
  {
   "cell_type": "markdown",
   "source": [
    "### Run this to obtain generated definition file and layouts of a problem instance."
   ],
   "metadata": {
    "collapsed": false
   }
  },
  {
   "cell_type": "code",
   "execution_count": 237,
   "outputs": [
    {
     "name": "stdout",
     "output_type": "stream",
     "text": [
      "definition saved: generated_definition.txt\n"
     ]
    }
   ],
   "source": [
    "generate_game_definition(graph_instances_lst, definition_dic, obstacle_dic, MOL_IDX)"
   ],
   "metadata": {
    "collapsed": false
   }
  },
  {
   "cell_type": "code",
   "execution_count": 238,
   "outputs": [
    {
     "name": "stdout",
     "output_type": "stream",
     "text": [
      "layout saved:  generated\\0_generated_layout.txt\n"
     ]
    }
   ],
   "source": [
    "generate_layout(graph_instances_lst, instances_num, MOL_IDX, num_columns, grid_size, min_room_size)"
   ],
   "metadata": {
    "collapsed": false
   }
  }
 ],
 "metadata": {
  "kernelspec": {
   "display_name": "Python 3",
   "language": "python",
   "name": "python3"
  },
  "language_info": {
   "codemirror_mode": {
    "name": "ipython",
    "version": 2
   },
   "file_extension": ".py",
   "mimetype": "text/x-python",
   "name": "python",
   "nbconvert_exporter": "python",
   "pygments_lexer": "ipython2",
   "version": "2.7.6"
  }
 },
 "nbformat": 4,
 "nbformat_minor": 0
}
