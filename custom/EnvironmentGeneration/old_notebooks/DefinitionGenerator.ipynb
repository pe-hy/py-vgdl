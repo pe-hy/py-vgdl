{
 "cells": [
  {
   "cell_type": "code",
   "execution_count": 89,
   "outputs": [],
   "source": [
    "import pickle\n",
    "import sys\n",
    "import os"
   ],
   "metadata": {
    "collapsed": false
   }
  },
  {
   "cell_type": "code",
   "execution_count": 90,
   "outputs": [],
   "source": [
    "sys.path.append('../utils')\n",
    "pickles = os.path.abspath('../pickles')"
   ],
   "metadata": {
    "collapsed": false
   }
  },
  {
   "cell_type": "code",
   "execution_count": 91,
   "outputs": [
    {
     "name": "stdout",
     "output_type": "stream",
     "text": [
      "The autoreload extension is already loaded. To reload it, use:\n",
      "  %reload_ext autoreload\n"
     ]
    }
   ],
   "source": [
    "%load_ext autoreload\n",
    "%autoreload 2\n",
    "from DefinitionGeneratorUtils import *"
   ],
   "metadata": {
    "collapsed": false
   }
  },
  {
   "cell_type": "code",
   "execution_count": 92,
   "outputs": [],
   "source": [
    "with open(os.path.join(pickles, 'definition_dic.pkl'), 'rb') as file:\n",
    "    definition_dic = pickle.load(file)"
   ],
   "metadata": {
    "collapsed": false
   }
  },
  {
   "cell_type": "code",
   "execution_count": 93,
   "outputs": [],
   "source": [
    "with open(os.path.join(pickles, 'obstacle_dic.pkl'), 'rb') as file:\n",
    "    obstacle_dic = pickle.load(file)"
   ],
   "metadata": {
    "collapsed": false
   }
  },
  {
   "cell_type": "code",
   "execution_count": 94,
   "outputs": [
    {
     "data": {
      "text/plain": "{0: 101008,\n 1: 101010,\n 2: 101018,\n 3: 11034,\n 4: 11041,\n 5: 101028,\n 6: 11062,\n 7: 11064,\n 8: 101032,\n 9: 101034,\n 10: 101036,\n 11: 101038,\n 12: 11078,\n 13: 11020,\n 14: 11081,\n 15: 101043,\n 16: 11090,\n 17: 101052,\n 18: 11020,\n 19: 101055,\n 20: 101063,\n 21: 101065,\n 22: 101067,\n 23: 11087,\n 24: 11119,\n 25: 101071,\n 26: 101078,\n 27: 101086,\n 28: 11130,\n 29: 11138,\n 30: 101095,\n 31: 101102,\n 32: 101104,\n 33: 101110,\n 34: 101112,\n 35: 101076,\n 36: 101121,\n 37: 101043,\n 38: 101129,\n 39: 101131,\n 40: 101138,\n 41: 11181,\n 42: 101145,\n 43: 101152,\n 44: 11081,\n 45: 101160,\n 46: 101167,\n 47: 101169,\n 48: 11189,\n 49: 101178}"
     },
     "execution_count": 94,
     "metadata": {},
     "output_type": "execute_result"
    }
   ],
   "source": [
    "obstacle_dic"
   ],
   "metadata": {
    "collapsed": false
   }
  },
  {
   "cell_type": "code",
   "execution_count": 95,
   "outputs": [],
   "source": [
    "mol_keys_dic = definition_dic[\"mol_keys_dic\"]"
   ],
   "metadata": {
    "collapsed": false
   }
  },
  {
   "cell_type": "code",
   "execution_count": 96,
   "outputs": [],
   "source": [
    "with open(os.path.join(pickles, 'graph_instances_lst.pkl'), 'rb') as file:\n",
    "    graph_instances_lst = pickle.load(file)"
   ],
   "metadata": {
    "collapsed": false
   }
  },
  {
   "cell_type": "code",
   "execution_count": 97,
   "outputs": [],
   "source": [
    "molecules_G = graph_instances_lst[42]"
   ],
   "metadata": {
    "collapsed": false
   }
  },
  {
   "cell_type": "code",
   "execution_count": 98,
   "outputs": [
    {
     "data": {
      "text/plain": "{'layout_spec': <networkx.classes.digraph.DiGraph at 0x1c60e218348>,\n 'molecules': [{'obstacle_G_ix': None,\n   'edge': None,\n   'params': [None, None],\n   'molecule': <networkx.classes.digraph.DiGraph at 0x1c60e1b3b08>,\n   'molecule_ix': 34},\n  {'obstacle_G_ix': 0,\n   'edge': ('h701', 'h702'),\n   'params': [None, None],\n   'molecule': <networkx.classes.digraph.DiGraph at 0x1c60e1dab88>,\n   'molecule_ix': 10}]}"
     },
     "execution_count": 98,
     "metadata": {},
     "output_type": "execute_result"
    }
   ],
   "source": [
    "molecules_G"
   ],
   "metadata": {
    "collapsed": false
   }
  },
  {
   "cell_type": "code",
   "execution_count": 99,
   "outputs": [
    {
     "data": {
      "text/plain": "34"
     },
     "execution_count": 99,
     "metadata": {},
     "output_type": "execute_result"
    }
   ],
   "source": [
    "get_final_mol(molecules_G)"
   ],
   "metadata": {
    "collapsed": false
   }
  },
  {
   "cell_type": "code",
   "execution_count": 100,
   "outputs": [],
   "source": [
    "mol_ixs = []\n",
    "for m in molecules_G[\"molecules\"]:\n",
    "    mol_ixs.append(m[\"molecule_ix\"])"
   ],
   "metadata": {
    "collapsed": false
   }
  },
  {
   "cell_type": "code",
   "execution_count": 101,
   "outputs": [
    {
     "data": {
      "text/plain": "[34, 10]"
     },
     "execution_count": 101,
     "metadata": {},
     "output_type": "execute_result"
    }
   ],
   "source": [
    "mol_ixs"
   ],
   "metadata": {
    "collapsed": false
   }
  },
  {
   "cell_type": "code",
   "execution_count": 102,
   "outputs": [],
   "source": [
    "rules = {}\n",
    "for ix in mol_ixs:\n",
    "    rules[ix] = (mol_keys_dic[ix][\"final_sym\"], mol_keys_dic[ix][\"molecule_rules\"])"
   ],
   "metadata": {
    "collapsed": false
   }
  },
  {
   "cell_type": "code",
   "execution_count": 103,
   "outputs": [
    {
     "data": {
      "text/plain": "{34: (100112,\n  {(6, 12): 10133,\n   (2, 10133): 10162,\n   (2, 12): 10159,\n   (10159, 6): 10162,\n   (2, 6): 10161,\n   (10161, 12): 10162,\n   (16, 10162): 100112}),\n 10: (100036,\n  {(3, 15): 10070,\n   (0, 10070): 10075,\n   (0, 15): 10072,\n   (10072, 3): 10075,\n   (0, 3): 10074,\n   (10074, 15): 10075,\n   (11, 10075): 100036})}"
     },
     "execution_count": 103,
     "metadata": {},
     "output_type": "execute_result"
    }
   ],
   "source": [
    "rules\n",
    "# z toho udělat jeden velký dict kde už nejsou klíče molekul\n",
    "# kombinace které tam nejsou tak dát stepBack\n",
    "# 1 množina kde se aplikuje killSprite/TransformTo a druhá množina kde bude stepBack\n",
    "# množina všech interakcí agenta s jakýmkoliv atomem\n",
    "# množina interakcí agenta nebo čehokoliv s obstaclem\n",
    "# cokoliv se zdí stepBack done"
   ],
   "metadata": {
    "collapsed": false
   }
  },
  {
   "cell_type": "code",
   "execution_count": 104,
   "outputs": [],
   "source": [
    "only_rules = extract_only_rules(rules)"
   ],
   "metadata": {
    "collapsed": false
   }
  },
  {
   "cell_type": "code",
   "execution_count": 105,
   "outputs": [
    {
     "data": {
      "text/plain": "{(6, 12): 10133,\n (2, 10133): 10162,\n (2, 12): 10159,\n (10159, 6): 10162,\n (2, 6): 10161,\n (10161, 12): 10162,\n (16, 10162): 100112,\n (3, 15): 10070,\n (0, 10070): 10075,\n (0, 15): 10072,\n (10072, 3): 10075,\n (0, 3): 10074,\n (10074, 15): 10075,\n (11, 10075): 100036}"
     },
     "execution_count": 105,
     "metadata": {},
     "output_type": "execute_result"
    }
   ],
   "source": [
    "only_rules"
   ],
   "metadata": {
    "collapsed": false
   }
  },
  {
   "cell_type": "code",
   "execution_count": 106,
   "outputs": [],
   "source": [
    "mol_obs_rules = molecule_obstacle_rules(rules, obstacle_dic)"
   ],
   "metadata": {
    "collapsed": false
   }
  },
  {
   "cell_type": "code",
   "execution_count": 107,
   "outputs": [
    {
     "data": {
      "text/plain": "{101112: 100112, 101036: 100036}"
     },
     "execution_count": 107,
     "metadata": {},
     "output_type": "execute_result"
    }
   ],
   "source": [
    "mol_obs_rules"
   ],
   "metadata": {
    "collapsed": false
   }
  },
  {
   "cell_type": "code",
   "execution_count": 108,
   "outputs": [
    {
     "name": "stdout",
     "output_type": "stream",
     "text": [
      "100112\n",
      "100036\n"
     ]
    }
   ],
   "source": [
    "for v in mol_obs_rules.values():\n",
    "    print(v)"
   ],
   "metadata": {
    "collapsed": false
   }
  },
  {
   "cell_type": "code",
   "execution_count": 109,
   "outputs": [
    {
     "data": {
      "text/plain": "{(12, 6): 10133,\n (6, 10133): 12,\n (12, 10133): 6,\n (10133, 6): 12,\n (10133, 12): 6,\n (10133, 2): 10162,\n (2, 10162): 10133,\n (10133, 10162): 2,\n (10162, 2): 10133,\n (10162, 10133): 2,\n (12, 2): 10159,\n (2, 10159): 12,\n (12, 10159): 2,\n (10159, 2): 12,\n (10159, 12): 2,\n (6, 10159): 10162,\n (10159, 10162): 6,\n (6, 10162): 10159,\n (10162, 10159): 6,\n (10162, 6): 10159,\n (6, 2): 10161,\n (2, 10161): 6,\n (6, 10161): 2,\n (10161, 2): 6,\n (10161, 6): 2,\n (12, 10161): 10162,\n (10161, 10162): 12,\n (12, 10162): 10161,\n (10162, 10161): 12,\n (10162, 12): 10161,\n (10162, 16): 100112,\n (16, 100112): 10162,\n (10162, 100112): 16,\n (100112, 16): 10162,\n (100112, 10162): 16,\n (15, 3): 10070,\n (3, 10070): 15,\n (15, 10070): 3,\n (10070, 3): 15,\n (10070, 15): 3,\n (10070, 0): 10075,\n (0, 10075): 10070,\n (10070, 10075): 0,\n (10075, 0): 10070,\n (10075, 10070): 0,\n (15, 0): 10072,\n (0, 10072): 15,\n (15, 10072): 0,\n (10072, 0): 15,\n (10072, 15): 0,\n (3, 10072): 10075,\n (10072, 10075): 3,\n (3, 10075): 10072,\n (10075, 10072): 3,\n (10075, 3): 10072,\n (3, 0): 10074,\n (0, 10074): 3,\n (3, 10074): 0,\n (10074, 0): 3,\n (10074, 3): 0,\n (15, 10074): 10075,\n (10074, 10075): 15,\n (15, 10075): 10074,\n (10075, 10074): 15,\n (10075, 15): 10074,\n (10075, 11): 100036,\n (11, 100036): 10075,\n (10075, 100036): 11,\n (100036, 11): 10075,\n (100036, 10075): 11}"
     },
     "execution_count": 109,
     "metadata": {},
     "output_type": "execute_result"
    }
   ],
   "source": [
    "stepback_rules = create_combinations(only_rules)\n",
    "stepback_rules"
   ],
   "metadata": {
    "collapsed": false
   }
  },
  {
   "cell_type": "code",
   "execution_count": 110,
   "outputs": [
    {
     "name": "stdout",
     "output_type": "stream",
     "text": [
      "{0, 2, 3, 100036, 6, 11, 12, 10159, 16, 10161, 10162, 100112, 15, 10133, 10070, 10072, 10074, 10075}\n"
     ]
    }
   ],
   "source": [
    "number_set = set()\n",
    "for mol in rules.values():\n",
    "    _, mol = mol\n",
    "    for key, value in mol.items():\n",
    "        number_set.add(key[0])\n",
    "        number_set.add(key[1])\n",
    "        number_set.add(value)\n",
    "print(number_set)"
   ],
   "metadata": {
    "collapsed": false
   }
  },
  {
   "cell_type": "code",
   "execution_count": 111,
   "outputs": [],
   "source": [
    "with open(os.path.join(pickles, 'symbol_mappings.pkl'), 'rb') as file:\n",
    "    symbol_mappings = pickle.load(file)"
   ],
   "metadata": {
    "collapsed": false
   }
  },
  {
   "cell_type": "code",
   "execution_count": 112,
   "outputs": [
    {
     "data": {
      "text/plain": "{0: 'α',\n 1: 'β',\n 2: 'γ',\n 3: 'δ',\n 4: 'ε',\n 5: 'ζ',\n 6: 'η',\n 7: 'θ',\n 8: 'ι',\n 9: 'κ',\n 10: 'λ',\n 11: 'μ',\n 12: 'ν',\n 13: 'ξ',\n 14: 'ο',\n 15: 'π',\n 16: 'ρ',\n 17: 'ς',\n 18: 'σ',\n 19: 'τ',\n 20: 'υ',\n 10003: 'φ',\n 10005: 'χ',\n 10007: 'ψ',\n 10008: 'ω',\n 10009: 'Ϩ',\n 10012: 'ϩ',\n 10014: 'Ϫ',\n 10016: 'ϫ',\n 10017: 'Ϭ',\n 10020: 'ϭ',\n 10022: 'Ϯ',\n 10024: 'ϯ',\n 10025: 'ϰ',\n 10027: 'ϱ',\n 10029: 'ϲ',\n 10031: 'ϳ',\n 10032: 'ϴ',\n 10034: 'ϵ',\n 10037: '϶',\n 10039: 'Ϸ',\n 10041: 'ϸ',\n 10045: 'Ϲ',\n 10047: 'Ϻ',\n 10048: 'ϻ',\n 10050: 'ϼ',\n 10052: 'Ͻ',\n 10054: 'Ͼ',\n 10057: 'Ͽ',\n 10059: 'Ѐ',\n 10061: 'Ё',\n 10062: 'Ђ',\n 10064: 'Ѓ',\n 10067: 'Є',\n 10070: 'Ѕ',\n 10072: 'І',\n 10074: 'Ї',\n 10075: 'Ј',\n 10078: 'Љ',\n 10081: 'Њ',\n 10084: 'Ћ',\n 10087: 'Ќ',\n 10088: 'Ѝ',\n 10090: 'Ў',\n 10095: 'Џ',\n 10097: 'А',\n 10099: 'Б',\n 10100: 'В',\n 10102: 'Г',\n 10105: 'Д',\n 10107: 'Е',\n 10109: 'Ж',\n 10110: 'З',\n 10116: 'И',\n 10118: 'Й',\n 10119: 'К',\n 10122: 'Л',\n 10127: 'М',\n 10128: 'Н',\n 10130: 'О',\n 10133: 'П',\n 10135: 'Р',\n 10137: 'С',\n 10138: 'Т',\n 10143: 'У',\n 10144: 'Ф',\n 10147: 'Х',\n 10149: 'Ц',\n 10151: 'Ч',\n 10152: 'Ш',\n 10155: 'Щ',\n 10159: 'Ъ',\n 10161: 'Ы',\n 10162: 'Ь',\n 10168: 'Э',\n 10170: 'Ю',\n 10172: 'Я',\n 10173: 'а',\n 10179: 'б',\n 10181: 'в',\n 10189: 'г',\n 11020: 'д',\n 11034: 'е',\n 11041: 'ж',\n 11062: 'з',\n 11064: 'и',\n 11078: 'й',\n 11081: 'к',\n 11087: 'л',\n 11090: 'м',\n 11119: 'н',\n 11130: 'о',\n 11138: 'п',\n 11181: 'р',\n 11189: 'с',\n 100003: 'т',\n 100005: 'у',\n 100007: 'ф',\n 100008: 'х',\n 100010: 'ц',\n 100013: 'ч',\n 100015: 'ш',\n 100017: 'щ',\n 100018: 'ъ',\n 100023: 'ы',\n 100025: 'ь',\n 100027: 'э',\n 100028: 'ю',\n 100032: 'я',\n 100034: 'ѐ',\n 100036: 'ё',\n 100038: 'ђ',\n 100043: 'ѓ',\n 100047: 'є',\n 100049: 'ѕ',\n 100051: 'і',\n 100052: 'ї',\n 100055: 'ј',\n 100058: 'љ',\n 100060: 'њ',\n 100062: 'ћ',\n 100063: 'ќ',\n 100065: 'ѝ',\n 100067: 'ў',\n 100071: 'џ',\n 100074: 'Ѡ',\n 100076: 'ѡ',\n 100078: 'Ѣ',\n 100081: 'ѣ',\n 100083: 'Ѥ',\n 100085: 'ѥ',\n 100086: 'Ѧ',\n 100091: 'ѧ',\n 100093: 'Ѩ',\n 100095: 'ѩ',\n 100098: 'Ѫ',\n 100100: 'ѫ',\n 100102: 'Ѭ',\n 100104: 'ѭ',\n 100107: 'Ѯ',\n 100110: 'ѯ',\n 100112: 'Ѱ',\n 100116: 'ѱ',\n 100118: 'Ѳ',\n 100120: 'ѳ',\n 100121: 'Ѵ',\n 100125: 'ѵ',\n 100127: 'Ѷ',\n 100129: 'ѷ',\n 100131: 'Ѹ',\n 100134: 'ѹ',\n 100136: 'Ѻ',\n 100138: 'ѻ',\n 100143: 'Ѽ',\n 100145: 'ѽ',\n 100148: 'Ѿ',\n 100150: 'ѿ',\n 100152: 'Ҁ',\n 100156: 'ҁ',\n 100159: '҂',\n 100160: '҃',\n 100163: '҄',\n 100165: '҅',\n 100167: '҆',\n 100169: '҇',\n 100173: '҈',\n 100175: '҉',\n 100177: 'Ҋ',\n 100178: 'ҋ',\n 101008: 'Ҍ',\n 101010: 'ҍ',\n 101018: 'Ҏ',\n 101028: 'ҏ',\n 101032: 'Ґ',\n 101034: 'ґ',\n 101036: 'Ғ',\n 101038: 'ғ',\n 101043: 'Ҕ',\n 101052: 'ҕ',\n 101055: 'Җ',\n 101063: 'җ',\n 101065: 'Ҙ',\n 101067: 'ҙ',\n 101071: 'Қ',\n 101076: 'қ',\n 101078: 'Ҝ',\n 101086: 'ҝ',\n 101095: 'Ҟ',\n 101102: 'ҟ',\n 101104: 'Ҡ',\n 101110: 'ҡ',\n 101112: 'Ң',\n 101121: 'ң',\n 101129: 'Ҥ',\n 101131: 'ҥ',\n 101138: 'Ҧ',\n 101145: 'ҧ',\n 101152: 'Ҩ',\n 101160: 'ҩ',\n 101167: 'Ҫ',\n 101169: 'ҫ',\n 101178: 'Ҭ'}"
     },
     "execution_count": 112,
     "metadata": {},
     "output_type": "execute_result"
    }
   ],
   "source": [
    "symbol_mappings"
   ],
   "metadata": {
    "collapsed": false
   }
  },
  {
   "cell_type": "code",
   "execution_count": 113,
   "outputs": [],
   "source": [
    "rules_mapped = {}\n",
    "for key, value in rules.items():\n",
    "    new_value = (symbol_mappings.get(value[0], value[0]), {})\n",
    "    for k, v in value[1].items():\n",
    "        new_key = tuple([symbol_mappings.get(i, i) for i in k])\n",
    "        new_value[1][new_key] = symbol_mappings.get(v, v)\n",
    "    rules_mapped[key] = new_value"
   ],
   "metadata": {
    "collapsed": false
   }
  },
  {
   "cell_type": "code",
   "execution_count": 114,
   "outputs": [
    {
     "name": "stdout",
     "output_type": "stream",
     "text": [
      "{34: ('Ѱ', {('η', 'ν'): 'П', ('γ', 'П'): 'Ь', ('γ', 'ν'): 'Ъ', ('Ъ', 'η'): 'Ь', ('γ', 'η'): 'Ы', ('Ы', 'ν'): 'Ь', ('ρ', 'Ь'): 'Ѱ'}), 10: ('ё', {('δ', 'π'): 'Ѕ', ('α', 'Ѕ'): 'Ј', ('α', 'π'): 'І', ('І', 'δ'): 'Ј', ('α', 'δ'): 'Ї', ('Ї', 'π'): 'Ј', ('μ', 'Ј'): 'ё'})}\n"
     ]
    }
   ],
   "source": [
    "print(rules_mapped)"
   ],
   "metadata": {
    "collapsed": false
   }
  },
  {
   "cell_type": "code",
   "execution_count": 115,
   "outputs": [],
   "source": [
    "atom_sprites_folder = \"../../../vgdl/sprites/atom_sprites\"\n",
    "obstacle_sprites_folder = \"../../../vgdl/sprites/obstacle_sprites/\""
   ],
   "metadata": {
    "collapsed": false
   }
  },
  {
   "cell_type": "code",
   "execution_count": 116,
   "outputs": [],
   "source": [
    "from os import listdir\n",
    "from os.path import isfile, join\n",
    "atom_sprites = [f for f in listdir(atom_sprites_folder) if isfile(join(atom_sprites_folder, f))]\n",
    "obstacle_sprites = [f for f in listdir(obstacle_sprites_folder) if isfile(join(obstacle_sprites_folder, f))]"
   ],
   "metadata": {
    "collapsed": false
   }
  },
  {
   "cell_type": "code",
   "execution_count": 117,
   "outputs": [],
   "source": [
    "atom_sprites = sorted(atom_sprites)"
   ],
   "metadata": {
    "collapsed": false
   }
  },
  {
   "cell_type": "code",
   "execution_count": 118,
   "outputs": [],
   "source": [
    "obstacle_sprites = sorted(obstacle_sprites)"
   ],
   "metadata": {
    "collapsed": false
   }
  },
  {
   "cell_type": "code",
   "execution_count": 119,
   "outputs": [],
   "source": [
    "obstacle_symbols = []\n",
    "for ix in mol_ixs:\n",
    "    obstacle_symbols.append(obstacle_dic[ix])\n",
    "atom_mols_symbols = list(number_set)"
   ],
   "metadata": {
    "collapsed": false
   }
  },
  {
   "cell_type": "code",
   "execution_count": 120,
   "outputs": [
    {
     "data": {
      "text/plain": "[101112, 101036]"
     },
     "execution_count": 120,
     "metadata": {},
     "output_type": "execute_result"
    }
   ],
   "source": [
    "obstacle_symbols"
   ],
   "metadata": {
    "collapsed": false
   }
  },
  {
   "cell_type": "code",
   "execution_count": 121,
   "outputs": [
    {
     "name": "stdout",
     "output_type": "stream",
     "text": [
      "18\n",
      "21\n"
     ]
    }
   ],
   "source": [
    "print(len(atom_mols_symbols))\n",
    "print(len(atom_sprites))"
   ],
   "metadata": {
    "collapsed": false
   }
  },
  {
   "cell_type": "code",
   "execution_count": 122,
   "outputs": [],
   "source": [
    "atom_sprite_mapped = dict(zip(atom_mols_symbols, atom_sprites))\n",
    "obstacle_sprite_mapped = dict(zip(obstacle_symbols, obstacle_sprites))"
   ],
   "metadata": {
    "collapsed": false
   }
  },
  {
   "cell_type": "code",
   "execution_count": 123,
   "outputs": [
    {
     "data": {
      "text/plain": "{0: 'belt1.png',\n 2: 'book1.png',\n 3: 'bookDown.png',\n 100036: 'bookUp.png',\n 6: 'boots1.png',\n 11: 'bow1.png',\n 12: 'bullet1.png',\n 10159: 'candle1.png',\n 16: 'cape1.png',\n 10161: 'cloak1.png',\n 10162: 'diamond1.png',\n 100112: 'eye1.png',\n 15: 'goldsack.png',\n 10133: 'heart1.png',\n 10070: 'helmet1.png',\n 10072: 'key1.png',\n 10074: 'mace1.png',\n 10075: 'mineral1.png'}"
     },
     "execution_count": 123,
     "metadata": {},
     "output_type": "execute_result"
    }
   ],
   "source": [
    "atom_sprite_mapped"
   ],
   "metadata": {
    "collapsed": false
   }
  },
  {
   "cell_type": "code",
   "execution_count": 124,
   "outputs": [],
   "source": [
    "#    goal  > Immovable color=GREEN img=oryx/doorclosed1\n",
    "#    key   > Immovable color=ORANGE img=oryx/key2"
   ],
   "metadata": {
    "collapsed": false
   }
  },
  {
   "cell_type": "code",
   "execution_count": 125,
   "outputs": [],
   "source": [
    "generated_definition = 'generated_definition.txt'\n",
    "with open(generated_definition, 'w'): pass"
   ],
   "metadata": {
    "collapsed": false
   }
  },
  {
   "cell_type": "code",
   "execution_count": 126,
   "outputs": [],
   "source": [
    "atom_obstacle_mappings = {}\n",
    "atom_mols_symbols_obstacles = set(obstacle_symbols).union(atom_mols_symbols)\n",
    "for idx in atom_mols_symbols_obstacles:\n",
    "    atom_obstacle_mappings[idx] = symbol_mappings[idx]"
   ],
   "metadata": {
    "collapsed": false
   }
  },
  {
   "cell_type": "code",
   "execution_count": 127,
   "outputs": [
    {
     "name": "stdout",
     "output_type": "stream",
     "text": [
      "{0, 2, 3, 6, 11, 12, 15, 16, 100112, 10133, 101036, 10159, 10161, 10162, 100036, 10070, 10072, 10074, 10075, 101112}\n"
     ]
    }
   ],
   "source": [
    "print(atom_mols_symbols_obstacles)"
   ],
   "metadata": {
    "collapsed": false
   }
  },
  {
   "cell_type": "code",
   "execution_count": 128,
   "outputs": [
    {
     "data": {
      "text/plain": "{0: 'α',\n 2: 'γ',\n 3: 'δ',\n 6: 'η',\n 11: 'μ',\n 12: 'ν',\n 15: 'π',\n 16: 'ρ',\n 100112: 'Ѱ',\n 10133: 'П',\n 101036: 'Ғ',\n 10159: 'Ъ',\n 10161: 'Ы',\n 10162: 'Ь',\n 100036: 'ё',\n 10070: 'Ѕ',\n 10072: 'І',\n 10074: 'Ї',\n 10075: 'Ј',\n 101112: 'Ң'}"
     },
     "execution_count": 128,
     "metadata": {},
     "output_type": "execute_result"
    }
   ],
   "source": [
    "atom_obstacle_mappings"
   ],
   "metadata": {
    "collapsed": false
   }
  },
  {
   "cell_type": "code",
   "execution_count": 129,
   "outputs": [
    {
     "name": "stdout",
     "output_type": "stream",
     "text": [
      "definition saved: generated_definition.txt\n"
     ]
    }
   ],
   "source": [
    "final_mol_sym, _ = rules[get_final_mol(molecules_G)]\n",
    "\n",
    "text = create_termination_set(atom_obstacle_mappings, obstacle_sprite_mapped, atom_sprite_mapped, only_rules, stepback_rules, mol_obs_rules, final_mol_sym, generated_definition)\n",
    "write_lines_to_file(generated_definition, text)"
   ],
   "metadata": {
    "collapsed": false
   }
  },
  {
   "cell_type": "code",
   "execution_count": 129,
   "outputs": [],
   "source": [],
   "metadata": {
    "collapsed": false
   }
  }
 ],
 "metadata": {
  "kernelspec": {
   "display_name": "Python 3",
   "language": "python",
   "name": "python3"
  },
  "language_info": {
   "codemirror_mode": {
    "name": "ipython",
    "version": 2
   },
   "file_extension": ".py",
   "mimetype": "text/x-python",
   "name": "python",
   "nbconvert_exporter": "python",
   "pygments_lexer": "ipython2",
   "version": "2.7.6"
  }
 },
 "nbformat": 4,
 "nbformat_minor": 0
}
