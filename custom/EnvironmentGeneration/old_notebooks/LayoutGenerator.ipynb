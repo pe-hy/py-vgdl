{
 "cells": [
  {
   "cell_type": "code",
   "execution_count": 121,
   "metadata": {},
   "outputs": [],
   "source": [
    "import matplotlib.pyplot as plt\n",
    "import pickle\n",
    "import sys\n",
    "import os"
   ]
  },
  {
   "cell_type": "code",
   "execution_count": 122,
   "outputs": [],
   "source": [
    "sys.path.append('../utils')\n",
    "pickles = os.path.abspath('../pickles')"
   ],
   "metadata": {
    "collapsed": false
   }
  },
  {
   "cell_type": "code",
   "execution_count": 123,
   "metadata": {},
   "outputs": [
    {
     "name": "stdout",
     "output_type": "stream",
     "text": [
      "The autoreload extension is already loaded. To reload it, use:\n",
      "  %reload_ext autoreload\n"
     ]
    }
   ],
   "source": [
    "%load_ext autoreload\n",
    "%autoreload 2\n",
    "from LayoutUtils import *"
   ]
  },
  {
   "cell_type": "code",
   "execution_count": 124,
   "outputs": [],
   "source": [
    "with open(os.path.join(pickles, 'graph_instances_lst.pkl'), 'rb') as file:\n",
    "    graph_instances_lst = pickle.load(file)"
   ],
   "metadata": {
    "collapsed": false
   }
  },
  {
   "cell_type": "code",
   "execution_count": 125,
   "outputs": [],
   "source": [
    "molecules_G = graph_instances_lst[18]"
   ],
   "metadata": {
    "collapsed": false
   }
  },
  {
   "cell_type": "code",
   "execution_count": 126,
   "outputs": [
    {
     "data": {
      "text/plain": "{'layout_spec': <networkx.classes.digraph.DiGraph at 0x217a8f6f388>,\n 'molecules': [{'obstacle_G_ix': None,\n   'edge': None,\n   'params': [None, None],\n   'molecule': <networkx.classes.digraph.DiGraph at 0x217a8f47b48>,\n   'molecule_ix': 8},\n  {'obstacle_G_ix': 0,\n   'edge': ('g20001', 'g20002'),\n   'params': [None],\n   'molecule': <networkx.classes.digraph.DiGraph at 0x217a8f6fa48>,\n   'molecule_ix': 13},\n  {'obstacle_G_ix': 1,\n   'edge': (120001, 120003),\n   'params': [None, None],\n   'molecule': <networkx.classes.digraph.DiGraph at 0x217a945c4c8>,\n   'molecule_ix': 10}]}"
     },
     "execution_count": 126,
     "metadata": {},
     "output_type": "execute_result"
    }
   ],
   "source": [
    "molecules_G"
   ],
   "metadata": {
    "collapsed": false
   }
  },
  {
   "cell_type": "code",
   "execution_count": 127,
   "metadata": {
    "collapsed": false,
    "jupyter": {
     "outputs_hidden": false
    }
   },
   "outputs": [
    {
     "name": "stdout",
     "output_type": "stream",
     "text": [
      "{10: (2, 1), 13: (1, 0)}\n"
     ]
    }
   ],
   "source": [
    "node_data, num_rooms, group_sizes, group_ids, groups_to_connect, obstacle_ids = load_parse_molecules(molecules_G)\n",
    "print(obstacle_ids)"
   ]
  },
  {
   "cell_type": "code",
   "execution_count": 128,
   "outputs": [
    {
     "data": {
      "text/plain": "{2: {'data': [['11', '3'], ['0', '15', '17']]},\n 1: {'data': [['20', '20'], ['18', '13']]},\n 0: {'data': [['11']]}}"
     },
     "execution_count": 128,
     "metadata": {},
     "output_type": "execute_result"
    }
   ],
   "source": [
    "node_data"
   ],
   "metadata": {
    "collapsed": false
   }
  },
  {
   "cell_type": "code",
   "execution_count": 129,
   "metadata": {
    "collapsed": false,
    "jupyter": {
     "outputs_hidden": false
    }
   },
   "outputs": [],
   "source": [
    "num_columns = 4\n",
    "grid_size = 30\n",
    "min_room_size = 3\n",
    "roomspace = grid_size - (num_columns + 1)"
   ]
  },
  {
   "cell_type": "code",
   "execution_count": 130,
   "metadata": {
    "collapsed": false,
    "jupyter": {
     "outputs_hidden": false
    }
   },
   "outputs": [],
   "source": [
    "divisions = get_divisions(roomspace, num_columns, min_room_size)\n",
    "walkable_points, chosen_rooms = get_choosen_rooms(divisions, min_room_size, num_rooms)\n",
    "\n",
    "distances = {}\n",
    "for i, r1 in enumerate(chosen_rooms):\n",
    "    for j, r2 in enumerate(chosen_rooms):\n",
    "        if i < j:\n",
    "            distances[(i, j)] = get_distance(r1, r2)\n",
    "\n",
    "sorted_pairs = list(sorted(map(lambda x: (x[0], x[1]), distances.items()), key=lambda x: x[1]))\n",
    "G = get_grid_graph(grid_size, walkable_points, chosen_rooms)\n",
    "paths = get_paths(G, sorted_pairs, chosen_rooms, grid_size)\n",
    "paths_lst = [(k, v) for k, v in paths.items()]\n",
    "rooms_points = get_room_points(chosen_rooms)\n",
    "room_G = get_rooms_graph(chosen_rooms, paths_lst, rooms_points)"
   ]
  },
  {
   "cell_type": "code",
   "execution_count": 131,
   "metadata": {
    "collapsed": false,
    "jupyter": {
     "outputs_hidden": false
    }
   },
   "outputs": [
    {
     "name": "stdout",
     "output_type": "stream",
     "text": [
      "0 :::: [{'edges': {14}, 'intersections': set()}, {'edges': {1}, 'intersections': set()}, {'edges': {3}, 'intersections': set()}]\n"
     ]
    }
   ],
   "source": [
    "available_indices = set(range(num_rooms))  # num rooms=součet\n",
    "\n",
    "splits_it = iterate_G(available_indices, group_sizes, 0, room_G)\n",
    "\n",
    "found = False\n",
    "for i, split in enumerate(splits_it):\n",
    "    skels_it = get_possible_split(split)\n",
    "    for skels in skels_it:\n",
    "        if len(skels) == len(group_sizes):\n",
    "            crossing_edges = get_crossing_edges_list(skels, room_G, groups_to_connect, paths_lst)\n",
    "            #if None in crossing_edges:\n",
    "            #    print(crossing_edges)\n",
    "            #    continue\n",
    "            found = True\n",
    "            print(i, '::::', skels)\n",
    "            break\n",
    "    #if i>100:\n",
    "    if found == True:\n",
    "        break\n",
    "#crossing_edges = [] # zakomentovat\n",
    "#string = get_layout_str(walkable_points,skels,crossing_edges,paths_lst,grid_size)\n",
    "#print(string)"
   ]
  },
  {
   "cell_type": "code",
   "execution_count": 132,
   "metadata": {
    "collapsed": false,
    "jupyter": {
     "outputs_hidden": false
    }
   },
   "outputs": [],
   "source": [
    "vertices_edges_dict = nx.get_edge_attributes(room_G, 'corridor_key')"
   ]
  },
  {
   "cell_type": "code",
   "execution_count": 133,
   "metadata": {
    "collapsed": false,
    "jupyter": {
     "outputs_hidden": false
    }
   },
   "outputs": [],
   "source": [
    "skels_rooms_dict = get_rooms_from_skels(skels, vertices_edges_dict)"
   ]
  },
  {
   "cell_type": "code",
   "execution_count": 134,
   "metadata": {
    "collapsed": false,
    "jupyter": {
     "outputs_hidden": false
    }
   },
   "outputs": [
    {
     "data": {
      "text/plain": "{0: [(0, 1)], 1: [(2, 3)], 2: [(4, 5)]}"
     },
     "execution_count": 134,
     "metadata": {},
     "output_type": "execute_result"
    }
   ],
   "source": [
    "skels_rooms_dict"
   ]
  },
  {
   "cell_type": "code",
   "execution_count": 135,
   "metadata": {
    "collapsed": false,
    "jupyter": {
     "outputs_hidden": false
    }
   },
   "outputs": [],
   "source": [
    "room_ids_from_node_data = get_room_ids_for_group(skels_rooms_dict)"
   ]
  },
  {
   "cell_type": "code",
   "execution_count": 136,
   "outputs": [
    {
     "data": {
      "text/plain": "{0: {0, 1}, 1: {2, 3}, 2: {4, 5}}"
     },
     "execution_count": 136,
     "metadata": {},
     "output_type": "execute_result"
    }
   ],
   "source": [
    "room_ids_from_node_data"
   ],
   "metadata": {
    "collapsed": false
   }
  },
  {
   "cell_type": "code",
   "execution_count": 137,
   "metadata": {
    "collapsed": false,
    "jupyter": {
     "outputs_hidden": false
    }
   },
   "outputs": [
    {
     "name": "stdout",
     "output_type": "stream",
     "text": [
      "False\n"
     ]
    }
   ],
   "source": [
    "idx = crossing_edges[0][0]\n",
    "grps = crossing_edges[0][1]\n",
    "intersect = intersect_first_group(idx, grps, room_G, skels, paths_lst)\n",
    "print(intersect)"
   ]
  },
  {
   "cell_type": "code",
   "execution_count": 138,
   "metadata": {
    "collapsed": false,
    "jupyter": {
     "outputs_hidden": false
    }
   },
   "outputs": [],
   "source": [
    "obstacle_room_id = get_obstacle_room(idx, grps, room_G, skels, paths_lst, room_ids_from_node_data)\n",
    "obstacle_pos = get_obstacle_pos(obstacle_room_id,idx,paths_lst,room_G)"
   ]
  },
  {
   "cell_type": "code",
   "execution_count": 139,
   "outputs": [],
   "source": [
    "# 1. skels edge spojuje 2 roomky (20 - edge spojuje 2 vrcholy (roomy))\n",
    "# 2. funkce bude vracet list množin (počet množin = počet group, každá množina bude mít tolik prvků - indexů roomek, kolik je v groupě roomek)\n",
    "# 3. ke každé groupě znám které symboly patří do těch jednotlivých roomek (dle indexů)\n",
    "#   - funkce vezme index roomky z kroku 2 a počet atomů a vrátí pozice rovnající se počtu atomů, které nesmí být stejné, pozice přiřadím atomům které v té roomce mají být\n",
    "#### - pro každou roomku vzít atomy, index roomky z kroku 2 a funkce vrátí\n",
    "# skels:\n",
    "# {0: [(0, 1)], 1: [(2, 4), (2, 3)], 2: [(5, 6)]}\n",
    "# room_ids from groups node_data:\n",
    "# {2: {0, 1}, 1: {2, 3, 4}, 0: {5}}\n",
    "# node_data:\n",
    "# {2: {'data': [['13'], ['8', '7']]},\n",
    "# 1: {'data': [['15'], ['8', '19', '13'], ['19', '8', '7', '0']]},\n",
    "# 0: {'data': [['17']]}}"
   ],
   "metadata": {
    "collapsed": false
   }
  },
  {
   "cell_type": "code",
   "execution_count": 140,
   "metadata": {
    "collapsed": false,
    "jupyter": {
     "outputs_hidden": false
    }
   },
   "outputs": [
    {
     "data": {
      "text/plain": "{2: {'data': [['11', '3'], ['0', '15', '17']]},\n 1: {'data': [['20', '20'], ['18', '13']]},\n 0: {'data': [['11']]}}"
     },
     "execution_count": 140,
     "metadata": {},
     "output_type": "execute_result"
    }
   ],
   "source": [
    "node_data"
   ]
  },
  {
   "cell_type": "code",
   "execution_count": 141,
   "metadata": {
    "collapsed": true,
    "jupyter": {
     "outputs_hidden": true
    }
   },
   "outputs": [
    {
     "data": {
      "text/plain": "defaultdict(list,\n            {0: [(0,\n               [(17, 24),\n                (17, 25),\n                (17, 26),\n                (17, 27),\n                (18, 24),\n                (18, 25),\n                (18, 26),\n                (18, 27),\n                (19, 24),\n                (19, 25),\n                (19, 26),\n                (19, 27),\n                (20, 24),\n                (20, 25),\n                (20, 26),\n                (20, 27),\n                (21, 24),\n                (21, 25),\n                (21, 26),\n                (21, 27),\n                (22, 24),\n                (22, 25),\n                (22, 26),\n                (22, 27),\n                (23, 24),\n                (23, 25),\n                (23, 26),\n                (23, 27),\n                (24, 24),\n                (24, 25),\n                (24, 26),\n                (24, 27),\n                (25, 24),\n                (25, 25),\n                (25, 26),\n                (25, 27),\n                (26, 24),\n                (26, 25),\n                (26, 26),\n                (26, 27),\n                (27, 24),\n                (27, 25),\n                (27, 26),\n                (27, 27)]),\n              (1,\n               [(12, 0),\n                (12, 1),\n                (12, 2),\n                (12, 3),\n                (12, 4),\n                (12, 5),\n                (12, 6),\n                (13, 0),\n                (13, 1),\n                (13, 2),\n                (13, 3),\n                (13, 4),\n                (13, 5),\n                (13, 6),\n                (14, 0),\n                (14, 1),\n                (14, 2),\n                (14, 3),\n                (14, 4),\n                (14, 5),\n                (14, 6),\n                (15, 0),\n                (15, 1),\n                (15, 2),\n                (15, 3),\n                (15, 4),\n                (15, 5),\n                (15, 6),\n                (16, 0),\n                (16, 1),\n                (16, 2),\n                (16, 3),\n                (16, 4),\n                (16, 5),\n                (16, 6),\n                (17, 0),\n                (17, 1),\n                (17, 2),\n                (17, 3),\n                (17, 4),\n                (17, 5),\n                (17, 6),\n                (18, 0),\n                (18, 1),\n                (18, 2),\n                (18, 3),\n                (18, 4),\n                (18, 5),\n                (18, 6),\n                (19, 0),\n                (19, 1),\n                (19, 2),\n                (19, 3),\n                (19, 4),\n                (19, 5),\n                (19, 6),\n                (20, 0),\n                (20, 1),\n                (20, 2),\n                (20, 3),\n                (20, 4),\n                (20, 5),\n                (20, 6),\n                (21, 0),\n                (21, 1),\n                (21, 2),\n                (21, 3),\n                (21, 4),\n                (21, 5),\n                (21, 6)])],\n             1: [(2,\n               [(7, 8),\n                (7, 9),\n                (7, 10),\n                (7, 11),\n                (8, 8),\n                (8, 9),\n                (8, 10),\n                (8, 11),\n                (9, 8),\n                (9, 9),\n                (9, 10),\n                (9, 11),\n                (10, 8),\n                (10, 9),\n                (10, 10),\n                (10, 11)]),\n              (3,\n               [(12, 8),\n                (12, 9),\n                (12, 10),\n                (12, 11),\n                (13, 8),\n                (13, 9),\n                (13, 10),\n                (13, 11),\n                (14, 8),\n                (14, 9),\n                (14, 10),\n                (14, 11),\n                (15, 8),\n                (15, 9),\n                (15, 10),\n                (15, 11),\n                (16, 8),\n                (16, 9),\n                (16, 10),\n                (16, 11),\n                (17, 8),\n                (17, 9),\n                (17, 10),\n                (17, 11),\n                (18, 8),\n                (18, 9),\n                (18, 10),\n                (18, 11),\n                (19, 8),\n                (19, 9),\n                (19, 10),\n                (19, 11),\n                (20, 8),\n                (20, 9),\n                (20, 10),\n                (20, 11),\n                (21, 8),\n                (21, 9),\n                (21, 10),\n                (21, 11),\n                (22, 8),\n                (22, 9),\n                (22, 10),\n                (22, 11)])],\n             2: [(4,\n               [(0, 13),\n                (0, 14),\n                (0, 15),\n                (0, 16),\n                (0, 17),\n                (0, 18),\n                (0, 19),\n                (0, 20),\n                (0, 21),\n                (0, 22),\n                (1, 13),\n                (1, 14),\n                (1, 15),\n                (1, 16),\n                (1, 17),\n                (1, 18),\n                (1, 19),\n                (1, 20),\n                (1, 21),\n                (1, 22),\n                (2, 13),\n                (2, 14),\n                (2, 15),\n                (2, 16),\n                (2, 17),\n                (2, 18),\n                (2, 19),\n                (2, 20),\n                (2, 21),\n                (2, 22),\n                (3, 13),\n                (3, 14),\n                (3, 15),\n                (3, 16),\n                (3, 17),\n                (3, 18),\n                (3, 19),\n                (3, 20),\n                (3, 21),\n                (3, 22)]),\n              (5,\n               [(0, 8),\n                (0, 9),\n                (0, 10),\n                (0, 11),\n                (1, 8),\n                (1, 9),\n                (1, 10),\n                (1, 11),\n                (2, 8),\n                (2, 9),\n                (2, 10),\n                (2, 11),\n                (3, 8),\n                (3, 9),\n                (3, 10),\n                (3, 11),\n                (4, 8),\n                (4, 9),\n                (4, 10),\n                (4, 11),\n                (5, 8),\n                (5, 9),\n                (5, 10),\n                (5, 11)])]})"
     },
     "execution_count": 141,
     "metadata": {},
     "output_type": "execute_result"
    }
   ],
   "source": [
    "groups_rooms_points = get_room_points_from_node_data(room_ids_from_node_data, room_G)\n",
    "groups_rooms_points"
   ]
  },
  {
   "cell_type": "code",
   "execution_count": 142,
   "metadata": {
    "collapsed": false,
    "jupyter": {
     "outputs_hidden": false
    }
   },
   "outputs": [
    {
     "data": {
      "text/plain": "{2: {'data': [['11', '3'], ['0', '15', '17']]},\n 1: {'data': [['20', '20'], ['18', '13']]},\n 0: {'data': [['11']]}}"
     },
     "execution_count": 142,
     "metadata": {},
     "output_type": "execute_result"
    }
   ],
   "source": [
    "node_data"
   ]
  },
  {
   "cell_type": "code",
   "execution_count": 143,
   "outputs": [
    {
     "name": "stdout",
     "output_type": "stream",
     "text": [
      "(21, 12)\n"
     ]
    }
   ],
   "source": [
    "idx = crossing_edges[1][0]\n",
    "groups = crossing_edges[1][1]\n",
    "ob_room = get_obstacle_room(idx, groups, room_G, skels, paths_lst, room_ids_from_node_data)\n",
    "ob_pos = get_obstacle_pos(ob_room, idx, paths_lst, room_G)\n",
    "print(ob_pos)"
   ],
   "metadata": {
    "collapsed": false
   }
  },
  {
   "cell_type": "code",
   "execution_count": 144,
   "outputs": [
    {
     "data": {
      "text/plain": "[(10, (5, 21)), (13, (22, 13))]"
     },
     "execution_count": 144,
     "metadata": {},
     "output_type": "execute_result"
    }
   ],
   "source": [
    "obstacles = get_obstacle_id_and_pos(crossing_edges, room_G, skels, paths_lst, room_ids_from_node_data, obstacle_ids)\n",
    "obstacles"
   ],
   "metadata": {
    "collapsed": false
   }
  },
  {
   "cell_type": "code",
   "execution_count": 145,
   "outputs": [
    {
     "name": "stdout",
     "output_type": "stream",
     "text": [
      "defaultdict(<class 'list'>, {4: [('11', (3, 18), 2), ('3', (1, 15), 2)], 5: [('0', (1, 9), 2), ('15', (3, 11), 2), ('17', (0, 9), 2)], 2: [('20', (10, 9), 1), ('20', (7, 11), 1)], 3: [('18', (19, 9), 1), ('13', (22, 9), 1)], 0: [('11', (26, 27), 0)]})\n"
     ]
    }
   ],
   "source": [
    "atom_placements = get_atom_placements(groups_rooms_points, node_data, obstacles)\n",
    "print(atom_placements)"
   ],
   "metadata": {
    "collapsed": false
   }
  },
  {
   "cell_type": "code",
   "execution_count": 146,
   "outputs": [
    {
     "name": "stdout",
     "output_type": "stream",
     "text": [
      "defaultdict(<class 'list'>, {4: [('11', (3, 18), 2), ('3', (1, 15), 2)], 5: [('0', (1, 9), 2), ('15', (3, 11), 2), ('17', (0, 9), 2)], 2: [('20', (10, 9), 1), ('20', (7, 11), 1)], 3: [('18', (19, 9), 1), ('13', (22, 9), 1)], 0: [('11', (26, 27), 0)]})\n"
     ]
    }
   ],
   "source": [
    "print(atom_placements)"
   ],
   "metadata": {
    "collapsed": false
   }
  },
  {
   "cell_type": "code",
   "execution_count": 147,
   "outputs": [],
   "source": [
    "with open(os.path.join(pickles, 'obstacle_dic.pkl'), 'rb') as file:\n",
    "    obstacle_dic = pickle.load(file)\n",
    "with open(os.path.join(pickles, 'symbol_mappings.pkl'), 'rb') as file:\n",
    "    symbol_mappings = pickle.load(file)"
   ],
   "metadata": {
    "collapsed": false
   }
  },
  {
   "cell_type": "code",
   "execution_count": 148,
   "outputs": [
    {
     "data": {
      "text/plain": "[(10, (5, 21)), (13, (22, 13))]"
     },
     "execution_count": 148,
     "metadata": {},
     "output_type": "execute_result"
    }
   ],
   "source": [
    "obstacles"
   ],
   "metadata": {
    "collapsed": false
   }
  },
  {
   "cell_type": "code",
   "execution_count": 149,
   "outputs": [
    {
     "data": {
      "text/plain": "{(5, 21): 101036,\n (22, 13): 11020,\n (4, 19): 11,\n (2, 16): 3,\n (2, 10): 0,\n (4, 12): 15,\n (1, 10): 17,\n (11, 10): 20,\n (8, 12): 20,\n (20, 10): 18,\n (23, 10): 13,\n (27, 28): 11}"
     },
     "execution_count": 149,
     "metadata": {},
     "output_type": "execute_result"
    }
   ],
   "source": [
    "atom_obstacles_dict = get_atom_obstacle_ids_and_positions(atom_placements, obstacles, obstacle_dic)\n",
    "atom_obstacles_dict"
   ],
   "metadata": {
    "collapsed": false
   }
  },
  {
   "cell_type": "code",
   "execution_count": 150,
   "outputs": [
    {
     "data": {
      "text/plain": "{(5, 21): 'Ғ',\n (22, 13): 'д',\n (4, 19): 'μ',\n (2, 16): 'δ',\n (2, 10): 'α',\n (4, 12): 'π',\n (1, 10): 'ς',\n (11, 10): 'υ',\n (8, 12): 'υ',\n (20, 10): 'σ',\n (23, 10): 'ξ',\n (27, 28): 'μ'}"
     },
     "execution_count": 150,
     "metadata": {},
     "output_type": "execute_result"
    }
   ],
   "source": [
    "atom_obstacles_dict_converted = convert_to_ascii(atom_obstacles_dict, symbol_mappings)\n",
    "atom_obstacles_dict_converted"
   ],
   "metadata": {
    "collapsed": false
   }
  },
  {
   "cell_type": "code",
   "execution_count": 151,
   "outputs": [
    {
     "name": "stdout",
     "output_type": "stream",
     "text": [
      "[5, 10]\n"
     ]
    }
   ],
   "source": [
    "crossing_edge_this = [c_e[0] for c_e in crossing_edges]\n",
    "print(crossing_edge_this)"
   ],
   "metadata": {
    "collapsed": false
   }
  },
  {
   "cell_type": "code",
   "execution_count": 152,
   "outputs": [],
   "source": [
    "agent_pos = get_agent_pos(groups_rooms_points, molecules_G)"
   ],
   "metadata": {
    "collapsed": false
   }
  },
  {
   "cell_type": "code",
   "execution_count": 153,
   "outputs": [
    {
     "data": {
      "text/plain": "(4, 16)"
     },
     "execution_count": 153,
     "metadata": {},
     "output_type": "execute_result"
    }
   ],
   "source": [
    "agent_pos"
   ],
   "metadata": {
    "collapsed": false
   }
  },
  {
   "cell_type": "code",
   "execution_count": 154,
   "outputs": [
    {
     "name": "stdout",
     "output_type": "stream",
     "text": [
      "wwwwwwwwwwwwwwwwwwwwwwwwwwwwww\n",
      "wwwwwwwww.ς..w..........wwwwww\n",
      "wwwwwwwww.α..w..δ.......wwwwww\n",
      "wwwwwwwww....w..........wwwwww\n",
      "wwwwwwwww...π...A..μ....wwwwww\n",
      "wwwwwwwww....wwwwwwwwҒwwwwwwww\n",
      "wwwwwwwww....w........wwwwwwww\n",
      "wwwwwwwwwwwwww.wwwwwwwwwwwwwww\n",
      "wwwwwwwww...υ..wwwwwwwwwwwwwww\n",
      "wwwwwwwww....wwwwwwwwwwwwwwwww\n",
      "wwwwwwwww....wwwwwwwwwwwwwwwww\n",
      "wwwwwwwww.υ..wwwwwwwwwwwwwwwww\n",
      "wwwwwwwwwwww.wwwwwwwwwwwwwwwww\n",
      "w.......w....wwwwwwwwwwwwwwwww\n",
      "w.......w....wwwwwwwwwwwwwwwww\n",
      "w.......w....wwwwwwwwwwwwwwwww\n",
      "w.......w....wwwwwwwwwwwwwwwww\n",
      "w.......w....wwwwwwwwwwwwwwwww\n",
      "w.......w....wwwwwwwwwwww....w\n",
      "w.......w....wwwwwwwwwwww....w\n",
      "w.......w.σ..wwwwwwwwwwww....w\n",
      "w.......w....wwwwwwwwwwww....w\n",
      "w.......w....д...............w\n",
      "wwww.wwww.ξ..wwwwwwwwwwww....w\n",
      "wwww.wwwwwwwwwwwwwwwwwwww....w\n",
      "wwww.wwwwwwwwwwwwwwwwwwww....w\n",
      "wwww.wwwwwwww................w\n",
      "wwww..........wwwwwwwwwww...μw\n",
      "wwwwwwwwwwwwwwwwwwwwwwwww....w\n",
      "wwwwwwwwwwwwwwwwwwwwwwwwwwwwww\n",
      "\n"
     ]
    }
   ],
   "source": [
    "layout = get_layout_str_with_atoms(walkable_points, skels, crossing_edge_this, paths_lst, grid_size, atom_placements, obstacles, atom_obstacles_dict_converted, agent_pos)\n",
    "print(layout)"
   ],
   "metadata": {
    "collapsed": false
   }
  },
  {
   "cell_type": "code",
   "execution_count": 155,
   "outputs": [],
   "source": [
    "with open('generated_layout.txt', 'w', encoding=\"utf-8\") as file:\n",
    "    file.write(layout)"
   ],
   "metadata": {
    "collapsed": false
   }
  },
  {
   "cell_type": "code",
   "execution_count": 156,
   "outputs": [],
   "source": [
    "#DEBUG (deprecated):"
   ],
   "metadata": {
    "collapsed": false
   }
  },
  {
   "cell_type": "code",
   "execution_count": 157,
   "outputs": [
    {
     "name": "stdout",
     "output_type": "stream",
     "text": [
      "[{'edges': {14}, 'intersections': set()}, {'edges': {1}, 'intersections': set()}, {'edges': {3}, 'intersections': set()}]\n"
     ]
    }
   ],
   "source": [
    "print(skels)"
   ],
   "metadata": {
    "collapsed": false
   }
  },
  {
   "cell_type": "code",
   "execution_count": 158,
   "outputs": [],
   "source": [
    "sorted_pairs = list(sorted(map(lambda x: (x[0], x[1]), distances.items()), key=lambda x: x[1]))"
   ],
   "metadata": {
    "collapsed": false
   }
  },
  {
   "cell_type": "code",
   "execution_count": 159,
   "outputs": [],
   "source": [
    "G = get_grid_graph(grid_size, walkable_points, chosen_rooms)"
   ],
   "metadata": {
    "collapsed": false
   }
  },
  {
   "cell_type": "code",
   "execution_count": 160,
   "outputs": [],
   "source": [
    "paths = get_paths(G, sorted_pairs, chosen_rooms, grid_size)"
   ],
   "metadata": {
    "collapsed": false
   }
  },
  {
   "cell_type": "code",
   "execution_count": 161,
   "outputs": [],
   "source": [
    "paths_lst = [(k, v) for k, v in paths.items()]\n",
    "rooms_points = get_room_points(chosen_rooms)\n",
    "\n",
    "room_G = get_rooms_graph(chosen_rooms, paths_lst, rooms_points)"
   ],
   "metadata": {
    "collapsed": false
   }
  },
  {
   "cell_type": "code",
   "execution_count": 162,
   "outputs": [
    {
     "data": {
      "text/plain": "<Figure size 640x480 with 1 Axes>",
      "image/png": "[encoded data removed]"
     },
     "metadata": {},
     "output_type": "display_data"
    }
   ],
   "source": [
    "nx.draw(room_G, with_labels=True)\n",
    "edgs = room_G.edges(data=True)"
   ],
   "metadata": {
    "collapsed": false
   }
  }
 ],
 "metadata": {
  "kernelspec": {
   "display_name": "Python 3",
   "language": "python",
   "name": "python3"
  },
  "language_info": {
   "codemirror_mode": {
    "name": "ipython",
    "version": 3
   },
   "file_extension": ".py",
   "mimetype": "text/x-python",
   "name": "python",
   "nbconvert_exporter": "python",
   "pygments_lexer": "ipython3",
   "version": "3.7.6"
  }
 },
 "nbformat": 4,
 "nbformat_minor": 4
}
