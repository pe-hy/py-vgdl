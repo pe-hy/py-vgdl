{
 "cells": [
  {
   "cell_type": "code",
   "execution_count": 631,
   "metadata": {},
   "outputs": [],
   "source": [
    "import matplotlib.pyplot as plt\n",
    "import pickle"
   ]
  },
  {
   "cell_type": "code",
   "execution_count": 632,
   "metadata": {},
   "outputs": [
    {
     "name": "stdout",
     "output_type": "stream",
     "text": [
      "The autoreload extension is already loaded. To reload it, use:\n",
      "  %reload_ext autoreload\n"
     ]
    }
   ],
   "source": [
    "%load_ext autoreload\n",
    "%autoreload 2\n",
    "from LayoutUtils import *"
   ]
  },
  {
   "cell_type": "code",
   "execution_count": 633,
   "outputs": [],
   "source": [
    "with open('graph_instances_lst.pkl', 'rb') as file:\n",
    "    graph_instances_lst = pickle.load(file)"
   ],
   "metadata": {
    "collapsed": false
   }
  },
  {
   "cell_type": "code",
   "execution_count": 634,
   "outputs": [],
   "source": [
    "molecules_G = graph_instances_lst[42]"
   ],
   "metadata": {
    "collapsed": false
   }
  },
  {
   "cell_type": "code",
   "execution_count": 635,
   "outputs": [
    {
     "data": {
      "text/plain": "{'layout_spec': <networkx.classes.digraph.DiGraph at 0x23bd16bf548>,\n 'molecules': [{'obstacle_G_ix': None,\n   'edge': None,\n   'params': [None, None],\n   'molecule': <networkx.classes.digraph.DiGraph at 0x23bd1701348>,\n   'molecule_ix': 33},\n  {'obstacle_G_ix': 0,\n   'edge': ('g90001', 'g90004'),\n   'params': [None],\n   'molecule': <networkx.classes.digraph.DiGraph at 0x23bce4a0448>,\n   'molecule_ix': 1},\n  {'obstacle_G_ix': 1,\n   'edge': (160001, 160003),\n   'params': [None],\n   'molecule': <networkx.classes.digraph.DiGraph at 0x23bce600308>,\n   'molecule_ix': 11}]}"
     },
     "execution_count": 635,
     "metadata": {},
     "output_type": "execute_result"
    }
   ],
   "source": [
    "molecules_G"
   ],
   "metadata": {
    "collapsed": false
   }
  },
  {
   "cell_type": "code",
   "execution_count": 636,
   "metadata": {
    "collapsed": false,
    "jupyter": {
     "outputs_hidden": false
    }
   },
   "outputs": [
    {
     "name": "stdout",
     "output_type": "stream",
     "text": [
      "[(2, {'data': [['19', '17', '14'], ['11']]}), (1, {'data': [['17', '14', '18'], ['0']]}), (0, {'data': [['6']]})]\n",
      "[(2, 1, {'obstacle_id': 11}), (1, 0, {'obstacle_id': 1})]\n",
      "{11: (2, 1), 1: (1, 0)}\n"
     ]
    }
   ],
   "source": [
    "node_data, num_rooms, group_sizes, group_ids, groups_to_connect, obstacle_ids = load_parse_molecules(molecules_G)\n",
    "print(obstacle_ids)"
   ]
  },
  {
   "cell_type": "code",
   "execution_count": 637,
   "outputs": [
    {
     "data": {
      "text/plain": "{2: {'data': [['19', '17', '14'], ['11']]},\n 1: {'data': [['17', '14', '18'], ['0']]},\n 0: {'data': [['6']]}}"
     },
     "execution_count": 637,
     "metadata": {},
     "output_type": "execute_result"
    }
   ],
   "source": [
    "node_data"
   ],
   "metadata": {
    "collapsed": false
   }
  },
  {
   "cell_type": "code",
   "execution_count": 638,
   "metadata": {
    "collapsed": false,
    "jupyter": {
     "outputs_hidden": false
    }
   },
   "outputs": [],
   "source": [
    "num_columns = 4\n",
    "grid_size = 30\n",
    "min_room_size = 3\n",
    "roomspace = grid_size - (num_columns + 1)"
   ]
  },
  {
   "cell_type": "code",
   "execution_count": 639,
   "metadata": {
    "collapsed": false,
    "jupyter": {
     "outputs_hidden": false
    }
   },
   "outputs": [],
   "source": [
    "divisions = get_divisions(roomspace, num_columns, min_room_size)\n",
    "walkable_points, chosen_rooms = get_choosen_rooms(divisions, min_room_size, num_rooms)\n",
    "\n",
    "distances = {}\n",
    "for i, r1 in enumerate(chosen_rooms):\n",
    "    for j, r2 in enumerate(chosen_rooms):\n",
    "        if i < j:\n",
    "            distances[(i, j)] = get_distance(r1, r2)\n",
    "\n",
    "sorted_pairs = list(sorted(map(lambda x: (x[0], x[1]), distances.items()), key=lambda x: x[1]))\n",
    "G = get_grid_graph(grid_size, walkable_points, chosen_rooms)\n",
    "paths = get_paths(G, sorted_pairs, chosen_rooms, grid_size)\n",
    "paths_lst = [(k, v) for k, v in paths.items()]\n",
    "rooms_points = get_room_points(chosen_rooms)\n",
    "room_G = get_rooms_graph(chosen_rooms, paths_lst, rooms_points)"
   ]
  },
  {
   "cell_type": "code",
   "execution_count": 640,
   "metadata": {
    "collapsed": false,
    "jupyter": {
     "outputs_hidden": false
    }
   },
   "outputs": [
    {
     "name": "stdout",
     "output_type": "stream",
     "text": [
      "[(2, (2, 1)), (10, (1, 0))]\n",
      "0 :::: [{'edges': {0}, 'intersections': set()}, {'edges': {1}, 'intersections': set()}, {'edges': {9}, 'intersections': {3, 13, 14}}]\n"
     ]
    }
   ],
   "source": [
    "available_indices = set(range(num_rooms))  # num rooms=součet\n",
    "\n",
    "splits_it = iterate_G(available_indices, group_sizes, 0, room_G)\n",
    "\n",
    "found = False\n",
    "for i, split in enumerate(splits_it):\n",
    "    skels_it = get_possible_split(split)\n",
    "    for skels in skels_it:\n",
    "        if len(skels) == len(group_sizes):\n",
    "            crossing_edges = get_crossing_edges_list(skels, room_G, groups_to_connect, paths_lst)\n",
    "            #if None in crossing_edges:\n",
    "            #    print(crossing_edges)\n",
    "            #    continue\n",
    "            found = True\n",
    "            print(i, '::::', skels)\n",
    "            break\n",
    "    #if i>100:\n",
    "    if found == True:\n",
    "        break\n",
    "#crossing_edges = [] # zakomentovat\n",
    "#string = get_layout_str(walkable_points,skels,crossing_edges,paths_lst,grid_size)\n",
    "#print(string)"
   ]
  },
  {
   "cell_type": "code",
   "execution_count": 641,
   "metadata": {
    "collapsed": false,
    "jupyter": {
     "outputs_hidden": false
    }
   },
   "outputs": [],
   "source": [
    "vertices_edges_dict = nx.get_edge_attributes(room_G, 'corridor_key')"
   ]
  },
  {
   "cell_type": "code",
   "execution_count": 642,
   "metadata": {
    "collapsed": false,
    "jupyter": {
     "outputs_hidden": false
    }
   },
   "outputs": [],
   "source": [
    "skels_rooms_dict = get_rooms_from_skels(skels, vertices_edges_dict)"
   ]
  },
  {
   "cell_type": "code",
   "execution_count": 643,
   "metadata": {
    "collapsed": false,
    "jupyter": {
     "outputs_hidden": false
    }
   },
   "outputs": [
    {
     "data": {
      "text/plain": "{0: [(0, 1)], 1: [(2, 3)], 2: [(4, 5)]}"
     },
     "execution_count": 643,
     "metadata": {},
     "output_type": "execute_result"
    }
   ],
   "source": [
    "skels_rooms_dict"
   ]
  },
  {
   "cell_type": "code",
   "execution_count": 644,
   "metadata": {
    "collapsed": false,
    "jupyter": {
     "outputs_hidden": false
    }
   },
   "outputs": [],
   "source": [
    "room_ids_from_node_data = get_room_ids_for_group(skels_rooms_dict)"
   ]
  },
  {
   "cell_type": "code",
   "execution_count": 645,
   "outputs": [
    {
     "data": {
      "text/plain": "{0: {0, 1}, 1: {2, 3}, 2: {4, 5}}"
     },
     "execution_count": 645,
     "metadata": {},
     "output_type": "execute_result"
    }
   ],
   "source": [
    "room_ids_from_node_data"
   ],
   "metadata": {
    "collapsed": false
   }
  },
  {
   "cell_type": "code",
   "execution_count": 646,
   "metadata": {
    "collapsed": false,
    "jupyter": {
     "outputs_hidden": false
    }
   },
   "outputs": [
    {
     "name": "stdout",
     "output_type": "stream",
     "text": [
      "False\n"
     ]
    }
   ],
   "source": [
    "idx = crossing_edges[0][0]\n",
    "grps = crossing_edges[0][1]\n",
    "intersect = intersect_first_group(idx, grps, room_G, skels, paths_lst)\n",
    "print(intersect)"
   ]
  },
  {
   "cell_type": "code",
   "execution_count": 647,
   "metadata": {
    "collapsed": false,
    "jupyter": {
     "outputs_hidden": false
    }
   },
   "outputs": [],
   "source": [
    "obstacle_room_id = get_obstacle_room(idx, grps, room_G, skels, paths_lst, room_ids_from_node_data)\n",
    "obstacle_pos = get_obstacle_pos(obstacle_room_id,idx,paths_lst,room_G)"
   ]
  },
  {
   "cell_type": "code",
   "execution_count": 648,
   "outputs": [],
   "source": [
    "# 1. skels edge spojuje 2 roomky (20 - edge spojuje 2 vrcholy (roomy))\n",
    "# 2. funkce bude vracet list množin (počet množin = počet group, každá množina bude mít tolik prvků - indexů roomek, kolik je v groupě roomek)\n",
    "# 3. ke každé groupě znám které symboly patří do těch jednotlivých roomek (dle indexů)\n",
    "#   - funkce vezme index roomky z kroku 2 a počet atomů a vrátí pozice rovnající se počtu atomů, které nesmí být stejné, pozice přiřadím atomům které v té roomce mají být\n",
    "#### - pro každou roomku vzít atomy, index roomky z kroku 2 a funkce vrátí\n",
    "# skels:\n",
    "# {0: [(0, 1)], 1: [(2, 4), (2, 3)], 2: [(5, 6)]}\n",
    "# room_ids from groups node_data:\n",
    "# {2: {0, 1}, 1: {2, 3, 4}, 0: {5}}\n",
    "# node_data:\n",
    "# {2: {'data': [['13'], ['8', '7']]},\n",
    "# 1: {'data': [['15'], ['8', '19', '13'], ['19', '8', '7', '0']]},\n",
    "# 0: {'data': [['17']]}}"
   ],
   "metadata": {
    "collapsed": false
   }
  },
  {
   "cell_type": "code",
   "execution_count": 649,
   "metadata": {
    "collapsed": false,
    "jupyter": {
     "outputs_hidden": false
    }
   },
   "outputs": [
    {
     "data": {
      "text/plain": "{2: {'data': [['19', '17', '14'], ['11']]},\n 1: {'data': [['17', '14', '18'], ['0']]},\n 0: {'data': [['6']]}}"
     },
     "execution_count": 649,
     "metadata": {},
     "output_type": "execute_result"
    }
   ],
   "source": [
    "node_data"
   ]
  },
  {
   "cell_type": "code",
   "execution_count": 650,
   "metadata": {
    "collapsed": true,
    "jupyter": {
     "outputs_hidden": true
    }
   },
   "outputs": [
    {
     "data": {
      "text/plain": "defaultdict(list,\n            {0: [(0,\n               [(18, 0),\n                (18, 1),\n                (18, 2),\n                (18, 3),\n                (18, 4),\n                (18, 5),\n                (18, 6),\n                (19, 0),\n                (19, 1),\n                (19, 2),\n                (19, 3),\n                (19, 4),\n                (19, 5),\n                (19, 6),\n                (20, 0),\n                (20, 1),\n                (20, 2),\n                (20, 3),\n                (20, 4),\n                (20, 5),\n                (20, 6),\n                (21, 0),\n                (21, 1),\n                (21, 2),\n                (21, 3),\n                (21, 4),\n                (21, 5),\n                (21, 6),\n                (22, 0),\n                (22, 1),\n                (22, 2),\n                (22, 3),\n                (22, 4),\n                (22, 5),\n                (22, 6),\n                (23, 0),\n                (23, 1),\n                (23, 2),\n                (23, 3),\n                (23, 4),\n                (23, 5),\n                (23, 6)]),\n              (1,\n               [(17, 8),\n                (17, 9),\n                (17, 10),\n                (18, 8),\n                (18, 9),\n                (18, 10),\n                (19, 8),\n                (19, 9),\n                (19, 10),\n                (20, 8),\n                (20, 9),\n                (20, 10),\n                (21, 8),\n                (21, 9),\n                (21, 10),\n                (22, 8),\n                (22, 9),\n                (22, 10),\n                (23, 8),\n                (23, 9),\n                (23, 10),\n                (24, 8),\n                (24, 9),\n                (24, 10),\n                (25, 8),\n                (25, 9),\n                (25, 10),\n                (26, 8),\n                (26, 9),\n                (26, 10),\n                (27, 8),\n                (27, 9),\n                (27, 10)])],\n             1: [(2,\n               [(0, 12),\n                (0, 13),\n                (0, 14),\n                (0, 15),\n                (0, 16),\n                (0, 17),\n                (0, 18),\n                (0, 19),\n                (0, 20),\n                (0, 21),\n                (0, 22),\n                (0, 23),\n                (1, 12),\n                (1, 13),\n                (1, 14),\n                (1, 15),\n                (1, 16),\n                (1, 17),\n                (1, 18),\n                (1, 19),\n                (1, 20),\n                (1, 21),\n                (1, 22),\n                (1, 23),\n                (2, 12),\n                (2, 13),\n                (2, 14),\n                (2, 15),\n                (2, 16),\n                (2, 17),\n                (2, 18),\n                (2, 19),\n                (2, 20),\n                (2, 21),\n                (2, 22),\n                (2, 23),\n                (3, 12),\n                (3, 13),\n                (3, 14),\n                (3, 15),\n                (3, 16),\n                (3, 17),\n                (3, 18),\n                (3, 19),\n                (3, 20),\n                (3, 21),\n                (3, 22),\n                (3, 23),\n                (4, 12),\n                (4, 13),\n                (4, 14),\n                (4, 15),\n                (4, 16),\n                (4, 17),\n                (4, 18),\n                (4, 19),\n                (4, 20),\n                (4, 21),\n                (4, 22),\n                (4, 23),\n                (5, 12),\n                (5, 13),\n                (5, 14),\n                (5, 15),\n                (5, 16),\n                (5, 17),\n                (5, 18),\n                (5, 19),\n                (5, 20),\n                (5, 21),\n                (5, 22),\n                (5, 23)]),\n              (3,\n               [(7, 12),\n                (7, 13),\n                (7, 14),\n                (7, 15),\n                (7, 16),\n                (7, 17),\n                (7, 18),\n                (7, 19),\n                (7, 20),\n                (7, 21),\n                (7, 22),\n                (7, 23),\n                (8, 12),\n                (8, 13),\n                (8, 14),\n                (8, 15),\n                (8, 16),\n                (8, 17),\n                (8, 18),\n                (8, 19),\n                (8, 20),\n                (8, 21),\n                (8, 22),\n                (8, 23),\n                (9, 12),\n                (9, 13),\n                (9, 14),\n                (9, 15),\n                (9, 16),\n                (9, 17),\n                (9, 18),\n                (9, 19),\n                (9, 20),\n                (9, 21),\n                (9, 22),\n                (9, 23),\n                (10, 12),\n                (10, 13),\n                (10, 14),\n                (10, 15),\n                (10, 16),\n                (10, 17),\n                (10, 18),\n                (10, 19),\n                (10, 20),\n                (10, 21),\n                (10, 22),\n                (10, 23),\n                (11, 12),\n                (11, 13),\n                (11, 14),\n                (11, 15),\n                (11, 16),\n                (11, 17),\n                (11, 18),\n                (11, 19),\n                (11, 20),\n                (11, 21),\n                (11, 22),\n                (11, 23),\n                (12, 12),\n                (12, 13),\n                (12, 14),\n                (12, 15),\n                (12, 16),\n                (12, 17),\n                (12, 18),\n                (12, 19),\n                (12, 20),\n                (12, 21),\n                (12, 22),\n                (12, 23),\n                (13, 12),\n                (13, 13),\n                (13, 14),\n                (13, 15),\n                (13, 16),\n                (13, 17),\n                (13, 18),\n                (13, 19),\n                (13, 20),\n                (13, 21),\n                (13, 22),\n                (13, 23)])],\n             2: [(4,\n               [(0, 25),\n                (0, 26),\n                (0, 27),\n                (1, 25),\n                (1, 26),\n                (1, 27),\n                (2, 25),\n                (2, 26),\n                (2, 27),\n                (3, 25),\n                (3, 26),\n                (3, 27),\n                (4, 25),\n                (4, 26),\n                (4, 27)]),\n              (5,\n               [(17, 25),\n                (17, 26),\n                (17, 27),\n                (18, 25),\n                (18, 26),\n                (18, 27),\n                (19, 25),\n                (19, 26),\n                (19, 27),\n                (20, 25),\n                (20, 26),\n                (20, 27),\n                (21, 25),\n                (21, 26),\n                (21, 27),\n                (22, 25),\n                (22, 26),\n                (22, 27),\n                (23, 25),\n                (23, 26),\n                (23, 27),\n                (24, 25),\n                (24, 26),\n                (24, 27),\n                (25, 25),\n                (25, 26),\n                (25, 27),\n                (26, 25),\n                (26, 26),\n                (26, 27),\n                (27, 25),\n                (27, 26),\n                (27, 27)])]})"
     },
     "execution_count": 650,
     "metadata": {},
     "output_type": "execute_result"
    }
   ],
   "source": [
    "groups_rooms_points = get_room_points_from_node_data(room_ids_from_node_data, room_G)\n",
    "groups_rooms_points"
   ]
  },
  {
   "cell_type": "code",
   "execution_count": 651,
   "metadata": {
    "collapsed": false,
    "jupyter": {
     "outputs_hidden": false
    }
   },
   "outputs": [
    {
     "data": {
      "text/plain": "{2: {'data': [['19', '17', '14'], ['11']]},\n 1: {'data': [['17', '14', '18'], ['0']]},\n 0: {'data': [['6']]}}"
     },
     "execution_count": 651,
     "metadata": {},
     "output_type": "execute_result"
    }
   ],
   "source": [
    "node_data"
   ]
  },
  {
   "cell_type": "code",
   "execution_count": 652,
   "outputs": [
    {
     "name": "stdout",
     "output_type": "stream",
     "text": [
      "(3, 11)\n"
     ]
    }
   ],
   "source": [
    "idx = crossing_edges[1][0]\n",
    "groups = crossing_edges[1][1]\n",
    "ob_room = get_obstacle_room(idx, groups, room_G, skels, paths_lst, room_ids_from_node_data)\n",
    "ob_pos = get_obstacle_pos(ob_room, idx, paths_lst, room_G)\n",
    "print(ob_pos)"
   ],
   "metadata": {
    "collapsed": false
   }
  },
  {
   "cell_type": "code",
   "execution_count": 653,
   "outputs": [
    {
     "name": "stdout",
     "output_type": "stream",
     "text": [
      "(2, 1)\n",
      "(1, 0)\n"
     ]
    },
    {
     "data": {
      "text/plain": "[(11, (5, 25)), (1, (4, 12))]"
     },
     "execution_count": 653,
     "metadata": {},
     "output_type": "execute_result"
    }
   ],
   "source": [
    "obstacles = get_obstacle_id_and_pos(crossing_edges, room_G, skels, paths_lst, room_ids_from_node_data, obstacle_ids)\n",
    "obstacles"
   ],
   "metadata": {
    "collapsed": false
   }
  },
  {
   "cell_type": "code",
   "execution_count": 654,
   "outputs": [
    {
     "name": "stdout",
     "output_type": "stream",
     "text": [
      "[(5, 25), (4, 12), (3, 25)]\n",
      "[(5, 25), (4, 12), (3, 25), (0, 27)]\n",
      "[(5, 25), (4, 12), (3, 25), (0, 27), (2, 25)]\n",
      "[(5, 25), (4, 12), (26, 26)]\n",
      "[(5, 25), (4, 12), (0, 23)]\n",
      "[(5, 25), (4, 12), (0, 23), (5, 12)]\n",
      "[(5, 25), (4, 12), (0, 23), (5, 12), (4, 19)]\n",
      "[(5, 25), (4, 12), (11, 13)]\n",
      "[(5, 25), (4, 12), (19, 5)]\n",
      "defaultdict(<class 'list'>, {4: [('19', (3, 25), 2), ('17', (0, 27), 2), ('14', (2, 25), 2)], 5: [('11', (26, 26), 2)], 2: [('17', (0, 23), 1), ('14', (5, 12), 1), ('18', (4, 19), 1)], 3: [('0', (11, 13), 1)], 0: [('6', (19, 5), 0)]})\n"
     ]
    }
   ],
   "source": [
    "atom_placements = get_atom_placements(groups_rooms_points, node_data, obstacles)\n",
    "print(atom_placements)"
   ],
   "metadata": {
    "collapsed": false
   }
  },
  {
   "cell_type": "code",
   "execution_count": 655,
   "outputs": [
    {
     "name": "stdout",
     "output_type": "stream",
     "text": [
      "defaultdict(<class 'list'>, {4: [('19', (3, 25), 2), ('17', (0, 27), 2), ('14', (2, 25), 2)], 5: [('11', (26, 26), 2)], 2: [('17', (0, 23), 1), ('14', (5, 12), 1), ('18', (4, 19), 1)], 3: [('0', (11, 13), 1)], 0: [('6', (19, 5), 0)]})\n"
     ]
    }
   ],
   "source": [
    "print(atom_placements)"
   ],
   "metadata": {
    "collapsed": false
   }
  },
  {
   "cell_type": "code",
   "execution_count": 656,
   "outputs": [],
   "source": [
    "with open('obstacle_dic.pkl', 'rb') as file:\n",
    "    obstacle_dic = pickle.load(file)\n",
    "with open('symbol_mappings.pkl', 'rb') as file:\n",
    "    symbol_mappings = pickle.load(file)"
   ],
   "metadata": {
    "collapsed": false
   }
  },
  {
   "cell_type": "code",
   "execution_count": 657,
   "outputs": [
    {
     "data": {
      "text/plain": "[(11, (5, 25)), (1, (4, 12))]"
     },
     "execution_count": 657,
     "metadata": {},
     "output_type": "execute_result"
    }
   ],
   "source": [
    "obstacles"
   ],
   "metadata": {
    "collapsed": false
   }
  },
  {
   "cell_type": "code",
   "execution_count": 658,
   "outputs": [
    {
     "data": {
      "text/plain": "{(5, 25): 11065,\n (4, 12): 11005,\n (4, 26): 19,\n (1, 28): 17,\n (3, 26): 14,\n (27, 27): 11,\n (1, 24): 17,\n (6, 13): 14,\n (5, 20): 18,\n (12, 14): 0,\n (20, 6): 6}"
     },
     "execution_count": 658,
     "metadata": {},
     "output_type": "execute_result"
    }
   ],
   "source": [
    "atom_obstacles_dict = get_atom_obstacle_ids_and_positions(atom_placements, obstacles, obstacle_dic)\n",
    "atom_obstacles_dict"
   ],
   "metadata": {
    "collapsed": false
   }
  },
  {
   "cell_type": "code",
   "execution_count": 659,
   "outputs": [
    {
     "data": {
      "text/plain": "{(5, 25): 'Ы',\n (4, 12): 'Ц',\n (4, 26): 'τ',\n (1, 28): 'ς',\n (3, 26): 'ο',\n (27, 27): 'μ',\n (1, 24): 'ς',\n (6, 13): 'ο',\n (5, 20): 'σ',\n (12, 14): 'α',\n (20, 6): 'η'}"
     },
     "execution_count": 659,
     "metadata": {},
     "output_type": "execute_result"
    }
   ],
   "source": [
    "atom_obstacles_dict_converted = convert_to_ascii(atom_obstacles_dict, symbol_mappings)\n",
    "atom_obstacles_dict_converted"
   ],
   "metadata": {
    "collapsed": false
   }
  },
  {
   "cell_type": "code",
   "execution_count": 660,
   "outputs": [
    {
     "name": "stdout",
     "output_type": "stream",
     "text": [
      "[2, 10]\n"
     ]
    }
   ],
   "source": [
    "crossing_edge_this = [c_e[0] for c_e in crossing_edges]\n",
    "print(crossing_edge_this)"
   ],
   "metadata": {
    "collapsed": false
   }
  },
  {
   "cell_type": "code",
   "execution_count": 661,
   "outputs": [],
   "source": [
    "agent_pos = get_agent_pos(groups_rooms_points, molecules_G)"
   ],
   "metadata": {
    "collapsed": false
   }
  },
  {
   "cell_type": "code",
   "execution_count": 662,
   "outputs": [
    {
     "data": {
      "text/plain": "(1, 26)"
     },
     "execution_count": 662,
     "metadata": {},
     "output_type": "execute_result"
    }
   ],
   "source": [
    "agent_pos"
   ],
   "metadata": {
    "collapsed": false
   }
  },
  {
   "cell_type": "code",
   "execution_count": 663,
   "outputs": [
    {
     "name": "stdout",
     "output_type": "stream",
     "text": [
      "wwwwwwwwwwwwwwwwwwwwwwwwwwwwww\n",
      "wwwwwwwwwwwww...........ςwA.ςw\n",
      "wwwwwwwwwwwww............w...w\n",
      "wwwwwwwwwwwww............wο..w\n",
      "wwww........Ц............wτ..w\n",
      "wwww.wwwwwwww.......σ....Ы...w\n",
      "wwww.wwwwwwwwο...........ww.ww\n",
      "wwww.wwwwwwwwwwwwwww.wwwwww.ww\n",
      "wwww.wwwwwwww............ww..w\n",
      "wwww.wwwwwwww............www.w\n",
      "wwww.wwwwwwww............www.w\n",
      "wwww.wwwwwwww............www.w\n",
      "wwww.wwwwwwww.α..........www.w\n",
      "wwww.wwwwwwww............www.w\n",
      "wwww.wwwwwwww............www.w\n",
      "wwww.wwwwwwwwwwwwwwwwwwwwwww.w\n",
      "wwww.wwwwwwwwwwwwwwwwwwwwwww.w\n",
      "wwww.wwwwwwwwwwwwwwwwwwwwwww.w\n",
      "wwww.wwww...wwwwwwwwwwwwww...w\n",
      "w.......w...wwwwwwwwwwwwww...w\n",
      "w.....η.w...wwwwwwwwwwwwww...w\n",
      "w.......w...wwwwwwwwwwwwww...w\n",
      "w.......w...wwwwwwwwwwwwww...w\n",
      "w...........wwwwwwwwwwwwww...w\n",
      "w.......w...wwwwwwwwwwwwww...w\n",
      "wwwwwwwww...wwwwwwwwwwwwww...w\n",
      "wwwwwwwww...wwwwwwwwwwwwww...w\n",
      "wwwwwwwww...wwwwwwwwwwwwww.μ.w\n",
      "wwwwwwwww...wwwwwwwwwwwwww...w\n",
      "wwwwwwwwwwwwwwwwwwwwwwwwwwwwww\n",
      "\n"
     ]
    }
   ],
   "source": [
    "layout = get_layout_str_with_atoms(walkable_points, skels, crossing_edge_this, paths_lst, grid_size, atom_placements, obstacles, atom_obstacles_dict_converted, agent_pos)\n",
    "print(layout)"
   ],
   "metadata": {
    "collapsed": false
   }
  },
  {
   "cell_type": "code",
   "execution_count": 664,
   "outputs": [],
   "source": [
    "with open('generated_layout.txt', 'w', encoding=\"utf-8\") as file:\n",
    "    file.write(layout)"
   ],
   "metadata": {
    "collapsed": false
   }
  },
  {
   "cell_type": "code",
   "execution_count": 665,
   "outputs": [],
   "source": [
    "#DEBUG (deprecated):"
   ],
   "metadata": {
    "collapsed": false
   }
  },
  {
   "cell_type": "code",
   "execution_count": 666,
   "outputs": [
    {
     "name": "stdout",
     "output_type": "stream",
     "text": [
      "[{'edges': {0}, 'intersections': set()}, {'edges': {1}, 'intersections': set()}, {'edges': {9}, 'intersections': {3, 13, 14}}]\n"
     ]
    }
   ],
   "source": [
    "print(skels)"
   ],
   "metadata": {
    "collapsed": false
   }
  },
  {
   "cell_type": "code",
   "execution_count": 667,
   "outputs": [],
   "source": [
    "sorted_pairs = list(sorted(map(lambda x: (x[0], x[1]), distances.items()), key=lambda x: x[1]))"
   ],
   "metadata": {
    "collapsed": false
   }
  },
  {
   "cell_type": "code",
   "execution_count": 668,
   "outputs": [],
   "source": [
    "G = get_grid_graph(grid_size, walkable_points, chosen_rooms)"
   ],
   "metadata": {
    "collapsed": false
   }
  },
  {
   "cell_type": "code",
   "execution_count": 669,
   "outputs": [],
   "source": [
    "paths = get_paths(G, sorted_pairs, chosen_rooms, grid_size)"
   ],
   "metadata": {
    "collapsed": false
   }
  },
  {
   "cell_type": "code",
   "execution_count": 670,
   "outputs": [],
   "source": [
    "paths_lst = [(k, v) for k, v in paths.items()]\n",
    "rooms_points = get_room_points(chosen_rooms)\n",
    "\n",
    "room_G = get_rooms_graph(chosen_rooms, paths_lst, rooms_points)"
   ],
   "metadata": {
    "collapsed": false
   }
  },
  {
   "cell_type": "code",
   "execution_count": 671,
   "outputs": [
    {
     "data": {
      "text/plain": "<Figure size 640x480 with 1 Axes>",
      "image/png": "[encoded data removed]"
     },
     "metadata": {},
     "output_type": "display_data"
    }
   ],
   "source": [
    "nx.draw(room_G, with_labels=True)\n",
    "edgs = room_G.edges(data=True)"
   ],
   "metadata": {
    "collapsed": false
   }
  }
 ],
 "metadata": {
  "kernelspec": {
   "display_name": "Python 3",
   "language": "python",
   "name": "python3"
  },
  "language_info": {
   "codemirror_mode": {
    "name": "ipython",
    "version": 3
   },
   "file_extension": ".py",
   "mimetype": "text/x-python",
   "name": "python",
   "nbconvert_exporter": "python",
   "pygments_lexer": "ipython3",
   "version": "3.7.6"
  }
 },
 "nbformat": 4,
 "nbformat_minor": 4
}
