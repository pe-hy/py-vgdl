{
 "cells": [
  {
   "cell_type": "code",
   "execution_count": 80,
   "outputs": [],
   "source": [
    "import pickle"
   ],
   "metadata": {
    "collapsed": false
   }
  },
  {
   "cell_type": "code",
   "execution_count": 81,
   "outputs": [],
   "source": [
    "%load_ext autoreload\n",
    "%autoreload 2\n",
    "from DefinitionGeneratorUtils import *"
   ],
   "metadata": {
    "collapsed": false
   }
  },
  {
   "cell_type": "code",
   "execution_count": 82,
   "outputs": [],
   "source": [
    "with open('definition_dic.pkl', 'rb') as file:\n",
    "    definition_dic = pickle.load(file)"
   ],
   "metadata": {
    "collapsed": false
   }
  },
  {
   "cell_type": "code",
   "execution_count": 83,
   "outputs": [],
   "source": [
    "with open('obstacle_dic.pkl', 'rb') as file:\n",
    "    obstacle_dic = pickle.load(file)"
   ],
   "metadata": {
    "collapsed": false
   }
  },
  {
   "cell_type": "code",
   "execution_count": 84,
   "outputs": [
    {
     "data": {
      "text/plain": "{0: 101008,\n 1: 11005,\n 2: 11013,\n 3: 101012,\n 4: 101014,\n 5: 101021,\n 6: 11026,\n 7: 101029,\n 8: 11042,\n 9: 101038,\n 10: 101046,\n 11: 11065,\n 12: 11063,\n 13: 101056,\n 14: 11070,\n 15: 101064,\n 16: 101072,\n 17: 101078,\n 18: 11097,\n 19: 101081,\n 20: 101083,\n 21: 11026,\n 22: 101092,\n 23: 101098,\n 24: 101105,\n 25: 101112,\n 26: 101120,\n 27: 101122,\n 28: 101129,\n 29: 101131,\n 30: 101137,\n 31: 101139,\n 32: 101141,\n 33: 101148,\n 34: 101150,\n 35: 101157,\n 36: 11133,\n 37: 11065,\n 38: 101075,\n 39: 11026,\n 40: 101167,\n 41: 101169,\n 42: 101176,\n 43: 101183,\n 44: 101191,\n 45: 11150,\n 46: 101200,\n 47: 101206,\n 48: 11154,\n 49: 101209}"
     },
     "execution_count": 84,
     "metadata": {},
     "output_type": "execute_result"
    }
   ],
   "source": [
    "obstacle_dic"
   ],
   "metadata": {
    "collapsed": false
   }
  },
  {
   "cell_type": "code",
   "execution_count": 85,
   "outputs": [],
   "source": [
    "mol_keys_dic = definition_dic[\"mol_keys_dic\"]"
   ],
   "metadata": {
    "collapsed": false
   }
  },
  {
   "cell_type": "code",
   "execution_count": 86,
   "outputs": [],
   "source": [
    "with open('graph_instances_lst.pkl', 'rb') as file:\n",
    "    graph_instances_lst = pickle.load(file)"
   ],
   "metadata": {
    "collapsed": false
   }
  },
  {
   "cell_type": "code",
   "execution_count": 87,
   "outputs": [],
   "source": [
    "molecules_G = graph_instances_lst[42]"
   ],
   "metadata": {
    "collapsed": false
   }
  },
  {
   "cell_type": "code",
   "execution_count": 88,
   "outputs": [
    {
     "data": {
      "text/plain": "{'layout_spec': <networkx.classes.digraph.DiGraph at 0x19688f8ee88>,\n 'molecules': [{'obstacle_G_ix': None,\n   'edge': None,\n   'params': [None, None],\n   'molecule': <networkx.classes.digraph.DiGraph at 0x19688f5b748>,\n   'molecule_ix': 33},\n  {'obstacle_G_ix': 0,\n   'edge': ('g90001', 'g90004'),\n   'params': [None],\n   'molecule': <networkx.classes.digraph.DiGraph at 0x19688f2d148>,\n   'molecule_ix': 1},\n  {'obstacle_G_ix': 1,\n   'edge': (160001, 160003),\n   'params': [None],\n   'molecule': <networkx.classes.digraph.DiGraph at 0x19688f2dcc8>,\n   'molecule_ix': 11}]}"
     },
     "execution_count": 88,
     "metadata": {},
     "output_type": "execute_result"
    }
   ],
   "source": [
    "molecules_G"
   ],
   "metadata": {
    "collapsed": false
   }
  },
  {
   "cell_type": "code",
   "execution_count": 89,
   "outputs": [
    {
     "data": {
      "text/plain": "33"
     },
     "execution_count": 89,
     "metadata": {},
     "output_type": "execute_result"
    }
   ],
   "source": [
    "get_final_mol(molecules_G)"
   ],
   "metadata": {
    "collapsed": false
   }
  },
  {
   "cell_type": "code",
   "execution_count": 90,
   "outputs": [],
   "source": [
    "mol_ixs = []\n",
    "for m in molecules_G[\"molecules\"]:\n",
    "    mol_ixs.append(m[\"molecule_ix\"])"
   ],
   "metadata": {
    "collapsed": false
   }
  },
  {
   "cell_type": "code",
   "execution_count": 91,
   "outputs": [
    {
     "data": {
      "text/plain": "[33, 1, 11]"
     },
     "execution_count": 91,
     "metadata": {},
     "output_type": "execute_result"
    }
   ],
   "source": [
    "mol_ixs"
   ],
   "metadata": {
    "collapsed": false
   }
  },
  {
   "cell_type": "code",
   "execution_count": 92,
   "outputs": [],
   "source": [
    "rules = {}\n",
    "for ix in mol_ixs:\n",
    "    rules[ix] = (mol_keys_dic[ix][\"final_sym\"], mol_keys_dic[ix][\"molecule_rules\"])"
   ],
   "metadata": {
    "collapsed": false
   }
  },
  {
   "cell_type": "code",
   "execution_count": 93,
   "outputs": [
    {
     "data": {
      "text/plain": "{33: (100148,\n  {(14, 18): 10003,\n   (6, 10003): 100144,\n   (0, 100144): 100148,\n   (0, 10003): 100146,\n   (100146, 6): 100148,\n   (0, 6): 100128,\n   (100128, 10003): 100148}),\n 1: (10005, {(11, 17): 10005}),\n 11: (10065,\n  {(17, 19): 10061,\n   (14, 10061): 10065,\n   (14, 19): 10063,\n   (10063, 17): 10065,\n   (14, 17): 10053,\n   (10053, 19): 10065})}"
     },
     "execution_count": 93,
     "metadata": {},
     "output_type": "execute_result"
    }
   ],
   "source": [
    "rules\n",
    "# z toho udělat jeden velký dict kde už nejsou klíče molekul\n",
    "# kombinace které tam nejsou tak dát stepBack\n",
    "# 1 množina kde se aplikuje killSprite/TransformTo a druhá množina kde bude stepBack\n",
    "# množina všech interakcí agenta s jakýmkoliv atomem\n",
    "# množina interakcí agenta nebo čehokoliv s obstaclem\n",
    "# cokoliv se zdí stepBack done"
   ],
   "metadata": {
    "collapsed": false
   }
  },
  {
   "cell_type": "code",
   "execution_count": 94,
   "outputs": [],
   "source": [
    "only_rules = extract_only_rules(rules)"
   ],
   "metadata": {
    "collapsed": false
   }
  },
  {
   "cell_type": "code",
   "execution_count": 95,
   "outputs": [
    {
     "data": {
      "text/plain": "{(14, 18): 10003,\n (6, 10003): 100144,\n (0, 100144): 100148,\n (0, 10003): 100146,\n (100146, 6): 100148,\n (0, 6): 100128,\n (100128, 10003): 100148,\n (11, 17): 10005,\n (17, 19): 10061,\n (14, 10061): 10065,\n (14, 19): 10063,\n (10063, 17): 10065,\n (14, 17): 10053,\n (10053, 19): 10065}"
     },
     "execution_count": 95,
     "metadata": {},
     "output_type": "execute_result"
    }
   ],
   "source": [
    "only_rules"
   ],
   "metadata": {
    "collapsed": false
   }
  },
  {
   "cell_type": "code",
   "execution_count": 96,
   "outputs": [],
   "source": [
    "mol_obs_rules = molecule_obstacle_rules(rules, obstacle_dic)"
   ],
   "metadata": {
    "collapsed": false
   }
  },
  {
   "cell_type": "code",
   "execution_count": 97,
   "outputs": [
    {
     "data": {
      "text/plain": "{101148: 100148, 11005: 10005, 11065: 10065}"
     },
     "execution_count": 97,
     "metadata": {},
     "output_type": "execute_result"
    }
   ],
   "source": [
    "mol_obs_rules"
   ],
   "metadata": {
    "collapsed": false
   }
  },
  {
   "cell_type": "code",
   "execution_count": 98,
   "outputs": [
    {
     "name": "stdout",
     "output_type": "stream",
     "text": [
      "100148\n",
      "10005\n",
      "10065\n"
     ]
    }
   ],
   "source": [
    "for v in mol_obs_rules.values():\n",
    "    print(v)"
   ],
   "metadata": {
    "collapsed": false
   }
  },
  {
   "cell_type": "code",
   "execution_count": 99,
   "outputs": [
    {
     "data": {
      "text/plain": "{(18, 14): 10003,\n (14, 10003): 18,\n (18, 10003): 14,\n (10003, 14): 18,\n (10003, 18): 14,\n (10003, 6): 100144,\n (6, 100144): 10003,\n (10003, 100144): 6,\n (100144, 6): 10003,\n (100144, 10003): 6,\n (100144, 0): 100148,\n (0, 100148): 100144,\n (100144, 100148): 0,\n (100148, 0): 100144,\n (100148, 100144): 0,\n (10003, 0): 100146,\n (0, 100146): 10003,\n (10003, 100146): 0,\n (100146, 0): 10003,\n (100146, 10003): 0,\n (6, 100146): 100148,\n (100146, 100148): 6,\n (6, 100148): 100146,\n (100148, 100146): 6,\n (100148, 6): 100146,\n (6, 0): 100128,\n (0, 100128): 6,\n (6, 100128): 0,\n (100128, 0): 6,\n (100128, 6): 0,\n (10003, 100128): 100148,\n (100128, 100148): 10003,\n (10003, 100148): 100128,\n (100148, 100128): 10003,\n (100148, 10003): 100128,\n (17, 11): 10005,\n (11, 10005): 17,\n (17, 10005): 11,\n (10005, 11): 17,\n (10005, 17): 11,\n (19, 17): 10061,\n (17, 10061): 19,\n (19, 10061): 17,\n (10061, 17): 19,\n (10061, 19): 17,\n (10061, 14): 10065,\n (14, 10065): 10061,\n (10061, 10065): 14,\n (10065, 14): 10061,\n (10065, 10061): 14,\n (19, 14): 10063,\n (14, 10063): 19,\n (19, 10063): 14,\n (10063, 14): 19,\n (10063, 19): 14,\n (17, 10063): 10065,\n (10063, 10065): 17,\n (17, 10065): 10063,\n (10065, 10063): 17,\n (10065, 17): 10063,\n (17, 14): 10053,\n (14, 10053): 17,\n (17, 10053): 14,\n (10053, 14): 17,\n (10053, 17): 14,\n (19, 10053): 10065,\n (10053, 10065): 19,\n (19, 10065): 10053,\n (10065, 10053): 19,\n (10065, 19): 10053}"
     },
     "execution_count": 99,
     "metadata": {},
     "output_type": "execute_result"
    }
   ],
   "source": [
    "stepback_rules = create_combinations(only_rules)\n",
    "stepback_rules"
   ],
   "metadata": {
    "collapsed": false
   }
  },
  {
   "cell_type": "code",
   "execution_count": 100,
   "outputs": [
    {
     "name": "stdout",
     "output_type": "stream",
     "text": [
      "{0, 100128, 10053, 6, 11, 10061, 14, 10063, 100144, 17, 18, 10003, 100148, 100146, 10005, 19, 10065}\n"
     ]
    }
   ],
   "source": [
    "number_set = set()\n",
    "for mol in rules.values():\n",
    "    _, mol = mol\n",
    "    for key, value in mol.items():\n",
    "        number_set.add(key[0])\n",
    "        number_set.add(key[1])\n",
    "        number_set.add(value)\n",
    "print(number_set)"
   ],
   "metadata": {
    "collapsed": false
   }
  },
  {
   "cell_type": "code",
   "execution_count": 101,
   "outputs": [],
   "source": [
    "with open('symbol_mappings.pkl', 'rb') as file:\n",
    "    symbol_mappings = pickle.load(file)"
   ],
   "metadata": {
    "collapsed": false
   }
  },
  {
   "cell_type": "code",
   "execution_count": 102,
   "outputs": [
    {
     "data": {
      "text/plain": "{0: 'α',\n 1: 'β',\n 2: 'γ',\n 3: 'δ',\n 4: 'ε',\n 5: 'ζ',\n 6: 'η',\n 7: 'θ',\n 8: 'ι',\n 9: 'κ',\n 10: 'λ',\n 11: 'μ',\n 12: 'ν',\n 13: 'ξ',\n 14: 'ο',\n 15: 'π',\n 16: 'ρ',\n 17: 'ς',\n 18: 'σ',\n 19: 'τ',\n 20: 'υ',\n 10002: 'φ',\n 10003: 'χ',\n 10005: 'ψ',\n 10008: 'ω',\n 10010: 'Ϩ',\n 10012: 'ϩ',\n 10013: 'Ϫ',\n 10016: 'ϫ',\n 10018: 'Ϭ',\n 10020: 'ϭ',\n 10021: 'Ϯ',\n 10023: 'ϯ',\n 10026: 'ϰ',\n 10029: 'ϱ',\n 10031: 'ϲ',\n 10033: 'ϳ',\n 10034: 'ϴ',\n 10037: 'ϵ',\n 10039: '϶',\n 10041: 'Ϸ',\n 10042: 'ϸ',\n 10046: 'Ϲ',\n 10048: 'Ϻ',\n 10050: 'ϻ',\n 10051: 'ϼ',\n 10053: 'Ͻ',\n 10055: 'Ͼ',\n 10057: 'Ͽ',\n 10058: 'Ѐ',\n 10061: 'Ё',\n 10063: 'Ђ',\n 10065: 'Ѓ',\n 10068: 'Є',\n 10070: 'Ѕ',\n 10073: 'І',\n 10075: 'Ї',\n 10077: 'Ј',\n 10078: 'Љ',\n 10081: 'Њ',\n 10083: 'Ћ',\n 10085: 'Ќ',\n 10086: 'Ѝ',\n 10087: 'Ў',\n 10090: 'Џ',\n 10092: 'А',\n 10094: 'Б',\n 10095: 'В',\n 10097: 'Г',\n 10100: 'Д',\n 10104: 'Е',\n 10106: 'Ж',\n 10108: 'З',\n 10111: 'И',\n 10114: 'Й',\n 10116: 'К',\n 10118: 'Л',\n 10119: 'М',\n 10121: 'Н',\n 10125: 'О',\n 10133: 'П',\n 10140: 'Р',\n 10143: 'С',\n 10145: 'Т',\n 10147: 'У',\n 10150: 'Ф',\n 10154: 'Х',\n 11005: 'Ц',\n 11013: 'Ч',\n 11026: 'Ш',\n 11042: 'Щ',\n 11063: 'Ъ',\n 11065: 'Ы',\n 11070: 'Ь',\n 11097: 'Э',\n 11133: 'Ю',\n 11150: 'Я',\n 11154: 'а',\n 100003: 'б',\n 100005: 'в',\n 100007: 'г',\n 100008: 'д',\n 100012: 'е',\n 100014: 'ж',\n 100018: 'з',\n 100020: 'и',\n 100021: 'й',\n 100025: 'к',\n 100028: 'л',\n 100029: 'м',\n 100033: 'н',\n 100035: 'о',\n 100037: 'п',\n 100038: 'р',\n 100041: 'с',\n 100043: 'т',\n 100045: 'у',\n 100046: 'ф',\n 100051: 'х',\n 100053: 'ц',\n 100055: 'ч',\n 100056: 'ш',\n 100060: 'щ',\n 100062: 'ъ',\n 100064: 'ы',\n 100067: 'ь',\n 100069: 'э',\n 100071: 'ю',\n 100072: 'я',\n 100075: 'ѐ',\n 100078: 'ё',\n 100081: 'ђ',\n 100083: 'ѓ',\n 100087: 'є',\n 100089: 'ѕ',\n 100091: 'і',\n 100092: 'ї',\n 100095: 'ј',\n 100098: 'љ',\n 100101: 'њ',\n 100103: 'ћ',\n 100105: 'ќ',\n 100108: 'ѝ',\n 100110: 'ў',\n 100112: 'џ',\n 100115: 'Ѡ',\n 100117: 'ѡ',\n 100119: 'Ѣ',\n 100120: 'ѣ',\n 100122: 'Ѥ',\n 100125: 'ѥ',\n 100128: 'Ѧ',\n 100129: 'ѧ',\n 100131: 'Ѩ',\n 100135: 'ѩ',\n 100137: 'Ѫ',\n 100139: 'ѫ',\n 100141: 'Ѭ',\n 100144: 'ѭ',\n 100146: 'Ѯ',\n 100148: 'ѯ',\n 100150: 'Ѱ',\n 100153: 'ѱ',\n 100156: 'Ѳ',\n 100157: 'ѳ',\n 100164: 'Ѵ',\n 100167: 'ѵ',\n 100169: 'Ѷ',\n 100172: 'ѷ',\n 100174: 'Ѹ',\n 100176: 'ѹ',\n 100179: 'Ѻ',\n 100181: 'ѻ',\n 100183: 'Ѽ',\n 100186: 'ѽ',\n 100188: 'Ѿ',\n 100190: 'ѿ',\n 100191: 'Ҁ',\n 100195: 'ҁ',\n 100197: '҂',\n 100199: '҃',\n 100200: '҄',\n 100203: '҅',\n 100206: '҆',\n 100209: '҇',\n 101008: '҈',\n 101012: '҉',\n 101014: 'Ҋ',\n 101021: 'ҋ',\n 101029: 'Ҍ',\n 101038: 'ҍ',\n 101046: 'Ҏ',\n 101056: 'ҏ',\n 101064: 'Ґ',\n 101072: 'ґ',\n 101075: 'Ғ',\n 101078: 'ғ',\n 101081: 'Ҕ',\n 101083: 'ҕ',\n 101092: 'Җ',\n 101098: 'җ',\n 101105: 'Ҙ',\n 101112: 'ҙ',\n 101120: 'Қ',\n 101122: 'қ',\n 101129: 'Ҝ',\n 101131: 'ҝ',\n 101137: 'Ҟ',\n 101139: 'ҟ',\n 101141: 'Ҡ',\n 101148: 'ҡ',\n 101150: 'Ң',\n 101157: 'ң',\n 101167: 'Ҥ',\n 101169: 'ҥ',\n 101176: 'Ҧ',\n 101183: 'ҧ',\n 101191: 'Ҩ',\n 101200: 'ҩ',\n 101206: 'Ҫ',\n 101209: 'ҫ'}"
     },
     "execution_count": 102,
     "metadata": {},
     "output_type": "execute_result"
    }
   ],
   "source": [
    "symbol_mappings"
   ],
   "metadata": {
    "collapsed": false
   }
  },
  {
   "cell_type": "code",
   "execution_count": 103,
   "outputs": [],
   "source": [
    "rules_mapped = {}\n",
    "for key, value in rules.items():\n",
    "    new_value = (symbol_mappings.get(value[0], value[0]), {})\n",
    "    for k, v in value[1].items():\n",
    "        new_key = tuple([symbol_mappings.get(i, i) for i in k])\n",
    "        new_value[1][new_key] = symbol_mappings.get(v, v)\n",
    "    rules_mapped[key] = new_value"
   ],
   "metadata": {
    "collapsed": false
   }
  },
  {
   "cell_type": "code",
   "execution_count": 104,
   "outputs": [
    {
     "name": "stdout",
     "output_type": "stream",
     "text": [
      "{33: ('ѯ', {('ο', 'σ'): 'χ', ('η', 'χ'): 'ѭ', ('α', 'ѭ'): 'ѯ', ('α', 'χ'): 'Ѯ', ('Ѯ', 'η'): 'ѯ', ('α', 'η'): 'Ѧ', ('Ѧ', 'χ'): 'ѯ'}), 1: ('ψ', {('μ', 'ς'): 'ψ'}), 11: ('Ѓ', {('ς', 'τ'): 'Ё', ('ο', 'Ё'): 'Ѓ', ('ο', 'τ'): 'Ђ', ('Ђ', 'ς'): 'Ѓ', ('ο', 'ς'): 'Ͻ', ('Ͻ', 'τ'): 'Ѓ'})}\n"
     ]
    }
   ],
   "source": [
    "print(rules_mapped)"
   ],
   "metadata": {
    "collapsed": false
   }
  },
  {
   "cell_type": "code",
   "execution_count": 105,
   "outputs": [],
   "source": [
    "atom_sprites_folder = \"../../vgdl/sprites/atom_sprites\"\n",
    "obstacle_sprites_folder = \"../../vgdl/sprites/obstacle_sprites/\""
   ],
   "metadata": {
    "collapsed": false
   }
  },
  {
   "cell_type": "code",
   "execution_count": 106,
   "outputs": [],
   "source": [
    "from os import listdir\n",
    "from os.path import isfile, join\n",
    "atom_sprites = [f for f in listdir(atom_sprites_folder) if isfile(join(atom_sprites_folder, f))]\n",
    "obstacle_sprites = [f for f in listdir(obstacle_sprites_folder) if isfile(join(obstacle_sprites_folder, f))]"
   ],
   "metadata": {
    "collapsed": false
   }
  },
  {
   "cell_type": "code",
   "execution_count": 107,
   "outputs": [],
   "source": [
    "atom_sprites = sorted(atom_sprites)"
   ],
   "metadata": {
    "collapsed": false
   }
  },
  {
   "cell_type": "code",
   "execution_count": 108,
   "outputs": [],
   "source": [
    "obstacle_sprites = sorted(obstacle_sprites)"
   ],
   "metadata": {
    "collapsed": false
   }
  },
  {
   "cell_type": "code",
   "execution_count": 109,
   "outputs": [],
   "source": [
    "obstacle_symbols = []\n",
    "for ix in mol_ixs:\n",
    "    obstacle_symbols.append(obstacle_dic[ix])\n",
    "atom_mols_symbols = list(number_set)"
   ],
   "metadata": {
    "collapsed": false
   }
  },
  {
   "cell_type": "code",
   "execution_count": 110,
   "outputs": [
    {
     "data": {
      "text/plain": "[101148, 11005, 11065]"
     },
     "execution_count": 110,
     "metadata": {},
     "output_type": "execute_result"
    }
   ],
   "source": [
    "obstacle_symbols"
   ],
   "metadata": {
    "collapsed": false
   }
  },
  {
   "cell_type": "code",
   "execution_count": 111,
   "outputs": [
    {
     "name": "stdout",
     "output_type": "stream",
     "text": [
      "17\n",
      "21\n"
     ]
    }
   ],
   "source": [
    "print(len(atom_mols_symbols))\n",
    "print(len(atom_sprites))"
   ],
   "metadata": {
    "collapsed": false
   }
  },
  {
   "cell_type": "code",
   "execution_count": 112,
   "outputs": [],
   "source": [
    "atom_sprite_mapped = dict(zip(atom_mols_symbols, atom_sprites))\n",
    "obstacle_sprite_mapped = dict(zip(obstacle_symbols, obstacle_sprites))"
   ],
   "metadata": {
    "collapsed": false
   }
  },
  {
   "cell_type": "code",
   "execution_count": 113,
   "outputs": [
    {
     "data": {
      "text/plain": "{0: 'belt1.png',\n 100128: 'book1.png',\n 10053: 'bookDown.png',\n 6: 'bookUp.png',\n 11: 'boots1.png',\n 10061: 'bow1.png',\n 14: 'bullet1.png',\n 10063: 'candle1.png',\n 100144: 'cape1.png',\n 17: 'cloak1.png',\n 18: 'diamond1.png',\n 10003: 'eye1.png',\n 100148: 'goldsack.png',\n 100146: 'heart1.png',\n 10005: 'helmet1.png',\n 19: 'key1.png',\n 10065: 'mace1.png'}"
     },
     "execution_count": 113,
     "metadata": {},
     "output_type": "execute_result"
    }
   ],
   "source": [
    "atom_sprite_mapped"
   ],
   "metadata": {
    "collapsed": false
   }
  },
  {
   "cell_type": "code",
   "execution_count": 114,
   "outputs": [],
   "source": [
    "#    goal  > Immovable color=GREEN img=oryx/doorclosed1\n",
    "#    key   > Immovable color=ORANGE img=oryx/key2"
   ],
   "metadata": {
    "collapsed": false
   }
  },
  {
   "cell_type": "code",
   "execution_count": 115,
   "outputs": [],
   "source": [
    "generated_definition = 'generated_definition.txt'\n",
    "with open(generated_definition, 'w'): pass"
   ],
   "metadata": {
    "collapsed": false
   }
  },
  {
   "cell_type": "code",
   "execution_count": 116,
   "outputs": [],
   "source": [
    "atom_obstacle_mappings = {}\n",
    "atom_mols_symbols_obstacles = set(obstacle_symbols).union(atom_mols_symbols)\n",
    "for idx in atom_mols_symbols_obstacles:\n",
    "    atom_obstacle_mappings[idx] = symbol_mappings[idx]"
   ],
   "metadata": {
    "collapsed": false
   }
  },
  {
   "cell_type": "code",
   "execution_count": 117,
   "outputs": [
    {
     "name": "stdout",
     "output_type": "stream",
     "text": [
      "{0, 6, 11, 14, 17, 18, 10003, 19, 10005, 101148, 100128, 100144, 100146, 100148, 11065, 10053, 10061, 10063, 10065, 11005}\n"
     ]
    }
   ],
   "source": [
    "print(atom_mols_symbols_obstacles)"
   ],
   "metadata": {
    "collapsed": false
   }
  },
  {
   "cell_type": "code",
   "execution_count": 118,
   "outputs": [
    {
     "data": {
      "text/plain": "{0: 'α',\n 6: 'η',\n 11: 'μ',\n 14: 'ο',\n 17: 'ς',\n 18: 'σ',\n 10003: 'χ',\n 19: 'τ',\n 10005: 'ψ',\n 101148: 'ҡ',\n 100128: 'Ѧ',\n 100144: 'ѭ',\n 100146: 'Ѯ',\n 100148: 'ѯ',\n 11065: 'Ы',\n 10053: 'Ͻ',\n 10061: 'Ё',\n 10063: 'Ђ',\n 10065: 'Ѓ',\n 11005: 'Ц'}"
     },
     "execution_count": 118,
     "metadata": {},
     "output_type": "execute_result"
    }
   ],
   "source": [
    "atom_obstacle_mappings"
   ],
   "metadata": {
    "collapsed": false
   }
  },
  {
   "cell_type": "code",
   "execution_count": 119,
   "outputs": [
    {
     "name": "stdout",
     "output_type": "stream",
     "text": [
      "definition saved: generated_definition.txt\n"
     ]
    }
   ],
   "source": [
    "final_mol_sym, _ = rules[get_final_mol(molecules_G)]\n",
    "\n",
    "text = create_termination_set(atom_obstacle_mappings, obstacle_sprite_mapped, atom_sprite_mapped, only_rules, stepback_rules, mol_obs_rules, final_mol_sym, generated_definition)\n",
    "write_lines_to_file(generated_definition, text)"
   ],
   "metadata": {
    "collapsed": false
   }
  },
  {
   "cell_type": "code",
   "execution_count": 119,
   "outputs": [],
   "source": [],
   "metadata": {
    "collapsed": false
   }
  }
 ],
 "metadata": {
  "kernelspec": {
   "display_name": "Python 3",
   "language": "python",
   "name": "python3"
  },
  "language_info": {
   "codemirror_mode": {
    "name": "ipython",
    "version": 2
   },
   "file_extension": ".py",
   "mimetype": "text/x-python",
   "name": "python",
   "nbconvert_exporter": "python",
   "pygments_lexer": "ipython2",
   "version": "2.7.6"
  }
 },
 "nbformat": 4,
 "nbformat_minor": 0
}
