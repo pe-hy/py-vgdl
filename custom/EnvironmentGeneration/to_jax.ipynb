{
 "cells": [
  {
   "cell_type": "code",
   "execution_count": 16,
   "metadata": {},
   "outputs": [],
   "source": [
    "def parse_file(file_path, f_id):\n",
    "    with open(file_path, \"r\") as file:\n",
    "        lines = file.readlines()\n",
    "\n",
    "    atoms = {}\n",
    "    obstacles = {}\n",
    "    win_condition_id = None\n",
    "    interaction_pairs = {}\n",
    "    level_mapping = {}\n",
    "    rules = {}\n",
    "\n",
    "    in_movable = in_obstacle = in_interaction_set = in_level_mapping = False\n",
    "\n",
    "    for line in lines:\n",
    "        line = line.strip()\n",
    "\n",
    "        if \"movable >\" in line:\n",
    "            in_movable = True\n",
    "            continue\n",
    "        elif \"obstacle >\" in line:\n",
    "            in_obstacle = True\n",
    "            in_movable = False\n",
    "            continue\n",
    "        elif line.startswith(\"InteractionSet\"):\n",
    "            in_interaction_set = True\n",
    "            in_obstacle = False\n",
    "        elif line.startswith(\"LevelMapping\"):\n",
    "            in_level_mapping = True\n",
    "            in_interaction_set = False\n",
    "        elif line.startswith(\"TerminationSet\"):\n",
    "            in_level_mapping = False\n",
    "\n",
    "        if in_movable and \"> Passive\" in line:\n",
    "            id = line.split()[0]\n",
    "            atoms[id] = None\n",
    "        elif in_obstacle and \"> Immovable\" in line:\n",
    "            id = line.split()[0]\n",
    "            obstacles[id] = None\n",
    "        elif in_interaction_set and \"> createSprite stype=\" in line:\n",
    "            parts = line.split(\" > createSprite stype=\")\n",
    "            ids1, _ = parts\n",
    "            id1, id2 = ids1.split(\" \")\n",
    "            left_side = (int(id1), int(id2))\n",
    "            right_side = parts[1].strip('\"')\n",
    "            interaction_pairs[right_side] = left_side\n",
    "            rules[left_side] = int(right_side)\n",
    "        elif in_interaction_set and \"> killBoth\" in line:\n",
    "            parts = line.split(\" > killBoth\")\n",
    "            ids1, _ = parts\n",
    "            id1, id2 = ids1.split(\" \")\n",
    "            left_side = (int(id1), int(id2))\n",
    "            right_side = 99999\n",
    "            rules[left_side] = right_side\n",
    "        elif in_level_mapping and \">\" in line:\n",
    "            symbol, mapping = line.split(\" > \")\n",
    "            id = mapping.split()[-1]\n",
    "            level_mapping[id] = symbol\n",
    "        elif \"MultiSpriteCounter stype=\" in line:\n",
    "            win_condition_id = line.split('\"')[1]\n",
    "\n",
    "    # Update atoms and obstacles with symbols from level mapping\n",
    "    for id in atoms.keys():\n",
    "        atoms[id] = level_mapping.get(id)\n",
    "    for id in obstacles.keys():\n",
    "        obstacles[id] = level_mapping.get(id)\n",
    "\n",
    "    # Find the win condition based on the win_condition_id\n",
    "    win_condition = interaction_pairs.get(win_condition_id, None)\n",
    "\n",
    "    return {\n",
    "        f_id: [\n",
    "            {\n",
    "                \"walls\": None,\n",
    "                \"atoms\": atoms,\n",
    "                \"obstacles\": obstacles,\n",
    "                \"agent\": (None, None),\n",
    "                \"win_condition\": {win_condition: int(win_condition_id)},\n",
    "            },\n",
    "            {\"rules\": rules},\n",
    "        ]\n",
    "    }\n"
   ]
  },
  {
   "cell_type": "code",
   "execution_count": 17,
   "metadata": {},
   "outputs": [],
   "source": [
    "def update_dictionary_with_layout(file_path, dictionary, f_id):\n",
    "    with open(file_path, \"r\") as file:\n",
    "        layout = file.read()\n",
    "\n",
    "    walls = []\n",
    "    agent = None\n",
    "    atoms = {}\n",
    "    obstacles = {}\n",
    "\n",
    "    layout_lines = layout.split(\"\\n\")\n",
    "    for y, line in enumerate(layout_lines):\n",
    "        for x, symbol in enumerate(line):\n",
    "            if symbol == \"w\":\n",
    "                walls.append((x, y))\n",
    "            elif symbol == \"A\":\n",
    "                agent = (x, y)\n",
    "            else:\n",
    "                for key, value in dictionary[f_id][0][\"atoms\"].items():\n",
    "                    if value == symbol:\n",
    "                        key = int(key)\n",
    "                        atoms[(x, y)] = key\n",
    "                for key, value in dictionary[f_id][0][\"obstacles\"].items():\n",
    "                    if value == symbol:\n",
    "                        key = int(key)\n",
    "                        obstacles[(x, y)] = key\n",
    "            size = (x+1, y+1)\n",
    "\n",
    "    if atoms and obstacles:\n",
    "        dictionary[f_id][0][\"size\"] = size\n",
    "        dictionary[f_id][0][\"walls\"] = walls\n",
    "        dictionary[f_id][0][\"agent\"] = agent\n",
    "        dictionary[f_id][0][\"atoms\"] = atoms\n",
    "        dictionary[f_id][0][\"obstacles\"] = obstacles\n",
    "\n",
    "    return dictionary\n"
   ]
  },
  {
   "cell_type": "code",
   "execution_count": 137,
   "metadata": {},
   "outputs": [],
   "source": [
    "def parse_files(def_file_path, layout_file_paths):\n",
    "    dictionary = {}\n",
    "    for i, layout_file_path in enumerate(layout_file_paths):\n",
    "        if i not in dictionary:\n",
    "            dictionary.update(parse_file(def_file_path, i))\n",
    "        dictionary = update_dictionary_with_layout(layout_file_path, dictionary, i)\n",
    "    return dictionary"
   ]
  },
  {
   "cell_type": "code",
   "execution_count": 145,
   "metadata": {},
   "outputs": [],
   "source": [
    "import os\n",
    "\n",
    "def_file_path = 'generated/generated_definition_2.txt'\n",
    "layout_folder_path = 'layouts_2'\n",
    "\n",
    "layout_file_paths = [os.path.join(layout_folder_path, f) for f in os.listdir(layout_folder_path) if os.path.isfile(os.path.join(layout_folder_path, f))]\n",
    "\n",
    "dictionary = parse_files(def_file_path, layout_file_paths)\n"
   ]
  },
  {
   "cell_type": "code",
   "execution_count": 146,
   "metadata": {},
   "outputs": [],
   "source": [
    "import pickle\n",
    "with open(\"dic_2.pkl\", \"wb\") as f:\n",
    "    pickle.dump(dictionary, f)"
   ]
  },
  {
   "cell_type": "code",
   "execution_count": 147,
   "metadata": {},
   "outputs": [],
   "source": [
    "def validate_agent_in_layout(dictionary):\n",
    "    new_dic = {}\n",
    "    for k, v in dictionary.items():\n",
    "        if v[0][\"agent\"] is not None: \n",
    "            new_dic[k] = v \n",
    "    return new_dic\n"
   ]
  },
  {
   "cell_type": "code",
   "execution_count": 148,
   "metadata": {},
   "outputs": [],
   "source": [
    "new_dic = validate_agent_in_layout(dictionary)"
   ]
  },
  {
   "cell_type": "code",
   "execution_count": 149,
   "metadata": {},
   "outputs": [
    {
     "data": {
      "text/plain": [
       "887"
      ]
     },
     "execution_count": 149,
     "metadata": {},
     "output_type": "execute_result"
    }
   ],
   "source": [
    "len(new_dic)"
   ]
  },
  {
   "cell_type": "code",
   "execution_count": 150,
   "metadata": {},
   "outputs": [],
   "source": [
    "import pickle\n",
    "with open(\"dic_2.pkl\", \"wb\") as f:\n",
    "    pickle.dump(new_dic, f)"
   ]
  },
  {
   "cell_type": "code",
   "execution_count": null,
   "metadata": {},
   "outputs": [],
   "source": []
  }
 ],
 "metadata": {
  "kernelspec": {
   "display_name": "minigrid",
   "language": "python",
   "name": "python3"
  },
  "language_info": {
   "codemirror_mode": {
    "name": "ipython",
    "version": 3
   },
   "file_extension": ".py",
   "mimetype": "text/x-python",
   "name": "python",
   "nbconvert_exporter": "python",
   "pygments_lexer": "ipython3",
   "version": "3.7.12"
  }
 },
 "nbformat": 4,
 "nbformat_minor": 2
}
