{
 "cells": [
  {
   "cell_type": "code",
   "execution_count": 210,
   "metadata": {
    "pycharm": {
     "name": "#%%\n"
    }
   },
   "outputs": [],
   "source": [
    "import random\n",
    "import itertools\n",
    "import matplotlib.pyplot as plt\n",
    "import networkx as nx"
   ]
  },
  {
   "cell_type": "code",
   "execution_count": 211,
   "metadata": {
    "collapsed": false,
    "jupyter": {
     "outputs_hidden": false
    },
    "pycharm": {
     "name": "#%%\n"
    }
   },
   "outputs": [],
   "source": [
    "num_columns = 4\n",
    "grid_size = 30\n",
    "min_room_size = 3\n",
    "\n",
    "roomspace = grid_size - (num_columns + 1)\n",
    "def all_less_then(comb,n):\n",
    "    for i in comb:\n",
    "        if i<n:\n",
    "            return False\n",
    "    return True\n",
    "\n",
    "def get_divisions(n, k):\n",
    "    divisions = []\n",
    "    combs = itertools.product(range(1, n), repeat=k)\n",
    "    dic={}\n",
    "    for comb in combs:\n",
    "        if sum(comb) == n and all_less_then(comb,min_room_size):\n",
    "            dic[\"\".join(map(str,sorted(comb)))]=comb\n",
    "    return list(dic.values())\n",
    "\n",
    "divisions = get_divisions(roomspace, num_columns)\n",
    "\n",
    "\n",
    "horizontal_split = list(random.choice(divisions))\n",
    "vertical_splits = [list(random.choice(divisions)) for i in horizontal_split]\n",
    "random.shuffle(horizontal_split)\n",
    "for split in vertical_splits:\n",
    "    random.shuffle(split)\n",
    "\n",
    "horizontal_data = []\n",
    "x_accum = 1\n",
    "for part in horizontal_split:\n",
    "    horizontal_data.append((x_accum,part))\n",
    "    x_accum += part+1\n",
    "\n",
    "vertical_data = []\n",
    "for split in vertical_splits:\n",
    "    y_accum = 1\n",
    "    data = []\n",
    "    for part in split:\n",
    "        data.append((y_accum,part))\n",
    "        y_accum += part+1\n",
    "    vertical_data.append(data)\n",
    "divisions = get_divisions(roomspace, num_columns)"
   ]
  },
  {
   "cell_type": "code",
   "execution_count": 212,
   "metadata": {
    "collapsed": false,
    "jupyter": {
     "outputs_hidden": false
    },
    "pycharm": {
     "name": "#%%\n"
    }
   },
   "outputs": [
    {
     "name": "stdout",
     "output_type": "stream",
     "text": [
      "##############################\n",
      "##########################   #\n",
      "##########################   #\n",
      "##########################   #\n",
      "##########################   #\n",
      "###################      #   #\n",
      "###################      #####\n",
      "###################      #####\n",
      "###################      #####\n",
      "###################      #####\n",
      "###################      #####\n",
      "##############################\n",
      "##############################\n",
      "##############################\n",
      "##########################   #\n",
      "##########################   #\n",
      "#############     ########   #\n",
      "#############     ########   #\n",
      "#############     ########   #\n",
      "#############     ########   #\n",
      "#############     ########   #\n",
      "#############     ########   #\n",
      "##########################   #\n",
      "#############     ########   #\n",
      "#############     ############\n",
      "#############     ############\n",
      "#############     ############\n",
      "#############     ############\n",
      "#############     ############\n",
      "##############################\n",
      "\n"
     ]
    }
   ],
   "source": [
    "num_rooms = 5\n",
    "\n",
    "horizontal_split = list(random.choice(divisions))\n",
    "vertical_splits = [list(random.choice(divisions)) for i in horizontal_split]\n",
    "random.shuffle(horizontal_split)\n",
    "for split in vertical_splits:\n",
    "    random.shuffle(split)\n",
    "\n",
    "horizontal_data = []\n",
    "x_accum = 1\n",
    "for part in horizontal_split:\n",
    "    horizontal_data.append((x_accum,part))\n",
    "    x_accum += part+1\n",
    "\n",
    "vertical_data = []\n",
    "for split in vertical_splits:\n",
    "    y_accum = 1\n",
    "    data = []\n",
    "    for part in split:\n",
    "        data.append((y_accum,part))\n",
    "        y_accum += part+1\n",
    "    vertical_data.append(data)\n",
    "\n",
    "\n",
    "chosen_cells = 0\n",
    "rooms_ixs = []\n",
    "\n",
    "while True:\n",
    "    x = random.choice(range(len(horizontal_split)))\n",
    "    y = random.choice(range(len(vertical_splits[x])))\n",
    "    ix = (x,y)\n",
    "    if ix not in rooms_ixs:\n",
    "        rooms_ixs.append(ix)\n",
    "    if len(rooms_ixs) == num_rooms:\n",
    "        break\n",
    "\n",
    "chosen_rooms = []\n",
    "for ix_x,ix_y in rooms_ixs:\n",
    "    x,w = horizontal_data[ix_x]\n",
    "    y,h = vertical_data[ix_x][ix_y]\n",
    "    chosen_rooms.append((y,x,h,w))\n",
    "\n",
    "def get_points(part):\n",
    "    points = []\n",
    "    y = part[0]\n",
    "    x = part[1]\n",
    "    for i in range(part[2]):\n",
    "        for j in range(part[3]):\n",
    "            points.append((y+i,x+j))\n",
    "    return points\n",
    "            \n",
    "    \n",
    "walkable_points = []\n",
    "for w in chosen_rooms:\n",
    "    walkable_points += get_points(w)\n",
    "walkable_points = set(walkable_points)\n",
    "\n",
    "def create_string(walkable):\n",
    "    string = \"\"\n",
    "    for i in range(grid_size):\n",
    "        for j in range(grid_size):\n",
    "            if (i,j) in walkable:\n",
    "                string += \" \"\n",
    "            else: string += \"#\"\n",
    "        string += \"\\n\"\n",
    "    return string\n",
    "\n",
    "print(create_string(walkable_points))"
   ]
  },
  {
   "cell_type": "code",
   "execution_count": 213,
   "metadata": {
    "collapsed": false,
    "jupyter": {
     "outputs_hidden": false
    },
    "pycharm": {
     "name": "#%%\n"
    }
   },
   "outputs": [],
   "source": [
    "def toG(y,x):\n",
    "    return y-1,x-1\n",
    "def toL(p):\n",
    "    y,x = p\n",
    "    return y+1,x+1\n",
    "def get_room_center(room):\n",
    "    y,x,h,w=room\n",
    "    cy = y + (h//2)\n",
    "    cx = x + (w//2)\n",
    "    return (cy,cx)"
   ]
  },
  {
   "cell_type": "code",
   "execution_count": 214,
   "metadata": {
    "collapsed": false,
    "jupyter": {
     "outputs_hidden": false
    },
    "pycharm": {
     "name": "#%%\n"
    }
   },
   "outputs": [],
   "source": [
    "import numpy as np\n",
    "from scipy.spatial.distance import cdist\n",
    "\n",
    "def get_distance(r1,r2):\n",
    "    A = np.array(get_points(r1))\n",
    "    B = np.array(get_points(r2))\n",
    "    distances = cdist(A, B)\n",
    "    min_distance = np.min(distances)\n",
    "    return min_distance\n",
    "\n",
    "distances = {}\n",
    "for i,r1 in enumerate(chosen_rooms):\n",
    "    for j,r2 in enumerate(chosen_rooms):\n",
    "        if i<j:\n",
    "            distances[(i,j)]=get_distance(r1,r2)\n"
   ]
  },
  {
   "cell_type": "code",
   "execution_count": 215,
   "metadata": {
    "collapsed": false,
    "jupyter": {
     "outputs_hidden": false
    },
    "pycharm": {
     "name": "#%%\n"
    }
   },
   "outputs": [],
   "source": [
    "sorted_pairs=list(sorted(map(lambda x:(x[0],x[1]),distances.items()),key=lambda x:x[1]))"
   ]
  },
  {
   "cell_type": "code",
   "execution_count": 228,
   "metadata": {},
   "outputs": [
    {
     "data": {
      "text/plain": [
       "NodeView(((0, 0), (0, 1), (0, 2), (0, 3), (0, 4), (0, 5), (0, 6), (0, 7), (0, 8), (0, 9), (0, 10), (0, 11), (0, 12), (0, 13), (0, 14), (0, 15), (0, 16), (0, 17), (0, 18), (0, 19), (0, 20), (0, 21), (0, 22), (0, 23), (0, 24), (0, 25), (0, 26), (0, 27), (1, 0), (1, 1), (1, 2), (1, 3), (1, 4), (1, 5), (1, 6), (1, 7), (1, 8), (1, 9), (1, 10), (1, 11), (1, 12), (1, 13), (1, 14), (1, 15), (1, 16), (1, 17), (1, 18), (1, 19), (1, 20), (1, 21), (1, 22), (1, 23), (1, 24), (1, 25), (1, 26), (1, 27), (2, 0), (2, 1), (2, 2), (2, 3), (2, 4), (2, 5), (2, 6), (2, 7), (2, 8), (2, 9), (2, 10), (2, 11), (2, 12), (2, 13), (2, 14), (2, 15), (2, 16), (2, 17), (2, 18), (2, 19), (2, 20), (2, 21), (2, 22), (2, 23), (2, 24), (2, 25), (2, 26), (2, 27), (3, 0), (3, 1), (3, 2), (3, 3), (3, 4), (3, 5), (3, 6), (3, 7), (3, 8), (3, 9), (3, 10), (3, 11), (3, 12), (3, 13), (3, 14), (3, 15), (3, 16), (3, 17), (3, 18), (3, 19), (3, 20), (3, 21), (3, 22), (3, 23), (3, 24), (3, 25), (3, 26), (3, 27), (4, 0), (4, 1), (4, 2), (4, 3), (4, 4), (4, 5), (4, 6), (4, 7), (4, 8), (4, 9), (4, 10), (4, 11), (4, 12), (4, 13), (4, 14), (4, 15), (4, 16), (4, 17), (4, 18), (4, 19), (4, 20), (4, 21), (4, 22), (4, 23), (4, 24), (4, 25), (4, 26), (4, 27), (5, 0), (5, 1), (5, 2), (5, 3), (5, 4), (5, 5), (5, 6), (5, 7), (5, 8), (5, 9), (5, 10), (5, 11), (5, 12), (5, 13), (5, 14), (5, 15), (5, 16), (5, 17), (5, 18), (5, 19), (5, 20), (5, 21), (5, 22), (5, 23), (5, 24), (5, 25), (5, 26), (5, 27), (6, 0), (6, 1), (6, 2), (6, 3), (6, 4), (6, 5), (6, 6), (6, 7), (6, 8), (6, 9), (6, 10), (6, 11), (6, 12), (6, 13), (6, 14), (6, 15), (6, 16), (6, 17), (6, 18), (6, 19), (6, 20), (6, 21), (6, 22), (6, 23), (6, 24), (6, 25), (6, 26), (6, 27), (7, 0), (7, 1), (7, 2), (7, 3), (7, 4), (7, 5), (7, 6), (7, 7), (7, 8), (7, 9), (7, 10), (7, 11), (7, 12), (7, 13), (7, 14), (7, 15), (7, 16), (7, 17), (7, 18), (7, 19), (7, 20), (7, 21), (7, 22), (7, 23), (7, 24), (7, 25), (7, 26), (7, 27), (8, 0), (8, 1), (8, 2), (8, 3), (8, 4), (8, 5), (8, 6), (8, 7), (8, 8), (8, 9), (8, 10), (8, 11), (8, 12), (8, 13), (8, 14), (8, 15), (8, 16), (8, 17), (8, 18), (8, 19), (8, 20), (8, 21), (8, 22), (8, 23), (8, 24), (8, 25), (8, 26), (8, 27), (9, 0), (9, 1), (9, 2), (9, 3), (9, 4), (9, 5), (9, 6), (9, 7), (9, 8), (9, 9), (9, 10), (9, 11), (9, 12), (9, 13), (9, 14), (9, 15), (9, 16), (9, 17), (9, 18), (9, 19), (9, 20), (9, 21), (9, 22), (9, 23), (9, 24), (9, 25), (9, 26), (9, 27), (10, 0), (10, 1), (10, 2), (10, 3), (10, 4), (10, 5), (10, 6), (10, 7), (10, 8), (10, 9), (10, 10), (10, 11), (10, 12), (10, 13), (10, 14), (10, 15), (10, 16), (10, 17), (10, 18), (10, 19), (10, 20), (10, 21), (10, 22), (10, 23), (10, 24), (10, 25), (10, 26), (10, 27), (11, 0), (11, 1), (11, 2), (11, 3), (11, 4), (11, 5), (11, 6), (11, 7), (11, 8), (11, 9), (11, 10), (11, 11), (11, 12), (11, 13), (11, 14), (11, 15), (11, 16), (11, 17), (11, 18), (11, 19), (11, 20), (11, 21), (11, 22), (11, 23), (11, 24), (11, 25), (11, 26), (11, 27), (12, 0), (12, 1), (12, 2), (12, 3), (12, 4), (12, 5), (12, 6), (12, 7), (12, 8), (12, 9), (12, 10), (12, 11), (12, 12), (12, 13), (12, 14), (12, 15), (12, 16), (12, 17), (12, 18), (12, 19), (12, 20), (12, 21), (12, 22), (12, 23), (12, 24), (12, 25), (12, 26), (12, 27), (13, 0), (13, 1), (13, 2), (13, 3), (13, 4), (13, 5), (13, 6), (13, 7), (13, 8), (13, 9), (13, 10), (13, 11), (13, 12), (13, 13), (13, 14), (13, 15), (13, 16), (13, 17), (13, 18), (13, 19), (13, 20), (13, 21), (13, 22), (13, 23), (13, 24), (13, 25), (13, 26), (13, 27), (14, 0), (14, 1), (14, 2), (14, 3), (14, 4), (14, 5), (14, 6), (14, 7), (14, 8), (14, 9), (14, 10), (14, 11), (14, 12), (14, 13), (14, 14), (14, 15), (14, 16), (14, 17), (14, 18), (14, 19), (14, 20), (14, 21), (14, 22), (14, 23), (14, 24), (14, 25), (14, 26), (14, 27), (15, 0), (15, 1), (15, 2), (15, 3), (15, 4), (15, 5), (15, 6), (15, 7), (15, 8), (15, 9), (15, 10), (15, 11), (15, 12), (15, 13), (15, 14), (15, 15), (15, 16), (15, 17), (15, 18), (15, 19), (15, 20), (15, 21), (15, 22), (15, 23), (15, 24), (15, 25), (15, 26), (15, 27), (16, 0), (16, 1), (16, 2), (16, 3), (16, 4), (16, 5), (16, 6), (16, 7), (16, 8), (16, 9), (16, 10), (16, 11), (16, 12), (16, 13), (16, 14), (16, 15), (16, 16), (16, 17), (16, 18), (16, 19), (16, 20), (16, 21), (16, 22), (16, 23), (16, 24), (16, 25), (16, 26), (16, 27), (17, 0), (17, 1), (17, 2), (17, 3), (17, 4), (17, 5), (17, 6), (17, 7), (17, 8), (17, 9), (17, 10), (17, 11), (17, 12), (17, 13), (17, 14), (17, 15), (17, 16), (17, 17), (17, 18), (17, 19), (17, 20), (17, 21), (17, 22), (17, 23), (17, 24), (17, 25), (17, 26), (17, 27), (18, 0), (18, 1), (18, 2), (18, 3), (18, 4), (18, 5), (18, 6), (18, 7), (18, 8), (18, 9), (18, 10), (18, 11), (18, 12), (18, 13), (18, 14), (18, 15), (18, 16), (18, 17), (18, 18), (18, 19), (18, 20), (18, 21), (18, 22), (18, 23), (18, 24), (18, 25), (18, 26), (18, 27), (19, 0), (19, 1), (19, 2), (19, 3), (19, 4), (19, 5), (19, 6), (19, 7), (19, 8), (19, 9), (19, 10), (19, 11), (19, 12), (19, 13), (19, 14), (19, 15), (19, 16), (19, 17), (19, 18), (19, 19), (19, 20), (19, 21), (19, 22), (19, 23), (19, 24), (19, 25), (19, 26), (19, 27), (20, 0), (20, 1), (20, 2), (20, 3), (20, 4), (20, 5), (20, 6), (20, 7), (20, 8), (20, 9), (20, 10), (20, 11), (20, 12), (20, 13), (20, 14), (20, 15), (20, 16), (20, 17), (20, 18), (20, 19), (20, 20), (20, 21), (20, 22), (20, 23), (20, 24), (20, 25), (20, 26), (20, 27), (21, 0), (21, 1), (21, 2), (21, 3), (21, 4), (21, 5), (21, 6), (21, 7), (21, 8), (21, 9), (21, 10), (21, 11), (21, 12), (21, 13), (21, 14), (21, 15), (21, 16), (21, 17), (21, 18), (21, 19), (21, 20), (21, 21), (21, 22), (21, 23), (21, 24), (21, 25), (21, 26), (21, 27), (22, 0), (22, 1), (22, 2), (22, 3), (22, 4), (22, 5), (22, 6), (22, 7), (22, 8), (22, 9), (22, 10), (22, 11), (22, 12), (22, 13), (22, 14), (22, 15), (22, 16), (22, 17), (22, 18), (22, 19), (22, 20), (22, 21), (22, 22), (22, 23), (22, 24), (22, 25), (22, 26), (22, 27), (23, 0), (23, 1), (23, 2), (23, 3), (23, 4), (23, 5), (23, 6), (23, 7), (23, 8), (23, 9), (23, 10), (23, 11), (23, 12), (23, 13), (23, 14), (23, 15), (23, 16), (23, 17), (23, 18), (23, 19), (23, 20), (23, 21), (23, 22), (23, 23), (23, 24), (23, 25), (23, 26), (23, 27), (24, 0), (24, 1), (24, 2), (24, 3), (24, 4), (24, 5), (24, 6), (24, 7), (24, 8), (24, 9), (24, 10), (24, 11), (24, 12), (24, 13), (24, 14), (24, 15), (24, 16), (24, 17), (24, 18), (24, 19), (24, 20), (24, 21), (24, 22), (24, 23), (24, 24), (24, 25), (24, 26), (24, 27), (25, 0), (25, 1), (25, 2), (25, 3), (25, 4), (25, 5), (25, 6), (25, 7), (25, 8), (25, 9), (25, 10), (25, 11), (25, 12), (25, 13), (25, 14), (25, 15), (25, 16), (25, 17), (25, 18), (25, 19), (25, 20), (25, 21), (25, 22), (25, 23), (25, 24), (25, 25), (25, 26), (25, 27), (26, 0), (26, 1), (26, 2), (26, 3), (26, 4), (26, 5), (26, 6), (26, 7), (26, 8), (26, 9), (26, 10), (26, 11), (26, 12), (26, 13), (26, 14), (26, 15), (26, 16), (26, 17), (26, 18), (26, 19), (26, 20), (26, 21), (26, 22), (26, 23), (26, 24), (26, 25), (26, 26), (26, 27), (27, 0), (27, 1), (27, 2), (27, 3), (27, 4), (27, 5), (27, 6), (27, 7), (27, 8), (27, 9), (27, 10), (27, 11), (27, 12), (27, 13), (27, 14), (27, 15), (27, 16), (27, 17), (27, 18), (27, 19), (27, 20), (27, 21), (27, 22), (27, 23), (27, 24), (27, 25), (27, 26), (27, 27)))"
      ]
     },
     "execution_count": 228,
     "metadata": {},
     "output_type": "execute_result"
    }
   ],
   "source": [
    "G.nodes"
   ]
  },
  {
   "cell_type": "code",
   "execution_count": 245,
   "metadata": {
    "pycharm": {
     "name": "#%%\n"
    }
   },
   "outputs": [],
   "source": [
    "def get_neighs(p):\n",
    "    x,y = p\n",
    "    neighbors = [(x + dx, y + dy) for dx, dy in [(1, 0), (-1, 0), (0, 1), (0, -1)]]\n",
    "    return neighbors\n",
    "\n",
    "def get_connecting_edges(surrounding_nodes):\n",
    "    ret = []\n",
    "    for node in surrounding_nodes:\n",
    "        x,y = node\n",
    "        neighbors = get_neighs((x,y))\n",
    "        for neighbor in neighbors:\n",
    "            if neighbor in surrounding_nodes:\n",
    "                ret.append((node, neighbor))\n",
    "    return ret\n",
    "\n",
    "def get_path_border(path):\n",
    "    border = []\n",
    "    for p in path:\n",
    "        border += get_neighs(p)\n",
    "    surrounding_nodes = list(set(border)-set(path))\n",
    "    return get_connecting_edges(surrounding_nodes)\n",
    "\n",
    "\n",
    "def get_room_border(graph, room):\n",
    "    y, x, h, w = room\n",
    "    y,x = toG(y,x)\n",
    "    surrounding_nodes = [(y - 1 + i, x - 1 + j) for i in range(h + 2) for j in range(w + 2) if i in [0, h + 1] or j in [0, w + 1]]\n",
    "    return get_connecting_edges(surrounding_nodes)\n"
   ]
  },
  {
   "cell_type": "code",
   "execution_count": 247,
   "metadata": {
    "collapsed": false,
    "jupyter": {
     "outputs_hidden": false
    },
    "pycharm": {
     "name": "#%%\n"
    }
   },
   "outputs": [],
   "source": [
    "import networkx as nx\n",
    "G=nx.grid_graph(dim=[grid_size-2,grid_size-2])\n",
    "\n",
    "for e in G.edges(data=True):\n",
    "    e[2]['weigth']=1\n",
    "for n,d in G.nodes(data=True):\n",
    "    d['taken']=False\n",
    "for y,x in walkable_points:\n",
    "    G.nodes[(y-1,x-1)]['taken']=True\n",
    "\n",
    "def set_weights(G,taken,weigth):\n",
    "    for node in taken:\n",
    "        for k,v in G[node].items(): #edges connected to the node\n",
    "            if G.nodes[k]['taken']==True: #ignore if the node on the other side is already taken\n",
    "                  continue\n",
    "            else:\n",
    "                v['weigth']+=weigth\n",
    "    return G\n",
    "\n",
    "def out_of_bounds(indices):\n",
    "    for i in indices:\n",
    "        if i<0 or i>grid_size-3:\n",
    "            return True\n",
    "    return False\n",
    "\n",
    "def set_weight_edges(G,edges,weigth):\n",
    "    for e in edges:\n",
    "        indices=set(list(e[0])+list(e[1]))\n",
    "        if out_of_bounds(indices):\n",
    "            continue\n",
    "        if G.nodes[e[0]]['taken']==True or G.nodes[e[1]]['taken']==True:\n",
    "            continue\n",
    "        G.edges[e]['weigth']=weigth\n",
    "    return G \n",
    "\n",
    "edges_around_rooms = []\n",
    "for room in chosen_rooms:\n",
    "    edges_around_rooms+=get_room_border(G,room)\n",
    "G = set_weight_edges(G,edges_around_rooms,100)    \n",
    "rooms_points =  map(lambda x:x[0],filter(lambda d: d[1]['taken'] == True, G.nodes(data=True)))\n",
    "G = set_weights(G,rooms_points,100)"
   ]
  },
  {
   "cell_type": "code",
   "execution_count": 249,
   "metadata": {
    "collapsed": false,
    "jupyter": {
     "outputs_hidden": false
    },
    "pycharm": {
     "name": "#%%\n"
    }
   },
   "outputs": [],
   "source": [
    "paths = {}\n",
    "for pair,_ in sorted_pairs:\n",
    "    r1 = chosen_rooms[pair[0]]\n",
    "    r2 = chosen_rooms[pair[1]]\n",
    "    c1=get_room_center(r1)\n",
    "    c2=get_room_center(r2)\n",
    "    path=nx.shortest_path(G, source=c1, target=c2, weight='weigth')\n",
    "    paths[pair]=path\n",
    "    for y,x in path:\n",
    "        G.nodes[(y,x)]['taken']=True\n",
    "    G = set_weight_edges(G,get_path_border(path),100)\n",
    "    G=set_weights(G,path,50)"
   ]
  },
  {
   "cell_type": "code",
   "execution_count": 218,
   "metadata": {
    "collapsed": true,
    "jupyter": {
     "outputs_hidden": true
    },
    "pycharm": {
     "name": "#%%\n"
    }
   },
   "outputs": [
    {
     "data": {
      "text/plain": [
       "{(0, 1): [(19, 15),\n",
       "  (20, 15),\n",
       "  (21, 15),\n",
       "  (22, 15),\n",
       "  (23, 15),\n",
       "  (24, 15),\n",
       "  (25, 15),\n",
       "  (26, 15)],\n",
       " (3, 4): [(3, 27),\n",
       "  (3, 26),\n",
       "  (3, 25),\n",
       "  (4, 25),\n",
       "  (4, 24),\n",
       "  (4, 23),\n",
       "  (4, 22),\n",
       "  (5, 22),\n",
       "  (6, 22),\n",
       "  (7, 22),\n",
       "  (8, 22)],\n",
       " (2, 4): [(19, 27),\n",
       "  (18, 27),\n",
       "  (17, 27),\n",
       "  (16, 27),\n",
       "  (15, 27),\n",
       "  (14, 27),\n",
       "  (14, 26),\n",
       "  (14, 25),\n",
       "  (14, 24),\n",
       "  (14, 23),\n",
       "  (13, 23),\n",
       "  (12, 23),\n",
       "  (11, 23),\n",
       "  (10, 23),\n",
       "  (9, 23),\n",
       "  (9, 22),\n",
       "  (8, 22)],\n",
       " (0, 4): [(19, 15),\n",
       "  (18, 15),\n",
       "  (17, 15),\n",
       "  (16, 15),\n",
       "  (15, 15),\n",
       "  (14, 15),\n",
       "  (13, 15),\n",
       "  (12, 15),\n",
       "  (11, 15),\n",
       "  (10, 15),\n",
       "  (9, 15),\n",
       "  (9, 16),\n",
       "  (9, 17),\n",
       "  (9, 18),\n",
       "  (8, 18),\n",
       "  (8, 19),\n",
       "  (8, 20),\n",
       "  (8, 21),\n",
       "  (8, 22)],\n",
       " (0, 2): [(19, 15),\n",
       "  (19, 16),\n",
       "  (19, 17),\n",
       "  (19, 18),\n",
       "  (19, 19),\n",
       "  (19, 20),\n",
       "  (19, 21),\n",
       "  (19, 22),\n",
       "  (19, 23),\n",
       "  (19, 24),\n",
       "  (19, 25),\n",
       "  (19, 26),\n",
       "  (19, 27)],\n",
       " (1, 2): [(26, 15),\n",
       "  (25, 15),\n",
       "  (24, 15),\n",
       "  (23, 15),\n",
       "  (22, 15),\n",
       "  (22, 16),\n",
       "  (22, 17),\n",
       "  (22, 18),\n",
       "  (22, 19),\n",
       "  (22, 20),\n",
       "  (22, 21),\n",
       "  (22, 22),\n",
       "  (22, 23),\n",
       "  (22, 24),\n",
       "  (22, 25),\n",
       "  (21, 25),\n",
       "  (20, 25),\n",
       "  (19, 25),\n",
       "  (19, 26),\n",
       "  (19, 27)],\n",
       " (2, 3): [(19, 27),\n",
       "  (18, 27),\n",
       "  (17, 27),\n",
       "  (16, 27),\n",
       "  (15, 27),\n",
       "  (14, 27),\n",
       "  (13, 27),\n",
       "  (12, 27),\n",
       "  (11, 27),\n",
       "  (10, 27),\n",
       "  (9, 27),\n",
       "  (8, 27),\n",
       "  (7, 27),\n",
       "  (6, 27),\n",
       "  (5, 27),\n",
       "  (4, 27),\n",
       "  (3, 27)],\n",
       " (1, 4): [(26, 15),\n",
       "  (25, 15),\n",
       "  (24, 15),\n",
       "  (23, 15),\n",
       "  (22, 15),\n",
       "  (22, 14),\n",
       "  (22, 13),\n",
       "  (22, 12),\n",
       "  (21, 12),\n",
       "  (21, 11),\n",
       "  (20, 11),\n",
       "  (19, 11),\n",
       "  (18, 11),\n",
       "  (17, 11),\n",
       "  (16, 11),\n",
       "  (15, 11),\n",
       "  (14, 11),\n",
       "  (13, 11),\n",
       "  (12, 11),\n",
       "  (11, 11),\n",
       "  (10, 11),\n",
       "  (9, 11),\n",
       "  (8, 11),\n",
       "  (7, 11),\n",
       "  (7, 12),\n",
       "  (7, 13),\n",
       "  (7, 14),\n",
       "  (7, 15),\n",
       "  (7, 16),\n",
       "  (7, 17),\n",
       "  (7, 18),\n",
       "  (7, 19),\n",
       "  (7, 20),\n",
       "  (7, 21),\n",
       "  (7, 22),\n",
       "  (8, 22)],\n",
       " (0, 3): [(19, 15),\n",
       "  (18, 15),\n",
       "  (17, 15),\n",
       "  (16, 15),\n",
       "  (15, 15),\n",
       "  (15, 14),\n",
       "  (15, 13),\n",
       "  (15, 12),\n",
       "  (15, 11),\n",
       "  (14, 11),\n",
       "  (13, 11),\n",
       "  (12, 11),\n",
       "  (11, 11),\n",
       "  (10, 11),\n",
       "  (9, 11),\n",
       "  (8, 11),\n",
       "  (7, 11),\n",
       "  (6, 11),\n",
       "  (5, 11),\n",
       "  (4, 11),\n",
       "  (3, 11),\n",
       "  (2, 11),\n",
       "  (2, 12),\n",
       "  (2, 13),\n",
       "  (2, 14),\n",
       "  (2, 15),\n",
       "  (2, 16),\n",
       "  (2, 17),\n",
       "  (2, 18),\n",
       "  (2, 19),\n",
       "  (2, 20),\n",
       "  (2, 21),\n",
       "  (2, 22),\n",
       "  (2, 23),\n",
       "  (2, 24),\n",
       "  (2, 25),\n",
       "  (2, 26),\n",
       "  (2, 27),\n",
       "  (3, 27)],\n",
       " (1, 3): [(26, 15),\n",
       "  (25, 15),\n",
       "  (24, 15),\n",
       "  (23, 15),\n",
       "  (23, 14),\n",
       "  (23, 13),\n",
       "  (23, 12),\n",
       "  (23, 11),\n",
       "  (22, 11),\n",
       "  (22, 10),\n",
       "  (21, 10),\n",
       "  (20, 10),\n",
       "  (19, 10),\n",
       "  (18, 10),\n",
       "  (17, 10),\n",
       "  (16, 10),\n",
       "  (15, 10),\n",
       "  (14, 10),\n",
       "  (13, 10),\n",
       "  (12, 10),\n",
       "  (11, 10),\n",
       "  (10, 10),\n",
       "  (9, 10),\n",
       "  (8, 10),\n",
       "  (7, 10),\n",
       "  (6, 10),\n",
       "  (5, 10),\n",
       "  (4, 10),\n",
       "  (3, 10),\n",
       "  (2, 10),\n",
       "  (1, 10),\n",
       "  (1, 11),\n",
       "  (1, 12),\n",
       "  (1, 13),\n",
       "  (1, 14),\n",
       "  (1, 15),\n",
       "  (1, 16),\n",
       "  (1, 17),\n",
       "  (1, 18),\n",
       "  (1, 19),\n",
       "  (1, 20),\n",
       "  (1, 21),\n",
       "  (1, 22),\n",
       "  (1, 23),\n",
       "  (1, 24),\n",
       "  (1, 25),\n",
       "  (1, 26),\n",
       "  (1, 27),\n",
       "  (2, 27),\n",
       "  (3, 27)]}"
      ]
     },
     "execution_count": 218,
     "metadata": {},
     "output_type": "execute_result"
    }
   ],
   "source": [
    "paths"
   ]
  },
  {
   "cell_type": "code",
   "execution_count": 219,
   "metadata": {},
   "outputs": [
    {
     "data": {
      "text/plain": [
       "{'weigth': 1}"
      ]
     },
     "execution_count": 219,
     "metadata": {},
     "output_type": "execute_result"
    }
   ],
   "source": [
    "G.edges[((0,0),(0,1))]"
   ]
  },
  {
   "cell_type": "code",
   "execution_count": 260,
   "metadata": {
    "collapsed": false,
    "jupyter": {
     "outputs_hidden": false
    },
    "pycharm": {
     "name": "#%%\n"
    }
   },
   "outputs": [
    {
     "name": "stdout",
     "output_type": "stream",
     "text": [
      "##############################\n",
      "###############   ############\n",
      "###############   ############\n",
      "###############   ############\n",
      "###############   ############\n",
      "##############################\n",
      "#####         ############   #\n",
      "#   #         ############   #\n",
      "#   #         ############   #\n",
      "#   #         ############   #\n",
      "#####         ############   #\n",
      "#             ############   #\n",
      "#   ######################   #\n",
      "#   ###############      #   #\n",
      "###################      #####\n",
      "#   ###############      #####\n",
      "#   ##########################\n",
      "#   ##########################\n",
      "#   ###########   ############\n",
      "#   ###########   ############\n",
      "#   ###########   ############\n",
      "#   ###########   ############\n",
      "#   ###########   ############\n",
      "#   ###########   ############\n",
      "#   ##########################\n",
      "##############################\n",
      "###################      #####\n",
      "###################      #####\n",
      "###################      #####\n",
      "##############################\n",
      "\n"
     ]
    }
   ],
   "source": [
    "ix = 3\n",
    "walkable_points1 = set(list(walkable_points) + list(map(toL,paths[sorted_pairs[ix][0]])))\n",
    "print(create_string(walkable_points1))"
   ]
  },
  {
   "cell_type": "code",
   "execution_count": 241,
   "metadata": {},
   "outputs": [
    {
     "data": {
      "text/plain": [
       "[(7, 3),\n",
       " (10, 8),\n",
       " (10, 9),\n",
       " (10, 5),\n",
       " (10, 4),\n",
       " (8, 1),\n",
       " (10, 7),\n",
       " (9, 2),\n",
       " (10, 6),\n",
       " (9, 3),\n",
       " (8, 9),\n",
       " (9, 10),\n",
       " (7, 4),\n",
       " (8, 8),\n",
       " (8, 7),\n",
       " (8, 6),\n",
       " (8, 5),\n",
       " (7, 2)]"
      ]
     },
     "execution_count": 241,
     "metadata": {},
     "output_type": "execute_result"
    }
   ],
   "source": [
    "get_path_border(paths[(0,4)])"
   ]
  },
  {
   "cell_type": "code",
   "execution_count": 242,
   "metadata": {},
   "outputs": [
    {
     "data": {
      "text/plain": [
       "[(8, 2), (8, 3), (8, 4), (9, 4), (9, 5), (9, 6), (9, 7), (9, 8), (9, 9)]"
      ]
     },
     "execution_count": 242,
     "metadata": {},
     "output_type": "execute_result"
    }
   ],
   "source": [
    "paths[(0,4)]"
   ]
  },
  {
   "cell_type": "code",
   "execution_count": null,
   "metadata": {
    "pycharm": {
     "name": "#%%\n"
    }
   },
   "outputs": [],
   "source": [
    "get_room_subgraph(G,(1,1,2,2),1)"
   ]
  }
 ],
 "metadata": {
  "kernelspec": {
   "display_name": "Python 3",
   "language": "python",
   "name": "python3"
  },
  "language_info": {
   "codemirror_mode": {
    "name": "ipython",
    "version": 3
   },
   "file_extension": ".py",
   "mimetype": "text/x-python",
   "name": "python",
   "nbconvert_exporter": "python",
   "pygments_lexer": "ipython3",
   "version": "3.7.6"
  }
 },
 "nbformat": 4,
 "nbformat_minor": 4
}
