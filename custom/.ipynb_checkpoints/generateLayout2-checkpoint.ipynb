{
 "cells": [
  {
   "cell_type": "code",
   "execution_count": 1,
   "metadata": {},
   "outputs": [],
   "source": [
    "import matplotlib.pyplot as plt"
   ]
  },
  {
   "cell_type": "code",
   "execution_count": 2,
   "metadata": {},
   "outputs": [],
   "source": [
    "%load_ext autoreload\n",
    "%autoreload 2\n",
    "from generateLayout import *"
   ]
  },
  {
   "cell_type": "code",
   "execution_count": 3,
   "metadata": {
    "collapsed": false,
    "jupyter": {
     "outputs_hidden": false
    }
   },
   "outputs": [],
   "source": [
    "import pickle\n",
    "\n",
    "with open('testGraph.pkl', 'rb') as file:\n",
    "    molecules_G = pickle.load(file)"
   ]
  },
  {
   "cell_type": "code",
   "execution_count": 7,
   "metadata": {
    "collapsed": false,
    "jupyter": {
     "outputs_hidden": false
    }
   },
   "outputs": [
    {
     "name": "stdout",
     "output_type": "stream",
     "text": [
      "layout_spec \n",
      "******************************\n",
      "molecules [{'obstacle_G_ix': None, 'edge': None, 'params': [None], 'molecule': <networkx.classes.digraph.DiGraph object at 0x7fefdcad79d0>, 'molecule_ix': 5}, {'obstacle_G_ix': 0, 'edge': (40001, 40003), 'params': [None, None, None, None], 'molecule': <networkx.classes.digraph.DiGraph object at 0x7fefdcad7c50>, 'molecule_ix': 44}, {'obstacle_G_ix': 1, 'edge': ('gh101', 'gh102'), 'params': [None], 'molecule': <networkx.classes.digraph.DiGraph object at 0x7fefdcae1290>, 'molecule_ix': 2}]\n",
      "******************************\n"
     ]
    },
    {
     "data": {
      "text/plain": [
       "NodeDataView({2: {'data': [['13'], ['8', '7']]}, 1: {'data': [['15'], ['8', '19', '13'], ['19', '8', '7', '0']]}, 0: {'data': [['17']]}})"
      ]
     },
     "execution_count": 7,
     "metadata": {},
     "output_type": "execute_result"
    }
   ],
   "source": [
    "for k, v in molecules_G.items():\n",
    "    print(k, v)\n",
    "    print(\"*\"*30)\n",
    "node_data = molecules_G[\"layout_spec\"].nodes(data = True)\n",
    "# počet vnořených polí u atributu data = počet místností\n",
    "# čísla v polích jsou elementy, které do těch místností dát\n",
    "# indexy dictu jsou indexy group\n",
    "# v group sizes v iterate_G\n",
    "node_data"
   ]
  },
  {
   "cell_type": "code",
   "execution_count": 8,
   "metadata": {
    "collapsed": false,
    "jupyter": {
     "outputs_hidden": false
    }
   },
   "outputs": [
    {
     "data": {
      "text/plain": [
       "OutEdgeDataView([(2, 1, {'obstacle_id': 2}), (1, 0, {'obstacle_id': 44})])"
      ]
     },
     "execution_count": 8,
     "metadata": {},
     "output_type": "execute_result"
    }
   ],
   "source": [
    "edge_data = molecules_G[\"layout_spec\"].edges(data = True)\n",
    "# obstacle_id je ID překážky kterou překročím jedině pokud sestavím molekulu stejného indexu\n",
    "# (2,1) (1,0) -> groups to connect\n",
    "\n",
    "#potom rozmisťování atomů - atom_placements = (atom_id, coordinates_in_layout)\n",
    "#zjistit pozice místností v dané groupě\n",
    "edge_data"
   ]
  },
  {
   "cell_type": "code",
   "execution_count": 9,
   "metadata": {},
   "outputs": [
    {
     "data": {
      "text/plain": [
       "[2, 3, 2]"
      ]
     },
     "execution_count": 9,
     "metadata": {},
     "output_type": "execute_result"
    }
   ],
   "source": [
    "node_data = dict(node_data)\n",
    "group_id_room_number = {}\n",
    "for i, data in node_data.items():\n",
    "    group_id_room_number[i] = 2 if len(data['data'])==1 else len(data['data'])\n",
    "group_sizes = list(group_id_room_number.values())\n",
    "group_sizes"
   ]
  },
  {
   "cell_type": "code",
   "execution_count": 10,
   "metadata": {
    "collapsed": false,
    "jupyter": {
     "outputs_hidden": false
    }
   },
   "outputs": [
    {
     "data": {
      "text/plain": [
       "7"
      ]
     },
     "execution_count": 10,
     "metadata": {},
     "output_type": "execute_result"
    }
   ],
   "source": [
    "num_rooms = sum(group_sizes)\n",
    "num_rooms"
   ]
  },
  {
   "cell_type": "code",
   "execution_count": 11,
   "metadata": {
    "collapsed": false,
    "jupyter": {
     "outputs_hidden": false
    }
   },
   "outputs": [
    {
     "data": {
      "text/plain": [
       "[2, 1, 0]"
      ]
     },
     "execution_count": 11,
     "metadata": {},
     "output_type": "execute_result"
    }
   ],
   "source": [
    "group_ids = [k for k, v in node_data.items()]\n",
    "group_ids"
   ]
  },
  {
   "cell_type": "code",
   "execution_count": 12,
   "metadata": {
    "collapsed": false,
    "jupyter": {
     "outputs_hidden": false
    }
   },
   "outputs": [
    {
     "name": "stdout",
     "output_type": "stream",
     "text": [
      "{0: ['13'], 1: ['8', '7'], 2: ['15'], 3: ['8', '19', '13'], 4: ['19', '8', '7', '0'], 5: ['17']}\n"
     ]
    }
   ],
   "source": [
    "room_ids_obstacle_ids = {}\n",
    "index = 0\n",
    "for _, data in node_data.items():\n",
    "    for inner_list in data['data']:\n",
    "        room_ids_obstacle_ids[index] = inner_list\n",
    "        index += 1\n",
    "print(room_ids_obstacle_ids)"
   ]
  },
  {
   "cell_type": "code",
   "execution_count": 13,
   "metadata": {
    "collapsed": false,
    "jupyter": {
     "outputs_hidden": false
    }
   },
   "outputs": [
    {
     "data": {
      "text/plain": [
       "[(2, 1), (1, 0)]"
      ]
     },
     "execution_count": 13,
     "metadata": {},
     "output_type": "execute_result"
    }
   ],
   "source": [
    "groups_from_pkl = [(edge[0], edge[1]) for edge in edge_data]\n",
    "groups_from_pkl"
   ]
  },
  {
   "cell_type": "code",
   "execution_count": 14,
   "metadata": {
    "collapsed": false,
    "jupyter": {
     "outputs_hidden": false
    }
   },
   "outputs": [],
   "source": [
    "num_columns = 4\n",
    "grid_size = 30\n",
    "min_room_size = 3\n",
    "roomspace = grid_size - (num_columns + 1)"
   ]
  },
  {
   "cell_type": "code",
   "execution_count": 15,
   "metadata": {
    "collapsed": false,
    "jupyter": {
     "outputs_hidden": false
    }
   },
   "outputs": [],
   "source": [
    "divisions = get_divisions(roomspace, num_columns,min_room_size)\n",
    "walkable_points, chosen_rooms = get_choosen_rooms(divisions,min_room_size,num_rooms)\n",
    "\n",
    "distances = {}\n",
    "for i,r1 in enumerate(chosen_rooms):\n",
    "    for j,r2 in enumerate(chosen_rooms):\n",
    "        if i<j:\n",
    "            distances[(i,j)]=get_distance(r1,r2)\n",
    "            \n",
    "sorted_pairs=list(sorted(map(lambda x:(x[0],x[1]),distances.items()),key=lambda x:x[1]))\n",
    "G = get_grid_graph(grid_size,walkable_points,chosen_rooms)\n",
    "paths = get_paths(G,sorted_pairs,chosen_rooms,grid_size)\n",
    "paths_lst = [(k, v) for k, v in paths.items()]\n",
    "rooms_points  = get_room_points(chosen_rooms)\n",
    "room_G = get_rooms_graph(chosen_rooms,paths_lst,rooms_points)"
   ]
  },
  {
   "cell_type": "code",
   "execution_count": 16,
   "metadata": {},
   "outputs": [
    {
     "data": {
      "text/plain": [
       "[2, 3, 2]"
      ]
     },
     "execution_count": 16,
     "metadata": {},
     "output_type": "execute_result"
    }
   ],
   "source": [
    "group_sizes"
   ]
  },
  {
   "cell_type": "code",
   "execution_count": 18,
   "metadata": {
    "collapsed": false,
    "jupyter": {
     "outputs_hidden": false
    }
   },
   "outputs": [
    {
     "name": "stdout",
     "output_type": "stream",
     "text": [
      "[10, 0]\n",
      "0 :::: [{'edges': {20}, 'intersections': {16}}, {'edges': {2, 6}, 'intersections': {9, 10, 14, 15, 17, 18, 19}}, {'edges': {13}, 'intersections': {9, 11, 15, 17, 19}}]\n",
      "wwwwwwwwwwwwwwwwwwwwwwwwwwwwww\n",
      "wwwwwwwwwwwwwwwwwwwwwwwwwwwwww\n",
      "wwwwwwwwwwwwwwwwwwwwwwwwwwwwww\n",
      "wwwwwwwwwwwwwwwwwwwwwwwwwwwwww\n",
      "wwwww              wwwwwwwwwww\n",
      "wwwww wwwwwwwwwwww  wwwwwwwwww\n",
      "wwwww wwwwwww     w wwwwwwwwww\n",
      "w     wwwwwww     w wwwwwwwwww\n",
      "w     wwwwwww     w wwwwwwwwww\n",
      "w     wwwwwww     w  wwwwwwwww\n",
      "w     wwwwwww     ww  wwwwwwww\n",
      "w     wwwwwww     www wwwwwwww\n",
      "wwww wwwwwwwwwww wwww wwwwwwww\n",
      "w     wwwwwwwwww wwww wwwwwwww\n",
      "w     wwwwwwwwww wwww wwwwwwww\n",
      "w     wwwwwwwwww wwww wwwwwwww\n",
      "w     wwwwwwwwww wwww      www\n",
      "w     wwwwwwwwww wwwwwwwww www\n",
      "w     wwwwwwwwww ww          w\n",
      "w     wwwwwwwwww ww          w\n",
      "w                 w          w\n",
      "w     wwww ww     w          w\n",
      "w     w     w     w          w\n",
      "w     w     w     wwwwwwwwwwww\n",
      "w     w     w     wwwwwwwwwwww\n",
      "wwwww wwwwwww     wwwwwwwwwwww\n",
      "wwwww w     w     wwwwwwwwwwww\n",
      "wwwww w     w     wwwwwwwwwwww\n",
      "wwwww       w     wwwwwwwwwwww\n",
      "wwwwwwwwwwwwwwwwwwwwwwwwwwwwww\n",
      "\n"
     ]
    }
   ],
   "source": [
    "available_indices = set(range(num_rooms)) # num rooms=součet\n",
    "\n",
    "groups_to_connect = groups_from_pkl\n",
    "splits_it = iterate_G(available_indices,group_sizes,0,room_G)\n",
    "\n",
    "found = False\n",
    "for i,split in enumerate(splits_it):\n",
    "    skels_it = get_possible_split(split)\n",
    "    for skels in skels_it:\n",
    "        if len(skels)==len(group_sizes):\n",
    "            crossing_edges = get_crossing_edges_list(skels,room_G,groups_to_connect,paths_lst)\n",
    "            #if None in crossing_edges:\n",
    "            #    print(crossing_edges)\n",
    "            #    continue\n",
    "            found = True\n",
    "            print(i,'::::',skels)\n",
    "            break\n",
    "    #if i>100:\n",
    "    if found==True:\n",
    "        break\n",
    "#crossing_edges = [] # zakomentovat\n",
    "string = get_layout_str(walkable_points,skels,crossing_edges,paths_lst,grid_size)\n",
    "print(string)"
   ]
  },
  {
   "cell_type": "code",
   "execution_count": 17,
   "metadata": {
    "collapsed": false,
    "jupyter": {
     "outputs_hidden": false
    }
   },
   "outputs": [
    {
     "name": "stdout",
     "output_type": "stream",
     "text": [
      "[None, None]\n"
     ]
    }
   ],
   "source": [
    "print(crossing_edges)"
   ]
  },
  {
   "cell_type": "code",
   "execution_count": 349,
   "metadata": {
    "collapsed": false,
    "jupyter": {
     "outputs_hidden": false
    }
   },
   "outputs": [
    {
     "name": "stdout",
     "output_type": "stream",
     "text": [
      "[{'edges': {0}, 'intersections': set()}, {'edges': {8, 12}, 'intersections': {13, 6}}, {'edges': set(), 'intersections': set()}]\n"
     ]
    }
   ],
   "source": [
    "print(skels)"
   ]
  },
  {
   "cell_type": "code",
   "execution_count": 216,
   "metadata": {
    "collapsed": false,
    "jupyter": {
     "outputs_hidden": false
    }
   },
   "outputs": [],
   "source": [
    "def checkLayout(skels, crossing_edges, paths_lst, room_points):\n",
    "    # vytáhnout všechny edges ze skels (pro každou group bude jedno pole edges)\n",
    "    # edges = [[edge_z_groupy]]\n",
    "    # loop přes edges a v každé iteraci budu mít všechny edge v dané groupě\n",
    "        # vytvořit pole všech bodů mimo tuto groupu (všechny roomky a koridory v ostatních groupách)\n",
    "        # inner přes každý edge:\n",
    "        # check jestli edge se protíná s čímkoliv co je mimo tuto groupu\n",
    "    # loop přes všechny crossing_edges\n",
    "        # zjistit, jestli se neprotínají navzájem (intersection)\n",
    "    pass"
   ]
  },
  {
   "cell_type": "code",
   "execution_count": 217,
   "metadata": {
    "collapsed": false,
    "jupyter": {
     "outputs_hidden": false
    }
   },
   "outputs": [],
   "source": [
    "sorted_pairs=list(sorted(map(lambda x:(x[0],x[1]),distances.items()),key=lambda x:x[1]))"
   ]
  },
  {
   "cell_type": "code",
   "execution_count": 218,
   "metadata": {},
   "outputs": [],
   "source": [
    "G = get_grid_graph(grid_size,walkable_points,chosen_rooms)"
   ]
  },
  {
   "cell_type": "code",
   "execution_count": 219,
   "metadata": {
    "collapsed": false,
    "jupyter": {
     "outputs_hidden": false
    }
   },
   "outputs": [],
   "source": [
    "paths = get_paths(G,sorted_pairs,chosen_rooms,grid_size)\n"
   ]
  },
  {
   "cell_type": "code",
   "execution_count": 220,
   "metadata": {},
   "outputs": [],
   "source": [
    "paths_lst = [(k, v) for k, v in paths.items()]\n",
    "rooms_points  = get_room_points(chosen_rooms)\n",
    "\n",
    "room_G = get_rooms_graph(chosen_rooms,paths_lst,rooms_points)\n"
   ]
  },
  {
   "cell_type": "code",
   "execution_count": 221,
   "metadata": {
    "collapsed": true,
    "jupyter": {
     "outputs_hidden": true
    }
   },
   "outputs": [
    {
     "data": {
      "image/png": "[encoded data removed]",
      "text/plain": [
       "<Figure size 640x480 with 1 Axes>"
      ]
     },
     "metadata": {},
     "output_type": "display_data"
    }
   ],
   "source": [
    "nx.draw(room_G, with_labels=True)\n",
    "edgs=room_G.edges(data=True)"
   ]
  },
  {
   "cell_type": "code",
   "execution_count": 222,
   "metadata": {
    "collapsed": true,
    "jupyter": {
     "outputs_hidden": true
    }
   },
   "outputs": [
    {
     "name": "stdout",
     "output_type": "stream",
     "text": [
      "(0, 1, {'corridor_key': 0, 'crossed_corridors': [11], 'crossed_rooms': []})\n",
      "(0, 3, {'corridor_key': 1, 'crossed_corridors': [12], 'crossed_rooms': []})\n",
      "(0, 5, {'corridor_key': 8, 'crossed_corridors': [7, 13], 'crossed_rooms': []})\n",
      "(0, 4, {'corridor_key': 11, 'crossed_corridors': [0, 5, 6, 7, 9, 13], 'crossed_rooms': [1]})\n",
      "(0, 2, {'corridor_key': 12, 'crossed_corridors': [1, 7, 10, 13, 14], 'crossed_rooms': []})\n",
      "(1, 4, {'corridor_key': 5, 'crossed_corridors': [11, 13], 'crossed_rooms': []})\n",
      "(1, 5, {'corridor_key': 6, 'crossed_corridors': [], 'crossed_rooms': []})\n",
      "(1, 3, {'corridor_key': 7, 'crossed_corridors': [8, 10, 12, 13, 14], 'crossed_rooms': []})\n",
      "(1, 2, {'corridor_key': 9, 'crossed_corridors': [2], 'crossed_rooms': []})\n",
      "(2, 4, {'corridor_key': 2, 'crossed_corridors': [9], 'crossed_rooms': []})\n",
      "(2, 5, {'corridor_key': 3, 'crossed_corridors': [], 'crossed_rooms': []})\n",
      "(2, 3, {'corridor_key': 14, 'crossed_corridors': [7, 10, 12, 13], 'crossed_rooms': []})\n",
      "(3, 5, {'corridor_key': 10, 'crossed_corridors': [7, 12, 13, 14], 'crossed_rooms': []})\n",
      "(3, 4, {'corridor_key': 13, 'crossed_corridors': [5, 6, 7, 8, 10, 11, 12, 14], 'crossed_rooms': [1]})\n",
      "(4, 5, {'corridor_key': 4, 'crossed_corridors': [], 'crossed_rooms': []})\n"
     ]
    }
   ],
   "source": [
    "for e in edgs:\n",
    "    print(e)"
   ]
  },
  {
   "cell_type": "code",
   "execution_count": 223,
   "metadata": {},
   "outputs": [],
   "source": [
    "groups_to_connect = [(0,1),(1,2)]\n",
    "available_indices = set(range(num_rooms))\n",
    "splits_it = iterate_G(available_indices,[3,3,3],0,room_G)\n",
    "found = False\n",
    "for i,split in enumerate(splits_it):\n",
    "    skels_it = get_possible_split(split)\n",
    "    for skels in skels_it:\n",
    "        if len(skels)==3:\n",
    "            crossing_edges = get_crossing_edges_list(skels,room_G,groups_to_connect, paths_lst)\n",
    "            found = True\n",
    "            print(i,'::::',skels)\n",
    "            break\n",
    "    #if i>100:\n",
    "    if found==True:\n",
    "        break"
   ]
  },
  {
   "cell_type": "code",
   "execution_count": 224,
   "metadata": {
    "collapsed": false,
    "jupyter": {
     "outputs_hidden": false
    }
   },
   "outputs": [
    {
     "name": "stdout",
     "output_type": "stream",
     "text": [
      "The autoreload extension is already loaded. To reload it, use:\n",
      "  %reload_ext autoreload\n",
      "wwwwwwwwwwwwwwwwwwwwwwwwwwwwww\n",
      "w           w   wwwwwwwwwwwwww\n",
      "w           w     wwwwwwwwwwww\n",
      "w           w   w wwwwwwwwwwww\n",
      "w           wwwww wwwwwwwwwwww\n",
      "w           wwwww wwwwwwwwwwww\n",
      "w           wwwww wwwwwwwwwwww\n",
      "w           wwwww         wwww\n",
      "w           wwwwwwwwwwwww wwww\n",
      "wwwwwww wwwwwwwwwwwwwwwww wwww\n",
      "w           wwwwwwwwwwwww wwww\n",
      "w           wwwwwwwwwwwww wwww\n",
      "w           wwwwwwwwwwwww wwww\n",
      "w           wwwwwwwwwwwww wwww\n",
      "w           wwwww       w wwww\n",
      "w           wwwww       w wwww\n",
      "wwwwwwwwwwwwwwwww       w wwww\n",
      "wwwwwwwwwwwwwwwww       w wwww\n",
      "wwwwwwwwwwwwwwwww       w wwww\n",
      "wwwwwwwwwwwwwwwww       w wwww\n",
      "wwwwwwwwwwwww   w       w wwww\n",
      "wwwwwwwwwwwww   w       w wwww\n",
      "wwwwwwwwwwwww   wwwwwwwww wwww\n",
      "wwwwwwwwwwwww   w         wwww\n",
      "wwwwwwwwwwwwwww w       wwwwww\n",
      "wwwwwwwwwwwwwww w       wwwwww\n",
      "wwwwwwwwwwwwwww w       wwwwww\n",
      "wwwwwwwwwwwwwww         wwwwww\n",
      "wwwwwwwwwwwwwwwww       wwwwww\n",
      "wwwwwwwwwwwwwwwwwwwwwwwwwwwwww\n",
      "\n"
     ]
    }
   ],
   "source": [
    "%load_ext autoreload\n",
    "%autoreload 2\n",
    "from generateLayout import *\n",
    "string = get_layout_str(walkable_points,skels,[],paths_lst,grid_size)\n",
    "print(string)"
   ]
  },
  {
   "cell_type": "code",
   "execution_count": 225,
   "metadata": {},
   "outputs": [],
   "source": [
    "ix = 2\n",
    "def get_layout_str(walkable_points,skels,crossing_edges):\n",
    "    edges = []\n",
    "    for s in skels:\n",
    "        edges += list(s['edges'])\n",
    "    edges += crossing_edges\n",
    "    walkable_points_all = list(walkable_points)\n",
    "    for ix in edges:\n",
    "        walkable_points_all += list(map(toL,paths_lst[ix][1]))\n",
    "    walkable_points_all = set(walkable_points_all)\n",
    "    string = create_string(walkable_points1,grid_size)\n",
    "    return string"
   ]
  },
  {
   "cell_type": "code",
   "execution_count": 226,
   "metadata": {
    "collapsed": true,
    "jupyter": {
     "outputs_hidden": true
    }
   },
   "outputs": [
    {
     "ename": "NameError",
     "evalue": "name 'vertices_edges_dict_inv' is not defined",
     "output_type": "error",
     "traceback": [
      "\u001b[1;31m---------------------------------------------------------------------------\u001b[0m",
      "\u001b[1;31mNameError\u001b[0m                                 Traceback (most recent call last)",
      "\u001b[1;32m~\\AppData\\Local\\Temp\\ipykernel_1584\\420774908.py\u001b[0m in \u001b[0;36m<module>\u001b[1;34m\u001b[0m\n\u001b[1;32m----> 1\u001b[1;33m \u001b[0mget_points_from_group\u001b[0m\u001b[1;33m(\u001b[0m\u001b[1;36m2\u001b[0m\u001b[1;33m,\u001b[0m \u001b[0mskels\u001b[0m\u001b[1;33m,\u001b[0m \u001b[0mvertices_edges_dict_inv\u001b[0m\u001b[1;33m,\u001b[0m\u001b[0mroom_G\u001b[0m\u001b[1;33m,\u001b[0m\u001b[0mpaths_lst\u001b[0m\u001b[1;33m)\u001b[0m\u001b[1;33m\u001b[0m\u001b[1;33m\u001b[0m\u001b[0m\n\u001b[0m",
      "\u001b[1;31mNameError\u001b[0m: name 'vertices_edges_dict_inv' is not defined"
     ]
    }
   ],
   "source": [
    "get_points_from_group(2, skels, vertices_edges_dict_inv,room_G,paths_lst)"
   ]
  },
  {
   "cell_type": "code",
   "execution_count": 226,
   "metadata": {},
   "outputs": [],
   "source": []
  },
  {
   "cell_type": "code",
   "execution_count": 227,
   "metadata": {
    "collapsed": true,
    "jupyter": {
     "outputs_hidden": true
    }
   },
   "outputs": [
    {
     "data": {
      "text/plain": [
       "[(9, 0),\n",
       " (9, 1),\n",
       " (9, 2),\n",
       " (9, 3),\n",
       " (9, 4),\n",
       " (9, 5),\n",
       " (9, 6),\n",
       " (9, 7),\n",
       " (9, 8),\n",
       " (9, 9),\n",
       " (9, 10),\n",
       " (10, 0),\n",
       " (10, 1),\n",
       " (10, 2),\n",
       " (10, 3),\n",
       " (10, 4),\n",
       " (10, 5),\n",
       " (10, 6),\n",
       " (10, 7),\n",
       " (10, 8),\n",
       " (10, 9),\n",
       " (10, 10),\n",
       " (11, 0),\n",
       " (11, 1),\n",
       " (11, 2),\n",
       " (11, 3),\n",
       " (11, 4),\n",
       " (11, 5),\n",
       " (11, 6),\n",
       " (11, 7),\n",
       " (11, 8),\n",
       " (11, 9),\n",
       " (11, 10),\n",
       " (12, 0),\n",
       " (12, 1),\n",
       " (12, 2),\n",
       " (12, 3),\n",
       " (12, 4),\n",
       " (12, 5),\n",
       " (12, 6),\n",
       " (12, 7),\n",
       " (12, 8),\n",
       " (12, 9),\n",
       " (12, 10),\n",
       " (13, 0),\n",
       " (13, 1),\n",
       " (13, 2),\n",
       " (13, 3),\n",
       " (13, 4),\n",
       " (13, 5),\n",
       " (13, 6),\n",
       " (13, 7),\n",
       " (13, 8),\n",
       " (13, 9),\n",
       " (13, 10),\n",
       " (14, 0),\n",
       " (14, 1),\n",
       " (14, 2),\n",
       " (14, 3),\n",
       " (14, 4),\n",
       " (14, 5),\n",
       " (14, 6),\n",
       " (14, 7),\n",
       " (14, 8),\n",
       " (14, 9),\n",
       " (14, 10)]"
      ]
     },
     "execution_count": 227,
     "metadata": {},
     "output_type": "execute_result"
    }
   ],
   "source": [
    "\n",
    "get_points_from_room(1,room_G)"
   ]
  },
  {
   "cell_type": "code",
   "execution_count": 228,
   "metadata": {
    "jupyter": {
     "source_hidden": true
    }
   },
   "outputs": [],
   "source": [
    "# skels is a list of skeletons for each group such as the one in the cell above\n",
    "# [{'edges': {0, 12}, 'intersections': {15, 21, 24, 25, 28, 29}},\n",
    "# {'edges': {5, 34}, 'intersections': {31, 35}},\n",
    "# {'edges': {9, 10}, 'intersections': {14}}]\n",
    "# groups is a tuple of indices (i,j) of the groups which should be connected..it uses the skels list indices\n",
    "# [0,1]\n",
    "# setA = get all vertices from group i (use get_vertices_from_edge_ids)\n",
    "# setB = get all vertices from group j (use get_vertices_from_edge_ids)\n",
    "# create all possible pairs (crossing edges) where the first element is from setA and the second from setB\n",
    "# iterate over the crossing edges (refered here as e): (itertools)\n",
    "# now when we speak about corridors we mean corridors which are present in the skeletons in the skel list\n",
    "# these corridors are stored in the 'edges' key of a given skeleton\n",
    "# if the crossing_edge e intersects some room or corridor from some other group than i or j then skip this edge (other groups are present in skels list)\n",
    "# intA = get intersection between the crossing edge e and anything (either room or chosen corridor) in group i\n",
    "# intB = same thing but for group j\n",
    "# if both intA and intB are not empty then skip this crossing edge\n",
    "# else return this edge"
   ]
  },
  {
   "cell_type": "code",
   "execution_count": 229,
   "metadata": {},
   "outputs": [
    {
     "name": "stdout",
     "output_type": "stream",
     "text": [
      "[None, None]\n"
     ]
    }
   ],
   "source": [
    "\n",
    "print(crossing_edges)"
   ]
  },
  {
   "cell_type": "code",
   "execution_count": 230,
   "metadata": {
    "collapsed": false,
    "jupyter": {
     "outputs_hidden": false
    }
   },
   "outputs": [
    {
     "ename": "NameError",
     "evalue": "name 'vertices_edges_dict_inv' is not defined",
     "output_type": "error",
     "traceback": [
      "\u001b[1;31m---------------------------------------------------------------------------\u001b[0m",
      "\u001b[1;31mNameError\u001b[0m                                 Traceback (most recent call last)",
      "\u001b[1;32m~\\AppData\\Local\\Temp\\ipykernel_1584\\703049750.py\u001b[0m in \u001b[0;36m<module>\u001b[1;34m\u001b[0m\n\u001b[1;32m----> 1\u001b[1;33m \u001b[0mcrossing_edges\u001b[0m \u001b[1;33m=\u001b[0m \u001b[0mget_crossing_edges\u001b[0m\u001b[1;33m(\u001b[0m\u001b[0mskels\u001b[0m\u001b[1;33m,\u001b[0m \u001b[0mgroups_to_connect\u001b[0m\u001b[1;33m,\u001b[0m\u001b[0mvertices_edges_dict_inv\u001b[0m\u001b[1;33m,\u001b[0m\u001b[0mvertices_edges_dict\u001b[0m\u001b[1;33m)\u001b[0m\u001b[1;33m\u001b[0m\u001b[1;33m\u001b[0m\u001b[0m\n\u001b[0m\u001b[0;32m      2\u001b[0m \u001b[0mget_edges_from_skels\u001b[0m\u001b[1;33m(\u001b[0m\u001b[0mcrossing_edges\u001b[0m\u001b[1;33m,\u001b[0m \u001b[0mgroups_to_connect\u001b[0m\u001b[1;33m,\u001b[0m \u001b[0mskels\u001b[0m\u001b[1;33m,\u001b[0m\u001b[0mvertices_edges_dict_inv\u001b[0m\u001b[1;33m,\u001b[0m\u001b[0mroom_G\u001b[0m\u001b[1;33m,\u001b[0m\u001b[0mpaths_lst\u001b[0m\u001b[1;33m,\u001b[0m\u001b[0mvertices_edges_dict\u001b[0m\u001b[1;33m)\u001b[0m\u001b[1;33m\u001b[0m\u001b[1;33m\u001b[0m\u001b[0m\n",
      "\u001b[1;31mNameError\u001b[0m: name 'vertices_edges_dict_inv' is not defined"
     ]
    }
   ],
   "source": [
    "\n",
    "crossing_edges = get_crossing_edges(skels, groups_to_connect,vertices_edges_dict_inv,vertices_edges_dict)\n",
    "get_edges_from_skels(crossing_edges, groups_to_connect, skels,vertices_edges_dict_inv,room_G,paths_lst,vertices_edges_dict)"
   ]
  },
  {
   "cell_type": "code",
   "execution_count": 231,
   "metadata": {
    "collapsed": true,
    "jupyter": {
     "outputs_hidden": true
    }
   },
   "outputs": [
    {
     "data": {
      "text/plain": [
       "((4, 5),\n",
       " [(22, 14),\n",
       "  (21, 14),\n",
       "  (20, 14),\n",
       "  (19, 14),\n",
       "  (19, 15),\n",
       "  (19, 16),\n",
       "  (18, 16),\n",
       "  (18, 17),\n",
       "  (18, 18),\n",
       "  (18, 19),\n",
       "  (18, 20)])"
      ]
     },
     "execution_count": 231,
     "metadata": {},
     "output_type": "execute_result"
    }
   ],
   "source": [
    "paths_lst[4]"
   ]
  },
  {
   "cell_type": "code",
   "execution_count": null,
   "metadata": {
    "pycharm": {
     "is_executing": true
    }
   },
   "outputs": [],
   "source": []
  },
  {
   "cell_type": "code",
   "execution_count": 231,
   "metadata": {
    "collapsed": false,
    "jupyter": {
     "outputs_hidden": false
    }
   },
   "outputs": [],
   "source": []
  }
 ],
 "metadata": {
  "kernelspec": {
   "display_name": "Python 3",
   "language": "python",
   "name": "python3"
  },
  "language_info": {
   "codemirror_mode": {
    "name": "ipython",
    "version": 3
   },
   "file_extension": ".py",
   "mimetype": "text/x-python",
   "name": "python",
   "nbconvert_exporter": "python",
   "pygments_lexer": "ipython3",
   "version": "3.7.6"
  }
 },
 "nbformat": 4,
 "nbformat_minor": 4
}
