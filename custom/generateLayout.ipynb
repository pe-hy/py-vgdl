{
 "cells": [
  {
   "cell_type": "code",
   "execution_count": 1,
   "metadata": {
    "pycharm": {
     "name": "#%%\n"
    }
   },
   "outputs": [],
   "source": [
    "import matplotlib.pyplot as plt"
   ]
  },
  {
   "cell_type": "code",
   "execution_count": 1,
   "metadata": {},
   "outputs": [],
   "source": [
    "%load_ext autoreload\n",
    "%autoreload 2\n",
    "from generateLayout import *"
   ]
  },
  {
   "cell_type": "code",
   "execution_count": 2,
   "metadata": {
    "collapsed": false,
    "jupyter": {
     "outputs_hidden": false
    },
    "pycharm": {
     "name": "#%%\n"
    }
   },
   "outputs": [],
   "source": [
    "num_columns = 4\n",
    "grid_size = 30\n",
    "min_room_size = 3\n",
    "roomspace = grid_size - (num_columns + 1)\n",
    "num_rooms = 9"
   ]
  },
  {
   "cell_type": "code",
   "execution_count": 4,
   "metadata": {
    "collapsed": false,
    "jupyter": {
     "outputs_hidden": false
    },
    "pycharm": {
     "name": "#%%\n"
    }
   },
   "outputs": [
    {
     "name": "stdout",
     "output_type": "stream",
     "text": [
      "2 :::: [{'edges': {0, 1}, 'intersections': {26, 22}}, {'edges': {5, 7}, 'intersections': {32, 35, 17, 23, 25, 31}}, {'edges': {24, 28}, 'intersections': {33, 26, 14}}]\n",
      "##############################\n",
      "#      #       #       #     #\n",
      "#      #       #       #     #\n",
      "#      #       #             #\n",
      "#      #       #       ##### #\n",
      "#      #       #       #     #\n",
      "#      #       ##### ###     #\n",
      "#      #       ##### ###     #\n",
      "#      #       ##### ###     #\n",
      "#      #       ##### ###     #\n",
      "# # ####       ##### ###     #\n",
      "# #  ####### ####### ###     #\n",
      "# ##  ##       ##### ###     #\n",
      "# ### ##             ##### ###\n",
      "# ### ##       ########### ###\n",
      "# ### ##       #       ### ###\n",
      "# ### ######## #       ### ###\n",
      "# ###    ##### #       ### ###\n",
      "# ###### ##### #       ### ###\n",
      "# ###### #####         ##  ###\n",
      "# ###### #######       #  ####\n",
      "# ###### ##############  #####\n",
      "# ######       ######   ######\n",
      "# ######       #####  ########\n",
      "#      #       #     #########\n",
      "#      #       # #############\n",
      "#      #         #############\n",
      "#      #       ###############\n",
      "#      #       ###############\n",
      "##############################\n",
      "\n"
     ]
    }
   ],
   "source": [
    "divisions = get_divisions(roomspace, num_columns,min_room_size)\n",
    "walkable_points, chosen_rooms = get_choosen_rooms(divisions,min_room_size,num_rooms)\n",
    "\n",
    "distances = {}\n",
    "for i,r1 in enumerate(chosen_rooms):\n",
    "    for j,r2 in enumerate(chosen_rooms):\n",
    "        if i<j:\n",
    "            distances[(i,j)]=get_distance(r1,r2)\n",
    "            \n",
    "sorted_pairs=list(sorted(map(lambda x:(x[0],x[1]),distances.items()),key=lambda x:x[1]))\n",
    "G = get_grid_graph(grid_size,walkable_points,chosen_rooms)\n",
    "paths = get_paths(G,sorted_pairs,chosen_rooms,grid_size)\n",
    "paths_lst = [(k, v) for k, v in paths.items()]\n",
    "rooms_points  = get_room_points(chosen_rooms)\n",
    "room_G = get_rooms_graph(chosen_rooms,paths_lst,rooms_points)\n",
    "\n",
    "groups_to_connect = [(0,1),(1,2)]\n",
    "available_indices = set(range(num_rooms))\n",
    "splits_it = iterate_G(available_indices,[3,3,3],0,room_G)\n",
    "found = False\n",
    "for i,split in enumerate(splits_it):\n",
    "    skels_it = get_possible_split(split)\n",
    "    for skels in skels_it:\n",
    "        if len(skels)==3:\n",
    "            crossing_edges = get_crossing_edges_list(skels,room_G,groups_to_connect,paths_lst)\n",
    "            found = True\n",
    "            print(i,'::::',skels)\n",
    "            break\n",
    "    #if i>100:\n",
    "    if found==True:\n",
    "        break\n",
    "\n",
    "string = get_layout_str(walkable_points,skels,crossing_edges,paths_lst,grid_size)\n",
    "print(string)"
   ]
  },
  {
   "cell_type": "code",
   "execution_count": 20,
   "metadata": {
    "collapsed": false,
    "jupyter": {
     "outputs_hidden": false
    },
    "pycharm": {
     "name": "#%%\n"
    }
   },
   "outputs": [],
   "source": [
    "sorted_pairs=list(sorted(map(lambda x:(x[0],x[1]),distances.items()),key=lambda x:x[1]))"
   ]
  },
  {
   "cell_type": "code",
   "execution_count": 21,
   "metadata": {},
   "outputs": [],
   "source": [
    "G = get_grid_graph(grid_size,walkable_points,chosen_rooms)"
   ]
  },
  {
   "cell_type": "code",
   "execution_count": 22,
   "metadata": {
    "collapsed": false,
    "jupyter": {
     "outputs_hidden": false
    },
    "pycharm": {
     "name": "#%%\n"
    }
   },
   "outputs": [],
   "source": [
    "paths = get_paths(G,sorted_pairs,chosen_rooms,grid_size)\n"
   ]
  },
  {
   "cell_type": "code",
   "execution_count": 23,
   "metadata": {
    "pycharm": {
     "name": "#%%\n"
    }
   },
   "outputs": [],
   "source": [
    "paths_lst = [(k, v) for k, v in paths.items()]\n",
    "rooms_points  = get_room_points(chosen_rooms)\n",
    "\n",
    "room_G = get_rooms_graph(chosen_rooms,paths_lst,rooms_points)\n"
   ]
  },
  {
   "cell_type": "code",
   "execution_count": 24,
   "metadata": {
    "collapsed": true,
    "jupyter": {
     "outputs_hidden": true
    },
    "pycharm": {
     "name": "#%%\n"
    }
   },
   "outputs": [
    {
     "data": {
      "image/png": "[encoded data removed]",
      "text/plain": [
       "<Figure size 432x288 with 1 Axes>"
      ]
     },
     "metadata": {},
     "output_type": "display_data"
    }
   ],
   "source": [
    "nx.draw(room_G, with_labels=True)\n",
    "edgs=room_G.edges(data=True)"
   ]
  },
  {
   "cell_type": "code",
   "execution_count": 25,
   "metadata": {
    "collapsed": true,
    "jupyter": {
     "outputs_hidden": true
    },
    "pycharm": {
     "name": "#%%\n"
    }
   },
   "outputs": [
    {
     "name": "stdout",
     "output_type": "stream",
     "text": [
      "(0, 2, {'corridor_key': 0, 'crossed_corridors': [15, 24, 33], 'crossed_rooms': []})\n",
      "(0, 3, {'corridor_key': 1, 'crossed_corridors': [31], 'crossed_rooms': []})\n",
      "(0, 7, {'corridor_key': 9, 'crossed_corridors': [23], 'crossed_rooms': []})\n",
      "(0, 6, {'corridor_key': 10, 'crossed_corridors': [11, 14, 19, 26, 28], 'crossed_rooms': []})\n",
      "(0, 8, {'corridor_key': 13, 'crossed_corridors': [24, 26, 33], 'crossed_rooms': []})\n",
      "(0, 5, {'corridor_key': 15, 'crossed_corridors': [0, 3, 4, 5, 11, 16, 17, 20, 21, 24, 27, 29, 30, 33], 'crossed_rooms': [2]})\n",
      "(0, 1, {'corridor_key': 18, 'crossed_corridors': [22, 25, 28, 31, 34], 'crossed_rooms': []})\n",
      "(0, 4, {'corridor_key': 22, 'crossed_corridors': [2, 18, 25, 28, 31, 32, 34], 'crossed_rooms': [1]})\n",
      "(1, 4, {'corridor_key': 2, 'crossed_corridors': [22, 34], 'crossed_rooms': []})\n",
      "(1, 7, {'corridor_key': 8, 'crossed_corridors': [25], 'crossed_rooms': []})\n",
      "(1, 2, {'corridor_key': 16, 'crossed_corridors': [12, 27], 'crossed_rooms': []})\n",
      "(1, 5, {'corridor_key': 27, 'crossed_corridors': [3, 12, 15, 16, 17, 21, 29, 30], 'crossed_rooms': [2]})\n",
      "(1, 6, {'corridor_key': 28, 'crossed_corridors': [0, 9, 10, 11, 14, 15, 18, 19, 22, 23, 24, 25, 26, 31, 33, 34], 'crossed_rooms': [0]})\n",
      "(1, 3, {'corridor_key': 31, 'crossed_corridors': [1, 13, 18, 22, 24, 25, 26, 28, 33, 34], 'crossed_rooms': [0]})\n",
      "(1, 8, {'corridor_key': 32, 'crossed_corridors': [35], 'crossed_rooms': []})\n",
      "(2, 5, {'corridor_key': 3, 'crossed_corridors': [15, 27, 29], 'crossed_rooms': []})\n",
      "(2, 6, {'corridor_key': 4, 'crossed_corridors': [20, 30], 'crossed_rooms': []})\n",
      "(2, 7, {'corridor_key': 5, 'crossed_corridors': [20, 21], 'crossed_rooms': []})\n",
      "(2, 3, {'corridor_key': 11, 'crossed_corridors': [10, 14, 19, 26, 28], 'crossed_rooms': []})\n",
      "(2, 4, {'corridor_key': 17, 'crossed_corridors': [29, 30], 'crossed_rooms': []})\n",
      "(2, 8, {'corridor_key': 24, 'crossed_corridors': [0, 9, 10, 13, 15, 18, 22, 23, 26, 28, 31, 33, 34], 'crossed_rooms': [0]})\n",
      "(3, 8, {'corridor_key': 6, 'crossed_corridors': [], 'crossed_rooms': []})\n",
      "(3, 6, {'corridor_key': 14, 'crossed_corridors': [10, 11, 19, 26, 28], 'crossed_rooms': []})\n",
      "(3, 5, {'corridor_key': 19, 'crossed_corridors': [7, 10, 11, 14, 26, 28], 'crossed_rooms': [6]})\n",
      "(3, 7, {'corridor_key': 23, 'crossed_corridors': [0, 9, 10, 15, 24, 26, 28, 33, 34], 'crossed_rooms': [0]})\n",
      "(3, 4, {'corridor_key': 34, 'crossed_corridors': [0, 2, 9, 10, 15, 18, 22, 23, 24, 25, 26, 28, 31, 32, 33], 'crossed_rooms': [0, 1]})\n",
      "(4, 7, {'corridor_key': 12, 'crossed_corridors': [16, 27], 'crossed_rooms': []})\n",
      "(4, 5, {'corridor_key': 29, 'crossed_corridors': [3, 15, 17, 27, 30], 'crossed_rooms': [2]})\n",
      "(4, 6, {'corridor_key': 30, 'crossed_corridors': [0, 4, 5, 11, 15, 16, 17, 20, 21, 24, 27, 29, 33], 'crossed_rooms': [2]})\n",
      "(4, 8, {'corridor_key': 35, 'crossed_corridors': [32], 'crossed_rooms': [1]})\n",
      "(5, 6, {'corridor_key': 7, 'crossed_corridors': [19], 'crossed_rooms': []})\n",
      "(5, 7, {'corridor_key': 21, 'crossed_corridors': [3, 5, 15, 16, 17, 20, 27, 30, 33], 'crossed_rooms': [2]})\n",
      "(5, 8, {'corridor_key': 33, 'crossed_corridors': [0, 3, 4, 5, 9, 10, 11, 13, 15, 16, 17, 18, 20, 21, 22, 23, 24, 26, 28, 30, 31, 34], 'crossed_rooms': [0, 2]})\n",
      "(6, 7, {'corridor_key': 20, 'crossed_corridors': [0, 4, 5, 11, 15, 21, 24, 30, 33], 'crossed_rooms': [2]})\n",
      "(6, 8, {'corridor_key': 26, 'crossed_corridors': [0, 9, 10, 11, 13, 14, 15, 18, 19, 22, 23, 24, 28, 31, 33, 34], 'crossed_rooms': [0]})\n",
      "(7, 8, {'corridor_key': 25, 'crossed_corridors': [8, 18, 22, 28, 31, 34], 'crossed_rooms': []})\n"
     ]
    }
   ],
   "source": [
    "for e in edgs:\n",
    "    print(e)"
   ]
  },
  {
   "cell_type": "code",
   "execution_count": 28,
   "metadata": {
    "pycharm": {
     "name": "#%%\n"
    }
   },
   "outputs": [
    {
     "name": "stdout",
     "output_type": "stream",
     "text": [
      "5 :::: [{'edges': {18, 22}, 'intersections': {32, 34, 2, 18, 22, 25, 28, 31}}, {'edges': {21, 5}, 'intersections': {33, 3, 5, 15, 16, 17, 20, 21, 27, 30}}, {'edges': {6, 14}, 'intersections': {10, 11, 19, 26, 28}}]\n"
     ]
    }
   ],
   "source": [
    "\n",
    "    \n",
    "\n",
    "groups_to_connect = [(0,1),(1,2)]\n",
    "available_indices = set(range(num_rooms))\n",
    "splits_it = iterate_G(available_indices,[3,3,3],0,room_G)\n",
    "found = False\n",
    "for i,split in enumerate(splits_it):\n",
    "    skels_it = get_possible_split(split)\n",
    "    for skels in skels_it:\n",
    "        if len(skels)==3:\n",
    "            crossing_edges = get_crossing_edges_list(skels,room_G,groups_to_connect)\n",
    "            found = True\n",
    "            print(i,'::::',skels)\n",
    "            break\n",
    "    #if i>100:\n",
    "    if found==True:\n",
    "        break"
   ]
  },
  {
   "cell_type": "code",
   "execution_count": 37,
   "metadata": {
    "collapsed": false,
    "jupyter": {
     "outputs_hidden": false
    },
    "pycharm": {
     "name": "#%%\n"
    }
   },
   "outputs": [
    {
     "name": "stdout",
     "output_type": "stream",
     "text": [
      "The autoreload extension is already loaded. To reload it, use:\n",
      "  %reload_ext autoreload\n",
      "##############################\n",
      "#      #######        #      #\n",
      "#      #######        #      #\n",
      "#      #######        #      #\n",
      "#      #######        #      #\n",
      "##### ########        #      #\n",
      "#      #######               #\n",
      "#      #######        ########\n",
      "#      #######        #      #\n",
      "#### ###     #        #      #\n",
      "#### ###     #        #      #\n",
      "####  ##              ###### #\n",
      "#####  ####################  #\n",
      "######      ##        ##### ##\n",
      "###########  #        ##### ##\n",
      "############          ##### ##\n",
      "##############        #      #\n",
      "##############        #      #\n",
      "##############        #      #\n",
      "##############        #      #\n",
      "##############        #      #\n",
      "#######################      #\n",
      "#######################      #\n",
      "#######################      #\n",
      "#######################      #\n",
      "#######################      #\n",
      "##############        #      #\n",
      "##############        #      #\n",
      "##############               #\n",
      "##############################\n",
      "\n"
     ]
    }
   ],
   "source": [
    "%load_ext autoreload\n",
    "%autoreload 2\n",
    "from generateLayout import *\n",
    "string = get_layout_str(walkable_points,skels,[],paths_lst,grid_size)\n",
    "print(string)"
   ]
  },
  {
   "cell_type": "code",
   "execution_count": 31,
   "metadata": {
    "pycharm": {
     "name": "#%%\n"
    }
   },
   "outputs": [],
   "source": [
    "ix = 2\n",
    "def get_layout_str(walkable_points,skels,crossing_edges):\n",
    "    edges = []\n",
    "    for s in skels:\n",
    "        edges += list(s['edges'])\n",
    "    edges += crossing_edges\n",
    "    walkable_points_all = list(walkable_points)\n",
    "    for ix in edges:\n",
    "        walkable_points_all += list(map(toL,paths_lst[ix][1]))\n",
    "    walkable_points_all = set(walkable_points_all)\n",
    "    string = create_string(walkable_points1,grid_size)\n",
    "    return string"
   ]
  },
  {
   "cell_type": "code",
   "execution_count": 100,
   "metadata": {
    "collapsed": true,
    "jupyter": {
     "outputs_hidden": true
    },
    "pycharm": {
     "name": "#%%\n"
    }
   },
   "outputs": [
    {
     "data": {
      "text/plain": [
       "{(14, 6),\n",
       " (14, 7),\n",
       " (14, 8),\n",
       " (14, 9),\n",
       " (15, 6),\n",
       " (15, 7),\n",
       " (15, 8),\n",
       " (15, 9),\n",
       " (16, 6),\n",
       " (16, 7),\n",
       " (16, 8),\n",
       " (16, 9),\n",
       " (17, 6),\n",
       " (17, 7),\n",
       " (17, 8),\n",
       " (17, 9),\n",
       " (18, 6),\n",
       " (18, 7),\n",
       " (18, 8),\n",
       " (18, 9),\n",
       " (19, 9),\n",
       " (20, 6),\n",
       " (20, 7),\n",
       " (20, 8),\n",
       " (20, 9),\n",
       " (21, 6),\n",
       " (21, 7),\n",
       " (21, 8),\n",
       " (21, 9),\n",
       " (21, 11),\n",
       " (21, 12),\n",
       " (21, 13),\n",
       " (21, 14),\n",
       " (22, 6),\n",
       " (22, 7),\n",
       " (22, 8),\n",
       " (22, 9),\n",
       " (22, 11),\n",
       " (22, 12),\n",
       " (22, 13),\n",
       " (22, 14),\n",
       " (23, 6),\n",
       " (23, 7),\n",
       " (23, 8),\n",
       " (23, 9),\n",
       " (23, 11),\n",
       " (23, 12),\n",
       " (23, 13),\n",
       " (23, 14),\n",
       " (24, 6),\n",
       " (24, 7),\n",
       " (24, 8),\n",
       " (24, 9),\n",
       " (24, 11),\n",
       " (24, 12),\n",
       " (24, 13),\n",
       " (24, 14),\n",
       " (25, 6),\n",
       " (25, 7),\n",
       " (25, 8),\n",
       " (25, 9),\n",
       " (25, 10),\n",
       " (25, 11),\n",
       " (25, 12),\n",
       " (25, 13),\n",
       " (25, 14),\n",
       " (26, 6),\n",
       " (26, 7),\n",
       " (26, 8),\n",
       " (26, 9),\n",
       " (26, 11),\n",
       " (26, 12),\n",
       " (26, 13),\n",
       " (26, 14),\n",
       " (27, 6),\n",
       " (27, 7),\n",
       " (27, 8),\n",
       " (27, 9),\n",
       " (27, 11),\n",
       " (27, 12),\n",
       " (27, 13),\n",
       " (27, 14)}"
      ]
     },
     "execution_count": 100,
     "metadata": {},
     "output_type": "execute_result"
    }
   ],
   "source": [
    "get_points_from_group(2, skels, vertices_edges_dict_inv,room_G,paths_lst)"
   ]
  },
  {
   "cell_type": "code",
   "execution_count": null,
   "metadata": {},
   "outputs": [],
   "source": []
  },
  {
   "cell_type": "code",
   "execution_count": 103,
   "metadata": {
    "collapsed": true,
    "jupyter": {
     "outputs_hidden": true
    },
    "pycharm": {
     "name": "#%%\n"
    }
   },
   "outputs": [
    {
     "data": {
      "text/plain": [
       "[(0, 16),\n",
       " (0, 17),\n",
       " (0, 18),\n",
       " (0, 19),\n",
       " (0, 20),\n",
       " (0, 21),\n",
       " (0, 22),\n",
       " (0, 23),\n",
       " (0, 24),\n",
       " (0, 25),\n",
       " (0, 26),\n",
       " (0, 27),\n",
       " (1, 16),\n",
       " (1, 17),\n",
       " (1, 18),\n",
       " (1, 19),\n",
       " (1, 20),\n",
       " (1, 21),\n",
       " (1, 22),\n",
       " (1, 23),\n",
       " (1, 24),\n",
       " (1, 25),\n",
       " (1, 26),\n",
       " (1, 27),\n",
       " (2, 16),\n",
       " (2, 17),\n",
       " (2, 18),\n",
       " (2, 19),\n",
       " (2, 20),\n",
       " (2, 21),\n",
       " (2, 22),\n",
       " (2, 23),\n",
       " (2, 24),\n",
       " (2, 25),\n",
       " (2, 26),\n",
       " (2, 27),\n",
       " (3, 16),\n",
       " (3, 17),\n",
       " (3, 18),\n",
       " (3, 19),\n",
       " (3, 20),\n",
       " (3, 21),\n",
       " (3, 22),\n",
       " (3, 23),\n",
       " (3, 24),\n",
       " (3, 25),\n",
       " (3, 26),\n",
       " (3, 27),\n",
       " (4, 16),\n",
       " (4, 17),\n",
       " (4, 18),\n",
       " (4, 19),\n",
       " (4, 20),\n",
       " (4, 21),\n",
       " (4, 22),\n",
       " (4, 23),\n",
       " (4, 24),\n",
       " (4, 25),\n",
       " (4, 26),\n",
       " (4, 27)]"
      ]
     },
     "execution_count": 103,
     "metadata": {},
     "output_type": "execute_result"
    }
   ],
   "source": [
    "\n",
    "get_points_from_room(1,room_G)"
   ]
  },
  {
   "cell_type": "code",
   "execution_count": 692,
   "metadata": {
    "jupyter": {
     "source_hidden": true
    },
    "pycharm": {
     "name": "#%%\n"
    }
   },
   "outputs": [],
   "source": [
    "# skels is a list of skeletons for each group such as the one in the cell above\n",
    "# [{'edges': {0, 12}, 'intersections': {15, 21, 24, 25, 28, 29}},\n",
    "# {'edges': {5, 34}, 'intersections': {31, 35}},\n",
    "# {'edges': {9, 10}, 'intersections': {14}}]\n",
    "# groups is a tuple of indices (i,j) of the groups which should be connected..it uses the skels list indices\n",
    "# [0,1]\n",
    "# setA = get all vertices from group i (use get_vertices_from_edge_ids)\n",
    "# setB = get all vertices from group j (use get_vertices_from_edge_ids)\n",
    "# create all possible pairs (crossing edges) where the first element is from setA and the second from setB\n",
    "# iterate over the crossing edges (refered here as e): (itertools)\n",
    "# now when we speak about corridors we mean corridors which are present in the skeletons in the skel list\n",
    "# these corridors are stored in the 'edges' key of a given skeleton\n",
    "# if the crossing_edge e intersects some room or corridor from some other group than i or j then skip this edge (other groups are present in skels list)\n",
    "# intA = get intersection between the crossing edge e and anything (either room or chosen corridor) in group i\n",
    "# intB = same thing but for group j\n",
    "# if both intA and intB are not empty then skip this crossing edge\n",
    "# else return this edge"
   ]
  },
  {
   "cell_type": "code",
   "execution_count": 110,
   "metadata": {
    "pycharm": {
     "name": "#%%\n"
    }
   },
   "outputs": [
    {
     "name": "stdout",
     "output_type": "stream",
     "text": [
      "[(0, 8), (0, 2), (0, 6), (1, 8), (1, 2), (1, 6), (5, 8), (5, 6), (2, 5)]\n"
     ]
    }
   ],
   "source": [
    "\n",
    "print(crossing_edges)"
   ]
  },
  {
   "cell_type": "code",
   "execution_count": 120,
   "metadata": {
    "collapsed": false,
    "jupyter": {
     "outputs_hidden": false
    },
    "pycharm": {
     "name": "#%%\n"
    }
   },
   "outputs": [
    {
     "data": {
      "text/plain": [
       "2"
      ]
     },
     "execution_count": 120,
     "metadata": {},
     "output_type": "execute_result"
    }
   ],
   "source": [
    "\n",
    "crossing_edges = get_crossing_edges(skels, groups_to_connect,vertices_edges_dict_inv,vertices_edges_dict)\n",
    "get_edges_from_skels(crossing_edges, groups_to_connect, skels,vertices_edges_dict_inv,room_G,paths_lst,vertices_edges_dict)"
   ]
  },
  {
   "cell_type": "code",
   "execution_count": 696,
   "metadata": {
    "collapsed": true,
    "jupyter": {
     "outputs_hidden": true
    },
    "pycharm": {
     "name": "#%%\n"
    }
   },
   "outputs": [
    {
     "data": {
      "text/plain": [
       "((2, 3),\n",
       " [(13, 9), (13, 8), (13, 7), (13, 6), (13, 5), (13, 4), (13, 3), (12, 3)])"
      ]
     },
     "execution_count": 696,
     "metadata": {},
     "output_type": "execute_result"
    }
   ],
   "source": [
    "paths_lst[4]"
   ]
  },
  {
   "cell_type": "code",
   "execution_count": 696,
   "metadata": {
    "pycharm": {
     "name": "#%%\n"
    }
   },
   "outputs": [],
   "source": []
  }
 ],
 "metadata": {
  "kernelspec": {
   "display_name": "Python 3",
   "language": "python",
   "name": "python3"
  },
  "language_info": {
   "codemirror_mode": {
    "name": "ipython",
    "version": 3
   },
   "file_extension": ".py",
   "mimetype": "text/x-python",
   "name": "python",
   "nbconvert_exporter": "python",
   "pygments_lexer": "ipython3",
   "version": "3.7.6"
  }
 },
 "nbformat": 4,
 "nbformat_minor": 4
}
