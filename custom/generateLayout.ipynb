{
 "cells": [
  {
   "cell_type": "code",
   "execution_count": 619,
   "metadata": {},
   "outputs": [],
   "source": [
    "import random\n",
    "import itertools\n",
    "import matplotlib.pyplot as plt\n",
    "import networkx as nx"
   ]
  },
  {
   "cell_type": "code",
   "execution_count": 620,
   "metadata": {
    "collapsed": false,
    "jupyter": {
     "outputs_hidden": false
    }
   },
   "outputs": [],
   "source": [
    "num_columns = 4\n",
    "grid_size = 30\n",
    "min_room_size = 3\n",
    "\n",
    "roomspace = grid_size - (num_columns + 1)\n",
    "def all_less_then(comb,n):\n",
    "    for i in comb:\n",
    "        if i<n:\n",
    "            return False\n",
    "    return True\n",
    "\n",
    "def get_divisions(n, k):\n",
    "    divisions = []\n",
    "    combs = itertools.product(range(1, n), repeat=k)\n",
    "    dic={}\n",
    "    for comb in combs:\n",
    "        if sum(comb) == n and all_less_then(comb,min_room_size):\n",
    "            dic[\"\".join(map(str,sorted(comb)))]=comb\n",
    "    return list(dic.values())\n",
    "\n",
    "divisions = get_divisions(roomspace, num_columns)\n",
    "\n",
    "\n",
    "horizontal_split = list(random.choice(divisions))\n",
    "vertical_splits = [list(random.choice(divisions)) for i in horizontal_split]\n",
    "random.shuffle(horizontal_split)\n",
    "for split in vertical_splits:\n",
    "    random.shuffle(split)\n",
    "\n",
    "horizontal_data = []\n",
    "x_accum = 1\n",
    "for part in horizontal_split:\n",
    "    horizontal_data.append((x_accum,part))\n",
    "    x_accum += part+1\n",
    "\n",
    "vertical_data = []\n",
    "for split in vertical_splits:\n",
    "    y_accum = 1\n",
    "    data = []\n",
    "    for part in split:\n",
    "        data.append((y_accum,part))\n",
    "        y_accum += part+1\n",
    "    vertical_data.append(data)\n",
    "divisions = get_divisions(roomspace, num_columns)"
   ]
  },
  {
   "cell_type": "code",
   "execution_count": 621,
   "metadata": {
    "collapsed": false,
    "jupyter": {
     "outputs_hidden": false
    }
   },
   "outputs": [
    {
     "name": "stdout",
     "output_type": "stream",
     "text": [
      "##############################\n",
      "#    #########################\n",
      "#    #########################\n",
      "#    #########################\n",
      "#    #########################\n",
      "#    #########################\n",
      "#    #########################\n",
      "##############################\n",
      "#    #########################\n",
      "#    #####              ######\n",
      "#    #####              ######\n",
      "#    #   #              ######\n",
      "#    #   #              ######\n",
      "######   #              ######\n",
      "#    #########################\n",
      "#    #   #####################\n",
      "#    #   #####################\n",
      "#    #   #####################\n",
      "#    #   #####################\n",
      "#    #   #####################\n",
      "#    #   #####################\n",
      "######   #####################\n",
      "######   #              ######\n",
      "##########              ######\n",
      "######   #              ######\n",
      "######   #              ######\n",
      "######   #              #    #\n",
      "######   #              #    #\n",
      "######   #              #    #\n",
      "##############################\n",
      "\n"
     ]
    }
   ],
   "source": [
    "num_rooms = 9\n",
    "\n",
    "horizontal_split = list(random.choice(divisions))\n",
    "vertical_splits = [list(random.choice(divisions)) for i in horizontal_split]\n",
    "random.shuffle(horizontal_split)\n",
    "for split in vertical_splits:\n",
    "    random.shuffle(split)\n",
    "\n",
    "horizontal_data = []\n",
    "x_accum = 1\n",
    "for part in horizontal_split:\n",
    "    horizontal_data.append((x_accum,part))\n",
    "    x_accum += part+1\n",
    "\n",
    "vertical_data = []\n",
    "for split in vertical_splits:\n",
    "    y_accum = 1\n",
    "    data = []\n",
    "    for part in split:\n",
    "        data.append((y_accum,part))\n",
    "        y_accum += part+1\n",
    "    vertical_data.append(data)\n",
    "\n",
    "\n",
    "chosen_cells = 0\n",
    "rooms_ixs = []\n",
    "\n",
    "while True:\n",
    "    x = random.choice(range(len(horizontal_split)))\n",
    "    y = random.choice(range(len(vertical_splits[x])))\n",
    "    ix = (x,y)\n",
    "    if ix not in rooms_ixs:\n",
    "        rooms_ixs.append(ix)\n",
    "    if len(rooms_ixs) == num_rooms:\n",
    "        break\n",
    "\n",
    "chosen_rooms = []\n",
    "for ix_x,ix_y in rooms_ixs:\n",
    "    x,w = horizontal_data[ix_x]\n",
    "    y,h = vertical_data[ix_x][ix_y]\n",
    "    chosen_rooms.append((y,x,h,w))\n",
    "\n",
    "def get_points(part):\n",
    "    points = []\n",
    "    y = part[0]\n",
    "    x = part[1]\n",
    "    for i in range(part[2]):\n",
    "        for j in range(part[3]):\n",
    "            points.append((y+i,x+j))\n",
    "    return points\n",
    "            \n",
    "    \n",
    "walkable_points = []\n",
    "for w in chosen_rooms:\n",
    "    walkable_points += get_points(w)\n",
    "walkable_points = set(walkable_points)\n",
    "\n",
    "def create_string(walkable):\n",
    "    string = \"\"\n",
    "    for i in range(grid_size):\n",
    "        for j in range(grid_size):\n",
    "            if (i,j) in walkable:\n",
    "                string += \" \"\n",
    "            else: string += \"#\"\n",
    "        string += \"\\n\"\n",
    "    return string\n",
    "\n",
    "print(create_string(walkable_points))"
   ]
  },
  {
   "cell_type": "code",
   "execution_count": 622,
   "metadata": {
    "collapsed": false,
    "jupyter": {
     "outputs_hidden": false
    }
   },
   "outputs": [],
   "source": [
    "def toG(y,x):\n",
    "    return y-1,x-1\n",
    "def toL(p):\n",
    "    y,x = p\n",
    "    return y+1,x+1\n",
    "def get_room_center(room):\n",
    "    y,x,h,w=room\n",
    "    cy = y + (h//2)\n",
    "    cx = x + (w//2)\n",
    "    return (cy,cx)"
   ]
  },
  {
   "cell_type": "code",
   "execution_count": 623,
   "metadata": {
    "collapsed": false,
    "jupyter": {
     "outputs_hidden": false
    }
   },
   "outputs": [],
   "source": [
    "import numpy as np\n",
    "from scipy.spatial.distance import cdist\n",
    "\n",
    "def get_distance(r1,r2):\n",
    "    A = np.array(get_points(r1))\n",
    "    B = np.array(get_points(r2))\n",
    "    distances = cdist(A, B)\n",
    "    min_distance = np.min(distances)\n",
    "    return min_distance\n",
    "\n",
    "distances = {}\n",
    "for i,r1 in enumerate(chosen_rooms):\n",
    "    for j,r2 in enumerate(chosen_rooms):\n",
    "        if i<j:\n",
    "            distances[(i,j)]=get_distance(r1,r2)\n"
   ]
  },
  {
   "cell_type": "code",
   "execution_count": 624,
   "metadata": {
    "collapsed": false,
    "jupyter": {
     "outputs_hidden": false
    }
   },
   "outputs": [],
   "source": [
    "sorted_pairs=list(sorted(map(lambda x:(x[0],x[1]),distances.items()),key=lambda x:x[1]))"
   ]
  },
  {
   "cell_type": "code",
   "execution_count": 625,
   "metadata": {},
   "outputs": [],
   "source": [
    "def get_neighs(p):\n",
    "    x,y = p\n",
    "    neighbors = [(x + dx, y + dy) for dx, dy in [(1, 0), (-1, 0), (0, 1), (0, -1)]]\n",
    "    return neighbors\n",
    "\n",
    "def get_path_border(path):\n",
    "    border = []\n",
    "    for p in path:\n",
    "        border += get_neighs(p)\n",
    "    surrounding_nodes = list(set(border)-set(path))\n",
    "    return surrounding_nodes\n",
    "\n",
    "def get_connecting_edges(surrounding_nodes):\n",
    "    ret = []\n",
    "    for node in surrounding_nodes:\n",
    "        x,y = node\n",
    "        neighbors = get_neighs((x,y))\n",
    "        for neighbor in neighbors:\n",
    "            if neighbor in surrounding_nodes:\n",
    "                ret.append((node, neighbor))\n",
    "    return ret\n",
    "\n",
    "def get_path_border(path):\n",
    "    border = []\n",
    "    for p in path:\n",
    "        border += get_neighs(p)\n",
    "    surrounding_nodes = list(set(border)-set(path))\n",
    "    return get_connecting_edges(surrounding_nodes)\n",
    "\n",
    "\n",
    "def get_room_border(graph, room):\n",
    "    y, x, h, w = room\n",
    "    y,x = toG(y,x)\n",
    "    surrounding_nodes = [(y - 1 + i, x - 1 + j) for i in range(h + 2) for j in range(w + 2) if i in [0, h + 1] or j in [0, w + 1]]\n",
    "    return get_connecting_edges(surrounding_nodes)\n"
   ]
  },
  {
   "cell_type": "code",
   "execution_count": 626,
   "metadata": {
    "collapsed": false,
    "jupyter": {
     "outputs_hidden": false
    }
   },
   "outputs": [],
   "source": [
    "import networkx as nx\n",
    "G=nx.grid_graph(dim=[grid_size-2,grid_size-2])\n",
    "\n",
    "for e in G.edges(data=True):\n",
    "    e[2]['weigth']=1\n",
    "for n,d in G.nodes(data=True):\n",
    "    d['taken']=False\n",
    "for y,x in walkable_points:\n",
    "    G.nodes[(y-1,x-1)]['taken']=True\n",
    "\n",
    "def set_weights(G,taken,weigth):\n",
    "    for node in taken:\n",
    "        for k,v in G[node].items(): #edges connected to the node\n",
    "            if G.nodes[k]['taken']==True: #ignore if the node on the other side is already taken\n",
    "                  continue\n",
    "            else:\n",
    "                v['weigth']+=weigth\n",
    "    return G\n",
    "\n",
    "def out_of_bounds(indices):\n",
    "    for i in indices:\n",
    "        if i<0 or i>grid_size-3:\n",
    "            return True\n",
    "    return False\n",
    "\n",
    "def set_weight_edges(G,edges,weigth):\n",
    "    for e in edges:\n",
    "        indices=set(list(e[0])+list(e[1]))\n",
    "        if out_of_bounds(indices):\n",
    "            continue\n",
    "        if G.nodes[e[0]]['taken']==True or G.nodes[e[1]]['taken']==True:\n",
    "            continue\n",
    "        G.edges[e]['weigth']=weigth\n",
    "    return G \n",
    "\n",
    "edges_around_rooms = []\n",
    "for room in chosen_rooms:\n",
    "    edges_around_rooms+=get_room_border(G,room)\n",
    "G = set_weight_edges(G,edges_around_rooms,100)    \n",
    "rooms_points =  map(lambda x:x[0],filter(lambda d: d[1]['taken'] == True, G.nodes(data=True)))\n",
    "G = set_weights(G,rooms_points,100)"
   ]
  },
  {
   "cell_type": "code",
   "execution_count": 627,
   "metadata": {
    "collapsed": false,
    "jupyter": {
     "outputs_hidden": false
    }
   },
   "outputs": [],
   "source": [
    "paths = {}\n",
    "for pair,_ in sorted_pairs:\n",
    "    r1 = chosen_rooms[pair[0]]\n",
    "    r2 = chosen_rooms[pair[1]]\n",
    "    c1=get_room_center(r1)\n",
    "    c2=get_room_center(r2)\n",
    "    path=nx.shortest_path(G, source=c1, target=c2, weight='weigth')\n",
    "    paths[pair]=path\n",
    "    for y,x in path:\n",
    "        G.nodes[(y,x)]['taken']=True\n",
    "    G = set_weight_edges(G,get_path_border(path),100)\n",
    "    G=set_weights(G,path,50)"
   ]
  },
  {
   "cell_type": "code",
   "execution_count": 628,
   "metadata": {
    "collapsed": true,
    "jupyter": {
     "outputs_hidden": true
    }
   },
   "outputs": [
    {
     "data": {
      "text/plain": "{(0, 1): [(25, 17),\n  (25, 18),\n  (25, 19),\n  (25, 20),\n  (25, 21),\n  (25, 22),\n  (25, 23),\n  (25, 24),\n  (25, 25),\n  (25, 26),\n  (25, 27),\n  (26, 27),\n  (27, 27)],\n (0, 7): [(25, 17),\n  (24, 17),\n  (23, 17),\n  (22, 17),\n  (21, 17),\n  (21, 16),\n  (21, 15),\n  (21, 14),\n  (21, 13),\n  (20, 13),\n  (19, 13),\n  (19, 12),\n  (19, 11),\n  (19, 10),\n  (19, 9),\n  (19, 8),\n  (19, 7)],\n (0, 8): [(25, 17),\n  (25, 16),\n  (25, 15),\n  (25, 14),\n  (25, 13),\n  (25, 12),\n  (25, 11),\n  (25, 10),\n  (25, 9),\n  (25, 8),\n  (25, 7),\n  (26, 7)],\n (2, 4): [(10, 3),\n  (11, 3),\n  (12, 3),\n  (13, 3),\n  (14, 3),\n  (15, 3),\n  (16, 3),\n  (17, 3)],\n (2, 5): [(10, 3),\n  (9, 3),\n  (8, 3),\n  (8, 4),\n  (8, 5),\n  (9, 5),\n  (10, 5),\n  (10, 6),\n  (10, 7),\n  (11, 7),\n  (12, 7)],\n (2, 6): [(10, 3), (9, 3), (8, 3), (7, 3), (6, 3), (5, 3), (4, 3)],\n (3, 5): [(11, 17),\n  (11, 16),\n  (11, 15),\n  (11, 14),\n  (11, 13),\n  (11, 12),\n  (11, 11),\n  (11, 10),\n  (11, 9),\n  (11, 8),\n  (11, 7),\n  (12, 7)],\n (4, 7): [(17, 3), (18, 3), (19, 3), (19, 4), (19, 5), (19, 6), (19, 7)],\n (5, 7): [(12, 7),\n  (12, 6),\n  (13, 6),\n  (14, 6),\n  (14, 7),\n  (15, 7),\n  (16, 7),\n  (17, 7),\n  (18, 7),\n  (19, 7)],\n (7, 8): [(19, 7),\n  (20, 7),\n  (21, 7),\n  (22, 7),\n  (23, 7),\n  (24, 7),\n  (25, 7),\n  (26, 7)],\n (4, 5): [(17, 3),\n  (16, 3),\n  (15, 3),\n  (14, 3),\n  (13, 3),\n  (12, 3),\n  (12, 4),\n  (12, 5),\n  (12, 6),\n  (12, 7)],\n (3, 7): [(11, 17),\n  (11, 16),\n  (11, 15),\n  (11, 14),\n  (11, 13),\n  (11, 12),\n  (11, 11),\n  (11, 10),\n  (11, 9),\n  (12, 9),\n  (13, 9),\n  (14, 9),\n  (14, 8),\n  (14, 7),\n  (15, 7),\n  (16, 7),\n  (17, 7),\n  (18, 7),\n  (19, 7)],\n (2, 7): [(10, 3),\n  (9, 3),\n  (8, 3),\n  (8, 4),\n  (8, 5),\n  (7, 5),\n  (6, 5),\n  (6, 6),\n  (6, 7),\n  (6, 8),\n  (6, 9),\n  (6, 10),\n  (6, 11),\n  (6, 12),\n  (6, 13),\n  (6, 14),\n  (6, 15),\n  (6, 16),\n  (6, 17),\n  (6, 18),\n  (6, 19),\n  (6, 20),\n  (6, 21),\n  (6, 22),\n  (6, 23),\n  (7, 23),\n  (7, 24),\n  (8, 24),\n  (9, 24),\n  (10, 24),\n  (11, 24),\n  (12, 24),\n  (13, 24),\n  (13, 23),\n  (14, 23),\n  (14, 22),\n  (14, 21),\n  (14, 20),\n  (14, 19),\n  (14, 18),\n  (14, 17),\n  (14, 16),\n  (14, 15),\n  (14, 14),\n  (14, 13),\n  (15, 13),\n  (16, 13),\n  (17, 13),\n  (18, 13),\n  (19, 13),\n  (19, 12),\n  (19, 11),\n  (19, 10),\n  (19, 9),\n  (19, 8),\n  (19, 7)],\n (4, 8): [(17, 3),\n  (17, 2),\n  (18, 2),\n  (19, 2),\n  (20, 2),\n  (21, 2),\n  (22, 2),\n  (23, 2),\n  (23, 3),\n  (23, 4),\n  (23, 5),\n  (23, 6),\n  (23, 7),\n  (24, 7),\n  (25, 7),\n  (26, 7)],\n (5, 6): [(12, 7),\n  (11, 7),\n  (10, 7),\n  (10, 6),\n  (10, 5),\n  (9, 5),\n  (8, 5),\n  (7, 5),\n  (6, 5),\n  (5, 5),\n  (4, 5),\n  (3, 5),\n  (3, 4),\n  (3, 3),\n  (4, 3)],\n (2, 3): [(10, 3),\n  (9, 3),\n  (8, 3),\n  (8, 4),\n  (8, 5),\n  (7, 5),\n  (6, 5),\n  (6, 6),\n  (6, 7),\n  (6, 8),\n  (6, 9),\n  (6, 10),\n  (6, 11),\n  (6, 12),\n  (6, 13),\n  (6, 14),\n  (7, 14),\n  (8, 14),\n  (8, 15),\n  (8, 16),\n  (8, 17),\n  (9, 17),\n  (10, 17),\n  (11, 17)],\n (3, 4): [(11, 17),\n  (11, 16),\n  (11, 15),\n  (11, 14),\n  (11, 13),\n  (11, 12),\n  (11, 11),\n  (11, 10),\n  (11, 9),\n  (12, 9),\n  (13, 9),\n  (14, 9),\n  (14, 8),\n  (14, 7),\n  (14, 6),\n  (14, 5),\n  (15, 5),\n  (16, 5),\n  (17, 5),\n  (18, 5),\n  (19, 5),\n  (19, 4),\n  (19, 3),\n  (18, 3),\n  (17, 3)],\n (0, 4): [(25, 17),\n  (24, 17),\n  (23, 17),\n  (22, 17),\n  (21, 17),\n  (21, 16),\n  (21, 15),\n  (21, 14),\n  (21, 13),\n  (20, 13),\n  (19, 13),\n  (19, 12),\n  (19, 11),\n  (19, 10),\n  (19, 9),\n  (19, 8),\n  (19, 7),\n  (19, 6),\n  (19, 5),\n  (19, 4),\n  (19, 3),\n  (18, 3),\n  (17, 3)],\n (3, 6): [(11, 17),\n  (10, 17),\n  (9, 17),\n  (8, 17),\n  (8, 16),\n  (8, 15),\n  (8, 14),\n  (7, 14),\n  (6, 14),\n  (6, 13),\n  (6, 12),\n  (6, 11),\n  (6, 10),\n  (6, 9),\n  (6, 8),\n  (6, 7),\n  (6, 6),\n  (6, 5),\n  (5, 5),\n  (4, 5),\n  (3, 5),\n  (3, 4),\n  (3, 3),\n  (4, 3)],\n (4, 6): [(17, 3),\n  (16, 3),\n  (15, 3),\n  (14, 3),\n  (13, 3),\n  (12, 3),\n  (11, 3),\n  (10, 3),\n  (9, 3),\n  (8, 3),\n  (7, 3),\n  (6, 3),\n  (5, 3),\n  (4, 3)],\n (0, 3): [(25, 17),\n  (24, 17),\n  (23, 17),\n  (22, 17),\n  (21, 17),\n  (21, 18),\n  (20, 18),\n  (19, 18),\n  (18, 18),\n  (17, 18),\n  (16, 18),\n  (15, 18),\n  (14, 18),\n  (13, 18),\n  (12, 18),\n  (12, 17),\n  (11, 17)],\n (0, 5): [(25, 17),\n  (24, 17),\n  (23, 17),\n  (22, 17),\n  (21, 17),\n  (21, 18),\n  (20, 18),\n  (19, 18),\n  (18, 18),\n  (17, 18),\n  (16, 18),\n  (15, 18),\n  (14, 18),\n  (14, 19),\n  (14, 20),\n  (14, 21),\n  (14, 22),\n  (14, 23),\n  (13, 23),\n  (13, 24),\n  (12, 24),\n  (11, 24),\n  (10, 24),\n  (9, 24),\n  (8, 24),\n  (7, 24),\n  (7, 23),\n  (6, 23),\n  (6, 22),\n  (6, 21),\n  (6, 20),\n  (6, 19),\n  (6, 18),\n  (6, 17),\n  (6, 16),\n  (6, 15),\n  (6, 14),\n  (6, 13),\n  (6, 12),\n  (6, 11),\n  (6, 10),\n  (6, 9),\n  (6, 8),\n  (6, 7),\n  (6, 6),\n  (6, 5),\n  (7, 5),\n  (8, 5),\n  (9, 5),\n  (10, 5),\n  (10, 6),\n  (10, 7),\n  (11, 7),\n  (12, 7)],\n (6, 7): [(4, 3),\n  (3, 3),\n  (3, 4),\n  (3, 5),\n  (4, 5),\n  (5, 5),\n  (6, 5),\n  (6, 6),\n  (6, 7),\n  (6, 8),\n  (6, 9),\n  (6, 10),\n  (6, 11),\n  (6, 12),\n  (6, 13),\n  (6, 14),\n  (6, 15),\n  (6, 16),\n  (6, 17),\n  (6, 18),\n  (6, 19),\n  (6, 20),\n  (6, 21),\n  (6, 22),\n  (6, 23),\n  (7, 23),\n  (7, 24),\n  (8, 24),\n  (9, 24),\n  (10, 24),\n  (11, 24),\n  (12, 24),\n  (13, 24),\n  (13, 23),\n  (14, 23),\n  (14, 22),\n  (14, 21),\n  (14, 20),\n  (14, 19),\n  (14, 18),\n  (14, 17),\n  (14, 16),\n  (14, 15),\n  (14, 14),\n  (14, 13),\n  (15, 13),\n  (16, 13),\n  (17, 13),\n  (18, 13),\n  (19, 13),\n  (19, 12),\n  (19, 11),\n  (19, 10),\n  (19, 9),\n  (19, 8),\n  (19, 7)],\n (5, 8): [(12, 7),\n  (12, 6),\n  (13, 6),\n  (14, 6),\n  (15, 6),\n  (16, 6),\n  (17, 6),\n  (18, 6),\n  (19, 6),\n  (20, 6),\n  (20, 7),\n  (21, 7),\n  (22, 7),\n  (23, 7),\n  (24, 7),\n  (25, 7),\n  (26, 7)],\n (3, 8): [(11, 17),\n  (11, 16),\n  (11, 15),\n  (11, 14),\n  (11, 13),\n  (11, 12),\n  (11, 11),\n  (11, 10),\n  (11, 9),\n  (12, 9),\n  (13, 9),\n  (14, 9),\n  (14, 8),\n  (14, 7),\n  (15, 7),\n  (16, 7),\n  (17, 7),\n  (18, 7),\n  (19, 7),\n  (20, 7),\n  (21, 7),\n  (22, 7),\n  (23, 7),\n  (24, 7),\n  (25, 7),\n  (26, 7)],\n (0, 2): [(25, 17),\n  (24, 17),\n  (23, 17),\n  (22, 17),\n  (21, 17),\n  (21, 18),\n  (20, 18),\n  (19, 18),\n  (18, 18),\n  (17, 18),\n  (16, 18),\n  (15, 18),\n  (14, 18),\n  (14, 19),\n  (14, 20),\n  (14, 21),\n  (14, 22),\n  (14, 23),\n  (13, 23),\n  (13, 24),\n  (12, 24),\n  (11, 24),\n  (10, 24),\n  (9, 24),\n  (8, 24),\n  (7, 24),\n  (7, 23),\n  (6, 23),\n  (6, 22),\n  (6, 21),\n  (6, 20),\n  (6, 19),\n  (6, 18),\n  (6, 17),\n  (6, 16),\n  (6, 15),\n  (6, 14),\n  (6, 13),\n  (6, 12),\n  (6, 11),\n  (6, 10),\n  (6, 9),\n  (6, 8),\n  (6, 7),\n  (6, 6),\n  (6, 5),\n  (7, 5),\n  (8, 5),\n  (8, 4),\n  (8, 3),\n  (9, 3),\n  (10, 3)],\n (2, 8): [(10, 3),\n  (10, 2),\n  (11, 2),\n  (12, 2),\n  (13, 2),\n  (14, 2),\n  (15, 2),\n  (16, 2),\n  (17, 2),\n  (18, 2),\n  (19, 2),\n  (20, 2),\n  (21, 2),\n  (22, 2),\n  (23, 2),\n  (23, 3),\n  (23, 4),\n  (23, 5),\n  (23, 6),\n  (23, 7),\n  (24, 7),\n  (25, 7),\n  (26, 7)],\n (1, 3): [(27, 27),\n  (26, 27),\n  (25, 27),\n  (25, 26),\n  (25, 25),\n  (25, 24),\n  (24, 24),\n  (23, 24),\n  (22, 24),\n  (21, 24),\n  (20, 24),\n  (19, 24),\n  (18, 24),\n  (17, 24),\n  (16, 24),\n  (16, 23),\n  (16, 22),\n  (16, 21),\n  (16, 20),\n  (15, 20),\n  (14, 20),\n  (14, 19),\n  (14, 18),\n  (13, 18),\n  (12, 18),\n  (12, 17),\n  (11, 17)],\n (1, 8): [(27, 27),\n  (27, 26),\n  (27, 25),\n  (27, 24),\n  (27, 23),\n  (27, 22),\n  (27, 21),\n  (27, 20),\n  (27, 19),\n  (27, 18),\n  (27, 17),\n  (27, 16),\n  (27, 15),\n  (27, 14),\n  (27, 13),\n  (27, 12),\n  (27, 11),\n  (27, 10),\n  (27, 9),\n  (27, 8),\n  (27, 7),\n  (26, 7)],\n (0, 6): [(25, 17),\n  (24, 17),\n  (23, 17),\n  (22, 17),\n  (21, 17),\n  (21, 18),\n  (20, 18),\n  (19, 18),\n  (18, 18),\n  (17, 18),\n  (16, 18),\n  (15, 18),\n  (14, 18),\n  (14, 19),\n  (14, 20),\n  (14, 21),\n  (14, 22),\n  (14, 23),\n  (13, 23),\n  (13, 24),\n  (12, 24),\n  (11, 24),\n  (10, 24),\n  (9, 24),\n  (8, 24),\n  (7, 24),\n  (7, 23),\n  (6, 23),\n  (6, 22),\n  (6, 21),\n  (6, 20),\n  (6, 19),\n  (6, 18),\n  (6, 17),\n  (6, 16),\n  (6, 15),\n  (6, 14),\n  (6, 13),\n  (6, 12),\n  (6, 11),\n  (6, 10),\n  (6, 9),\n  (6, 8),\n  (6, 7),\n  (6, 6),\n  (6, 5),\n  (5, 5),\n  (4, 5),\n  (3, 5),\n  (3, 4),\n  (3, 3),\n  (4, 3)],\n (1, 7): [(27, 27),\n  (26, 27),\n  (25, 27),\n  (25, 26),\n  (25, 25),\n  (25, 24),\n  (25, 23),\n  (25, 22),\n  (24, 22),\n  (23, 22),\n  (22, 22),\n  (21, 22),\n  (21, 21),\n  (21, 20),\n  (21, 19),\n  (21, 18),\n  (21, 17),\n  (21, 16),\n  (21, 15),\n  (21, 14),\n  (21, 13),\n  (20, 13),\n  (19, 13),\n  (19, 12),\n  (19, 11),\n  (19, 10),\n  (19, 9),\n  (19, 8),\n  (19, 7)],\n (6, 8): [(4, 3),\n  (3, 3),\n  (3, 4),\n  (3, 5),\n  (4, 5),\n  (5, 5),\n  (6, 5),\n  (6, 6),\n  (6, 7),\n  (6, 8),\n  (6, 9),\n  (6, 10),\n  (6, 11),\n  (6, 12),\n  (6, 13),\n  (6, 14),\n  (6, 15),\n  (6, 16),\n  (6, 17),\n  (6, 18),\n  (6, 19),\n  (6, 20),\n  (6, 21),\n  (6, 22),\n  (6, 23),\n  (7, 23),\n  (7, 24),\n  (8, 24),\n  (9, 24),\n  (10, 24),\n  (11, 24),\n  (12, 24),\n  (13, 24),\n  (13, 23),\n  (14, 23),\n  (14, 22),\n  (14, 21),\n  (14, 20),\n  (14, 19),\n  (14, 18),\n  (15, 18),\n  (16, 18),\n  (17, 18),\n  (18, 18),\n  (19, 18),\n  (20, 18),\n  (21, 18),\n  (21, 17),\n  (21, 16),\n  (21, 15),\n  (21, 14),\n  (21, 13),\n  (21, 12),\n  (21, 11),\n  (21, 10),\n  (21, 9),\n  (22, 9),\n  (23, 9),\n  (24, 9),\n  (25, 9),\n  (25, 8),\n  (25, 7),\n  (26, 7)],\n (1, 5): [(27, 27),\n  (26, 27),\n  (25, 27),\n  (25, 26),\n  (25, 25),\n  (25, 24),\n  (24, 24),\n  (23, 24),\n  (22, 24),\n  (21, 24),\n  (20, 24),\n  (19, 24),\n  (18, 24),\n  (17, 24),\n  (16, 24),\n  (16, 23),\n  (16, 22),\n  (16, 21),\n  (16, 20),\n  (15, 20),\n  (14, 20),\n  (14, 21),\n  (14, 22),\n  (14, 23),\n  (13, 23),\n  (13, 24),\n  (12, 24),\n  (11, 24),\n  (10, 24),\n  (9, 24),\n  (8, 24),\n  (7, 24),\n  (7, 23),\n  (6, 23),\n  (6, 22),\n  (6, 21),\n  (6, 20),\n  (6, 19),\n  (6, 18),\n  (6, 17),\n  (6, 16),\n  (6, 15),\n  (6, 14),\n  (6, 13),\n  (6, 12),\n  (6, 11),\n  (6, 10),\n  (6, 9),\n  (6, 8),\n  (6, 7),\n  (6, 6),\n  (6, 5),\n  (7, 5),\n  (8, 5),\n  (9, 5),\n  (10, 5),\n  (10, 6),\n  (10, 7),\n  (11, 7),\n  (12, 7)],\n (1, 4): [(27, 27),\n  (26, 27),\n  (25, 27),\n  (25, 26),\n  (25, 25),\n  (25, 24),\n  (25, 23),\n  (25, 22),\n  (24, 22),\n  (23, 22),\n  (22, 22),\n  (21, 22),\n  (21, 21),\n  (21, 20),\n  (21, 19),\n  (21, 18),\n  (21, 17),\n  (21, 16),\n  (21, 15),\n  (21, 14),\n  (21, 13),\n  (20, 13),\n  (19, 13),\n  (19, 12),\n  (19, 11),\n  (19, 10),\n  (19, 9),\n  (19, 8),\n  (19, 7),\n  (19, 6),\n  (19, 5),\n  (19, 4),\n  (19, 3),\n  (18, 3),\n  (17, 3)],\n (1, 2): [(27, 27),\n  (26, 27),\n  (25, 27),\n  (25, 26),\n  (25, 25),\n  (25, 24),\n  (24, 24),\n  (23, 24),\n  (22, 24),\n  (21, 24),\n  (20, 24),\n  (19, 24),\n  (18, 24),\n  (17, 24),\n  (16, 24),\n  (16, 23),\n  (16, 22),\n  (16, 21),\n  (16, 20),\n  (15, 20),\n  (14, 20),\n  (14, 21),\n  (14, 22),\n  (14, 23),\n  (13, 23),\n  (13, 24),\n  (12, 24),\n  (11, 24),\n  (10, 24),\n  (9, 24),\n  (8, 24),\n  (7, 24),\n  (7, 23),\n  (6, 23),\n  (6, 22),\n  (6, 21),\n  (6, 20),\n  (6, 19),\n  (6, 18),\n  (6, 17),\n  (6, 16),\n  (6, 15),\n  (6, 14),\n  (6, 13),\n  (6, 12),\n  (6, 11),\n  (6, 10),\n  (6, 9),\n  (6, 8),\n  (6, 7),\n  (6, 6),\n  (6, 5),\n  (7, 5),\n  (8, 5),\n  (8, 4),\n  (8, 3),\n  (9, 3),\n  (10, 3)],\n (1, 6): [(27, 27),\n  (26, 27),\n  (25, 27),\n  (25, 26),\n  (25, 25),\n  (25, 24),\n  (24, 24),\n  (23, 24),\n  (22, 24),\n  (21, 24),\n  (20, 24),\n  (19, 24),\n  (18, 24),\n  (17, 24),\n  (16, 24),\n  (15, 24),\n  (15, 25),\n  (14, 25),\n  (13, 25),\n  (13, 26),\n  (12, 26),\n  (11, 26),\n  (10, 26),\n  (9, 26),\n  (8, 26),\n  (7, 26),\n  (7, 25),\n  (6, 25),\n  (6, 24),\n  (5, 24),\n  (5, 23),\n  (4, 23),\n  (4, 22),\n  (4, 21),\n  (4, 20),\n  (4, 19),\n  (4, 18),\n  (4, 17),\n  (4, 16),\n  (4, 15),\n  (4, 14),\n  (4, 13),\n  (4, 12),\n  (4, 11),\n  (4, 10),\n  (4, 9),\n  (4, 8),\n  (4, 7),\n  (3, 7),\n  (3, 6),\n  (2, 6),\n  (2, 5),\n  (1, 5),\n  (1, 4),\n  (1, 3),\n  (2, 3),\n  (3, 3),\n  (4, 3)]}"
     },
     "execution_count": 628,
     "metadata": {},
     "output_type": "execute_result"
    }
   ],
   "source": [
    "paths"
   ]
  },
  {
   "cell_type": "code",
   "execution_count": 629,
   "metadata": {},
   "outputs": [
    {
     "data": {
      "text/plain": "{'weigth': 1}"
     },
     "execution_count": 629,
     "metadata": {},
     "output_type": "execute_result"
    }
   ],
   "source": [
    "G.edges[((0,0),(0,1))]"
   ]
  },
  {
   "cell_type": "code",
   "execution_count": 630,
   "metadata": {
    "collapsed": false,
    "jupyter": {
     "outputs_hidden": false
    }
   },
   "outputs": [
    {
     "name": "stdout",
     "output_type": "stream",
     "text": [
      "##############################\n",
      "#    #########################\n",
      "#    #########################\n",
      "#    #########################\n",
      "#    #########################\n",
      "#    #########################\n",
      "#    #########################\n",
      "##############################\n",
      "#    #########################\n",
      "#    #####              ######\n",
      "#    #####              ######\n",
      "#    #   #              ######\n",
      "#    #   #              ######\n",
      "#### #   #              ######\n",
      "#    #########################\n",
      "#    #   #####################\n",
      "#    #   #####################\n",
      "#    #   #####################\n",
      "#    #   #####################\n",
      "#    #   #####################\n",
      "#    #   #####################\n",
      "######   #####################\n",
      "######   #              ######\n",
      "##########              ######\n",
      "######   #              ######\n",
      "######   #              ######\n",
      "######   #              #    #\n",
      "######   #              #    #\n",
      "######   #              #    #\n",
      "##############################\n",
      "\n"
     ]
    }
   ],
   "source": [
    "ix = 3\n",
    "walkable_points1 = set(list(walkable_points) + list(map(toL,paths[sorted_pairs[ix][0]])))\n",
    "print(create_string(walkable_points1))"
   ]
  },
  {
   "cell_type": "code",
   "execution_count": 631,
   "metadata": {},
   "outputs": [
    {
     "data": {
      "text/plain": "[((25, 16), (24, 16)),\n ((20, 3), (20, 4)),\n ((22, 13), (22, 14)),\n ((18, 4), (17, 4)),\n ((18, 4), (18, 5)),\n ((20, 7), (20, 8)),\n ((20, 7), (20, 6)),\n ((20, 8), (20, 9)),\n ((20, 8), (20, 7)),\n ((18, 8), (18, 9)),\n ((18, 8), (18, 7)),\n ((20, 17), (20, 16)),\n ((20, 12), (21, 12)),\n ((20, 12), (20, 11)),\n ((24, 18), (25, 18)),\n ((24, 18), (23, 18)),\n ((18, 12), (18, 13)),\n ((18, 12), (18, 11)),\n ((18, 5), (18, 6)),\n ((18, 5), (18, 4)),\n ((22, 16), (23, 16)),\n ((22, 16), (22, 15)),\n ((19, 14), (20, 14)),\n ((22, 14), (22, 15)),\n ((22, 14), (22, 13)),\n ((17, 2), (18, 2)),\n ((20, 9), (20, 10)),\n ((20, 9), (20, 8)),\n ((18, 9), (18, 10)),\n ((18, 9), (18, 8)),\n ((21, 12), (20, 12)),\n ((20, 4), (20, 5)),\n ((20, 4), (20, 3)),\n ((18, 13), (18, 12)),\n ((23, 16), (24, 16)),\n ((23, 16), (22, 16)),\n ((18, 2), (19, 2)),\n ((18, 2), (17, 2)),\n ((25, 18), (24, 18)),\n ((22, 15), (22, 16)),\n ((22, 15), (22, 14)),\n ((20, 10), (20, 11)),\n ((20, 10), (20, 9)),\n ((19, 2), (18, 2)),\n ((18, 6), (18, 7)),\n ((18, 6), (18, 5)),\n ((20, 5), (20, 6)),\n ((20, 5), (20, 4)),\n ((21, 18), (22, 18)),\n ((20, 14), (19, 14)),\n ((20, 14), (20, 15)),\n ((17, 4), (18, 4)),\n ((18, 10), (18, 11)),\n ((18, 10), (18, 9)),\n ((24, 16), (25, 16)),\n ((24, 16), (23, 16)),\n ((20, 11), (20, 12)),\n ((20, 11), (20, 10)),\n ((18, 7), (18, 8)),\n ((18, 7), (18, 6)),\n ((22, 18), (23, 18)),\n ((22, 18), (21, 18)),\n ((20, 6), (20, 7)),\n ((20, 6), (20, 5)),\n ((20, 15), (20, 16)),\n ((20, 15), (20, 14)),\n ((18, 11), (18, 12)),\n ((18, 11), (18, 10)),\n ((23, 18), (24, 18)),\n ((23, 18), (22, 18)),\n ((20, 16), (20, 17)),\n ((20, 16), (20, 15))]"
     },
     "execution_count": 631,
     "metadata": {},
     "output_type": "execute_result"
    }
   ],
   "source": [
    "get_path_border(paths[(0,4)])"
   ]
  },
  {
   "cell_type": "code",
   "execution_count": 632,
   "metadata": {},
   "outputs": [],
   "source": [
    "paths_lst = [(k, v) for k, v in paths.items()]\n",
    "\n",
    "transformed_points = []\n",
    "for room in chosen_rooms:\n",
    "    points = get_points(room)\n",
    "    transformed_points.append(list(map(lambda x:toG(x[0], x[1]), points)))\n",
    "    \n",
    "\n",
    "def checkIntersection(setA, setB):\n",
    "    intersection = setA.intersection(set(setB).union(set(get_path_border(setB))))\n",
    "    if len(intersection) > 0:\n",
    "        return True\n",
    "    return False\n",
    "\n"
   ]
  },
  {
   "cell_type": "code",
   "execution_count": 633,
   "metadata": {
    "collapsed": true,
    "jupyter": {
     "outputs_hidden": true
    }
   },
   "outputs": [
    {
     "name": "stdout",
     "output_type": "stream",
     "text": [
      "(1, 6)\n",
      "1 6\n"
     ]
    }
   ],
   "source": [
    "import itertools\n",
    "import networkx as nx\n",
    "edge_id = 0\n",
    "# 1\n",
    "room_G = nx.Graph()\n",
    "for i, room in enumerate(chosen_rooms):\n",
    "    room_G.add_node(i, room=room)\n",
    "# 2\n",
    "for corridor_key, corridor_points in paths_lst:\n",
    "    start_room_index = corridor_key[0]\n",
    "    end_room_index = corridor_key[1]\n",
    "    # 3\n",
    "    corridor_points = set(corridor_points)\n",
    "    # 4, 5, 6\n",
    "    start_room_points = set(transformed_points[start_room_index])\n",
    "    end_room_points = set(transformed_points[end_room_index])\n",
    "    corridor_points -= start_room_points\n",
    "    corridor_points -= end_room_points\n",
    "\n",
    "    # 7\n",
    "    crossed_corridors = []\n",
    "    crossed_rooms = []\n",
    "    for i, room in enumerate(transformed_points):\n",
    "        room_points = set(room)\n",
    "        if checkIntersection(room_points, corridor_points):\n",
    "            crossed_rooms.append(i)\n",
    "\n",
    "    for j, path in enumerate(paths_lst):\n",
    "        if edge_id == j:\n",
    "            continue\n",
    "        path_points = set(path[1])\n",
    "        if checkIntersection(path_points, corridor_points):\n",
    "            crossed_corridors.append(j)\n",
    "    room_G.add_edge(start_room_index, end_room_index, corridor_key=edge_id, crossed_corridors=crossed_corridors, crossed_rooms=crossed_rooms)\n",
    "    edge_id += 1\n",
    "    #print(corridor_key)\n",
    "print(corridor_key)\n",
    "print(start_room_index, end_room_index)"
   ]
  },
  {
   "cell_type": "code",
   "execution_count": 634,
   "metadata": {},
   "outputs": [
    {
     "data": {
      "text/plain": "<Figure size 640x480 with 1 Axes>",
      "image/png": "[encoded data removed]"
     },
     "metadata": {},
     "output_type": "display_data"
    }
   ],
   "source": [
    "nx.draw(room_G, with_labels=True)\n",
    "edgs=room_G.edges(data=True)"
   ]
  },
  {
   "cell_type": "code",
   "execution_count": 635,
   "metadata": {},
   "outputs": [
    {
     "name": "stdout",
     "output_type": "stream",
     "text": [
      "(0, 1, {'corridor_key': 0, 'crossed_corridors': [30, 33], 'crossed_rooms': []})\n",
      "(0, 7, {'corridor_key': 1, 'crossed_corridors': [12, 17, 22, 30, 33], 'crossed_rooms': []})\n",
      "(0, 8, {'corridor_key': 2, 'crossed_corridors': [31], 'crossed_rooms': []})\n",
      "(0, 4, {'corridor_key': 17, 'crossed_corridors': [1, 7, 8, 9, 11, 12, 16, 22, 23, 24, 30, 33], 'crossed_rooms': [7]})\n",
      "(0, 3, {'corridor_key': 20, 'crossed_corridors': [12, 21, 22, 25, 27, 29, 31], 'crossed_rooms': []})\n",
      "(0, 5, {'corridor_key': 21, 'crossed_corridors': [4, 12, 14, 15, 18, 20, 22, 25, 27, 29, 31, 32, 34], 'crossed_rooms': []})\n",
      "(0, 2, {'corridor_key': 25, 'crossed_corridors': [4, 12, 14, 15, 18, 20, 21, 22, 27, 29, 31, 32, 34], 'crossed_rooms': []})\n",
      "(0, 6, {'corridor_key': 29, 'crossed_corridors': [12, 14, 15, 18, 20, 21, 22, 25, 27, 31, 32, 34], 'crossed_rooms': []})\n",
      "(1, 3, {'corridor_key': 27, 'crossed_corridors': [12, 20, 21, 22, 25, 29, 31, 32, 34, 35], 'crossed_rooms': []})\n",
      "(1, 8, {'corridor_key': 28, 'crossed_corridors': [], 'crossed_rooms': [0]})\n",
      "(1, 7, {'corridor_key': 30, 'crossed_corridors': [0, 1, 12, 17, 20, 21, 22, 25, 29, 31, 33], 'crossed_rooms': [0]})\n",
      "(1, 5, {'corridor_key': 32, 'crossed_corridors': [4, 12, 14, 15, 18, 21, 22, 25, 27, 29, 31, 34, 35], 'crossed_rooms': []})\n",
      "(1, 4, {'corridor_key': 33, 'crossed_corridors': [0, 1, 7, 8, 9, 11, 12, 16, 17, 20, 21, 22, 23, 24, 25, 29, 30, 31], 'crossed_rooms': [0, 7]})\n",
      "(1, 2, {'corridor_key': 34, 'crossed_corridors': [4, 12, 14, 15, 18, 21, 22, 25, 27, 29, 31, 32, 35], 'crossed_rooms': []})\n",
      "(1, 6, {'corridor_key': 35, 'crossed_corridors': [27, 32, 34], 'crossed_rooms': []})\n",
      "(2, 4, {'corridor_key': 3, 'crossed_corridors': [10, 19], 'crossed_rooms': []})\n",
      "(2, 5, {'corridor_key': 4, 'crossed_corridors': [12, 14, 15, 21, 25, 32, 34], 'crossed_rooms': []})\n",
      "(2, 6, {'corridor_key': 5, 'crossed_corridors': [19], 'crossed_rooms': []})\n",
      "(2, 7, {'corridor_key': 12, 'crossed_corridors': [1, 4, 14, 15, 17, 18, 20, 21, 22, 25, 27, 29, 30, 31, 32, 33, 34], 'crossed_rooms': []})\n",
      "(2, 3, {'corridor_key': 15, 'crossed_corridors': [4, 12, 14, 18, 21, 22, 25, 29, 31, 32, 34], 'crossed_rooms': []})\n",
      "(2, 8, {'corridor_key': 26, 'crossed_corridors': [13], 'crossed_rooms': [4]})\n",
      "(3, 5, {'corridor_key': 6, 'crossed_corridors': [], 'crossed_rooms': []})\n",
      "(3, 7, {'corridor_key': 11, 'crossed_corridors': [16, 24], 'crossed_rooms': []})\n",
      "(3, 4, {'corridor_key': 16, 'crossed_corridors': [7, 8, 11, 17, 23, 24, 33], 'crossed_rooms': [7]})\n",
      "(3, 6, {'corridor_key': 18, 'crossed_corridors': [12, 14, 15, 21, 22, 25, 29, 31, 32, 34], 'crossed_rooms': []})\n",
      "(3, 8, {'corridor_key': 24, 'crossed_corridors': [1, 7, 8, 9, 11, 12, 16, 17, 22, 23, 30, 33], 'crossed_rooms': [7]})\n",
      "(4, 7, {'corridor_key': 7, 'crossed_corridors': [16, 17, 33], 'crossed_rooms': []})\n",
      "(4, 5, {'corridor_key': 10, 'crossed_corridors': [3, 19], 'crossed_rooms': []})\n",
      "(4, 8, {'corridor_key': 13, 'crossed_corridors': [26], 'crossed_rooms': []})\n",
      "(4, 6, {'corridor_key': 19, 'crossed_corridors': [3, 4, 5, 10, 12, 15, 25, 26, 34], 'crossed_rooms': [2]})\n",
      "(5, 7, {'corridor_key': 8, 'crossed_corridors': [23], 'crossed_rooms': []})\n",
      "(5, 6, {'corridor_key': 14, 'crossed_corridors': [4, 12, 15, 18, 21, 22, 25, 29, 31, 32, 34], 'crossed_rooms': []})\n",
      "(5, 8, {'corridor_key': 23, 'crossed_corridors': [7, 8, 9, 16, 17, 24, 33], 'crossed_rooms': [7]})\n",
      "(6, 7, {'corridor_key': 22, 'crossed_corridors': [1, 12, 14, 15, 17, 18, 20, 21, 25, 27, 29, 30, 31, 32, 33, 34], 'crossed_rooms': []})\n",
      "(6, 8, {'corridor_key': 31, 'crossed_corridors': [1, 2, 12, 14, 15, 17, 18, 20, 21, 22, 25, 27, 29, 30, 32, 33, 34], 'crossed_rooms': [0]})\n",
      "(7, 8, {'corridor_key': 9, 'crossed_corridors': [23, 24], 'crossed_rooms': []})\n"
     ]
    }
   ],
   "source": [
    "for e in edgs:\n",
    "    print(e)"
   ]
  },
  {
   "cell_type": "code",
   "execution_count": 636,
   "metadata": {},
   "outputs": [],
   "source": [
    "import numpy as np\n",
    "import matplotlib.pyplot as plt\n",
    "import networkx as nx\n",
    "\n",
    "def _expand(G, explored_nodes, explored_edges):\n",
    "    \"\"\"\n",
    "    Expand existing solution by a process akin to BFS.\n",
    "\n",
    "    Arguments:\n",
    "    ----------\n",
    "    G: networkx.Graph() instance\n",
    "        full graph\n",
    "\n",
    "    explored_nodes: set of ints\n",
    "        nodes visited\n",
    "\n",
    "    explored_edges: set of 2-tuples\n",
    "        edges visited\n",
    "\n",
    "    Returns:\n",
    "    --------\n",
    "    solutions: list, where each entry in turns contains two sets corresponding to explored_nodes and explored_edges\n",
    "        all possible expansions of explored_nodes and explored_edges\n",
    "\n",
    "    \"\"\"\n",
    "    frontier_nodes = list()\n",
    "    frontier_edges = list()\n",
    "    for v in explored_nodes:\n",
    "        for u in nx.neighbors(G,v):\n",
    "            if not (u in explored_nodes):\n",
    "                frontier_nodes.append(u)\n",
    "                frontier_edges.append([(u,v), (v,u)])\n",
    "\n",
    "    return zip([explored_nodes | frozenset([v]) for v in frontier_nodes], [explored_edges | frozenset(e) for e in frontier_edges])\n",
    "\n",
    "def find_all_spanning_trees(G, root=0):\n",
    "    \"\"\"\n",
    "    Find all spanning trees of a Graph.\n",
    "\n",
    "    Arguments:\n",
    "    ----------\n",
    "    G: networkx.Graph() instance\n",
    "        full graph\n",
    "\n",
    "    Returns:\n",
    "    ST: list of networkx.Graph() instances\n",
    "        list of all spanning trees\n",
    "\n",
    "    \"\"\"\n",
    "\n",
    "    # initialise solution\n",
    "    explored_nodes = frozenset([root])\n",
    "    explored_edges = frozenset([])\n",
    "    solutions = [(explored_nodes, explored_edges)]\n",
    "    # we need to expand solutions number_of_nodes-1 times\n",
    "    for ii in range(G.number_of_nodes()-1):\n",
    "        # get all new solutions\n",
    "        solutions = [_expand(G, nodes, edges) for (nodes, edges) in solutions]\n",
    "        # flatten nested structure and get unique expansions\n",
    "        solutions = set([item for sublist in solutions for item in sublist])\n",
    "\n",
    "    return [nx.from_edgelist(edges) for (nodes, edges) in solutions]"
   ]
  },
  {
   "cell_type": "code",
   "execution_count": 637,
   "metadata": {},
   "outputs": [],
   "source": [
    "def get_valid_skeletons(G_room, room_indices):\n",
    "    group = G_room.subgraph(room_indices)\n",
    "    #nx.draw(group, with_labels=True)\n",
    "    all_spanning_trees = find_all_spanning_trees(group, root=room_indices[0])\n",
    "    valid_skeletons = []\n",
    "    for spanning_tree in all_spanning_trees:\n",
    "        edges = list(spanning_tree.edges())\n",
    "        intersections = []\n",
    "        corridor_keys = []\n",
    "        valid_skeleton = True\n",
    "        for edge_id in edges:\n",
    "            edge = G_room[edge_id[0]][edge_id[1]]\n",
    "            if all(n in room_indices for n in edge[\"crossed_rooms\"]):\n",
    "                intersections += edge[\"crossed_corridors\"]\n",
    "                corridor_keys.append(edge[\"corridor_key\"])\n",
    "            else:\n",
    "                valid_skeleton = False\n",
    "        if valid_skeleton:\n",
    "            valid_skeletons.append({\"edges\": set(corridor_keys), \"intersections\": set(intersections)})\n",
    "    return valid_skeletons\n",
    "\n"
   ]
  },
  {
   "cell_type": "code",
   "execution_count": 638,
   "metadata": {},
   "outputs": [],
   "source": [
    "import itertools\n",
    "\n",
    "available_indices = set(range(num_rooms))\n",
    "\n",
    "def get_group_skeletons(available,group_size):\n",
    "    combs = list(itertools.combinations(available,group_size))\n",
    "    for c in combs:\n",
    "        skels = get_valid_skeletons(room_G, list(c))\n",
    "        if len(skels)!=0:\n",
    "            yield (set(c),skels)\n",
    "    return (False,False)"
   ]
  },
  {
   "cell_type": "code",
   "execution_count": 639,
   "metadata": {},
   "outputs": [],
   "source": [
    "def iterate_G(available,group_sizes,i):\n",
    "    group_size = group_sizes[0]\n",
    "    group_sizes = group_sizes[1:]\n",
    "    iterator = get_group_skeletons(available,group_size)\n",
    "    for ixs,skels in iterator:\n",
    "        if ixs == False:\n",
    "            return []\n",
    "        if len(group_sizes)!=0:\n",
    "            available_ = available-ixs\n",
    "            iterator_ = iterate_G(available_,group_sizes,i+1)\n",
    "            finished = False\n",
    "            for groups in iterator_:\n",
    "                if len(groups) != 0:\n",
    "                    groups.append({'vertices':ixs,'skeletons':skels})\n",
    "                    yield groups\n",
    "                else:\n",
    "                    yield []\n",
    "        else:\n",
    "            yield [{'vertices':ixs,'skeletons':skels}] "
   ]
  },
  {
   "cell_type": "code",
   "execution_count": 640,
   "metadata": {},
   "outputs": [],
   "source": [
    "def get_possible_split(groups,intersections=set(),i=0):\n",
    "    group = groups[0]\n",
    "    if len(groups)==1:\n",
    "        groups = []\n",
    "    else:\n",
    "        groups = groups[1:]\n",
    "    for s1 in group['skeletons']:\n",
    "        if len(s1['edges'].intersection(intersections))==0: # good\n",
    "            if len(groups)!=0:\n",
    "                it = get_possible_split(groups,intersections.union(s1['intersections']),i=i+1)\n",
    "                for s2 in it:\n",
    "                    s2.append(s1)\n",
    "                    yield s2\n",
    "            else:\n",
    "                yield [s1]\n",
    "        else:\n",
    "            yield []\n",
    "    return []"
   ]
  },
  {
   "cell_type": "code",
   "execution_count": 641,
   "metadata": {},
   "outputs": [
    {
     "name": "stdout",
     "output_type": "stream",
     "text": [
      "9 :::: [{'edges': {0, 20}, 'intersections': {33, 12, 21, 22, 25, 27, 29, 30, 31}}, {'edges': {3, 5}, 'intersections': {10, 19}}, {'edges': {9, 23}, 'intersections': {33, 7, 8, 9, 16, 17, 23, 24}}]\n"
     ]
    }
   ],
   "source": [
    "splits_it = iterate_G(available_indices,[3,3,3],0)\n",
    "found = False\n",
    "for i,split in enumerate(splits_it):\n",
    "    skels_it = get_possible_split(split)\n",
    "    for skels in skels_it:\n",
    "        if len(skels)==3:\n",
    "            found = True\n",
    "            print(i,'::::',skels)\n",
    "            break\n",
    "    #if i>100:\n",
    "    if found==True:\n",
    "        break"
   ]
  },
  {
   "cell_type": "code",
   "execution_count": 642,
   "metadata": {},
   "outputs": [
    {
     "data": {
      "text/plain": "[{'edges': {0, 20}, 'intersections': {12, 21, 22, 25, 27, 29, 30, 31, 33}},\n {'edges': {3, 5}, 'intersections': {10, 19}},\n {'edges': {9, 23}, 'intersections': {7, 8, 9, 16, 17, 23, 24, 33}}]"
     },
     "execution_count": 642,
     "metadata": {},
     "output_type": "execute_result"
    }
   ],
   "source": [
    "skels"
   ]
  },
  {
   "cell_type": "code",
   "execution_count": 655,
   "outputs": [],
   "source": [
    "vertices_edges_dict = nx.get_edge_attributes(room_G,'corridor_key')\n",
    "vertices_edges_dict_inv = {v: k for k, v in vertices_edges_dict.items()}"
   ],
   "metadata": {
    "collapsed": false
   }
  },
  {
   "cell_type": "code",
   "execution_count": 654,
   "outputs": [
    {
     "name": "stdout",
     "output_type": "stream",
     "text": [
      "{0: (0, 1), 1: (0, 7), 2: (0, 8), 17: (0, 4), 20: (0, 3), 21: (0, 5), 25: (0, 2), 29: (0, 6), 27: (1, 3), 28: (1, 8), 30: (1, 7), 32: (1, 5), 33: (1, 4), 34: (1, 2), 35: (1, 6), 3: (2, 4), 4: (2, 5), 5: (2, 6), 12: (2, 7), 15: (2, 3), 26: (2, 8), 6: (3, 5), 11: (3, 7), 16: (3, 4), 18: (3, 6), 24: (3, 8), 7: (4, 7), 10: (4, 5), 13: (4, 8), 19: (4, 6), 8: (5, 7), 14: (5, 6), 23: (5, 8), 22: (6, 7), 31: (6, 8), 9: (7, 8)}\n"
     ]
    }
   ],
   "source": [
    "print(vertices_edges_dict_inv)"
   ],
   "metadata": {
    "collapsed": false
   }
  },
  {
   "cell_type": "code",
   "execution_count": 652,
   "outputs": [
    {
     "data": {
      "text/plain": "{3: (2, 4), 5: (2, 6)}"
     },
     "execution_count": 652,
     "metadata": {},
     "output_type": "execute_result"
    }
   ],
   "source": [
    "def get_vertices_from_edge_ids(vertices_edges_dict, skels):\n",
    "    skel_vertices = {}\n",
    "    if type(skels) == list:\n",
    "        for skel in skels:\n",
    "            skel_edges = skel['edges']\n",
    "            for edge_id in skel_edges:\n",
    "                skel_vertices[edge_id] = vertices_edges_dict[edge_id]\n",
    "    else:\n",
    "        skel_edges = skels['edges']\n",
    "        for edge_id in skel_edges:\n",
    "            skel_vertices[edge_id] = vertices_edges_dict[edge_id]\n",
    "    return skel_vertices\n",
    "\n",
    "get_vertices_from_edge_ids(vertices_edges_dict_inv, skels[1])"
   ],
   "metadata": {
    "collapsed": false
   }
  },
  {
   "cell_type": "code",
   "execution_count": 645,
   "outputs": [
    {
     "data": {
      "text/plain": "[(0, 1),\n (0, 7),\n (0, 8),\n (0, 4),\n (0, 3),\n (0, 5),\n (0, 2),\n (0, 6),\n (1, 3),\n (1, 8),\n (1, 7),\n (1, 5),\n (1, 4),\n (1, 2),\n (1, 6),\n (2, 4),\n (2, 5),\n (2, 6),\n (2, 7),\n (2, 3),\n (2, 8),\n (3, 5),\n (3, 7),\n (3, 4),\n (3, 6),\n (3, 8),\n (4, 7),\n (4, 5),\n (4, 8),\n (4, 6),\n (5, 7),\n (5, 6),\n (5, 8),\n (6, 7),\n (6, 8),\n (7, 8)]"
     },
     "execution_count": 645,
     "metadata": {},
     "output_type": "execute_result"
    }
   ],
   "source": [
    "def get_edge_ids_from_vertices(vertex_tuples, vertices_edges_dict):\n",
    "    edge_ids = []\n",
    "    for vertex_tuple in vertex_tuples:\n",
    "        for edge_id, edge_vertices in vertices_edges_dict.items():\n",
    "            if vertex_tuple == edge_vertices:\n",
    "                edge_ids.append(edge_id)\n",
    "    return edge_ids\n",
    "\n",
    "get_edge_ids_from_vertices(vertices_edges_dict_inv, vertices_edges_dict)"
   ],
   "metadata": {
    "collapsed": false
   }
  },
  {
   "cell_type": "code",
   "execution_count": 646,
   "outputs": [],
   "source": [
    "# skels is a list of skeletons for each group such as the one in the cell above\n",
    "# [{'edges': {0, 12}, 'intersections': {15, 21, 24, 25, 28, 29}},\n",
    "# {'edges': {5, 34}, 'intersections': {31, 35}},\n",
    "# {'edges': {9, 10}, 'intersections': {14}}]\n",
    "# groups is a tuple of indices (i,j) of the groups which should be connected..it uses the skels list indices\n",
    "# [0,1]\n",
    "# setA = get all vertices from group i (use get_vertices_from_edge_ids)\n",
    "# setB = get all vertices from group j (use get_vertices_from_edge_ids)\n",
    "# create all possible pairs (crossing edges) where the first element is from setA and the second from setB\n",
    "# iterate over the crossing edges (refered here as e): (itertools)\n",
    "# now when we speak about corridors we mean corridors which are present in the skeletons in the skel list\n",
    "# these corridors are stored in the 'edges' key of a given skeleton\n",
    "# if the crossing_edge e intersects some room or corridor from some other group than i or j then skip this edge (other groups are present in skels list)\n",
    "# intA = get intersection between the crossing edge e and anything (either room or chosen corridor) in group i\n",
    "# intB = same thing but for group j\n",
    "# if both intA and intB are not empty then skip this crossing edge\n",
    "# else return this edge"
   ],
   "metadata": {
    "collapsed": false
   }
  },
  {
   "cell_type": "code",
   "execution_count": 647,
   "metadata": {},
   "outputs": [
    {
     "data": {
      "text/plain": "[0, 1, 2]"
     },
     "execution_count": 647,
     "metadata": {},
     "output_type": "execute_result"
    }
   ],
   "source": [
    "groups_lst = []\n",
    "def get_groups(skels):\n",
    "    groups_lst = [i for i in range(len(skels))]\n",
    "    return groups_lst\n",
    "get_groups(skels)"
   ]
  },
  {
   "cell_type": "code",
   "execution_count": 648,
   "outputs": [
    {
     "name": "stdout",
     "output_type": "stream",
     "text": [
      "[(0, 2), (0, 4), (0, 6), (1, 2), (1, 4), (1, 6), (3, 2), (3, 4), (3, 6)]\n"
     ]
    }
   ],
   "source": [
    "groups_to_connect = (0,1)\n",
    "def get_crossing_edges(skels, groups_to_connect):\n",
    "    i, j = groups_to_connect\n",
    "\n",
    "    setA = get_vertices_from_edge_ids(vertices_edges_dict_inv, skels[i])\n",
    "    setB = get_vertices_from_edge_ids(vertices_edges_dict_inv, skels[j])\n",
    "\n",
    "    setA_vertices = set([vertex for edge in setA.values() for vertex in edge])\n",
    "    setB_vertices = set([vertex for edge in setB.values() for vertex in edge])\n",
    "\n",
    "    crossing_edges = list(itertools.product(setA_vertices, setB_vertices))\n",
    "    return crossing_edges\n",
    "\n",
    "crossing_edges = get_crossing_edges(skels, groups_to_connect)\n",
    "print(crossing_edges)"
   ],
   "metadata": {
    "collapsed": false
   }
  },
  {
   "cell_type": "code",
   "execution_count": 653,
   "outputs": [
    {
     "data": {
      "text/plain": "17"
     },
     "execution_count": 653,
     "metadata": {},
     "output_type": "execute_result"
    }
   ],
   "source": [
    "import itertools\n",
    "#returns edge id\n",
    "def get_edges_from_skels(crossing_edges, groups_to_connect):\n",
    "    i,j = groups_to_connect\n",
    "    edge_ids = get_edge_ids_from_vertices(crossing_edges, vertices_edges_dict_inv)\n",
    "    for e in edge_ids:\n",
    "        skip = False\n",
    "        for g in range(len(skels)):\n",
    "            if g not in (i, j):\n",
    "                if e in skels[g]['edges']:\n",
    "                    skip = True\n",
    "                    break\n",
    "        if skip:\n",
    "            continue\n",
    "        intA = e in skels[i]['intersections'] or e in skels[i]['edges']\n",
    "        intB = e in skels[j]['intersections'] or e in skels[j]['edges']\n",
    "        if not(intA == False and intB == False):\n",
    "            continue\n",
    "        else:\n",
    "            return e\n",
    "\n",
    "get_edges_from_skels(crossing_edges, groups_to_connect)"
   ],
   "metadata": {
    "collapsed": false
   }
  },
  {
   "cell_type": "code",
   "execution_count": 650,
   "metadata": {},
   "outputs": [
    {
     "name": "stdout",
     "output_type": "stream",
     "text": [
      "(5, 6)\n",
      "##############################\n",
      "#    #########################\n",
      "#    #########################\n",
      "#    #########################\n",
      "#      #######################\n",
      "#    # #######################\n",
      "#    # #######################\n",
      "###### #######################\n",
      "#    # #######################\n",
      "#    # ###              ######\n",
      "#    # ###              ######\n",
      "#    #   #              ######\n",
      "#    #   #              ######\n",
      "######   #              ######\n",
      "#    #########################\n",
      "#    #   #####################\n",
      "#    #   #####################\n",
      "#    #   #####################\n",
      "#    #   #####################\n",
      "#    #   #####################\n",
      "#    #   #####################\n",
      "######   #####################\n",
      "######   #              ######\n",
      "##########              ######\n",
      "######   #              ######\n",
      "######   #              ######\n",
      "######   #              #    #\n",
      "######   #              #    #\n",
      "######   #              #    #\n",
      "##############################\n",
      "\n"
     ]
    }
   ],
   "source": [
    "ix = 14\n",
    "print(paths_lst[ix][0])\n",
    "walkable_points1 = set(list(walkable_points) + list(map(toL,paths_lst[ix][1])))\n",
    "print(create_string(walkable_points1))"
   ]
  },
  {
   "cell_type": "code",
   "execution_count": 651,
   "metadata": {
    "collapsed": true,
    "jupyter": {
     "outputs_hidden": true
    }
   },
   "outputs": [
    {
     "data": {
      "text/plain": "[((0, 1),\n  [(25, 17),\n   (25, 18),\n   (25, 19),\n   (25, 20),\n   (25, 21),\n   (25, 22),\n   (25, 23),\n   (25, 24),\n   (25, 25),\n   (25, 26),\n   (25, 27),\n   (26, 27),\n   (27, 27)]),\n ((0, 7),\n  [(25, 17),\n   (24, 17),\n   (23, 17),\n   (22, 17),\n   (21, 17),\n   (21, 16),\n   (21, 15),\n   (21, 14),\n   (21, 13),\n   (20, 13),\n   (19, 13),\n   (19, 12),\n   (19, 11),\n   (19, 10),\n   (19, 9),\n   (19, 8),\n   (19, 7)]),\n ((0, 8),\n  [(25, 17),\n   (25, 16),\n   (25, 15),\n   (25, 14),\n   (25, 13),\n   (25, 12),\n   (25, 11),\n   (25, 10),\n   (25, 9),\n   (25, 8),\n   (25, 7),\n   (26, 7)]),\n ((2, 4),\n  [(10, 3), (11, 3), (12, 3), (13, 3), (14, 3), (15, 3), (16, 3), (17, 3)]),\n ((2, 5),\n  [(10, 3),\n   (9, 3),\n   (8, 3),\n   (8, 4),\n   (8, 5),\n   (9, 5),\n   (10, 5),\n   (10, 6),\n   (10, 7),\n   (11, 7),\n   (12, 7)]),\n ((2, 6), [(10, 3), (9, 3), (8, 3), (7, 3), (6, 3), (5, 3), (4, 3)]),\n ((3, 5),\n  [(11, 17),\n   (11, 16),\n   (11, 15),\n   (11, 14),\n   (11, 13),\n   (11, 12),\n   (11, 11),\n   (11, 10),\n   (11, 9),\n   (11, 8),\n   (11, 7),\n   (12, 7)]),\n ((4, 7), [(17, 3), (18, 3), (19, 3), (19, 4), (19, 5), (19, 6), (19, 7)]),\n ((5, 7),\n  [(12, 7),\n   (12, 6),\n   (13, 6),\n   (14, 6),\n   (14, 7),\n   (15, 7),\n   (16, 7),\n   (17, 7),\n   (18, 7),\n   (19, 7)]),\n ((7, 8),\n  [(19, 7), (20, 7), (21, 7), (22, 7), (23, 7), (24, 7), (25, 7), (26, 7)]),\n ((4, 5),\n  [(17, 3),\n   (16, 3),\n   (15, 3),\n   (14, 3),\n   (13, 3),\n   (12, 3),\n   (12, 4),\n   (12, 5),\n   (12, 6),\n   (12, 7)]),\n ((3, 7),\n  [(11, 17),\n   (11, 16),\n   (11, 15),\n   (11, 14),\n   (11, 13),\n   (11, 12),\n   (11, 11),\n   (11, 10),\n   (11, 9),\n   (12, 9),\n   (13, 9),\n   (14, 9),\n   (14, 8),\n   (14, 7),\n   (15, 7),\n   (16, 7),\n   (17, 7),\n   (18, 7),\n   (19, 7)]),\n ((2, 7),\n  [(10, 3),\n   (9, 3),\n   (8, 3),\n   (8, 4),\n   (8, 5),\n   (7, 5),\n   (6, 5),\n   (6, 6),\n   (6, 7),\n   (6, 8),\n   (6, 9),\n   (6, 10),\n   (6, 11),\n   (6, 12),\n   (6, 13),\n   (6, 14),\n   (6, 15),\n   (6, 16),\n   (6, 17),\n   (6, 18),\n   (6, 19),\n   (6, 20),\n   (6, 21),\n   (6, 22),\n   (6, 23),\n   (7, 23),\n   (7, 24),\n   (8, 24),\n   (9, 24),\n   (10, 24),\n   (11, 24),\n   (12, 24),\n   (13, 24),\n   (13, 23),\n   (14, 23),\n   (14, 22),\n   (14, 21),\n   (14, 20),\n   (14, 19),\n   (14, 18),\n   (14, 17),\n   (14, 16),\n   (14, 15),\n   (14, 14),\n   (14, 13),\n   (15, 13),\n   (16, 13),\n   (17, 13),\n   (18, 13),\n   (19, 13),\n   (19, 12),\n   (19, 11),\n   (19, 10),\n   (19, 9),\n   (19, 8),\n   (19, 7)]),\n ((4, 8),\n  [(17, 3),\n   (17, 2),\n   (18, 2),\n   (19, 2),\n   (20, 2),\n   (21, 2),\n   (22, 2),\n   (23, 2),\n   (23, 3),\n   (23, 4),\n   (23, 5),\n   (23, 6),\n   (23, 7),\n   (24, 7),\n   (25, 7),\n   (26, 7)]),\n ((5, 6),\n  [(12, 7),\n   (11, 7),\n   (10, 7),\n   (10, 6),\n   (10, 5),\n   (9, 5),\n   (8, 5),\n   (7, 5),\n   (6, 5),\n   (5, 5),\n   (4, 5),\n   (3, 5),\n   (3, 4),\n   (3, 3),\n   (4, 3)]),\n ((2, 3),\n  [(10, 3),\n   (9, 3),\n   (8, 3),\n   (8, 4),\n   (8, 5),\n   (7, 5),\n   (6, 5),\n   (6, 6),\n   (6, 7),\n   (6, 8),\n   (6, 9),\n   (6, 10),\n   (6, 11),\n   (6, 12),\n   (6, 13),\n   (6, 14),\n   (7, 14),\n   (8, 14),\n   (8, 15),\n   (8, 16),\n   (8, 17),\n   (9, 17),\n   (10, 17),\n   (11, 17)]),\n ((3, 4),\n  [(11, 17),\n   (11, 16),\n   (11, 15),\n   (11, 14),\n   (11, 13),\n   (11, 12),\n   (11, 11),\n   (11, 10),\n   (11, 9),\n   (12, 9),\n   (13, 9),\n   (14, 9),\n   (14, 8),\n   (14, 7),\n   (14, 6),\n   (14, 5),\n   (15, 5),\n   (16, 5),\n   (17, 5),\n   (18, 5),\n   (19, 5),\n   (19, 4),\n   (19, 3),\n   (18, 3),\n   (17, 3)]),\n ((0, 4),\n  [(25, 17),\n   (24, 17),\n   (23, 17),\n   (22, 17),\n   (21, 17),\n   (21, 16),\n   (21, 15),\n   (21, 14),\n   (21, 13),\n   (20, 13),\n   (19, 13),\n   (19, 12),\n   (19, 11),\n   (19, 10),\n   (19, 9),\n   (19, 8),\n   (19, 7),\n   (19, 6),\n   (19, 5),\n   (19, 4),\n   (19, 3),\n   (18, 3),\n   (17, 3)]),\n ((3, 6),\n  [(11, 17),\n   (10, 17),\n   (9, 17),\n   (8, 17),\n   (8, 16),\n   (8, 15),\n   (8, 14),\n   (7, 14),\n   (6, 14),\n   (6, 13),\n   (6, 12),\n   (6, 11),\n   (6, 10),\n   (6, 9),\n   (6, 8),\n   (6, 7),\n   (6, 6),\n   (6, 5),\n   (5, 5),\n   (4, 5),\n   (3, 5),\n   (3, 4),\n   (3, 3),\n   (4, 3)]),\n ((4, 6),\n  [(17, 3),\n   (16, 3),\n   (15, 3),\n   (14, 3),\n   (13, 3),\n   (12, 3),\n   (11, 3),\n   (10, 3),\n   (9, 3),\n   (8, 3),\n   (7, 3),\n   (6, 3),\n   (5, 3),\n   (4, 3)]),\n ((0, 3),\n  [(25, 17),\n   (24, 17),\n   (23, 17),\n   (22, 17),\n   (21, 17),\n   (21, 18),\n   (20, 18),\n   (19, 18),\n   (18, 18),\n   (17, 18),\n   (16, 18),\n   (15, 18),\n   (14, 18),\n   (13, 18),\n   (12, 18),\n   (12, 17),\n   (11, 17)]),\n ((0, 5),\n  [(25, 17),\n   (24, 17),\n   (23, 17),\n   (22, 17),\n   (21, 17),\n   (21, 18),\n   (20, 18),\n   (19, 18),\n   (18, 18),\n   (17, 18),\n   (16, 18),\n   (15, 18),\n   (14, 18),\n   (14, 19),\n   (14, 20),\n   (14, 21),\n   (14, 22),\n   (14, 23),\n   (13, 23),\n   (13, 24),\n   (12, 24),\n   (11, 24),\n   (10, 24),\n   (9, 24),\n   (8, 24),\n   (7, 24),\n   (7, 23),\n   (6, 23),\n   (6, 22),\n   (6, 21),\n   (6, 20),\n   (6, 19),\n   (6, 18),\n   (6, 17),\n   (6, 16),\n   (6, 15),\n   (6, 14),\n   (6, 13),\n   (6, 12),\n   (6, 11),\n   (6, 10),\n   (6, 9),\n   (6, 8),\n   (6, 7),\n   (6, 6),\n   (6, 5),\n   (7, 5),\n   (8, 5),\n   (9, 5),\n   (10, 5),\n   (10, 6),\n   (10, 7),\n   (11, 7),\n   (12, 7)]),\n ((6, 7),\n  [(4, 3),\n   (3, 3),\n   (3, 4),\n   (3, 5),\n   (4, 5),\n   (5, 5),\n   (6, 5),\n   (6, 6),\n   (6, 7),\n   (6, 8),\n   (6, 9),\n   (6, 10),\n   (6, 11),\n   (6, 12),\n   (6, 13),\n   (6, 14),\n   (6, 15),\n   (6, 16),\n   (6, 17),\n   (6, 18),\n   (6, 19),\n   (6, 20),\n   (6, 21),\n   (6, 22),\n   (6, 23),\n   (7, 23),\n   (7, 24),\n   (8, 24),\n   (9, 24),\n   (10, 24),\n   (11, 24),\n   (12, 24),\n   (13, 24),\n   (13, 23),\n   (14, 23),\n   (14, 22),\n   (14, 21),\n   (14, 20),\n   (14, 19),\n   (14, 18),\n   (14, 17),\n   (14, 16),\n   (14, 15),\n   (14, 14),\n   (14, 13),\n   (15, 13),\n   (16, 13),\n   (17, 13),\n   (18, 13),\n   (19, 13),\n   (19, 12),\n   (19, 11),\n   (19, 10),\n   (19, 9),\n   (19, 8),\n   (19, 7)]),\n ((5, 8),\n  [(12, 7),\n   (12, 6),\n   (13, 6),\n   (14, 6),\n   (15, 6),\n   (16, 6),\n   (17, 6),\n   (18, 6),\n   (19, 6),\n   (20, 6),\n   (20, 7),\n   (21, 7),\n   (22, 7),\n   (23, 7),\n   (24, 7),\n   (25, 7),\n   (26, 7)]),\n ((3, 8),\n  [(11, 17),\n   (11, 16),\n   (11, 15),\n   (11, 14),\n   (11, 13),\n   (11, 12),\n   (11, 11),\n   (11, 10),\n   (11, 9),\n   (12, 9),\n   (13, 9),\n   (14, 9),\n   (14, 8),\n   (14, 7),\n   (15, 7),\n   (16, 7),\n   (17, 7),\n   (18, 7),\n   (19, 7),\n   (20, 7),\n   (21, 7),\n   (22, 7),\n   (23, 7),\n   (24, 7),\n   (25, 7),\n   (26, 7)]),\n ((0, 2),\n  [(25, 17),\n   (24, 17),\n   (23, 17),\n   (22, 17),\n   (21, 17),\n   (21, 18),\n   (20, 18),\n   (19, 18),\n   (18, 18),\n   (17, 18),\n   (16, 18),\n   (15, 18),\n   (14, 18),\n   (14, 19),\n   (14, 20),\n   (14, 21),\n   (14, 22),\n   (14, 23),\n   (13, 23),\n   (13, 24),\n   (12, 24),\n   (11, 24),\n   (10, 24),\n   (9, 24),\n   (8, 24),\n   (7, 24),\n   (7, 23),\n   (6, 23),\n   (6, 22),\n   (6, 21),\n   (6, 20),\n   (6, 19),\n   (6, 18),\n   (6, 17),\n   (6, 16),\n   (6, 15),\n   (6, 14),\n   (6, 13),\n   (6, 12),\n   (6, 11),\n   (6, 10),\n   (6, 9),\n   (6, 8),\n   (6, 7),\n   (6, 6),\n   (6, 5),\n   (7, 5),\n   (8, 5),\n   (8, 4),\n   (8, 3),\n   (9, 3),\n   (10, 3)]),\n ((2, 8),\n  [(10, 3),\n   (10, 2),\n   (11, 2),\n   (12, 2),\n   (13, 2),\n   (14, 2),\n   (15, 2),\n   (16, 2),\n   (17, 2),\n   (18, 2),\n   (19, 2),\n   (20, 2),\n   (21, 2),\n   (22, 2),\n   (23, 2),\n   (23, 3),\n   (23, 4),\n   (23, 5),\n   (23, 6),\n   (23, 7),\n   (24, 7),\n   (25, 7),\n   (26, 7)]),\n ((1, 3),\n  [(27, 27),\n   (26, 27),\n   (25, 27),\n   (25, 26),\n   (25, 25),\n   (25, 24),\n   (24, 24),\n   (23, 24),\n   (22, 24),\n   (21, 24),\n   (20, 24),\n   (19, 24),\n   (18, 24),\n   (17, 24),\n   (16, 24),\n   (16, 23),\n   (16, 22),\n   (16, 21),\n   (16, 20),\n   (15, 20),\n   (14, 20),\n   (14, 19),\n   (14, 18),\n   (13, 18),\n   (12, 18),\n   (12, 17),\n   (11, 17)]),\n ((1, 8),\n  [(27, 27),\n   (27, 26),\n   (27, 25),\n   (27, 24),\n   (27, 23),\n   (27, 22),\n   (27, 21),\n   (27, 20),\n   (27, 19),\n   (27, 18),\n   (27, 17),\n   (27, 16),\n   (27, 15),\n   (27, 14),\n   (27, 13),\n   (27, 12),\n   (27, 11),\n   (27, 10),\n   (27, 9),\n   (27, 8),\n   (27, 7),\n   (26, 7)]),\n ((0, 6),\n  [(25, 17),\n   (24, 17),\n   (23, 17),\n   (22, 17),\n   (21, 17),\n   (21, 18),\n   (20, 18),\n   (19, 18),\n   (18, 18),\n   (17, 18),\n   (16, 18),\n   (15, 18),\n   (14, 18),\n   (14, 19),\n   (14, 20),\n   (14, 21),\n   (14, 22),\n   (14, 23),\n   (13, 23),\n   (13, 24),\n   (12, 24),\n   (11, 24),\n   (10, 24),\n   (9, 24),\n   (8, 24),\n   (7, 24),\n   (7, 23),\n   (6, 23),\n   (6, 22),\n   (6, 21),\n   (6, 20),\n   (6, 19),\n   (6, 18),\n   (6, 17),\n   (6, 16),\n   (6, 15),\n   (6, 14),\n   (6, 13),\n   (6, 12),\n   (6, 11),\n   (6, 10),\n   (6, 9),\n   (6, 8),\n   (6, 7),\n   (6, 6),\n   (6, 5),\n   (5, 5),\n   (4, 5),\n   (3, 5),\n   (3, 4),\n   (3, 3),\n   (4, 3)]),\n ((1, 7),\n  [(27, 27),\n   (26, 27),\n   (25, 27),\n   (25, 26),\n   (25, 25),\n   (25, 24),\n   (25, 23),\n   (25, 22),\n   (24, 22),\n   (23, 22),\n   (22, 22),\n   (21, 22),\n   (21, 21),\n   (21, 20),\n   (21, 19),\n   (21, 18),\n   (21, 17),\n   (21, 16),\n   (21, 15),\n   (21, 14),\n   (21, 13),\n   (20, 13),\n   (19, 13),\n   (19, 12),\n   (19, 11),\n   (19, 10),\n   (19, 9),\n   (19, 8),\n   (19, 7)]),\n ((6, 8),\n  [(4, 3),\n   (3, 3),\n   (3, 4),\n   (3, 5),\n   (4, 5),\n   (5, 5),\n   (6, 5),\n   (6, 6),\n   (6, 7),\n   (6, 8),\n   (6, 9),\n   (6, 10),\n   (6, 11),\n   (6, 12),\n   (6, 13),\n   (6, 14),\n   (6, 15),\n   (6, 16),\n   (6, 17),\n   (6, 18),\n   (6, 19),\n   (6, 20),\n   (6, 21),\n   (6, 22),\n   (6, 23),\n   (7, 23),\n   (7, 24),\n   (8, 24),\n   (9, 24),\n   (10, 24),\n   (11, 24),\n   (12, 24),\n   (13, 24),\n   (13, 23),\n   (14, 23),\n   (14, 22),\n   (14, 21),\n   (14, 20),\n   (14, 19),\n   (14, 18),\n   (15, 18),\n   (16, 18),\n   (17, 18),\n   (18, 18),\n   (19, 18),\n   (20, 18),\n   (21, 18),\n   (21, 17),\n   (21, 16),\n   (21, 15),\n   (21, 14),\n   (21, 13),\n   (21, 12),\n   (21, 11),\n   (21, 10),\n   (21, 9),\n   (22, 9),\n   (23, 9),\n   (24, 9),\n   (25, 9),\n   (25, 8),\n   (25, 7),\n   (26, 7)]),\n ((1, 5),\n  [(27, 27),\n   (26, 27),\n   (25, 27),\n   (25, 26),\n   (25, 25),\n   (25, 24),\n   (24, 24),\n   (23, 24),\n   (22, 24),\n   (21, 24),\n   (20, 24),\n   (19, 24),\n   (18, 24),\n   (17, 24),\n   (16, 24),\n   (16, 23),\n   (16, 22),\n   (16, 21),\n   (16, 20),\n   (15, 20),\n   (14, 20),\n   (14, 21),\n   (14, 22),\n   (14, 23),\n   (13, 23),\n   (13, 24),\n   (12, 24),\n   (11, 24),\n   (10, 24),\n   (9, 24),\n   (8, 24),\n   (7, 24),\n   (7, 23),\n   (6, 23),\n   (6, 22),\n   (6, 21),\n   (6, 20),\n   (6, 19),\n   (6, 18),\n   (6, 17),\n   (6, 16),\n   (6, 15),\n   (6, 14),\n   (6, 13),\n   (6, 12),\n   (6, 11),\n   (6, 10),\n   (6, 9),\n   (6, 8),\n   (6, 7),\n   (6, 6),\n   (6, 5),\n   (7, 5),\n   (8, 5),\n   (9, 5),\n   (10, 5),\n   (10, 6),\n   (10, 7),\n   (11, 7),\n   (12, 7)]),\n ((1, 4),\n  [(27, 27),\n   (26, 27),\n   (25, 27),\n   (25, 26),\n   (25, 25),\n   (25, 24),\n   (25, 23),\n   (25, 22),\n   (24, 22),\n   (23, 22),\n   (22, 22),\n   (21, 22),\n   (21, 21),\n   (21, 20),\n   (21, 19),\n   (21, 18),\n   (21, 17),\n   (21, 16),\n   (21, 15),\n   (21, 14),\n   (21, 13),\n   (20, 13),\n   (19, 13),\n   (19, 12),\n   (19, 11),\n   (19, 10),\n   (19, 9),\n   (19, 8),\n   (19, 7),\n   (19, 6),\n   (19, 5),\n   (19, 4),\n   (19, 3),\n   (18, 3),\n   (17, 3)]),\n ((1, 2),\n  [(27, 27),\n   (26, 27),\n   (25, 27),\n   (25, 26),\n   (25, 25),\n   (25, 24),\n   (24, 24),\n   (23, 24),\n   (22, 24),\n   (21, 24),\n   (20, 24),\n   (19, 24),\n   (18, 24),\n   (17, 24),\n   (16, 24),\n   (16, 23),\n   (16, 22),\n   (16, 21),\n   (16, 20),\n   (15, 20),\n   (14, 20),\n   (14, 21),\n   (14, 22),\n   (14, 23),\n   (13, 23),\n   (13, 24),\n   (12, 24),\n   (11, 24),\n   (10, 24),\n   (9, 24),\n   (8, 24),\n   (7, 24),\n   (7, 23),\n   (6, 23),\n   (6, 22),\n   (6, 21),\n   (6, 20),\n   (6, 19),\n   (6, 18),\n   (6, 17),\n   (6, 16),\n   (6, 15),\n   (6, 14),\n   (6, 13),\n   (6, 12),\n   (6, 11),\n   (6, 10),\n   (6, 9),\n   (6, 8),\n   (6, 7),\n   (6, 6),\n   (6, 5),\n   (7, 5),\n   (8, 5),\n   (8, 4),\n   (8, 3),\n   (9, 3),\n   (10, 3)]),\n ((1, 6),\n  [(27, 27),\n   (26, 27),\n   (25, 27),\n   (25, 26),\n   (25, 25),\n   (25, 24),\n   (24, 24),\n   (23, 24),\n   (22, 24),\n   (21, 24),\n   (20, 24),\n   (19, 24),\n   (18, 24),\n   (17, 24),\n   (16, 24),\n   (15, 24),\n   (15, 25),\n   (14, 25),\n   (13, 25),\n   (13, 26),\n   (12, 26),\n   (11, 26),\n   (10, 26),\n   (9, 26),\n   (8, 26),\n   (7, 26),\n   (7, 25),\n   (6, 25),\n   (6, 24),\n   (5, 24),\n   (5, 23),\n   (4, 23),\n   (4, 22),\n   (4, 21),\n   (4, 20),\n   (4, 19),\n   (4, 18),\n   (4, 17),\n   (4, 16),\n   (4, 15),\n   (4, 14),\n   (4, 13),\n   (4, 12),\n   (4, 11),\n   (4, 10),\n   (4, 9),\n   (4, 8),\n   (4, 7),\n   (3, 7),\n   (3, 6),\n   (2, 6),\n   (2, 5),\n   (1, 5),\n   (1, 4),\n   (1, 3),\n   (2, 3),\n   (3, 3),\n   (4, 3)])]"
     },
     "execution_count": 651,
     "metadata": {},
     "output_type": "execute_result"
    }
   ],
   "source": [
    "paths_lst"
   ]
  },
  {
   "cell_type": "code",
   "execution_count": 651,
   "metadata": {},
   "outputs": [],
   "source": []
  }
 ],
 "metadata": {
  "kernelspec": {
   "display_name": "Python 3",
   "language": "python",
   "name": "python3"
  },
  "language_info": {
   "codemirror_mode": {
    "name": "ipython",
    "version": 3
   },
   "file_extension": ".py",
   "mimetype": "text/x-python",
   "name": "python",
   "nbconvert_exporter": "python",
   "pygments_lexer": "ipython3",
   "version": "3.7.6"
  }
 },
 "nbformat": 4,
 "nbformat_minor": 4
}
