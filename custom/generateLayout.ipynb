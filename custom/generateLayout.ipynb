{
 "cells": [
  {
   "cell_type": "code",
   "execution_count": 1,
   "metadata": {
    "pycharm": {
     "name": "#%%\n"
    }
   },
   "outputs": [],
   "source": [
    "import matplotlib.pyplot as plt"
   ]
  },
  {
   "cell_type": "code",
   "execution_count": 2,
   "metadata": {},
   "outputs": [],
   "source": [
    "%load_ext autoreload\n",
    "%autoreload 2\n",
    "from generateLayout import *"
   ]
  },
  {
   "cell_type": "code",
   "execution_count": 3,
   "metadata": {
    "collapsed": false,
    "jupyter": {
     "outputs_hidden": false
    },
    "pycharm": {
     "name": "#%%\n"
    }
   },
   "outputs": [],
   "source": [
    "num_columns = 4\n",
    "grid_size = 30\n",
    "min_room_size = 3\n",
    "roomspace = grid_size - (num_columns + 1)\n",
    "num_rooms = 9\n",
    "\n",
    "\n",
    "#divisions = get_divisions(roomspace, num_columns)\n",
    "#horizontal_split = list(random.choice(divisions))\n",
    "#vertical_splits = [list(random.choice(divisions)) for i in horizontal_split]\n",
    "#random.shuffle(horizontal_split)\n",
    "#for split in vertical_splits:\n",
    "#    random.shuffle(split)\n",
    "#horizontal_data = []\n",
    "#x_accum = 1\n",
    "#for part in horizontal_split:\n",
    "#    horizontal_data.append((x_accum,part))\n",
    "#    x_accum += part+1\n",
    "\n",
    "#vertical_data = []\n",
    "#for split in vertical_splits:\n",
    "#    y_accum = 1\n",
    "#    data = []\n",
    "#    for part in split:\n",
    "#        data.append((y_accum,part))\n",
    "#        y_accum += part+1\n",
    "#    vertical_data.append(data)\n",
    "divisions = get_divisions(roomspace, num_columns,min_room_size)\n",
    "walkable_points, chosen_rooms = get_choosen_rooms(divisions,min_room_size,num_rooms)\n"
   ]
  },
  {
   "cell_type": "code",
   "execution_count": 4,
   "metadata": {
    "pycharm": {
     "name": "#%%\n"
    }
   },
   "outputs": [
    {
     "name": "stdout",
     "output_type": "stream",
     "text": [
      "##############################\n",
      "###############   ############\n",
      "###############   ############\n",
      "###############   ############\n",
      "###############   ############\n",
      "###############   ############\n",
      "###############   ############\n",
      "###############   ############\n",
      "##############################\n",
      "###############   ############\n",
      "###############   ############\n",
      "###############   #          #\n",
      "#         #####   #          #\n",
      "#         #########          #\n",
      "#         #####   #          #\n",
      "###############   ############\n",
      "###############   #          #\n",
      "###########   #   #          #\n",
      "###########   #   #          #\n",
      "###########   #####          #\n",
      "###########   #   #          #\n",
      "###############   #          #\n",
      "###########   #   #          #\n",
      "###########   #   #          #\n",
      "###########   #   #          #\n",
      "###############   #          #\n",
      "###############   #          #\n",
      "###############   #          #\n",
      "###############   #          #\n",
      "##############################\n",
      "\n"
     ]
    }
   ],
   "source": [
    "print(create_string(walkable_points,grid_size))"
   ]
  },
  {
   "cell_type": "code",
   "execution_count": 5,
   "metadata": {
    "collapsed": false,
    "jupyter": {
     "outputs_hidden": false
    },
    "pycharm": {
     "name": "#%%\n"
    }
   },
   "outputs": [],
   "source": [
    "distances = {}\n",
    "for i,r1 in enumerate(chosen_rooms):\n",
    "    for j,r2 in enumerate(chosen_rooms):\n",
    "        if i<j:\n",
    "            distances[(i,j)]=get_distance(r1,r2)\n"
   ]
  },
  {
   "cell_type": "code",
   "execution_count": 6,
   "metadata": {
    "collapsed": false,
    "jupyter": {
     "outputs_hidden": false
    },
    "pycharm": {
     "name": "#%%\n"
    }
   },
   "outputs": [],
   "source": [
    "sorted_pairs=list(sorted(map(lambda x:(x[0],x[1]),distances.items()),key=lambda x:x[1]))"
   ]
  },
  {
   "cell_type": "code",
   "execution_count": 7,
   "metadata": {},
   "outputs": [],
   "source": [
    "G = get_grid_graph(grid_size,walkable_points,chosen_rooms)"
   ]
  },
  {
   "cell_type": "code",
   "execution_count": 8,
   "metadata": {
    "collapsed": false,
    "jupyter": {
     "outputs_hidden": false
    },
    "pycharm": {
     "name": "#%%\n"
    }
   },
   "outputs": [],
   "source": [
    "paths = get_paths(G,sorted_pairs,chosen_rooms,grid_size)\n"
   ]
  },
  {
   "cell_type": "code",
   "execution_count": 10,
   "metadata": {
    "pycharm": {
     "name": "#%%\n"
    }
   },
   "outputs": [],
   "source": [
    "paths_lst = [(k, v) for k, v in paths.items()]\n",
    "rooms_points  = get_room_points(chosen_rooms)\n",
    "\n",
    "room_G = get_rooms_graph(chosen_rooms,paths_lst,rooms_points)\n"
   ]
  },
  {
   "cell_type": "code",
   "execution_count": 11,
   "metadata": {
    "pycharm": {
     "name": "#%%\n"
    }
   },
   "outputs": [
    {
     "data": {
      "image/png": "[encoded data removed]",
      "text/plain": [
       "<Figure size 432x288 with 1 Axes>"
      ]
     },
     "metadata": {},
     "output_type": "display_data"
    }
   ],
   "source": [
    "nx.draw(room_G, with_labels=True)\n",
    "edgs=room_G.edges(data=True)"
   ]
  },
  {
   "cell_type": "code",
   "execution_count": 12,
   "metadata": {
    "collapsed": true,
    "jupyter": {
     "outputs_hidden": true
    },
    "pycharm": {
     "name": "#%%\n"
    }
   },
   "outputs": [
    {
     "name": "stdout",
     "output_type": "stream",
     "text": [
      "(0, 8, {'corridor_key': 0, 'crossed_corridors': [], 'crossed_rooms': []})\n",
      "(0, 4, {'corridor_key': 13, 'crossed_corridors': [28, 29], 'crossed_rooms': []})\n",
      "(0, 6, {'corridor_key': 23, 'crossed_corridors': [11, 14, 16, 20, 25, 31, 33], 'crossed_rooms': [8]})\n",
      "(0, 2, {'corridor_key': 24, 'crossed_corridors': [29, 34, 35], 'crossed_rooms': []})\n",
      "(0, 1, {'corridor_key': 28, 'crossed_corridors': [1, 7, 8, 13, 21, 22, 29, 30], 'crossed_rooms': [4]})\n",
      "(0, 3, {'corridor_key': 31, 'crossed_corridors': [16, 19, 20, 23, 33], 'crossed_rooms': [8]})\n",
      "(0, 7, {'corridor_key': 34, 'crossed_corridors': [24, 27, 29, 32, 35], 'crossed_rooms': [2]})\n",
      "(0, 5, {'corridor_key': 35, 'crossed_corridors': [6, 24, 26, 27, 29, 32, 34], 'crossed_rooms': [2]})\n",
      "(1, 4, {'corridor_key': 1, 'crossed_corridors': [21, 28], 'crossed_rooms': []})\n",
      "(1, 6, {'corridor_key': 2, 'crossed_corridors': [14, 17], 'crossed_rooms': []})\n",
      "(1, 7, {'corridor_key': 3, 'crossed_corridors': [18, 21], 'crossed_rooms': []})\n",
      "(1, 8, {'corridor_key': 14, 'crossed_corridors': [2, 5, 7, 10, 11, 15, 17, 19, 22, 23, 25, 30], 'crossed_rooms': [6]})\n",
      "(1, 3, {'corridor_key': 17, 'crossed_corridors': [2, 5, 7, 10, 11, 14, 15, 19, 22, 23, 25, 30], 'crossed_rooms': [6]})\n",
      "(1, 5, {'corridor_key': 18, 'crossed_corridors': [3, 6, 9, 10, 21, 25, 27, 34], 'crossed_rooms': [7]})\n",
      "(1, 2, {'corridor_key': 32, 'crossed_corridors': [27, 34], 'crossed_rooms': [7]})\n",
      "(2, 3, {'corridor_key': 12, 'crossed_corridors': [], 'crossed_rooms': []})\n",
      "(2, 6, {'corridor_key': 19, 'crossed_corridors': [16, 31, 33], 'crossed_rooms': []})\n",
      "(2, 8, {'corridor_key': 20, 'crossed_corridors': [], 'crossed_rooms': []})\n",
      "(2, 5, {'corridor_key': 26, 'crossed_corridors': [6, 35], 'crossed_rooms': []})\n",
      "(2, 7, {'corridor_key': 27, 'crossed_corridors': [32, 34], 'crossed_rooms': []})\n",
      "(2, 4, {'corridor_key': 29, 'crossed_corridors': [13, 24, 28, 34, 35], 'crossed_rooms': [0]})\n",
      "(3, 5, {'corridor_key': 4, 'crossed_corridors': [15, 30, 33], 'crossed_rooms': []})\n",
      "(3, 6, {'corridor_key': 5, 'crossed_corridors': [15, 17, 22, 30], 'crossed_rooms': []})\n",
      "(3, 7, {'corridor_key': 6, 'crossed_corridors': [26, 35], 'crossed_rooms': []})\n",
      "(3, 8, {'corridor_key': 16, 'crossed_corridors': [19, 31, 33], 'crossed_rooms': []})\n",
      "(3, 4, {'corridor_key': 22, 'crossed_corridors': [5, 7, 11, 14, 15, 17, 19, 23, 25, 30], 'crossed_rooms': [6]})\n",
      "(4, 6, {'corridor_key': 7, 'crossed_corridors': [22, 30], 'crossed_rooms': []})\n",
      "(4, 8, {'corridor_key': 8, 'crossed_corridors': [], 'crossed_rooms': []})\n",
      "(4, 7, {'corridor_key': 21, 'crossed_corridors': [1, 2, 3, 14, 17, 18, 28, 32], 'crossed_rooms': [1]})\n",
      "(4, 5, {'corridor_key': 30, 'crossed_corridors': [4, 5, 6, 7, 11, 12, 14, 15, 16, 17, 19, 22, 23, 25, 31, 33], 'crossed_rooms': [3, 6]})\n",
      "(5, 7, {'corridor_key': 9, 'crossed_corridors': [18], 'crossed_rooms': []})\n",
      "(5, 6, {'corridor_key': 15, 'crossed_corridors': [4, 5, 6, 12, 16, 17, 22, 30, 31, 33], 'crossed_rooms': [3]})\n",
      "(5, 8, {'corridor_key': 33, 'crossed_corridors': [4, 5, 6, 12, 15, 16, 17, 19, 22, 30, 31], 'crossed_rooms': [3]})\n",
      "(6, 7, {'corridor_key': 10, 'crossed_corridors': [], 'crossed_rooms': []})\n",
      "(6, 8, {'corridor_key': 11, 'crossed_corridors': [14, 23, 25], 'crossed_rooms': []})\n",
      "(7, 8, {'corridor_key': 25, 'crossed_corridors': [5, 11, 14, 15, 17, 19, 22, 23, 30], 'crossed_rooms': [6]})\n"
     ]
    }
   ],
   "source": [
    "for e in edgs:\n",
    "    print(e)"
   ]
  },
  {
   "cell_type": "code",
   "execution_count": 78,
   "metadata": {
    "pycharm": {
     "name": "#%%\n"
    }
   },
   "outputs": [],
   "source": [
    "\n",
    "available_indices = set(range(num_rooms))\n",
    "\n"
   ]
  },
  {
   "cell_type": "code",
   "execution_count": 19,
   "metadata": {
    "pycharm": {
     "name": "#%%\n"
    }
   },
   "outputs": [],
   "source": []
  },
  {
   "cell_type": "code",
   "execution_count": 20,
   "metadata": {
    "pycharm": {
     "name": "#%%\n"
    }
   },
   "outputs": [],
   "source": []
  },
  {
   "cell_type": "code",
   "execution_count": 85,
   "metadata": {
    "pycharm": {
     "name": "#%%\n"
    }
   },
   "outputs": [
    {
     "name": "stdout",
     "output_type": "stream",
     "text": [
      "0 :::: [{'edges': {0, 22}, 'intersections': {0, 32, 34, 35, 13, 15, 21, 22, 23, 26, 28, 29}}, {'edges': {25, 14}, 'intersections': {34, 12, 14, 17, 21, 24, 25, 27, 30}}, {'edges': {4, 6}, 'intersections': {32, 33, 10, 11, 18, 20}}]\n"
     ]
    }
   ],
   "source": [
    "splits_it = iterate_G(available_indices,[3,3,3],0,room_G)\n",
    "found = False\n",
    "for i,split in enumerate(splits_it):\n",
    "    skels_it = get_possible_split(split)\n",
    "    for skels in skels_it:\n",
    "        if len(skels)==3:\n",
    "            found = True\n",
    "            print(i,'::::',skels)\n",
    "            break\n",
    "    #if i>100:\n",
    "    if found==True:\n",
    "        break"
   ]
  },
  {
   "cell_type": "code",
   "execution_count": 87,
   "metadata": {
    "pycharm": {
     "name": "#%%\n"
    }
   },
   "outputs": [
    {
     "data": {
      "text/plain": [
       "[{'edges': {0, 22},\n",
       "  'intersections': {0, 13, 15, 21, 22, 23, 26, 28, 29, 32, 34, 35}},\n",
       " {'edges': {14, 25}, 'intersections': {12, 14, 17, 21, 24, 25, 27, 30, 34}},\n",
       " {'edges': {4, 6}, 'intersections': {10, 11, 18, 20, 32, 33}}]"
      ]
     },
     "execution_count": 87,
     "metadata": {},
     "output_type": "execute_result"
    }
   ],
   "source": [
    "skels"
   ]
  },
  {
   "cell_type": "code",
   "execution_count": 88,
   "metadata": {
    "collapsed": false,
    "jupyter": {
     "outputs_hidden": false
    },
    "pycharm": {
     "name": "#%%\n"
    }
   },
   "outputs": [],
   "source": [
    "vertices_edges_dict = nx.get_edge_attributes(room_G,'corridor_key')\n",
    "vertices_edges_dict_inv = {v: k for k, v in vertices_edges_dict.items()}"
   ]
  },
  {
   "cell_type": "code",
   "execution_count": 89,
   "metadata": {
    "collapsed": false,
    "jupyter": {
     "outputs_hidden": false
    },
    "pycharm": {
     "name": "#%%\n"
    }
   },
   "outputs": [
    {
     "name": "stdout",
     "output_type": "stream",
     "text": [
      "{(0, 5): 0, (0, 7): 1, (0, 8): 2, (0, 2): 12, (0, 6): 16, (0, 4): 20, (0, 1): 22, (0, 3): 23, (1, 6): 3, (1, 5): 13, (1, 2): 27, (1, 7): 28, (1, 8): 29, (1, 3): 31, (1, 4): 33, (2, 8): 14, (2, 6): 17, (2, 5): 21, (2, 7): 24, (2, 4): 30, (2, 3): 34, (3, 4): 4, (3, 5): 5, (3, 7): 11, (3, 8): 18, (3, 6): 35, (4, 7): 6, (4, 8): 7, (4, 5): 10, (4, 6): 32, (5, 7): 8, (5, 6): 15, (5, 8): 19, (6, 8): 25, (6, 7): 26, (7, 8): 9}\n"
     ]
    }
   ],
   "source": [
    "print(vertices_edges_dict)"
   ]
  },
  {
   "cell_type": "code",
   "execution_count": 119,
   "metadata": {},
   "outputs": [],
   "source": [
    "%autoreload 2\n",
    "from generateLayout import *"
   ]
  },
  {
   "cell_type": "code",
   "execution_count": 100,
   "metadata": {
    "collapsed": true,
    "jupyter": {
     "outputs_hidden": true
    },
    "pycharm": {
     "name": "#%%\n"
    }
   },
   "outputs": [
    {
     "data": {
      "text/plain": [
       "{(14, 6),\n",
       " (14, 7),\n",
       " (14, 8),\n",
       " (14, 9),\n",
       " (15, 6),\n",
       " (15, 7),\n",
       " (15, 8),\n",
       " (15, 9),\n",
       " (16, 6),\n",
       " (16, 7),\n",
       " (16, 8),\n",
       " (16, 9),\n",
       " (17, 6),\n",
       " (17, 7),\n",
       " (17, 8),\n",
       " (17, 9),\n",
       " (18, 6),\n",
       " (18, 7),\n",
       " (18, 8),\n",
       " (18, 9),\n",
       " (19, 9),\n",
       " (20, 6),\n",
       " (20, 7),\n",
       " (20, 8),\n",
       " (20, 9),\n",
       " (21, 6),\n",
       " (21, 7),\n",
       " (21, 8),\n",
       " (21, 9),\n",
       " (21, 11),\n",
       " (21, 12),\n",
       " (21, 13),\n",
       " (21, 14),\n",
       " (22, 6),\n",
       " (22, 7),\n",
       " (22, 8),\n",
       " (22, 9),\n",
       " (22, 11),\n",
       " (22, 12),\n",
       " (22, 13),\n",
       " (22, 14),\n",
       " (23, 6),\n",
       " (23, 7),\n",
       " (23, 8),\n",
       " (23, 9),\n",
       " (23, 11),\n",
       " (23, 12),\n",
       " (23, 13),\n",
       " (23, 14),\n",
       " (24, 6),\n",
       " (24, 7),\n",
       " (24, 8),\n",
       " (24, 9),\n",
       " (24, 11),\n",
       " (24, 12),\n",
       " (24, 13),\n",
       " (24, 14),\n",
       " (25, 6),\n",
       " (25, 7),\n",
       " (25, 8),\n",
       " (25, 9),\n",
       " (25, 10),\n",
       " (25, 11),\n",
       " (25, 12),\n",
       " (25, 13),\n",
       " (25, 14),\n",
       " (26, 6),\n",
       " (26, 7),\n",
       " (26, 8),\n",
       " (26, 9),\n",
       " (26, 11),\n",
       " (26, 12),\n",
       " (26, 13),\n",
       " (26, 14),\n",
       " (27, 6),\n",
       " (27, 7),\n",
       " (27, 8),\n",
       " (27, 9),\n",
       " (27, 11),\n",
       " (27, 12),\n",
       " (27, 13),\n",
       " (27, 14)}"
      ]
     },
     "execution_count": 100,
     "metadata": {},
     "output_type": "execute_result"
    }
   ],
   "source": [
    "get_points_from_group(2, skels, vertices_edges_dict_inv,room_G,paths_lst)"
   ]
  },
  {
   "cell_type": "code",
   "execution_count": 103,
   "metadata": {
    "collapsed": true,
    "jupyter": {
     "outputs_hidden": true
    },
    "pycharm": {
     "name": "#%%\n"
    }
   },
   "outputs": [
    {
     "data": {
      "text/plain": [
       "[(0, 16),\n",
       " (0, 17),\n",
       " (0, 18),\n",
       " (0, 19),\n",
       " (0, 20),\n",
       " (0, 21),\n",
       " (0, 22),\n",
       " (0, 23),\n",
       " (0, 24),\n",
       " (0, 25),\n",
       " (0, 26),\n",
       " (0, 27),\n",
       " (1, 16),\n",
       " (1, 17),\n",
       " (1, 18),\n",
       " (1, 19),\n",
       " (1, 20),\n",
       " (1, 21),\n",
       " (1, 22),\n",
       " (1, 23),\n",
       " (1, 24),\n",
       " (1, 25),\n",
       " (1, 26),\n",
       " (1, 27),\n",
       " (2, 16),\n",
       " (2, 17),\n",
       " (2, 18),\n",
       " (2, 19),\n",
       " (2, 20),\n",
       " (2, 21),\n",
       " (2, 22),\n",
       " (2, 23),\n",
       " (2, 24),\n",
       " (2, 25),\n",
       " (2, 26),\n",
       " (2, 27),\n",
       " (3, 16),\n",
       " (3, 17),\n",
       " (3, 18),\n",
       " (3, 19),\n",
       " (3, 20),\n",
       " (3, 21),\n",
       " (3, 22),\n",
       " (3, 23),\n",
       " (3, 24),\n",
       " (3, 25),\n",
       " (3, 26),\n",
       " (3, 27),\n",
       " (4, 16),\n",
       " (4, 17),\n",
       " (4, 18),\n",
       " (4, 19),\n",
       " (4, 20),\n",
       " (4, 21),\n",
       " (4, 22),\n",
       " (4, 23),\n",
       " (4, 24),\n",
       " (4, 25),\n",
       " (4, 26),\n",
       " (4, 27)]"
      ]
     },
     "execution_count": 103,
     "metadata": {},
     "output_type": "execute_result"
    }
   ],
   "source": [
    "\n",
    "get_points_from_room(1,room_G)"
   ]
  },
  {
   "cell_type": "code",
   "execution_count": 692,
   "metadata": {
    "collapsed": false,
    "jupyter": {
     "outputs_hidden": false
    },
    "pycharm": {
     "name": "#%%\n"
    }
   },
   "outputs": [],
   "source": [
    "# skels is a list of skeletons for each group such as the one in the cell above\n",
    "# [{'edges': {0, 12}, 'intersections': {15, 21, 24, 25, 28, 29}},\n",
    "# {'edges': {5, 34}, 'intersections': {31, 35}},\n",
    "# {'edges': {9, 10}, 'intersections': {14}}]\n",
    "# groups is a tuple of indices (i,j) of the groups which should be connected..it uses the skels list indices\n",
    "# [0,1]\n",
    "# setA = get all vertices from group i (use get_vertices_from_edge_ids)\n",
    "# setB = get all vertices from group j (use get_vertices_from_edge_ids)\n",
    "# create all possible pairs (crossing edges) where the first element is from setA and the second from setB\n",
    "# iterate over the crossing edges (refered here as e): (itertools)\n",
    "# now when we speak about corridors we mean corridors which are present in the skeletons in the skel list\n",
    "# these corridors are stored in the 'edges' key of a given skeleton\n",
    "# if the crossing_edge e intersects some room or corridor from some other group than i or j then skip this edge (other groups are present in skels list)\n",
    "# intA = get intersection between the crossing edge e and anything (either room or chosen corridor) in group i\n",
    "# intB = same thing but for group j\n",
    "# if both intA and intB are not empty then skip this crossing edge\n",
    "# else return this edge"
   ]
  },
  {
   "cell_type": "code",
   "execution_count": 110,
   "metadata": {
    "pycharm": {
     "name": "#%%\n"
    }
   },
   "outputs": [
    {
     "name": "stdout",
     "output_type": "stream",
     "text": [
      "[(0, 8), (0, 2), (0, 6), (1, 8), (1, 2), (1, 6), (5, 8), (5, 6), (2, 5)]\n"
     ]
    }
   ],
   "source": [
    "groups_to_connect = (0,1)\n",
    "\n",
    "crossing_edges = get_crossing_edges(skels, groups_to_connect,vertices_edges_dict_inv,vertices_edges_dict)\n",
    "print(crossing_edges)"
   ]
  },
  {
   "cell_type": "code",
   "execution_count": 120,
   "metadata": {
    "collapsed": false,
    "jupyter": {
     "outputs_hidden": false
    },
    "pycharm": {
     "name": "#%%\n"
    }
   },
   "outputs": [
    {
     "data": {
      "text/plain": [
       "2"
      ]
     },
     "execution_count": 120,
     "metadata": {},
     "output_type": "execute_result"
    }
   ],
   "source": [
    "get_edges_from_skels(crossing_edges, groups_to_connect, skels,vertices_edges_dict_inv,room_G,paths_lst,vertices_edges_dict)"
   ]
  },
  {
   "cell_type": "code",
   "execution_count": 122,
   "metadata": {
    "pycharm": {
     "name": "#%%\n"
    }
   },
   "outputs": [
    {
     "name": "stdout",
     "output_type": "stream",
     "text": [
      "(0, 8)\n",
      "##############################\n",
      "#     ######    #            #\n",
      "#     ######    #            #\n",
      "#     ######    #            #\n",
      "#     ######    #            #\n",
      "#     ###########            #\n",
      "#     ########################\n",
      "##############################\n",
      "##############################\n",
      "##############################\n",
      "#######    #    ##############\n",
      "#######    #    ##############\n",
      "#     #    #    ##############\n",
      "#          #    ##############\n",
      "#     ######    ##############\n",
      "#     #    #    ##############\n",
      "#     #    #    ##############\n",
      "#     #    #    ##############\n",
      "#     #    #    ##############\n",
      "#     #    #    ##############\n",
      "#     ######    ##############\n",
      "#     #    ###################\n",
      "#     #    #    ##############\n",
      "#     #    #    ##############\n",
      "#######    #    ##############\n",
      "#######    #    ##############\n",
      "#######    #    ##############\n",
      "#######    #    ##############\n",
      "#######    #    ##############\n",
      "##############################\n",
      "\n"
     ]
    }
   ],
   "source": [
    "ix = 2\n",
    "print(paths_lst[ix][0])\n",
    "walkable_points1 = set(list(walkable_points) + list(map(toL,paths_lst[ix][1])))\n",
    "print(create_string(walkable_points1,grid_size))"
   ]
  },
  {
   "cell_type": "code",
   "execution_count": 696,
   "metadata": {
    "collapsed": true,
    "jupyter": {
     "outputs_hidden": true
    },
    "pycharm": {
     "name": "#%%\n"
    }
   },
   "outputs": [
    {
     "data": {
      "text/plain": [
       "((2, 3),\n",
       " [(13, 9), (13, 8), (13, 7), (13, 6), (13, 5), (13, 4), (13, 3), (12, 3)])"
      ]
     },
     "execution_count": 696,
     "metadata": {},
     "output_type": "execute_result"
    }
   ],
   "source": [
    "paths_lst[4]"
   ]
  },
  {
   "cell_type": "code",
   "execution_count": 696,
   "metadata": {
    "pycharm": {
     "name": "#%%\n"
    }
   },
   "outputs": [],
   "source": []
  }
 ],
 "metadata": {
  "kernelspec": {
   "display_name": "Python 3",
   "language": "python",
   "name": "python3"
  },
  "language_info": {
   "codemirror_mode": {
    "name": "ipython",
    "version": 3
   },
   "file_extension": ".py",
   "mimetype": "text/x-python",
   "name": "python",
   "nbconvert_exporter": "python",
   "pygments_lexer": "ipython3",
   "version": "3.7.6"
  }
 },
 "nbformat": 4,
 "nbformat_minor": 4
}
