{
 "cells": [
  {
   "cell_type": "code",
   "execution_count": 693,
   "metadata": {
    "pycharm": {
     "name": "#%%\n"
    }
   },
   "outputs": [],
   "source": [
    "import random\n",
    "import itertools\n",
    "import matplotlib.pyplot as plt\n",
    "import networkx as nx"
   ]
  },
  {
   "cell_type": "code",
   "execution_count": 694,
   "metadata": {
    "collapsed": false,
    "jupyter": {
     "outputs_hidden": false
    },
    "pycharm": {
     "name": "#%%\n"
    }
   },
   "outputs": [],
   "source": [
    "num_columns = 4\n",
    "grid_size = 30\n",
    "min_room_size = 3\n",
    "\n",
    "roomspace = grid_size - (num_columns + 1)\n",
    "def all_less_then(comb,n):\n",
    "    for i in comb:\n",
    "        if i<n:\n",
    "            return False\n",
    "    return True\n",
    "\n",
    "def get_divisions(n, k):\n",
    "    divisions = []\n",
    "    combs = itertools.product(range(1, n), repeat=k)\n",
    "    dic={}\n",
    "    for comb in combs:\n",
    "        if sum(comb) == n and all_less_then(comb,min_room_size):\n",
    "            dic[\"\".join(map(str,sorted(comb)))]=comb\n",
    "    return list(dic.values())\n",
    "\n",
    "divisions = get_divisions(roomspace, num_columns)\n",
    "\n",
    "\n",
    "horizontal_split = list(random.choice(divisions))\n",
    "vertical_splits = [list(random.choice(divisions)) for i in horizontal_split]\n",
    "random.shuffle(horizontal_split)\n",
    "for split in vertical_splits:\n",
    "    random.shuffle(split)\n",
    "\n",
    "horizontal_data = []\n",
    "x_accum = 1\n",
    "for part in horizontal_split:\n",
    "    horizontal_data.append((x_accum,part))\n",
    "    x_accum += part+1\n",
    "\n",
    "vertical_data = []\n",
    "for split in vertical_splits:\n",
    "    y_accum = 1\n",
    "    data = []\n",
    "    for part in split:\n",
    "        data.append((y_accum,part))\n",
    "        y_accum += part+1\n",
    "    vertical_data.append(data)\n",
    "divisions = get_divisions(roomspace, num_columns)"
   ]
  },
  {
   "cell_type": "code",
   "execution_count": 695,
   "metadata": {
    "collapsed": false,
    "jupyter": {
     "outputs_hidden": false
    },
    "pycharm": {
     "name": "#%%\n"
    }
   },
   "outputs": [
    {
     "name": "stdout",
     "output_type": "stream",
     "text": [
      "##############################\n",
      "######################   #   #\n",
      "######################   #   #\n",
      "######################   #   #\n",
      "######################   #####\n",
      "######################   #####\n",
      "#    #########################\n",
      "#    #################   #####\n",
      "#    #################   #####\n",
      "#    #################   #   #\n",
      "######################   #   #\n",
      "#    #################   #   #\n",
      "#    #################   #   #\n",
      "#    #################   #   #\n",
      "#    #################   #   #\n",
      "######################   #   #\n",
      "#    #################   #   #\n",
      "#    #################   #   #\n",
      "#    #################   #   #\n",
      "#    #####################   #\n",
      "#    #################   #   #\n",
      "#    #################   #####\n",
      "#    #################   #####\n",
      "#    #################   #####\n",
      "#    #               #   #####\n",
      "#    #               #########\n",
      "#    #               #########\n",
      "#    #               #########\n",
      "#    #               #########\n",
      "##############################\n",
      "\n"
     ]
    }
   ],
   "source": [
    "num_rooms = 9\n",
    "\n",
    "horizontal_split = list(random.choice(divisions))\n",
    "vertical_splits = [list(random.choice(divisions)) for i in horizontal_split]\n",
    "random.shuffle(horizontal_split)\n",
    "for split in vertical_splits:\n",
    "    random.shuffle(split)\n",
    "\n",
    "horizontal_data = []\n",
    "x_accum = 1\n",
    "for part in horizontal_split:\n",
    "    horizontal_data.append((x_accum,part))\n",
    "    x_accum += part+1\n",
    "\n",
    "vertical_data = []\n",
    "for split in vertical_splits:\n",
    "    y_accum = 1\n",
    "    data = []\n",
    "    for part in split:\n",
    "        data.append((y_accum,part))\n",
    "        y_accum += part+1\n",
    "    vertical_data.append(data)\n",
    "\n",
    "\n",
    "chosen_cells = 0\n",
    "rooms_ixs = []\n",
    "\n",
    "while True:\n",
    "    x = random.choice(range(len(horizontal_split)))\n",
    "    y = random.choice(range(len(vertical_splits[x])))\n",
    "    ix = (x,y)\n",
    "    if ix not in rooms_ixs:\n",
    "        rooms_ixs.append(ix)\n",
    "    if len(rooms_ixs) == num_rooms:\n",
    "        break\n",
    "\n",
    "chosen_rooms = []\n",
    "for ix_x,ix_y in rooms_ixs:\n",
    "    x,w = horizontal_data[ix_x]\n",
    "    y,h = vertical_data[ix_x][ix_y]\n",
    "    chosen_rooms.append((y,x,h,w))\n",
    "\n",
    "def get_points(part):\n",
    "    points = []\n",
    "    y = part[0]\n",
    "    x = part[1]\n",
    "    for i in range(part[2]):\n",
    "        for j in range(part[3]):\n",
    "            points.append((y+i,x+j))\n",
    "    return points\n",
    "            \n",
    "    \n",
    "walkable_points = []\n",
    "for w in chosen_rooms:\n",
    "    walkable_points += get_points(w)\n",
    "walkable_points = set(walkable_points)\n",
    "\n",
    "def create_string(walkable):\n",
    "    string = \"\"\n",
    "    for i in range(grid_size):\n",
    "        for j in range(grid_size):\n",
    "            if (i,j) in walkable:\n",
    "                string += \" \"\n",
    "            else: string += \"#\"\n",
    "        string += \"\\n\"\n",
    "    return string\n",
    "\n",
    "print(create_string(walkable_points))"
   ]
  },
  {
   "cell_type": "code",
   "execution_count": 696,
   "metadata": {
    "collapsed": false,
    "jupyter": {
     "outputs_hidden": false
    },
    "pycharm": {
     "name": "#%%\n"
    }
   },
   "outputs": [],
   "source": [
    "def toG(y,x):\n",
    "    return y-1,x-1\n",
    "def toL(p):\n",
    "    y,x = p\n",
    "    return y+1,x+1\n",
    "def get_room_center(room):\n",
    "    y,x,h,w=room\n",
    "    cy = y + (h//2)\n",
    "    cx = x + (w//2)\n",
    "    return (cy,cx)"
   ]
  },
  {
   "cell_type": "code",
   "execution_count": 697,
   "metadata": {
    "collapsed": false,
    "jupyter": {
     "outputs_hidden": false
    },
    "pycharm": {
     "name": "#%%\n"
    }
   },
   "outputs": [],
   "source": [
    "import numpy as np\n",
    "from scipy.spatial.distance import cdist\n",
    "\n",
    "def get_distance(r1,r2):\n",
    "    A = np.array(get_points(r1))\n",
    "    B = np.array(get_points(r2))\n",
    "    distances = cdist(A, B)\n",
    "    min_distance = np.min(distances)\n",
    "    return min_distance\n",
    "\n",
    "distances = {}\n",
    "for i,r1 in enumerate(chosen_rooms):\n",
    "    for j,r2 in enumerate(chosen_rooms):\n",
    "        if i<j:\n",
    "            distances[(i,j)]=get_distance(r1,r2)\n"
   ]
  },
  {
   "cell_type": "code",
   "execution_count": 698,
   "metadata": {
    "collapsed": false,
    "jupyter": {
     "outputs_hidden": false
    },
    "pycharm": {
     "name": "#%%\n"
    }
   },
   "outputs": [],
   "source": [
    "sorted_pairs=list(sorted(map(lambda x:(x[0],x[1]),distances.items()),key=lambda x:x[1]))"
   ]
  },
  {
   "cell_type": "code",
   "execution_count": 699,
   "metadata": {
    "pycharm": {
     "name": "#%%\n"
    }
   },
   "outputs": [],
   "source": [
    "def get_neighs(p):\n",
    "    x,y = p\n",
    "    neighbors = [(x + dx, y + dy) for dx, dy in [(1, 0), (-1, 0), (0, 1), (0, -1)]]\n",
    "    return neighbors\n",
    "\n",
    "def get_path_border(path):\n",
    "    border = []\n",
    "    for p in path:\n",
    "        border += get_neighs(p)\n",
    "    surrounding_nodes = list(set(border)-set(path))\n",
    "    return surrounding_nodes\n",
    "\n",
    "def get_connecting_edges(surrounding_nodes):\n",
    "    ret = []\n",
    "    for node in surrounding_nodes:\n",
    "        x,y = node\n",
    "        neighbors = get_neighs((x,y))\n",
    "        for neighbor in neighbors:\n",
    "            if neighbor in surrounding_nodes:\n",
    "                ret.append((node, neighbor))\n",
    "    return ret\n",
    "\n",
    "def get_path_border(path):\n",
    "    border = []\n",
    "    for p in path:\n",
    "        border += get_neighs(p)\n",
    "    surrounding_nodes = list(set(border)-set(path))\n",
    "    return get_connecting_edges(surrounding_nodes)\n",
    "\n",
    "\n",
    "def get_room_border(graph, room):\n",
    "    y, x, h, w = room\n",
    "    y,x = toG(y,x)\n",
    "    surrounding_nodes = [(y - 1 + i, x - 1 + j) for i in range(h + 2) for j in range(w + 2) if i in [0, h + 1] or j in [0, w + 1]]\n",
    "    return get_connecting_edges(surrounding_nodes)\n"
   ]
  },
  {
   "cell_type": "code",
   "execution_count": 700,
   "metadata": {
    "collapsed": false,
    "jupyter": {
     "outputs_hidden": false
    },
    "pycharm": {
     "name": "#%%\n"
    }
   },
   "outputs": [],
   "source": [
    "import networkx as nx\n",
    "G=nx.grid_graph(dim=[grid_size-2,grid_size-2])\n",
    "\n",
    "for e in G.edges(data=True):\n",
    "    e[2]['weigth']=1\n",
    "for n,d in G.nodes(data=True):\n",
    "    d['taken']=False\n",
    "for y,x in walkable_points:\n",
    "    G.nodes[(y-1,x-1)]['taken']=True\n",
    "\n",
    "def set_weights(G,taken,weigth):\n",
    "    for node in taken:\n",
    "        for k,v in G[node].items(): #edges connected to the node\n",
    "            if G.nodes[k]['taken']==True: #ignore if the node on the other side is already taken\n",
    "                  continue\n",
    "            else:\n",
    "                v['weigth']+=weigth\n",
    "    return G\n",
    "\n",
    "def out_of_bounds(indices):\n",
    "    for i in indices:\n",
    "        if i<0 or i>grid_size-3:\n",
    "            return True\n",
    "    return False\n",
    "\n",
    "def set_weight_edges(G,edges,weigth):\n",
    "    for e in edges:\n",
    "        indices=set(list(e[0])+list(e[1]))\n",
    "        if out_of_bounds(indices):\n",
    "            continue\n",
    "        if G.nodes[e[0]]['taken']==True or G.nodes[e[1]]['taken']==True:\n",
    "            continue\n",
    "        G.edges[e]['weigth']=weigth\n",
    "    return G \n",
    "\n",
    "edges_around_rooms = []\n",
    "for room in chosen_rooms:\n",
    "    edges_around_rooms+=get_room_border(G,room)\n",
    "G = set_weight_edges(G,edges_around_rooms,100)    \n",
    "rooms_points =  map(lambda x:x[0],filter(lambda d: d[1]['taken'] == True, G.nodes(data=True)))\n",
    "G = set_weights(G,rooms_points,100)"
   ]
  },
  {
   "cell_type": "code",
   "execution_count": 701,
   "metadata": {
    "collapsed": false,
    "jupyter": {
     "outputs_hidden": false
    },
    "pycharm": {
     "name": "#%%\n"
    }
   },
   "outputs": [],
   "source": [
    "paths = {}\n",
    "for pair,_ in sorted_pairs:\n",
    "    r1 = chosen_rooms[pair[0]]\n",
    "    r2 = chosen_rooms[pair[1]]\n",
    "    c1=get_room_center(r1)\n",
    "    c2=get_room_center(r2)\n",
    "    path=nx.shortest_path(G, source=c1, target=c2, weight='weigth')\n",
    "    paths[pair]=path\n",
    "    for y,x in path:\n",
    "        G.nodes[(y,x)]['taken']=True\n",
    "    G = set_weight_edges(G,get_path_border(path),100)\n",
    "    G=set_weights(G,path,50)"
   ]
  },
  {
   "cell_type": "code",
   "execution_count": 702,
   "metadata": {
    "collapsed": true,
    "jupyter": {
     "outputs_hidden": true
    },
    "pycharm": {
     "name": "#%%\n"
    }
   },
   "outputs": [
    {
     "data": {
      "text/plain": "{(0, 2): [(8, 3), (9, 3), (10, 3), (11, 3), (12, 3), (13, 3)],\n (1, 5): [(15, 27),\n  (15, 26),\n  (15, 25),\n  (15, 24),\n  (15, 23),\n  (14, 23),\n  (13, 23)],\n (1, 7): [(15, 27),\n  (15, 26),\n  (15, 25),\n  (16, 25),\n  (17, 25),\n  (18, 25),\n  (19, 25),\n  (19, 24),\n  (19, 23),\n  (20, 23),\n  (21, 23),\n  (22, 23)],\n (2, 8): [(13, 3),\n  (13, 2),\n  (14, 2),\n  (15, 2),\n  (15, 3),\n  (16, 3),\n  (17, 3),\n  (18, 3),\n  (19, 3),\n  (20, 3),\n  (21, 3),\n  (22, 3)],\n (3, 5): [(3, 23),\n  (4, 23),\n  (5, 23),\n  (6, 23),\n  (7, 23),\n  (8, 23),\n  (9, 23),\n  (10, 23),\n  (11, 23),\n  (12, 23),\n  (13, 23)],\n (3, 6): [(3, 23), (2, 23), (2, 24), (2, 25), (2, 26), (2, 27)],\n (4, 7): [(26, 13),\n  (25, 13),\n  (25, 14),\n  (25, 15),\n  (25, 16),\n  (25, 17),\n  (25, 18),\n  (25, 19),\n  (25, 20),\n  (25, 21),\n  (24, 21),\n  (23, 21),\n  (22, 21),\n  (22, 22),\n  (22, 23)],\n (4, 8): [(26, 13),\n  (26, 12),\n  (26, 11),\n  (26, 10),\n  (26, 9),\n  (26, 8),\n  (26, 7),\n  (26, 6),\n  (26, 5),\n  (26, 4),\n  (26, 3),\n  (25, 3),\n  (24, 3),\n  (23, 3),\n  (22, 3)],\n (5, 7): [(13, 23),\n  (13, 22),\n  (14, 22),\n  (15, 22),\n  (16, 22),\n  (17, 22),\n  (18, 22),\n  (19, 22),\n  (19, 23),\n  (20, 23),\n  (21, 23),\n  (22, 23)],\n (1, 3): [(15, 27),\n  (14, 27),\n  (13, 27),\n  (12, 27),\n  (11, 27),\n  (10, 27),\n  (9, 27),\n  (8, 27),\n  (8, 26),\n  (8, 25),\n  (7, 25),\n  (6, 25),\n  (5, 25),\n  (4, 25),\n  (4, 24),\n  (4, 23),\n  (3, 23)],\n (5, 6): [(13, 23),\n  (12, 23),\n  (11, 23),\n  (10, 23),\n  (9, 23),\n  (8, 23),\n  (7, 23),\n  (6, 23),\n  (6, 24),\n  (6, 25),\n  (6, 26),\n  (6, 27),\n  (5, 27),\n  (4, 27),\n  (3, 27),\n  (2, 27)],\n (1, 6): [(15, 27),\n  (14, 27),\n  (13, 27),\n  (12, 27),\n  (11, 27),\n  (10, 27),\n  (9, 27),\n  (8, 27),\n  (8, 26),\n  (8, 25),\n  (7, 25),\n  (6, 25),\n  (6, 26),\n  (6, 27),\n  (5, 27),\n  (4, 27),\n  (3, 27),\n  (2, 27)],\n (4, 5): [(26, 13),\n  (25, 13),\n  (24, 13),\n  (23, 13),\n  (23, 14),\n  (23, 15),\n  (23, 16),\n  (23, 17),\n  (23, 18),\n  (23, 19),\n  (22, 19),\n  (21, 19),\n  (20, 19),\n  (19, 19),\n  (18, 19),\n  (17, 19),\n  (17, 20),\n  (17, 21),\n  (16, 21),\n  (15, 21),\n  (14, 21),\n  (13, 21),\n  (13, 22),\n  (13, 23)],\n (0, 8): [(8, 3),\n  (7, 3),\n  (7, 4),\n  (7, 5),\n  (8, 5),\n  (9, 5),\n  (10, 5),\n  (11, 5),\n  (12, 5),\n  (13, 5),\n  (14, 5),\n  (15, 5),\n  (15, 4),\n  (15, 3),\n  (16, 3),\n  (17, 3),\n  (18, 3),\n  (19, 3),\n  (20, 3),\n  (21, 3),\n  (22, 3)],\n (1, 4): [(15, 27),\n  (15, 26),\n  (16, 26),\n  (17, 26),\n  (18, 26),\n  (19, 26),\n  (20, 26),\n  (21, 26),\n  (21, 25),\n  (22, 25),\n  (23, 25),\n  (24, 25),\n  (24, 24),\n  (25, 24),\n  (25, 23),\n  (25, 22),\n  (26, 22),\n  (26, 21),\n  (27, 21),\n  (27, 20),\n  (27, 19),\n  (27, 18),\n  (27, 17),\n  (27, 16),\n  (27, 15),\n  (27, 14),\n  (27, 13),\n  (26, 13)],\n (2, 4): [(13, 3),\n  (12, 3),\n  (12, 4),\n  (12, 5),\n  (13, 5),\n  (14, 5),\n  (15, 5),\n  (16, 5),\n  (17, 5),\n  (18, 5),\n  (19, 5),\n  (20, 5),\n  (21, 5),\n  (22, 5),\n  (23, 5),\n  (23, 6),\n  (23, 7),\n  (23, 8),\n  (23, 9),\n  (23, 10),\n  (23, 11),\n  (23, 12),\n  (23, 13),\n  (24, 13),\n  (25, 13),\n  (26, 13)],\n (3, 7): [(3, 23),\n  (3, 22),\n  (3, 21),\n  (4, 21),\n  (4, 20),\n  (4, 19),\n  (5, 19),\n  (6, 19),\n  (7, 19),\n  (8, 19),\n  (9, 19),\n  (10, 19),\n  (11, 19),\n  (12, 19),\n  (13, 19),\n  (14, 19),\n  (15, 19),\n  (16, 19),\n  (17, 19),\n  (18, 19),\n  (19, 19),\n  (19, 20),\n  (19, 21),\n  (19, 22),\n  (19, 23),\n  (20, 23),\n  (21, 23),\n  (22, 23)],\n (0, 4): [(8, 3),\n  (7, 3),\n  (7, 4),\n  (7, 5),\n  (8, 5),\n  (9, 5),\n  (10, 5),\n  (11, 5),\n  (12, 5),\n  (13, 5),\n  (14, 5),\n  (15, 5),\n  (16, 5),\n  (17, 5),\n  (18, 5),\n  (19, 5),\n  (20, 5),\n  (21, 5),\n  (22, 5),\n  (23, 5),\n  (23, 6),\n  (23, 7),\n  (23, 8),\n  (23, 9),\n  (23, 10),\n  (23, 11),\n  (23, 12),\n  (23, 13),\n  (24, 13),\n  (25, 13),\n  (26, 13)],\n (6, 7): [(2, 27),\n  (3, 27),\n  (4, 27),\n  (5, 27),\n  (6, 27),\n  (6, 26),\n  (6, 25),\n  (7, 25),\n  (8, 25),\n  (9, 25),\n  (10, 25),\n  (11, 25),\n  (12, 25),\n  (13, 25),\n  (14, 25),\n  (15, 25),\n  (16, 25),\n  (17, 25),\n  (18, 25),\n  (19, 25),\n  (19, 24),\n  (19, 23),\n  (20, 23),\n  (21, 23),\n  (22, 23)],\n (0, 5): [(8, 3),\n  (7, 3),\n  (6, 3),\n  (5, 3),\n  (5, 4),\n  (5, 5),\n  (6, 5),\n  (6, 6),\n  (7, 6),\n  (7, 7),\n  (8, 7),\n  (9, 7),\n  (10, 7),\n  (10, 8),\n  (10, 9),\n  (10, 10),\n  (10, 11),\n  (10, 12),\n  (10, 13),\n  (10, 14),\n  (10, 15),\n  (10, 16),\n  (10, 17),\n  (11, 17),\n  (12, 17),\n  (13, 17),\n  (14, 17),\n  (15, 17),\n  (16, 17),\n  (17, 17),\n  (18, 17),\n  (19, 17),\n  (20, 17),\n  (20, 18),\n  (20, 19),\n  (19, 19),\n  (18, 19),\n  (17, 19),\n  (17, 20),\n  (17, 21),\n  (16, 21),\n  (15, 21),\n  (14, 21),\n  (13, 21),\n  (13, 22),\n  (13, 23)],\n (2, 5): [(13, 3),\n  (12, 3),\n  (12, 4),\n  (12, 5),\n  (11, 5),\n  (10, 5),\n  (9, 5),\n  (8, 5),\n  (7, 5),\n  (7, 6),\n  (7, 7),\n  (8, 7),\n  (9, 7),\n  (10, 7),\n  (10, 8),\n  (10, 9),\n  (10, 10),\n  (10, 11),\n  (10, 12),\n  (10, 13),\n  (10, 14),\n  (10, 15),\n  (10, 16),\n  (10, 17),\n  (11, 17),\n  (12, 17),\n  (13, 17),\n  (14, 17),\n  (15, 17),\n  (16, 17),\n  (17, 17),\n  (18, 17),\n  (19, 17),\n  (20, 17),\n  (20, 18),\n  (20, 19),\n  (19, 19),\n  (18, 19),\n  (17, 19),\n  (17, 20),\n  (17, 21),\n  (16, 21),\n  (15, 21),\n  (14, 21),\n  (13, 21),\n  (13, 22),\n  (13, 23)],\n (5, 8): [(13, 23),\n  (13, 22),\n  (13, 21),\n  (14, 21),\n  (15, 21),\n  (16, 21),\n  (17, 21),\n  (17, 20),\n  (17, 19),\n  (18, 19),\n  (19, 19),\n  (20, 19),\n  (21, 19),\n  (22, 19),\n  (23, 19),\n  (23, 18),\n  (23, 17),\n  (23, 16),\n  (23, 15),\n  (23, 14),\n  (23, 13),\n  (23, 12),\n  (23, 11),\n  (23, 10),\n  (23, 9),\n  (23, 8),\n  (23, 7),\n  (23, 6),\n  (23, 5),\n  (24, 5),\n  (25, 5),\n  (26, 5),\n  (26, 4),\n  (26, 3),\n  (25, 3),\n  (24, 3),\n  (23, 3),\n  (22, 3)],\n (7, 8): [(22, 23),\n  (22, 22),\n  (22, 21),\n  (23, 21),\n  (24, 21),\n  (25, 21),\n  (25, 20),\n  (25, 19),\n  (25, 18),\n  (25, 17),\n  (25, 16),\n  (25, 15),\n  (25, 14),\n  (25, 13),\n  (25, 12),\n  (25, 11),\n  (25, 10),\n  (25, 9),\n  (25, 8),\n  (25, 7),\n  (25, 6),\n  (25, 5),\n  (26, 5),\n  (26, 4),\n  (26, 3),\n  (25, 3),\n  (24, 3),\n  (23, 3),\n  (22, 3)],\n (0, 3): [(8, 3),\n  (7, 3),\n  (6, 3),\n  (5, 3),\n  (5, 2),\n  (4, 2),\n  (3, 2),\n  (2, 2),\n  (2, 3),\n  (2, 4),\n  (2, 5),\n  (2, 6),\n  (2, 7),\n  (2, 8),\n  (2, 9),\n  (2, 10),\n  (2, 11),\n  (2, 12),\n  (2, 13),\n  (2, 14),\n  (2, 15),\n  (2, 16),\n  (2, 17),\n  (2, 18),\n  (2, 19),\n  (2, 20),\n  (2, 21),\n  (2, 22),\n  (2, 23),\n  (3, 23)],\n (2, 3): [(13, 3),\n  (12, 3),\n  (11, 3),\n  (10, 3),\n  (10, 2),\n  (9, 2),\n  (8, 2),\n  (7, 2),\n  (6, 2),\n  (5, 2),\n  (4, 2),\n  (3, 2),\n  (2, 2),\n  (2, 3),\n  (2, 4),\n  (2, 5),\n  (2, 6),\n  (2, 7),\n  (2, 8),\n  (2, 9),\n  (2, 10),\n  (2, 11),\n  (2, 12),\n  (2, 13),\n  (2, 14),\n  (2, 15),\n  (2, 16),\n  (2, 17),\n  (2, 18),\n  (2, 19),\n  (2, 20),\n  (2, 21),\n  (2, 22),\n  (2, 23),\n  (3, 23)],\n (2, 7): [(13, 3),\n  (12, 3),\n  (12, 4),\n  (12, 5),\n  (11, 5),\n  (10, 5),\n  (9, 5),\n  (8, 5),\n  (7, 5),\n  (7, 6),\n  (7, 7),\n  (8, 7),\n  (9, 7),\n  (10, 7),\n  (10, 8),\n  (10, 9),\n  (10, 10),\n  (10, 11),\n  (10, 12),\n  (10, 13),\n  (10, 14),\n  (10, 15),\n  (10, 16),\n  (10, 17),\n  (11, 17),\n  (12, 17),\n  (13, 17),\n  (14, 17),\n  (15, 17),\n  (16, 17),\n  (17, 17),\n  (18, 17),\n  (19, 17),\n  (20, 17),\n  (20, 18),\n  (20, 19),\n  (19, 19),\n  (19, 20),\n  (19, 21),\n  (19, 22),\n  (19, 23),\n  (20, 23),\n  (21, 23),\n  (22, 23)],\n (3, 4): [(3, 23),\n  (3, 22),\n  (3, 21),\n  (4, 21),\n  (4, 20),\n  (4, 19),\n  (5, 19),\n  (6, 19),\n  (7, 19),\n  (8, 19),\n  (9, 19),\n  (10, 19),\n  (11, 19),\n  (12, 19),\n  (13, 19),\n  (14, 19),\n  (15, 19),\n  (16, 19),\n  (17, 19),\n  (18, 19),\n  (19, 19),\n  (20, 19),\n  (21, 19),\n  (22, 19),\n  (23, 19),\n  (23, 18),\n  (23, 17),\n  (23, 16),\n  (23, 15),\n  (23, 14),\n  (23, 13),\n  (24, 13),\n  (25, 13),\n  (26, 13)],\n (0, 7): [(8, 3),\n  (7, 3),\n  (6, 3),\n  (5, 3),\n  (5, 4),\n  (5, 5),\n  (6, 5),\n  (6, 6),\n  (7, 6),\n  (7, 7),\n  (8, 7),\n  (9, 7),\n  (10, 7),\n  (10, 8),\n  (10, 9),\n  (10, 10),\n  (10, 11),\n  (10, 12),\n  (10, 13),\n  (10, 14),\n  (10, 15),\n  (10, 16),\n  (10, 17),\n  (11, 17),\n  (12, 17),\n  (13, 17),\n  (14, 17),\n  (15, 17),\n  (16, 17),\n  (17, 17),\n  (18, 17),\n  (19, 17),\n  (20, 17),\n  (20, 18),\n  (20, 19),\n  (19, 19),\n  (19, 20),\n  (19, 21),\n  (19, 22),\n  (19, 23),\n  (20, 23),\n  (21, 23),\n  (22, 23)],\n (3, 8): [(3, 23),\n  (3, 22),\n  (3, 21),\n  (4, 21),\n  (4, 20),\n  (4, 19),\n  (5, 19),\n  (6, 19),\n  (7, 19),\n  (8, 19),\n  (9, 19),\n  (10, 19),\n  (11, 19),\n  (12, 19),\n  (13, 19),\n  (14, 19),\n  (15, 19),\n  (16, 19),\n  (17, 19),\n  (18, 19),\n  (19, 19),\n  (20, 19),\n  (21, 19),\n  (22, 19),\n  (23, 19),\n  (23, 18),\n  (23, 17),\n  (23, 16),\n  (23, 15),\n  (23, 14),\n  (23, 13),\n  (23, 12),\n  (23, 11),\n  (23, 10),\n  (23, 9),\n  (23, 8),\n  (23, 7),\n  (23, 6),\n  (23, 5),\n  (24, 5),\n  (25, 5),\n  (26, 5),\n  (26, 4),\n  (26, 3),\n  (25, 3),\n  (24, 3),\n  (23, 3),\n  (22, 3)],\n (4, 6): [(26, 13),\n  (25, 13),\n  (24, 13),\n  (23, 13),\n  (23, 14),\n  (23, 15),\n  (23, 16),\n  (23, 17),\n  (23, 18),\n  (23, 19),\n  (22, 19),\n  (21, 19),\n  (20, 19),\n  (19, 19),\n  (18, 19),\n  (17, 19),\n  (16, 19),\n  (15, 19),\n  (14, 19),\n  (13, 19),\n  (12, 19),\n  (11, 19),\n  (10, 19),\n  (9, 19),\n  (8, 19),\n  (7, 19),\n  (6, 19),\n  (5, 19),\n  (4, 19),\n  (4, 20),\n  (4, 21),\n  (3, 21),\n  (2, 21),\n  (2, 22),\n  (2, 23),\n  (2, 24),\n  (2, 25),\n  (2, 26),\n  (2, 27)],\n (0, 1): [(8, 3),\n  (7, 3),\n  (6, 3),\n  (5, 3),\n  (5, 2),\n  (4, 2),\n  (3, 2),\n  (2, 2),\n  (2, 3),\n  (2, 4),\n  (2, 5),\n  (2, 6),\n  (2, 7),\n  (2, 8),\n  (2, 9),\n  (2, 10),\n  (2, 11),\n  (2, 12),\n  (2, 13),\n  (2, 14),\n  (2, 15),\n  (2, 16),\n  (2, 17),\n  (2, 18),\n  (2, 19),\n  (2, 20),\n  (2, 21),\n  (2, 22),\n  (2, 23),\n  (3, 23),\n  (4, 23),\n  (4, 24),\n  (4, 25),\n  (5, 25),\n  (6, 25),\n  (7, 25),\n  (8, 25),\n  (8, 26),\n  (8, 27),\n  (9, 27),\n  (10, 27),\n  (11, 27),\n  (12, 27),\n  (13, 27),\n  (14, 27),\n  (15, 27)],\n (1, 2): [(15, 27),\n  (15, 26),\n  (16, 26),\n  (17, 26),\n  (18, 26),\n  (19, 26),\n  (20, 26),\n  (21, 26),\n  (21, 25),\n  (22, 25),\n  (23, 25),\n  (24, 25),\n  (24, 24),\n  (25, 24),\n  (25, 23),\n  (25, 22),\n  (26, 22),\n  (26, 21),\n  (27, 21),\n  (27, 20),\n  (27, 19),\n  (26, 19),\n  (25, 19),\n  (24, 19),\n  (23, 19),\n  (23, 18),\n  (23, 17),\n  (23, 16),\n  (23, 15),\n  (23, 14),\n  (23, 13),\n  (23, 12),\n  (23, 11),\n  (23, 10),\n  (23, 9),\n  (23, 8),\n  (23, 7),\n  (23, 6),\n  (23, 5),\n  (22, 5),\n  (21, 5),\n  (20, 5),\n  (19, 5),\n  (18, 5),\n  (17, 5),\n  (16, 5),\n  (15, 5),\n  (14, 5),\n  (13, 5),\n  (12, 5),\n  (12, 4),\n  (12, 3),\n  (13, 3)],\n (1, 8): [(15, 27),\n  (15, 26),\n  (16, 26),\n  (17, 26),\n  (18, 26),\n  (19, 26),\n  (20, 26),\n  (21, 26),\n  (21, 25),\n  (22, 25),\n  (23, 25),\n  (24, 25),\n  (24, 24),\n  (25, 24),\n  (25, 23),\n  (25, 22),\n  (26, 22),\n  (26, 21),\n  (27, 21),\n  (27, 20),\n  (27, 19),\n  (27, 18),\n  (27, 17),\n  (27, 16),\n  (27, 15),\n  (27, 14),\n  (27, 13),\n  (27, 12),\n  (27, 11),\n  (27, 10),\n  (27, 9),\n  (27, 8),\n  (27, 7),\n  (27, 6),\n  (27, 5),\n  (27, 4),\n  (27, 3),\n  (26, 3),\n  (25, 3),\n  (24, 3),\n  (23, 3),\n  (22, 3)],\n (0, 6): [(8, 3),\n  (7, 3),\n  (6, 3),\n  (5, 3),\n  (5, 2),\n  (4, 2),\n  (3, 2),\n  (2, 2),\n  (2, 3),\n  (2, 4),\n  (2, 5),\n  (2, 6),\n  (2, 7),\n  (2, 8),\n  (2, 9),\n  (2, 10),\n  (2, 11),\n  (2, 12),\n  (2, 13),\n  (2, 14),\n  (2, 15),\n  (2, 16),\n  (2, 17),\n  (2, 18),\n  (2, 19),\n  (2, 20),\n  (2, 21),\n  (2, 22),\n  (2, 23),\n  (2, 24),\n  (2, 25),\n  (2, 26),\n  (2, 27)],\n (2, 6): [(13, 3),\n  (12, 3),\n  (11, 3),\n  (10, 3),\n  (10, 2),\n  (9, 2),\n  (8, 2),\n  (7, 2),\n  (6, 2),\n  (5, 2),\n  (4, 2),\n  (3, 2),\n  (2, 2),\n  (2, 3),\n  (2, 4),\n  (2, 5),\n  (2, 6),\n  (2, 7),\n  (2, 8),\n  (2, 9),\n  (2, 10),\n  (2, 11),\n  (2, 12),\n  (2, 13),\n  (2, 14),\n  (2, 15),\n  (2, 16),\n  (2, 17),\n  (2, 18),\n  (2, 19),\n  (2, 20),\n  (2, 21),\n  (2, 22),\n  (2, 23),\n  (2, 24),\n  (2, 25),\n  (2, 26),\n  (2, 27)],\n (6, 8): [(2, 27),\n  (2, 26),\n  (2, 25),\n  (2, 24),\n  (2, 23),\n  (2, 22),\n  (2, 21),\n  (2, 20),\n  (2, 19),\n  (2, 18),\n  (2, 17),\n  (2, 16),\n  (2, 15),\n  (2, 14),\n  (2, 13),\n  (2, 12),\n  (2, 11),\n  (2, 10),\n  (2, 9),\n  (2, 8),\n  (2, 7),\n  (2, 6),\n  (2, 5),\n  (2, 4),\n  (2, 3),\n  (2, 2),\n  (3, 2),\n  (4, 2),\n  (5, 2),\n  (5, 3),\n  (6, 3),\n  (7, 3),\n  (7, 4),\n  (7, 5),\n  (8, 5),\n  (9, 5),\n  (10, 5),\n  (11, 5),\n  (12, 5),\n  (13, 5),\n  (14, 5),\n  (15, 5),\n  (15, 4),\n  (15, 3),\n  (16, 3),\n  (17, 3),\n  (18, 3),\n  (19, 3),\n  (20, 3),\n  (21, 3),\n  (22, 3)]}"
     },
     "execution_count": 702,
     "metadata": {},
     "output_type": "execute_result"
    }
   ],
   "source": [
    "paths"
   ]
  },
  {
   "cell_type": "code",
   "execution_count": 703,
   "metadata": {
    "pycharm": {
     "name": "#%%\n"
    }
   },
   "outputs": [
    {
     "data": {
      "text/plain": "{'weigth': 1}"
     },
     "execution_count": 703,
     "metadata": {},
     "output_type": "execute_result"
    }
   ],
   "source": [
    "G.edges[((0,0),(0,1))]"
   ]
  },
  {
   "cell_type": "code",
   "execution_count": 704,
   "metadata": {
    "collapsed": false,
    "jupyter": {
     "outputs_hidden": false
    },
    "pycharm": {
     "name": "#%%\n"
    }
   },
   "outputs": [
    {
     "name": "stdout",
     "output_type": "stream",
     "text": [
      "##############################\n",
      "######################   #   #\n",
      "######################   #   #\n",
      "######################   #   #\n",
      "######################   #####\n",
      "######################   #####\n",
      "#    #########################\n",
      "#    #################   #####\n",
      "#    #################   #####\n",
      "#    #################   #   #\n",
      "######################   #   #\n",
      "#    #################   #   #\n",
      "#    #################   #   #\n",
      "#    #################   #   #\n",
      "#    #################   #   #\n",
      "### ##################   #   #\n",
      "#    #################   #   #\n",
      "#    #################   #   #\n",
      "#    #################   #   #\n",
      "#    #####################   #\n",
      "#    #################   #   #\n",
      "#    #################   #####\n",
      "#    #################   #####\n",
      "#    #################   #####\n",
      "#    #               #   #####\n",
      "#    #               #########\n",
      "#    #               #########\n",
      "#    #               #########\n",
      "#    #               #########\n",
      "##############################\n",
      "\n"
     ]
    }
   ],
   "source": [
    "ix = 3\n",
    "walkable_points1 = set(list(walkable_points) + list(map(toL,paths[sorted_pairs[ix][0]])))\n",
    "print(create_string(walkable_points1))"
   ]
  },
  {
   "cell_type": "code",
   "execution_count": 705,
   "metadata": {
    "pycharm": {
     "name": "#%%\n"
    }
   },
   "outputs": [
    {
     "data": {
      "text/plain": "[((23, 4), (22, 4)),\n ((16, 6), (17, 6)),\n ((16, 6), (15, 6)),\n ((24, 8), (24, 9)),\n ((24, 8), (24, 7)),\n ((26, 14), (25, 14)),\n ((22, 13), (22, 12)),\n ((14, 4), (15, 4)),\n ((14, 4), (13, 4)),\n ((13, 4), (14, 4)),\n ((13, 4), (12, 4)),\n ((10, 6), (11, 6)),\n ((10, 6), (9, 6)),\n ((19, 4), (20, 4)),\n ((19, 4), (18, 4)),\n ((18, 4), (19, 4)),\n ((18, 4), (17, 4)),\n ((25, 12), (26, 12)),\n ((25, 12), (24, 12)),\n ((22, 9), (22, 10)),\n ((22, 9), (22, 8)),\n ((9, 4), (10, 4)),\n ((9, 4), (8, 4)),\n ((9, 4), (9, 3)),\n ((22, 6), (21, 6)),\n ((22, 6), (22, 7)),\n ((21, 6), (22, 6)),\n ((21, 6), (20, 6)),\n ((7, 2), (8, 2)),\n ((24, 9), (24, 10)),\n ((24, 9), (24, 8)),\n ((17, 6), (18, 6)),\n ((17, 6), (16, 6)),\n ((7, 6), (8, 6)),\n ((24, 5), (24, 6)),\n ((12, 6), (13, 6)),\n ((12, 6), (11, 6)),\n ((6, 3), (6, 4)),\n ((24, 14), (25, 14)),\n ((24, 14), (23, 14)),\n ((22, 7), (22, 8)),\n ((22, 7), (22, 6)),\n ((15, 4), (16, 4)),\n ((15, 4), (14, 4)),\n ((8, 6), (9, 6)),\n ((8, 6), (7, 6)),\n ((20, 4), (21, 4)),\n ((20, 4), (19, 4)),\n ((22, 10), (22, 11)),\n ((22, 10), (22, 9)),\n ((26, 12), (25, 12)),\n ((24, 10), (24, 11)),\n ((24, 10), (24, 9)),\n ((6, 4), (6, 5)),\n ((6, 4), (6, 3)),\n ((11, 4), (12, 4)),\n ((11, 4), (10, 4)),\n ((8, 2), (7, 2)),\n ((10, 4), (11, 4)),\n ((10, 4), (9, 4)),\n ((16, 4), (17, 4)),\n ((16, 4), (15, 4)),\n ((19, 6), (20, 6)),\n ((19, 6), (18, 6)),\n ((24, 6), (24, 7)),\n ((24, 6), (24, 5)),\n ((9, 3), (9, 4)),\n ((14, 6), (15, 6)),\n ((14, 6), (13, 6)),\n ((13, 6), (14, 6)),\n ((13, 6), (12, 6)),\n ((22, 4), (23, 4)),\n ((22, 4), (21, 4)),\n ((21, 4), (22, 4)),\n ((21, 4), (20, 4)),\n ((18, 6), (19, 6)),\n ((18, 6), (17, 6)),\n ((25, 14), (26, 14)),\n ((25, 14), (24, 14)),\n ((23, 14), (24, 14)),\n ((22, 11), (22, 12)),\n ((22, 11), (22, 10)),\n ((24, 11), (24, 12)),\n ((24, 11), (24, 10)),\n ((9, 6), (10, 6)),\n ((9, 6), (8, 6)),\n ((6, 5), (6, 4)),\n ((17, 4), (18, 4)),\n ((17, 4), (16, 4)),\n ((24, 7), (24, 8)),\n ((24, 7), (24, 6)),\n ((22, 12), (22, 13)),\n ((22, 12), (22, 11)),\n ((15, 6), (16, 6)),\n ((15, 6), (14, 6)),\n ((12, 4), (13, 4)),\n ((12, 4), (11, 4)),\n ((20, 6), (21, 6)),\n ((20, 6), (19, 6)),\n ((22, 8), (22, 9)),\n ((22, 8), (22, 7)),\n ((24, 12), (25, 12)),\n ((24, 12), (24, 11)),\n ((11, 6), (12, 6)),\n ((11, 6), (10, 6)),\n ((8, 4), (9, 4))]"
     },
     "execution_count": 705,
     "metadata": {},
     "output_type": "execute_result"
    }
   ],
   "source": [
    "get_path_border(paths[(0,4)])"
   ]
  },
  {
   "cell_type": "code",
   "execution_count": 706,
   "metadata": {
    "pycharm": {
     "name": "#%%\n"
    }
   },
   "outputs": [],
   "source": [
    "paths_lst = [(k, v) for k, v in paths.items()]\n",
    "\n",
    "transformed_points = []\n",
    "for room in chosen_rooms:\n",
    "    points = get_points(room)\n",
    "    transformed_points.append(list(map(lambda x:toG(x[0], x[1]), points)))\n",
    "    \n",
    "\n",
    "def checkIntersection(setA, setB):\n",
    "    intersection = setA.intersection(set(setB).union(set(get_path_border(setB))))\n",
    "    if len(intersection) > 0:\n",
    "        return True\n",
    "    return False\n",
    "\n"
   ]
  },
  {
   "cell_type": "code",
   "execution_count": 707,
   "metadata": {
    "collapsed": true,
    "jupyter": {
     "outputs_hidden": true
    },
    "pycharm": {
     "name": "#%%\n"
    }
   },
   "outputs": [
    {
     "name": "stdout",
     "output_type": "stream",
     "text": [
      "(6, 8)\n",
      "6 8\n"
     ]
    }
   ],
   "source": [
    "import itertools\n",
    "import networkx as nx\n",
    "edge_id = 0\n",
    "# 1\n",
    "room_G = nx.Graph()\n",
    "for i, room in enumerate(chosen_rooms):\n",
    "    room_G.add_node(i, room=room, points=transformed_points[i])\n",
    "# 2\n",
    "for corridor_key, corridor_points in paths_lst:\n",
    "    start_room_index = corridor_key[0]\n",
    "    end_room_index = corridor_key[1]\n",
    "    # 3\n",
    "    corridor_points = set(corridor_points)\n",
    "    # 4, 5, 6\n",
    "    start_room_points = set(transformed_points[start_room_index])\n",
    "    end_room_points = set(transformed_points[end_room_index])\n",
    "    corridor_points -= start_room_points\n",
    "    corridor_points -= end_room_points\n",
    "\n",
    "    # 7\n",
    "    crossed_corridors = []\n",
    "    crossed_rooms = []\n",
    "    for i, room in enumerate(transformed_points):\n",
    "        room_points = set(room)\n",
    "        if checkIntersection(room_points, corridor_points):\n",
    "            crossed_rooms.append(i)\n",
    "    for j, path in enumerate(paths_lst):\n",
    "        if edge_id == j:\n",
    "            continue\n",
    "        path_points = set(path[1])\n",
    "        if checkIntersection(path_points, corridor_points):\n",
    "            crossed_corridors.append(j)\n",
    "    room_G.add_edge(start_room_index, end_room_index, corridor_key=edge_id, crossed_corridors=crossed_corridors, crossed_rooms=crossed_rooms)\n",
    "    edge_id += 1\n",
    "    #print(corridor_key)\n",
    "print(corridor_key)\n",
    "print(start_room_index, end_room_index)"
   ]
  },
  {
   "cell_type": "code",
   "execution_count": 708,
   "outputs": [
    {
     "data": {
      "text/plain": "[(5, 0),\n (5, 1),\n (5, 2),\n (5, 3),\n (6, 0),\n (6, 1),\n (6, 2),\n (6, 3),\n (7, 0),\n (7, 1),\n (7, 2),\n (7, 3),\n (8, 0),\n (8, 1),\n (8, 2),\n (8, 3)]"
     },
     "execution_count": 708,
     "metadata": {},
     "output_type": "execute_result"
    }
   ],
   "source": [
    "transformed_points[0]"
   ],
   "metadata": {
    "collapsed": false,
    "pycharm": {
     "name": "#%%\n"
    }
   }
  },
  {
   "cell_type": "code",
   "execution_count": 709,
   "metadata": {
    "pycharm": {
     "name": "#%%\n"
    }
   },
   "outputs": [
    {
     "data": {
      "text/plain": "<Figure size 640x480 with 1 Axes>",
      "image/png": "[encoded data removed]"
     },
     "metadata": {},
     "output_type": "display_data"
    }
   ],
   "source": [
    "nx.draw(room_G, with_labels=True)\n",
    "edgs=room_G.edges(data=True)"
   ]
  },
  {
   "cell_type": "code",
   "execution_count": 710,
   "metadata": {
    "pycharm": {
     "name": "#%%\n"
    }
   },
   "outputs": [
    {
     "name": "stdout",
     "output_type": "stream",
     "text": [
      "(0, 2, {'corridor_key': 0, 'crossed_corridors': [], 'crossed_rooms': []})\n",
      "(0, 8, {'corridor_key': 13, 'crossed_corridors': [15, 17, 20, 25, 31, 35], 'crossed_rooms': []})\n",
      "(0, 4, {'corridor_key': 17, 'crossed_corridors': [13, 15, 20, 25, 31, 35], 'crossed_rooms': []})\n",
      "(0, 5, {'corridor_key': 19, 'crossed_corridors': [12, 16, 20, 21, 25, 26, 27, 28, 29], 'crossed_rooms': []})\n",
      "(0, 3, {'corridor_key': 23, 'crossed_corridors': [24, 30, 33, 34, 35], 'crossed_rooms': []})\n",
      "(0, 7, {'corridor_key': 27, 'crossed_corridors': [12, 16, 19, 20, 21, 25, 26, 28, 29], 'crossed_rooms': []})\n",
      "(0, 1, {'corridor_key': 30, 'crossed_corridors': [4, 5, 9, 10, 11, 16, 18, 23, 24, 26, 28, 29, 33, 34, 35], 'crossed_rooms': [3]})\n",
      "(0, 6, {'corridor_key': 33, 'crossed_corridors': [5, 23, 24, 29, 30, 34, 35], 'crossed_rooms': [3]})\n",
      "(1, 5, {'corridor_key': 1, 'crossed_corridors': [], 'crossed_rooms': []})\n",
      "(1, 7, {'corridor_key': 2, 'crossed_corridors': [18], 'crossed_rooms': []})\n",
      "(1, 3, {'corridor_key': 9, 'crossed_corridors': [10, 11, 18, 30], 'crossed_rooms': []})\n",
      "(1, 6, {'corridor_key': 11, 'crossed_corridors': [9, 10, 18, 30], 'crossed_rooms': []})\n",
      "(1, 4, {'corridor_key': 14, 'crossed_corridors': [31, 32], 'crossed_rooms': []})\n",
      "(1, 2, {'corridor_key': 31, 'crossed_corridors': [6, 12, 13, 14, 15, 17, 20, 21, 22, 25, 26, 28, 29, 32, 35], 'crossed_rooms': [4]})\n",
      "(1, 8, {'corridor_key': 32, 'crossed_corridors': [14, 31], 'crossed_rooms': [4]})\n",
      "(2, 8, {'corridor_key': 3, 'crossed_corridors': [], 'crossed_rooms': []})\n",
      "(2, 4, {'corridor_key': 15, 'crossed_corridors': [13, 17, 20, 25, 31, 35], 'crossed_rooms': []})\n",
      "(2, 5, {'corridor_key': 20, 'crossed_corridors': [12, 13, 15, 16, 17, 19, 21, 25, 26, 27, 28, 29, 31, 35], 'crossed_rooms': []})\n",
      "(2, 3, {'corridor_key': 24, 'crossed_corridors': [23, 30, 33, 34, 35], 'crossed_rooms': [0]})\n",
      "(2, 7, {'corridor_key': 25, 'crossed_corridors': [12, 13, 15, 16, 17, 19, 20, 21, 26, 27, 28, 29, 31, 35], 'crossed_rooms': []})\n",
      "(2, 6, {'corridor_key': 34, 'crossed_corridors': [5, 23, 24, 29, 30, 33, 35], 'crossed_rooms': [0, 3]})\n",
      "(3, 5, {'corridor_key': 4, 'crossed_corridors': [], 'crossed_rooms': []})\n",
      "(3, 6, {'corridor_key': 5, 'crossed_corridors': [29, 33, 34, 35], 'crossed_rooms': []})\n",
      "(3, 7, {'corridor_key': 16, 'crossed_corridors': [12, 19, 20, 21, 25, 26, 27, 28, 29], 'crossed_rooms': []})\n",
      "(3, 4, {'corridor_key': 26, 'crossed_corridors': [12, 16, 19, 20, 21, 25, 27, 28, 29], 'crossed_rooms': []})\n",
      "(3, 8, {'corridor_key': 28, 'crossed_corridors': [7, 12, 15, 16, 17, 19, 20, 21, 22, 25, 26, 27, 29, 31], 'crossed_rooms': [4]})\n",
      "(4, 7, {'corridor_key': 6, 'crossed_corridors': [22], 'crossed_rooms': []})\n",
      "(4, 8, {'corridor_key': 7, 'crossed_corridors': [21, 22, 28], 'crossed_rooms': []})\n",
      "(4, 5, {'corridor_key': 12, 'crossed_corridors': [16, 19, 20, 21, 25, 26, 27, 28, 29], 'crossed_rooms': []})\n",
      "(4, 6, {'corridor_key': 29, 'crossed_corridors': [5, 12, 16, 19, 20, 21, 23, 24, 25, 26, 27, 28, 30, 33, 34, 35], 'crossed_rooms': [3]})\n",
      "(5, 7, {'corridor_key': 8, 'crossed_corridors': [], 'crossed_rooms': []})\n",
      "(5, 6, {'corridor_key': 10, 'crossed_corridors': [9, 11, 18, 30], 'crossed_rooms': []})\n",
      "(5, 8, {'corridor_key': 21, 'crossed_corridors': [7, 12, 15, 16, 17, 19, 20, 22, 25, 26, 27, 28, 29, 31], 'crossed_rooms': [4]})\n",
      "(6, 7, {'corridor_key': 18, 'crossed_corridors': [1, 2, 9, 10, 11, 30], 'crossed_rooms': [1]})\n",
      "(6, 8, {'corridor_key': 35, 'crossed_corridors': [5, 13, 15, 17, 19, 20, 23, 24, 25, 27, 29, 30, 31, 33, 34], 'crossed_rooms': [0, 3]})\n",
      "(7, 8, {'corridor_key': 22, 'crossed_corridors': [6, 7, 12, 15, 17, 21, 26, 28, 29, 31], 'crossed_rooms': [4]})\n"
     ]
    }
   ],
   "source": [
    "for e in edgs:\n",
    "    print(e)"
   ]
  },
  {
   "cell_type": "code",
   "execution_count": 711,
   "metadata": {
    "pycharm": {
     "name": "#%%\n"
    }
   },
   "outputs": [],
   "source": [
    "import numpy as np\n",
    "import matplotlib.pyplot as plt\n",
    "import networkx as nx\n",
    "\n",
    "def _expand(G, explored_nodes, explored_edges):\n",
    "    \"\"\"\n",
    "    Expand existing solution by a process akin to BFS.\n",
    "\n",
    "    Arguments:\n",
    "    ----------\n",
    "    G: networkx.Graph() instance\n",
    "        full graph\n",
    "\n",
    "    explored_nodes: set of ints\n",
    "        nodes visited\n",
    "\n",
    "    explored_edges: set of 2-tuples\n",
    "        edges visited\n",
    "\n",
    "    Returns:\n",
    "    --------\n",
    "    solutions: list, where each entry in turns contains two sets corresponding to explored_nodes and explored_edges\n",
    "        all possible expansions of explored_nodes and explored_edges\n",
    "\n",
    "    \"\"\"\n",
    "    frontier_nodes = list()\n",
    "    frontier_edges = list()\n",
    "    for v in explored_nodes:\n",
    "        for u in nx.neighbors(G,v):\n",
    "            if not (u in explored_nodes):\n",
    "                frontier_nodes.append(u)\n",
    "                frontier_edges.append([(u,v), (v,u)])\n",
    "\n",
    "    return zip([explored_nodes | frozenset([v]) for v in frontier_nodes], [explored_edges | frozenset(e) for e in frontier_edges])\n",
    "\n",
    "def find_all_spanning_trees(G, root=0):\n",
    "    \"\"\"\n",
    "    Find all spanning trees of a Graph.\n",
    "\n",
    "    Arguments:\n",
    "    ----------\n",
    "    G: networkx.Graph() instance\n",
    "        full graph\n",
    "\n",
    "    Returns:\n",
    "    ST: list of networkx.Graph() instances\n",
    "        list of all spanning trees\n",
    "\n",
    "    \"\"\"\n",
    "\n",
    "    # initialise solution\n",
    "    explored_nodes = frozenset([root])\n",
    "    explored_edges = frozenset([])\n",
    "    solutions = [(explored_nodes, explored_edges)]\n",
    "    # we need to expand solutions number_of_nodes-1 times\n",
    "    for ii in range(G.number_of_nodes()-1):\n",
    "        # get all new solutions\n",
    "        solutions = [_expand(G, nodes, edges) for (nodes, edges) in solutions]\n",
    "        # flatten nested structure and get unique expansions\n",
    "        solutions = set([item for sublist in solutions for item in sublist])\n",
    "\n",
    "    return [nx.from_edgelist(edges) for (nodes, edges) in solutions]"
   ]
  },
  {
   "cell_type": "code",
   "execution_count": 712,
   "metadata": {
    "pycharm": {
     "name": "#%%\n"
    }
   },
   "outputs": [],
   "source": [
    "def get_valid_skeletons(G_room, room_indices):\n",
    "    group = G_room.subgraph(room_indices)\n",
    "    #nx.draw(group, with_labels=True)\n",
    "    all_spanning_trees = find_all_spanning_trees(group, root=room_indices[0])\n",
    "    valid_skeletons = []\n",
    "    for spanning_tree in all_spanning_trees:\n",
    "        edges = list(spanning_tree.edges())\n",
    "        intersections = []\n",
    "        corridor_keys = []\n",
    "        valid_skeleton = True\n",
    "        for edge_id in edges:\n",
    "            edge = G_room[edge_id[0]][edge_id[1]]\n",
    "            if all(n in room_indices for n in edge[\"crossed_rooms\"]):\n",
    "                intersections += edge[\"crossed_corridors\"]\n",
    "                corridor_keys.append(edge[\"corridor_key\"])\n",
    "            else:\n",
    "                valid_skeleton = False\n",
    "        if valid_skeleton:\n",
    "            valid_skeletons.append({\"edges\": set(corridor_keys), \"intersections\": set(intersections)})\n",
    "    return valid_skeletons\n",
    "\n"
   ]
  },
  {
   "cell_type": "code",
   "execution_count": 713,
   "metadata": {
    "pycharm": {
     "name": "#%%\n"
    }
   },
   "outputs": [],
   "source": [
    "import itertools\n",
    "\n",
    "available_indices = set(range(num_rooms))\n",
    "\n",
    "def get_group_skeletons(available,group_size):\n",
    "    combs = list(itertools.combinations(available,group_size))\n",
    "    for c in combs:\n",
    "        skels = get_valid_skeletons(room_G, list(c))\n",
    "        if len(skels)!=0:\n",
    "            yield (set(c),skels)\n",
    "    return (False,False)"
   ]
  },
  {
   "cell_type": "code",
   "execution_count": 714,
   "metadata": {
    "pycharm": {
     "name": "#%%\n"
    }
   },
   "outputs": [],
   "source": [
    "def iterate_G(available,group_sizes,i):\n",
    "    group_size = group_sizes[0]\n",
    "    group_sizes = group_sizes[1:]\n",
    "    iterator = get_group_skeletons(available,group_size)\n",
    "    for ixs,skels in iterator:\n",
    "        if ixs == False:\n",
    "            return []\n",
    "        if len(group_sizes)!=0:\n",
    "            available_ = available-ixs\n",
    "            iterator_ = iterate_G(available_,group_sizes,i+1)\n",
    "            finished = False\n",
    "            for groups in iterator_:\n",
    "                if len(groups) != 0:\n",
    "                    groups.append({'vertices':ixs,'skeletons':skels})\n",
    "                    yield groups\n",
    "                else:\n",
    "                    yield []\n",
    "        else:\n",
    "            yield [{'vertices':ixs,'skeletons':skels}] "
   ]
  },
  {
   "cell_type": "code",
   "execution_count": 715,
   "metadata": {
    "pycharm": {
     "name": "#%%\n"
    }
   },
   "outputs": [],
   "source": [
    "def get_possible_split(groups,intersections=set(),i=0):\n",
    "    group = groups[0]\n",
    "    if len(groups)==1:\n",
    "        groups = []\n",
    "    else:\n",
    "        groups = groups[1:]\n",
    "    for s1 in group['skeletons']:\n",
    "        if len(s1['edges'].intersection(intersections))==0: # good\n",
    "            if len(groups)!=0:\n",
    "                it = get_possible_split(groups,intersections.union(s1['intersections']),i=i+1)\n",
    "                for s2 in it:\n",
    "                    s2.append(s1)\n",
    "                    yield s2\n",
    "            else:\n",
    "                yield [s1]\n",
    "        else:\n",
    "            yield []\n",
    "    return []"
   ]
  },
  {
   "cell_type": "code",
   "execution_count": 716,
   "metadata": {
    "pycharm": {
     "name": "#%%\n"
    }
   },
   "outputs": [
    {
     "name": "stdout",
     "output_type": "stream",
     "text": [
      "14 :::: [{'edges': {2, 27}, 'intersections': {12, 16, 18, 19, 20, 21, 25, 26, 28, 29}}, {'edges': {3, 7}, 'intersections': {28, 21, 22}}, {'edges': {4, 5}, 'intersections': {33, 34, 35, 29}}]\n"
     ]
    }
   ],
   "source": [
    "splits_it = iterate_G(available_indices,[3,3,3],0)\n",
    "found = False\n",
    "for i,split in enumerate(splits_it):\n",
    "    skels_it = get_possible_split(split)\n",
    "    for skels in skels_it:\n",
    "        if len(skels)==3:\n",
    "            found = True\n",
    "            print(i,'::::',skels)\n",
    "            break\n",
    "    #if i>100:\n",
    "    if found==True:\n",
    "        break"
   ]
  },
  {
   "cell_type": "code",
   "execution_count": 717,
   "metadata": {
    "pycharm": {
     "name": "#%%\n"
    }
   },
   "outputs": [
    {
     "data": {
      "text/plain": "[{'edges': {2, 27}, 'intersections': {12, 16, 18, 19, 20, 21, 25, 26, 28, 29}},\n {'edges': {3, 7}, 'intersections': {21, 22, 28}},\n {'edges': {4, 5}, 'intersections': {29, 33, 34, 35}}]"
     },
     "execution_count": 717,
     "metadata": {},
     "output_type": "execute_result"
    }
   ],
   "source": [
    "skels"
   ]
  },
  {
   "cell_type": "code",
   "execution_count": 718,
   "outputs": [],
   "source": [
    "vertices_edges_dict = nx.get_edge_attributes(room_G,'corridor_key')\n",
    "vertices_edges_dict_inv = {v: k for k, v in vertices_edges_dict.items()}"
   ],
   "metadata": {
    "collapsed": false,
    "pycharm": {
     "name": "#%%\n"
    }
   }
  },
  {
   "cell_type": "code",
   "execution_count": 719,
   "outputs": [
    {
     "name": "stdout",
     "output_type": "stream",
     "text": [
      "{0: (0, 2), 13: (0, 8), 17: (0, 4), 19: (0, 5), 23: (0, 3), 27: (0, 7), 30: (0, 1), 33: (0, 6), 1: (1, 5), 2: (1, 7), 9: (1, 3), 11: (1, 6), 14: (1, 4), 31: (1, 2), 32: (1, 8), 3: (2, 8), 15: (2, 4), 20: (2, 5), 24: (2, 3), 25: (2, 7), 34: (2, 6), 4: (3, 5), 5: (3, 6), 16: (3, 7), 26: (3, 4), 28: (3, 8), 6: (4, 7), 7: (4, 8), 12: (4, 5), 29: (4, 6), 8: (5, 7), 10: (5, 6), 21: (5, 8), 18: (6, 7), 35: (6, 8), 22: (7, 8)}\n"
     ]
    }
   ],
   "source": [
    "print(vertices_edges_dict_inv)"
   ],
   "metadata": {
    "collapsed": false,
    "pycharm": {
     "name": "#%%\n"
    }
   }
  },
  {
   "cell_type": "code",
   "execution_count": 720,
   "outputs": [],
   "source": [
    "def get_vertices_from_skels(vertices_edges_dict, skels):\n",
    "    skel_vertices = {}\n",
    "    if type(skels) == list:\n",
    "        for skel in skels:\n",
    "            skel_edges = skel['edges']\n",
    "            for edge_id in skel_edges:\n",
    "                skel_vertices[edge_id] = vertices_edges_dict[edge_id]\n",
    "    else:\n",
    "        skel_edges = skels['edges']\n",
    "        for edge_id in skel_edges:\n",
    "            skel_vertices[edge_id] = vertices_edges_dict[edge_id]\n",
    "    return skel_vertices"
   ],
   "metadata": {
    "collapsed": false,
    "pycharm": {
     "name": "#%%\n"
    }
   }
  },
  {
   "cell_type": "code",
   "execution_count": 732,
   "outputs": [],
   "source": [
    "def get_vertices_from_edge_ids(edge_ids):\n",
    "    skel_vertices = []\n",
    "    for entry in vertices_edges_dict_inv:\n",
    "        for edge_id in edge_ids:\n",
    "            if edge_id == entry:\n",
    "                skel_vertices.append(vertices_edges_dict_inv[edge_id])\n",
    "    return skel_vertices"
   ],
   "metadata": {
    "collapsed": false,
    "pycharm": {
     "name": "#%%\n"
    }
   }
  },
  {
   "cell_type": "code",
   "execution_count": 733,
   "outputs": [],
   "source": [
    "def get_edge_ids_from_vertices(vertex_tuples, vertices_edges_dict):\n",
    "    edge_ids = []\n",
    "    for vertex_tuple in vertex_tuples:\n",
    "        for edge_id, edge_vertices in vertices_edges_dict.items():\n",
    "            if vertex_tuple == edge_vertices:\n",
    "                edge_ids.append(edge_id)\n",
    "    return edge_ids"
   ],
   "metadata": {
    "collapsed": false,
    "pycharm": {
     "name": "#%%\n"
    }
   }
  },
  {
   "cell_type": "code",
   "execution_count": 767,
   "outputs": [
    {
     "name": "stdout",
     "output_type": "stream",
     "text": [
      "4\n",
      "5\n"
     ]
    },
    {
     "data": {
      "text/plain": "{(0, 21),\n (0, 22),\n (0, 23),\n (0, 25),\n (0, 26),\n (0, 27),\n (1, 21),\n (1, 22),\n (1, 23),\n (1, 25),\n (1, 26),\n (1, 27),\n (2, 21),\n (2, 22),\n (2, 23),\n (2, 24),\n (2, 25),\n (2, 26),\n (2, 27),\n (3, 21),\n (3, 22),\n (3, 23),\n (4, 21),\n (4, 22),\n (4, 23),\n (5, 23),\n (6, 21),\n (6, 22),\n (6, 23),\n (7, 21),\n (7, 22),\n (7, 23),\n (8, 21),\n (8, 22),\n (8, 23),\n (9, 21),\n (9, 22),\n (9, 23),\n (10, 21),\n (10, 22),\n (10, 23),\n (11, 21),\n (11, 22),\n (11, 23),\n (12, 21),\n (12, 22),\n (12, 23),\n (13, 21),\n (13, 22),\n (13, 23),\n (14, 21),\n (14, 22),\n (14, 23),\n (15, 21),\n (15, 22),\n (15, 23),\n (16, 21),\n (16, 22),\n (16, 23),\n (17, 21),\n (17, 22),\n (17, 23)}"
     },
     "execution_count": 767,
     "metadata": {},
     "output_type": "execute_result"
    }
   ],
   "source": [
    "# vytvořit funkci do které dám group id a vrátí se mi množina bodů (všech roomek a všech koridorů v tom skeletonu)\n",
    "# body koridorů zjistím z paths_lst, ten je indexován edge_id z skels\n",
    "# body roomek zjistím z transformed_points, id roomky z grafu koresponduje s indexováním transformed_points_dict\n",
    "from itertools import chain\n",
    "def get_points_from_group(group_id):\n",
    "    edge_ids = []\n",
    "    room_ids = set()\n",
    "    for i, skel in enumerate(skels):\n",
    "        if i == group_id:\n",
    "            edge_ids.append(list(skel[\"edges\"]))\n",
    "            edge_ids = list(chain.from_iterable(edge_ids))\n",
    "            room_ids = set(list(chain.from_iterable(get_vertices_from_edge_ids(edge_ids))))\n",
    "    room_points = []\n",
    "    transformed_points_dict = nx.get_node_attributes(room_G, \"points\")\n",
    "    for room in transformed_points_dict:\n",
    "        for id in room_ids:\n",
    "            if room == id:\n",
    "                room_points.append(transformed_points_dict[id])\n",
    "    corridor_points = []\n",
    "    group_edges = skels[group_id][\"edges\"]\n",
    "    for edge in group_edges:\n",
    "        print(edge)\n",
    "        corridor_points.append(paths_lst[edge][1])\n",
    "    corridor_points = [tuple for sublist in corridor_points for tuple in sublist]\n",
    "    room_points = [tuple for sublist in room_points for tuple in sublist]\n",
    "    all_points = set(corridor_points).union(set(room_points))\n",
    "    return all_points\n",
    "get_points_from_group(2)"
   ],
   "metadata": {
    "collapsed": false,
    "pycharm": {
     "name": "#%%\n"
    }
   }
  },
  {
   "cell_type": "code",
   "execution_count": 724,
   "outputs": [
    {
     "data": {
      "text/plain": "[{'edges': {2, 27}, 'intersections': {12, 16, 18, 19, 20, 21, 25, 26, 28, 29}},\n {'edges': {3, 7}, 'intersections': {21, 22, 28}},\n {'edges': {4, 5}, 'intersections': {29, 33, 34, 35}}]"
     },
     "execution_count": 724,
     "metadata": {},
     "output_type": "execute_result"
    }
   ],
   "source": [
    "skels"
   ],
   "metadata": {
    "collapsed": false,
    "pycharm": {
     "name": "#%%\n"
    }
   }
  },
  {
   "cell_type": "code",
   "execution_count": 725,
   "outputs": [],
   "source": [
    "# skels is a list of skeletons for each group such as the one in the cell above\n",
    "# [{'edges': {0, 12}, 'intersections': {15, 21, 24, 25, 28, 29}},\n",
    "# {'edges': {5, 34}, 'intersections': {31, 35}},\n",
    "# {'edges': {9, 10}, 'intersections': {14}}]\n",
    "# groups is a tuple of indices (i,j) of the groups which should be connected..it uses the skels list indices\n",
    "# [0,1]\n",
    "# setA = get all vertices from group i (use get_vertices_from_edge_ids)\n",
    "# setB = get all vertices from group j (use get_vertices_from_edge_ids)\n",
    "# create all possible pairs (crossing edges) where the first element is from setA and the second from setB\n",
    "# iterate over the crossing edges (refered here as e): (itertools)\n",
    "# now when we speak about corridors we mean corridors which are present in the skeletons in the skel list\n",
    "# these corridors are stored in the 'edges' key of a given skeleton\n",
    "# if the crossing_edge e intersects some room or corridor from some other group than i or j then skip this edge (other groups are present in skels list)\n",
    "# intA = get intersection between the crossing edge e and anything (either room or chosen corridor) in group i\n",
    "# intB = same thing but for group j\n",
    "# if both intA and intB are not empty then skip this crossing edge\n",
    "# else return this edge"
   ],
   "metadata": {
    "collapsed": false,
    "pycharm": {
     "name": "#%%\n"
    }
   }
  },
  {
   "cell_type": "code",
   "execution_count": 726,
   "outputs": [
    {
     "name": "stdout",
     "output_type": "stream",
     "text": [
      "{2: (1, 7), 27: (0, 7)}\n",
      "{0, 1, 7}\n",
      "[(0, 8), (0, 2), (0, 4), (1, 8), (1, 2), (1, 4), (7, 8), (7, 2), (7, 4)]\n"
     ]
    }
   ],
   "source": [
    "groups_to_connect = (0,1)\n",
    "def get_crossing_edges(skels, groups_to_connect):\n",
    "    i, j = groups_to_connect\n",
    "\n",
    "    setA = get_vertices_from_skels(vertices_edges_dict_inv, skels[i])\n",
    "    setB = get_vertices_from_skels(vertices_edges_dict_inv, skels[j])\n",
    "    print(setA)\n",
    "\n",
    "    setA_vertices = set([vertex for edge in setA.values() for vertex in edge])\n",
    "    setB_vertices = set([vertex for edge in setB.values() for vertex in edge])\n",
    "    print(setA_vertices)\n",
    "\n",
    "    crossing_edges = list(itertools.product(setA_vertices, setB_vertices))\n",
    "    return crossing_edges\n",
    "\n",
    "crossing_edges = get_crossing_edges(skels, groups_to_connect)\n",
    "print(crossing_edges)"
   ],
   "metadata": {
    "collapsed": false,
    "pycharm": {
     "name": "#%%\n"
    }
   }
  },
  {
   "cell_type": "code",
   "execution_count": 727,
   "outputs": [
    {
     "name": "stdout",
     "output_type": "stream",
     "text": [
      "[{'edges': {2, 27}, 'intersections': {12, 16, 18, 19, 20, 21, 25, 26, 28, 29}}, {'edges': {3, 7}, 'intersections': {28, 21, 22}}, {'edges': {4, 5}, 'intersections': {33, 34, 35, 29}}]\n",
      "[13, 0, 17, 32, 31, 14, 22]\n",
      "13 False False\n"
     ]
    },
    {
     "data": {
      "text/plain": "13"
     },
     "execution_count": 727,
     "metadata": {},
     "output_type": "execute_result"
    }
   ],
   "source": [
    "import itertools\n",
    "#returns edge id\n",
    "def get_edges_from_skels(crossing_edges, groups_to_connect):\n",
    "    i,j = groups_to_connect\n",
    "    edge_ids = get_edge_ids_from_vertices(crossing_edges, vertices_edges_dict_inv)\n",
    "    print(edge_ids)\n",
    "    for e in edge_ids:\n",
    "        skip = False\n",
    "        for g in range(len(skels)):\n",
    "            if g not in (i, j):\n",
    "                if e in skels[g]['edges']:\n",
    "                    skip = True\n",
    "                    break\n",
    "        if skip:\n",
    "            continue\n",
    "        intA = e in skels[i]['intersections'] or e in skels[i]['edges']\n",
    "        intB = e in skels[j]['intersections'] or e in skels[j]['edges']\n",
    "        print(e, intA, intB)\n",
    "        if not(intA == False and intB == False):\n",
    "            continue\n",
    "        else:\n",
    "            return e\n",
    "print(skels)\n",
    "get_edges_from_skels(crossing_edges, groups_to_connect)"
   ],
   "metadata": {
    "collapsed": false,
    "pycharm": {
     "name": "#%%\n"
    }
   }
  },
  {
   "cell_type": "code",
   "execution_count": 746,
   "metadata": {
    "pycharm": {
     "name": "#%%\n"
    }
   },
   "outputs": [
    {
     "name": "stdout",
     "output_type": "stream",
     "text": [
      "(1, 5)\n",
      "##############################\n",
      "######################   #   #\n",
      "######################   #   #\n",
      "######################   #   #\n",
      "######################   #####\n",
      "######################   #####\n",
      "#    #########################\n",
      "#    #################   #####\n",
      "#    #################   #####\n",
      "#    #################   #   #\n",
      "######################   #   #\n",
      "#    #################   #   #\n",
      "#    #################   #   #\n",
      "#    #################   #   #\n",
      "#    #################   #   #\n",
      "######################   #   #\n",
      "#    #################       #\n",
      "#    #################   #   #\n",
      "#    #################   #   #\n",
      "#    #####################   #\n",
      "#    #################   #   #\n",
      "#    #################   #####\n",
      "#    #################   #####\n",
      "#    #################   #####\n",
      "#    #               #   #####\n",
      "#    #               #########\n",
      "#    #               #########\n",
      "#    #               #########\n",
      "#    #               #########\n",
      "##############################\n",
      "\n"
     ]
    }
   ],
   "source": [
    "ix = 1\n",
    "print(paths_lst[ix][0])\n",
    "walkable_points1 = set(list(walkable_points) + list(map(toL,paths_lst[ix][1])))\n",
    "print(create_string(walkable_points1))"
   ]
  },
  {
   "cell_type": "code",
   "execution_count": 760,
   "metadata": {
    "collapsed": true,
    "jupyter": {
     "outputs_hidden": true
    },
    "pycharm": {
     "name": "#%%\n"
    }
   },
   "outputs": [
    {
     "data": {
      "text/plain": "((3, 5),\n [(3, 23),\n  (4, 23),\n  (5, 23),\n  (6, 23),\n  (7, 23),\n  (8, 23),\n  (9, 23),\n  (10, 23),\n  (11, 23),\n  (12, 23),\n  (13, 23)])"
     },
     "execution_count": 760,
     "metadata": {},
     "output_type": "execute_result"
    }
   ],
   "source": [
    "paths_lst[4]"
   ]
  },
  {
   "cell_type": "code",
   "execution_count": 729,
   "metadata": {
    "pycharm": {
     "name": "#%%\n"
    }
   },
   "outputs": [],
   "source": []
  }
 ],
 "metadata": {
  "kernelspec": {
   "display_name": "Python 3",
   "language": "python",
   "name": "python3"
  },
  "language_info": {
   "codemirror_mode": {
    "name": "ipython",
    "version": 3
   },
   "file_extension": ".py",
   "mimetype": "text/x-python",
   "name": "python",
   "nbconvert_exporter": "python",
   "pygments_lexer": "ipython3",
   "version": "3.7.6"
  }
 },
 "nbformat": 4,
 "nbformat_minor": 4
}