{
 "cells": [
  {
   "cell_type": "code",
   "execution_count": 1,
   "metadata": {},
   "outputs": [],
   "source": [
    "import matplotlib.pyplot as plt\n",
    "import pickle"
   ]
  },
  {
   "cell_type": "code",
   "execution_count": 9,
   "metadata": {},
   "outputs": [],
   "source": [
    "%load_ext autoreload\n",
    "%autoreload 2\n",
    "from generateLayout import *"
   ]
  },
  {
   "cell_type": "code",
   "execution_count": 10,
   "metadata": {
    "collapsed": false,
    "jupyter": {
     "outputs_hidden": false
    }
   },
   "outputs": [],
   "source": [
    "with open('testGraph.pkl', 'rb') as file:\n",
    "    molecules_G = pickle.load(file)"
   ]
  },
  {
   "cell_type": "code",
   "execution_count": 11,
   "metadata": {
    "collapsed": false,
    "jupyter": {
     "outputs_hidden": false
    }
   },
   "outputs": [],
   "source": [
    "def load_parse_molecules(molecules_G):\n",
    "    node_data = molecules_G[\"layout_spec\"].nodes(data=True)\n",
    "    edge_data = molecules_G[\"layout_spec\"].edges(data=True)\n",
    "    node_data = dict(node_data)\n",
    "    group_id_room_number = {}\n",
    "    for i, data in node_data.items():\n",
    "        group_id_room_number[i] = 2 if len(data['data']) == 1 else len(data['data'])\n",
    "    group_sizes = list(group_id_room_number.values())\n",
    "    num_rooms = sum(group_sizes)\n",
    "    group_ids = [k for k, v in node_data.items()]\n",
    "    groups_to_connect = [(edge[0], edge[1]) for edge in edge_data]\n",
    "    return node_data, num_rooms, group_sizes, group_ids, groups_to_connect"
   ]
  },
  {
   "cell_type": "code",
   "execution_count": 12,
   "metadata": {
    "collapsed": false,
    "jupyter": {
     "outputs_hidden": false
    }
   },
   "outputs": [],
   "source": [
    "node_data, num_rooms, group_sizes, group_ids, groups_to_connect = load_parse_molecules(molecules_G)"
   ]
  },
  {
   "cell_type": "code",
   "execution_count": 13,
   "metadata": {
    "collapsed": false,
    "jupyter": {
     "outputs_hidden": false
    }
   },
   "outputs": [
    {
     "name": "stdout",
     "output_type": "stream",
     "text": [
      "7\n",
      "[2, 3, 2]\n",
      "[2, 1, 0]\n",
      "[(2, 1), (1, 0)]\n"
     ]
    }
   ],
   "source": [
    "print(num_rooms)\n",
    "print(group_sizes)\n",
    "print(group_ids)\n",
    "print(groups_to_connect)"
   ]
  },
  {
   "cell_type": "code",
   "execution_count": 14,
   "metadata": {
    "collapsed": false,
    "jupyter": {
     "outputs_hidden": false
    }
   },
   "outputs": [],
   "source": [
    "num_columns = 4\n",
    "grid_size = 30\n",
    "min_room_size = 3\n",
    "roomspace = grid_size - (num_columns + 1)"
   ]
  },
  {
   "cell_type": "code",
   "execution_count": 15,
   "metadata": {
    "collapsed": false,
    "jupyter": {
     "outputs_hidden": false
    }
   },
   "outputs": [],
   "source": [
    "divisions = get_divisions(roomspace, num_columns, min_room_size)\n",
    "walkable_points, chosen_rooms = get_choosen_rooms(divisions, min_room_size, num_rooms)\n",
    "\n",
    "distances = {}\n",
    "for i, r1 in enumerate(chosen_rooms):\n",
    "    for j, r2 in enumerate(chosen_rooms):\n",
    "        if i < j:\n",
    "            distances[(i, j)] = get_distance(r1, r2)\n",
    "\n",
    "sorted_pairs = list(sorted(map(lambda x: (x[0], x[1]), distances.items()), key=lambda x: x[1]))\n",
    "G = get_grid_graph(grid_size, walkable_points, chosen_rooms)\n",
    "paths = get_paths(G, sorted_pairs, chosen_rooms, grid_size)\n",
    "paths_lst = [(k, v) for k, v in paths.items()]\n",
    "rooms_points = get_room_points(chosen_rooms)\n",
    "room_G = get_rooms_graph(chosen_rooms, paths_lst, rooms_points)"
   ]
  },
  {
   "cell_type": "code",
   "execution_count": 16,
   "metadata": {
    "collapsed": false,
    "jupyter": {
     "outputs_hidden": false
    }
   },
   "outputs": [
    {
     "name": "stdout",
     "output_type": "stream",
     "text": [
      "[(20, (2, 1)), (None, (1, 0))]\n",
      "0 :::: [{'edges': {0}, 'intersections': {12}}, {'edges': {2, 6}, 'intersections': {5, 7, 8, 11, 12, 14, 16, 19, 20}}, {'edges': {15}, 'intersections': set()}]\n"
     ]
    }
   ],
   "source": [
    "available_indices = set(range(num_rooms))  # num rooms=součet\n",
    "\n",
    "splits_it = iterate_G(available_indices, group_sizes, 0, room_G)\n",
    "\n",
    "found = False\n",
    "for i, split in enumerate(splits_it):\n",
    "    skels_it = get_possible_split(split)\n",
    "    for skels in skels_it:\n",
    "        if len(skels) == len(group_sizes):\n",
    "            crossing_edges = get_crossing_edges_list(skels, room_G, groups_to_connect, paths_lst)\n",
    "            #if None in crossing_edges:\n",
    "            #    print(crossing_edges)\n",
    "            #    continue\n",
    "            found = True\n",
    "            print(i, '::::', skels)\n",
    "            break\n",
    "    #if i>100:\n",
    "    if found == True:\n",
    "        break\n",
    "#crossing_edges = [] # zakomentovat\n",
    "#string = get_layout_str(walkable_points,skels,crossing_edges,paths_lst,grid_size)\n",
    "#print(string)"
   ]
  },
  {
   "cell_type": "code",
   "execution_count": 17,
   "metadata": {
    "collapsed": false,
    "jupyter": {
     "outputs_hidden": false
    }
   },
   "outputs": [],
   "source": [
    "def intersect_first_group(corridor_id, groups, room_G, skels, paths_lst):\n",
    "    group1 = groups[0]\n",
    "    group2 = groups[1]\n",
    "    rooms, corridor_points = paths_lst[corridor_id]\n",
    "    rooms_points = [get_points_from_room(i, room_G) for i in rooms]\n",
    "    rooms_points = [tuple for sublist in rooms_points for tuple in sublist]\n",
    "    rooms_points = set(rooms_points)\n",
    "    corridor_points = set(corridor_points)\n",
    "    corridor_points = corridor_points.difference(set(rooms_points))\n",
    "    vertices_edges_dict = nx.get_edge_attributes(room_G, 'corridor_key')\n",
    "    vertices_edges_dict_inv = {v: k for k, v in vertices_edges_dict.items()}\n",
    "    group1_points = get_points_from_group(group1, skels, vertices_edges_dict_inv, room_G, paths_lst)\n",
    "    group2_points = get_points_from_group(group2, skels, vertices_edges_dict_inv, room_G, paths_lst)\n",
    "    intersect_1 = group1_points.intersection(corridor_points)\n",
    "    intersect_2 = group2_points.intersection(corridor_points)\n",
    "    assert not (len(intersect_1) != 0 and len(intersect_2) != 0)\n",
    "    return len(intersect_1) != 0"
   ]
  },
  {
   "cell_type": "code",
   "execution_count": 18,
   "metadata": {
    "collapsed": false,
    "jupyter": {
     "outputs_hidden": false
    }
   },
   "outputs": [],
   "source": [
    "vertices_edges_dict = nx.get_edge_attributes(room_G, 'corridor_key')"
   ]
  },
  {
   "cell_type": "code",
   "execution_count": 19,
   "metadata": {
    "collapsed": false,
    "jupyter": {
     "outputs_hidden": false
    }
   },
   "outputs": [],
   "source": [
    "def get_rooms_from_skels(skels, vertices_edges_dict):\n",
    "    result = {}\n",
    "    for i, d in enumerate(skels):\n",
    "        rooms = []\n",
    "        for v in vertices_edges_dict.items():\n",
    "            if v[1] in d['edges']:\n",
    "                rooms.append(v[0])\n",
    "        result[i] = rooms\n",
    "    return result"
   ]
  },
  {
   "cell_type": "code",
   "execution_count": 20,
   "metadata": {
    "collapsed": false,
    "jupyter": {
     "outputs_hidden": false
    }
   },
   "outputs": [],
   "source": [
    "skels_rooms_dict = get_rooms_from_skels(skels, vertices_edges_dict)"
   ]
  },
  {
   "cell_type": "code",
   "execution_count": 21,
   "metadata": {
    "collapsed": false,
    "jupyter": {
     "outputs_hidden": false
    }
   },
   "outputs": [
    {
     "data": {
      "text/plain": [
       "{0: [(0, 1)], 1: [(2, 4), (2, 3)], 2: [(5, 6)]}"
      ]
     },
     "execution_count": 21,
     "metadata": {},
     "output_type": "execute_result"
    }
   ],
   "source": [
    "skels_rooms_dict"
   ]
  },
  {
   "cell_type": "code",
   "execution_count": 22,
   "metadata": {
    "collapsed": false,
    "jupyter": {
     "outputs_hidden": false
    }
   },
   "outputs": [],
   "source": [
    "def get_room_ids_for_group(skels_rooms_dict):\n",
    "    ret = {}\n",
    "    for k, v in skels_rooms_dict.items():\n",
    "        temp = []\n",
    "        for i in v:\n",
    "            temp += list(i)\n",
    "        ret[k] = set(temp)\n",
    "    return ret"
   ]
  },
  {
   "cell_type": "code",
   "execution_count": 23,
   "metadata": {
    "collapsed": false,
    "jupyter": {
     "outputs_hidden": false
    }
   },
   "outputs": [],
   "source": [
    "room_ids_from_node_data = get_room_ids_for_group(skels_rooms_dict)"
   ]
  },
  {
   "cell_type": "code",
   "execution_count": 40,
   "metadata": {},
   "outputs": [
    {
     "data": {
      "text/plain": [
       "<networkx.classes.graph.Graph at 0x7fe2c3398e50>"
      ]
     },
     "execution_count": 40,
     "metadata": {},
     "output_type": "execute_result"
    }
   ],
   "source": []
  },
  {
   "cell_type": "code",
   "execution_count": 25,
   "metadata": {
    "collapsed": false,
    "jupyter": {
     "outputs_hidden": false
    }
   },
   "outputs": [],
   "source": [
    "def get_obstacle_room(corridor_id, groups, room_G, skels, paths_lst, room_ids_from_node_data):\n",
    "    intersect = intersect_first_group(corridor_id, groups, room_G, skels, paths_lst)\n",
    "    room1 = paths_lst[corridor_id][0][0]\n",
    "    room2 = paths_lst[corridor_id][0][1]\n",
    "    r1_in_g1 = room1 in room_ids_from_node_data[groups[0]]\n",
    "    if r1_in_g1:\n",
    "        rooms = [room1, room2]\n",
    "    else:\n",
    "        rooms = [room2, room1]\n",
    "    if intersect:\n",
    "        obstacle_room = rooms[1]\n",
    "    else:\n",
    "        obstacle_room = rooms[0]\n",
    "    return obstacle_room"
   ]
  },
  {
   "cell_type": "code",
   "execution_count": 67,
   "metadata": {
    "collapsed": false,
    "jupyter": {
     "outputs_hidden": false
    }
   },
   "outputs": [],
   "source": [
    "def get_line_around_room(path):\n",
    "    border = []\n",
    "    for p in path:\n",
    "        border += get_neighs(p)\n",
    "    surrounding_nodes = list(set(border) - set(path))\n",
    "    return surrounding_nodes\n",
    "\n",
    "def get_obstacle_pos(room_id, corridor_id, paths_lst,room_G):\n",
    "    room_points= get_points_from_room(room_id, room_G)\n",
    "    corridor_points = paths_lst[corridor_id][1]\n",
    "    room_points = set(room_points)\n",
    "    corridor_points = set(corridor_points)\n",
    "    assert len(corridor_points.intersection(room_points))!=0\n",
    "    corridor_points = corridor_points.difference(room_points)\n",
    "    room_border = set(get_line_around_room(room_points))\n",
    "    obstacle_pos = list(room_border.intersection(corridor_points))\n",
    "    assert len(obstacle_pos)==1\n",
    "    return obstacle_pos[0]"
   ]
  },
  {
   "cell_type": "code",
   "execution_count": 68,
   "metadata": {
    "collapsed": false,
    "jupyter": {
     "outputs_hidden": false
    }
   },
   "outputs": [
    {
     "name": "stdout",
     "output_type": "stream",
     "text": [
      "False\n"
     ]
    }
   ],
   "source": [
    "idx = crossing_edges[0][0]\n",
    "grps = crossing_edges[0][1]\n",
    "intersect = intersect_first_group(idx, grps, room_G, skels, paths_lst)\n",
    "print(intersect)"
   ]
  },
  {
   "cell_type": "code",
   "execution_count": 69,
   "metadata": {
    "collapsed": false,
    "jupyter": {
     "outputs_hidden": false
    }
   },
   "outputs": [
    {
     "data": {
      "text/plain": [
       "(7, 16)"
      ]
     },
     "execution_count": 69,
     "metadata": {},
     "output_type": "execute_result"
    }
   ],
   "source": [
    "obstacle_room_id = get_obstacle_room(idx, grps, room_G, skels, paths_lst, room_ids_from_node_data)\n",
    "obstacle_pos = get_obstacle_pos(obstacle_room_id,idx,paths_lst,room_G)"
   ]
  },
  {
   "cell_type": "code",
   "execution_count": 55,
   "metadata": {},
   "outputs": [
    {
     "name": "stdout",
     "output_type": "stream",
     "text": [
      "> \u001b[0;32m<ipython-input-52-2565cc3bb913>\u001b[0m(9)\u001b[0;36mget_obstacle_pos\u001b[0;34m()\u001b[0m\n",
      "\u001b[0;32m      6 \u001b[0;31m    \u001b[0mcorridor_points\u001b[0m \u001b[0;34m=\u001b[0m \u001b[0mcorridor_points\u001b[0m\u001b[0;34m.\u001b[0m\u001b[0mdifference\u001b[0m\u001b[0;34m(\u001b[0m\u001b[0mroom_points\u001b[0m\u001b[0;34m)\u001b[0m\u001b[0;34m\u001b[0m\u001b[0;34m\u001b[0m\u001b[0m\n",
      "\u001b[0m\u001b[0;32m      7 \u001b[0;31m    \u001b[0mroom_border\u001b[0m \u001b[0;34m=\u001b[0m \u001b[0mset\u001b[0m\u001b[0;34m(\u001b[0m\u001b[0mget_path_border\u001b[0m\u001b[0;34m(\u001b[0m\u001b[0mroom_points\u001b[0m\u001b[0;34m)\u001b[0m\u001b[0;34m)\u001b[0m\u001b[0;34m\u001b[0m\u001b[0;34m\u001b[0m\u001b[0m\n",
      "\u001b[0m\u001b[0;32m      8 \u001b[0;31m    \u001b[0mobstacle_pos\u001b[0m \u001b[0;34m=\u001b[0m \u001b[0mlist\u001b[0m\u001b[0;34m(\u001b[0m\u001b[0mroom_border\u001b[0m\u001b[0;34m.\u001b[0m\u001b[0mintersection\u001b[0m\u001b[0;34m(\u001b[0m\u001b[0mcorridor_points\u001b[0m\u001b[0;34m)\u001b[0m\u001b[0;34m)\u001b[0m\u001b[0;34m\u001b[0m\u001b[0;34m\u001b[0m\u001b[0m\n",
      "\u001b[0m\u001b[0;32m----> 9 \u001b[0;31m    \u001b[0;32massert\u001b[0m \u001b[0mlen\u001b[0m\u001b[0;34m(\u001b[0m\u001b[0mobstacle_pos\u001b[0m\u001b[0;34m)\u001b[0m\u001b[0;34m==\u001b[0m\u001b[0;36m1\u001b[0m\u001b[0;34m\u001b[0m\u001b[0;34m\u001b[0m\u001b[0m\n",
      "\u001b[0m\u001b[0;32m     10 \u001b[0;31m    \u001b[0;32mreturn\u001b[0m \u001b[0mobsatcle_pos\u001b[0m\u001b[0;34m[\u001b[0m\u001b[0;36m0\u001b[0m\u001b[0;34m]\u001b[0m\u001b[0;34m\u001b[0m\u001b[0;34m\u001b[0m\u001b[0m\n",
      "\u001b[0m\n"
     ]
    },
    {
     "name": "stdin",
     "output_type": "stream",
     "text": [
      "ipdb>  obstacle_pos\n"
     ]
    },
    {
     "name": "stdout",
     "output_type": "stream",
     "text": [
      "[]\n"
     ]
    },
    {
     "name": "stdin",
     "output_type": "stream",
     "text": [
      "ipdb>  exit\n"
     ]
    }
   ],
   "source": [
    "%debug"
   ]
  },
  {
   "cell_type": "code",
   "execution_count": 217,
   "metadata": {
    "collapsed": false,
    "jupyter": {
     "outputs_hidden": false
    }
   },
   "outputs": [],
   "source": [
    "# 1. skels edge spojuje 2 roomky (20 - edge spojuje 2 vrcholy (roomy))\n",
    "# 2. funkce bude vracet list množin (počet množin = počet group, každá množina bude mít tolik prvků - indexů roomek, kolik je v groupě roomek)\n",
    "# 3. ke každé groupě znám které symboly patří do těch jednotlivých roomek (dle indexů)\n",
    "#   - funkce vezme index roomky z kroku 2 a počet atomů a vrátí pozice rovnající se počtu atomů, které nesmí být stejné, pozice přiřadím atomům které v té roomce mají být\n",
    "#### - pro každou roomku vzít atomy, index roomky z kroku 2 a funkce vrátí\n",
    "# skels:\n",
    "# {0: [(0, 1)], 1: [(2, 4), (2, 3)], 2: [(5, 6)]}\n",
    "# room_ids from groups node_data:\n",
    "# {2: {0, 1}, 1: {2, 3, 4}, 0: {5}}\n",
    "# node_data:\n",
    "# {2: {'data': [['13'], ['8', '7']]},\n",
    "# 1: {'data': [['15'], ['8', '19', '13'], ['19', '8', '7', '0']]},\n",
    "# 0: {'data': [['17']]}}"
   ]
  },
  {
   "cell_type": "code",
   "execution_count": 29,
   "metadata": {
    "collapsed": false,
    "jupyter": {
     "outputs_hidden": false
    }
   },
   "outputs": [
    {
     "data": {
      "text/plain": [
       "{2: {'data': [['13'], ['8', '7']]},\n",
       " 1: {'data': [['15'], ['8', '19', '13'], ['19', '8', '7', '0']]},\n",
       " 0: {'data': [['17']]}}"
      ]
     },
     "execution_count": 29,
     "metadata": {},
     "output_type": "execute_result"
    }
   ],
   "source": [
    "node_data"
   ]
  },
  {
   "cell_type": "code",
   "execution_count": 30,
   "metadata": {
    "collapsed": false,
    "jupyter": {
     "outputs_hidden": false
    }
   },
   "outputs": [],
   "source": [
    "from collections import defaultdict\n",
    "\n",
    "\n",
    "def get_room_points_from_node_data(room_ids_from_node_data, room_G):\n",
    "    room_points = defaultdict(list)\n",
    "    for k, v in room_ids_from_node_data.items():\n",
    "        for room_id in v:\n",
    "            room_points[k].append((room_id, get_points_from_room(room_id, room_G)))\n",
    "    return room_points"
   ]
  },
  {
   "cell_type": "code",
   "execution_count": 70,
   "metadata": {
    "collapsed": true,
    "jupyter": {
     "outputs_hidden": true
    }
   },
   "outputs": [
    {
     "data": {
      "text/plain": [
       "defaultdict(list,\n",
       "            {0: [(0,\n",
       "               [(11, 0),\n",
       "                (11, 1),\n",
       "                (11, 2),\n",
       "                (11, 3),\n",
       "                (12, 0),\n",
       "                (12, 1),\n",
       "                (12, 2),\n",
       "                (12, 3),\n",
       "                (13, 0),\n",
       "                (13, 1),\n",
       "                (13, 2),\n",
       "                (13, 3),\n",
       "                (14, 0),\n",
       "                (14, 1),\n",
       "                (14, 2),\n",
       "                (14, 3),\n",
       "                (15, 0),\n",
       "                (15, 1),\n",
       "                (15, 2),\n",
       "                (15, 3)]),\n",
       "              (1,\n",
       "               [(0, 5),\n",
       "                (0, 6),\n",
       "                (0, 7),\n",
       "                (0, 8),\n",
       "                (0, 9),\n",
       "                (0, 10),\n",
       "                (1, 5),\n",
       "                (1, 6),\n",
       "                (1, 7),\n",
       "                (1, 8),\n",
       "                (1, 9),\n",
       "                (1, 10),\n",
       "                (2, 5),\n",
       "                (2, 6),\n",
       "                (2, 7),\n",
       "                (2, 8),\n",
       "                (2, 9),\n",
       "                (2, 10),\n",
       "                (3, 5),\n",
       "                (3, 6),\n",
       "                (3, 7),\n",
       "                (3, 8),\n",
       "                (3, 9),\n",
       "                (3, 10),\n",
       "                (4, 5),\n",
       "                (4, 6),\n",
       "                (4, 7),\n",
       "                (4, 8),\n",
       "                (4, 9),\n",
       "                (4, 10),\n",
       "                (5, 5),\n",
       "                (5, 6),\n",
       "                (5, 7),\n",
       "                (5, 8),\n",
       "                (5, 9),\n",
       "                (5, 10),\n",
       "                (6, 5),\n",
       "                (6, 6),\n",
       "                (6, 7),\n",
       "                (6, 8),\n",
       "                (6, 9),\n",
       "                (6, 10),\n",
       "                (7, 5),\n",
       "                (7, 6),\n",
       "                (7, 7),\n",
       "                (7, 8),\n",
       "                (7, 9),\n",
       "                (7, 10),\n",
       "                (8, 5),\n",
       "                (8, 6),\n",
       "                (8, 7),\n",
       "                (8, 8),\n",
       "                (8, 9),\n",
       "                (8, 10),\n",
       "                (9, 5),\n",
       "                (9, 6),\n",
       "                (9, 7),\n",
       "                (9, 8),\n",
       "                (9, 9),\n",
       "                (9, 10),\n",
       "                (10, 5),\n",
       "                (10, 6),\n",
       "                (10, 7),\n",
       "                (10, 8),\n",
       "                (10, 9),\n",
       "                (10, 10),\n",
       "                (11, 5),\n",
       "                (11, 6),\n",
       "                (11, 7),\n",
       "                (11, 8),\n",
       "                (11, 9),\n",
       "                (11, 10)])],\n",
       "             1: [(2,\n",
       "               [(23, 0),\n",
       "                (23, 1),\n",
       "                (23, 2),\n",
       "                (23, 3),\n",
       "                (24, 0),\n",
       "                (24, 1),\n",
       "                (24, 2),\n",
       "                (24, 3),\n",
       "                (25, 0),\n",
       "                (25, 1),\n",
       "                (25, 2),\n",
       "                (25, 3),\n",
       "                (26, 0),\n",
       "                (26, 1),\n",
       "                (26, 2),\n",
       "                (26, 3),\n",
       "                (27, 0),\n",
       "                (27, 1),\n",
       "                (27, 2),\n",
       "                (27, 3)]),\n",
       "              (3,\n",
       "               [(22, 12),\n",
       "                (22, 13),\n",
       "                (22, 14),\n",
       "                (22, 15),\n",
       "                (22, 16),\n",
       "                (22, 17),\n",
       "                (23, 12),\n",
       "                (23, 13),\n",
       "                (23, 14),\n",
       "                (23, 15),\n",
       "                (23, 16),\n",
       "                (23, 17),\n",
       "                (24, 12),\n",
       "                (24, 13),\n",
       "                (24, 14),\n",
       "                (24, 15),\n",
       "                (24, 16),\n",
       "                (24, 17),\n",
       "                (25, 12),\n",
       "                (25, 13),\n",
       "                (25, 14),\n",
       "                (25, 15),\n",
       "                (25, 16),\n",
       "                (25, 17),\n",
       "                (26, 12),\n",
       "                (26, 13),\n",
       "                (26, 14),\n",
       "                (26, 15),\n",
       "                (26, 16),\n",
       "                (26, 17),\n",
       "                (27, 12),\n",
       "                (27, 13),\n",
       "                (27, 14),\n",
       "                (27, 15),\n",
       "                (27, 16),\n",
       "                (27, 17)]),\n",
       "              (4,\n",
       "               [(24, 5),\n",
       "                (24, 6),\n",
       "                (24, 7),\n",
       "                (24, 8),\n",
       "                (24, 9),\n",
       "                (24, 10),\n",
       "                (25, 5),\n",
       "                (25, 6),\n",
       "                (25, 7),\n",
       "                (25, 8),\n",
       "                (25, 9),\n",
       "                (25, 10),\n",
       "                (26, 5),\n",
       "                (26, 6),\n",
       "                (26, 7),\n",
       "                (26, 8),\n",
       "                (26, 9),\n",
       "                (26, 10),\n",
       "                (27, 5),\n",
       "                (27, 6),\n",
       "                (27, 7),\n",
       "                (27, 8),\n",
       "                (27, 9),\n",
       "                (27, 10)])],\n",
       "             2: [(5,\n",
       "               [(0, 12),\n",
       "                (0, 13),\n",
       "                (0, 14),\n",
       "                (0, 15),\n",
       "                (0, 16),\n",
       "                (0, 17),\n",
       "                (1, 12),\n",
       "                (1, 13),\n",
       "                (1, 14),\n",
       "                (1, 15),\n",
       "                (1, 16),\n",
       "                (1, 17),\n",
       "                (2, 12),\n",
       "                (2, 13),\n",
       "                (2, 14),\n",
       "                (2, 15),\n",
       "                (2, 16),\n",
       "                (2, 17),\n",
       "                (3, 12),\n",
       "                (3, 13),\n",
       "                (3, 14),\n",
       "                (3, 15),\n",
       "                (3, 16),\n",
       "                (3, 17),\n",
       "                (4, 12),\n",
       "                (4, 13),\n",
       "                (4, 14),\n",
       "                (4, 15),\n",
       "                (4, 16),\n",
       "                (4, 17),\n",
       "                (5, 12),\n",
       "                (5, 13),\n",
       "                (5, 14),\n",
       "                (5, 15),\n",
       "                (5, 16),\n",
       "                (5, 17),\n",
       "                (6, 12),\n",
       "                (6, 13),\n",
       "                (6, 14),\n",
       "                (6, 15),\n",
       "                (6, 16),\n",
       "                (6, 17)]),\n",
       "              (6,\n",
       "               [(20, 19),\n",
       "                (20, 20),\n",
       "                (20, 21),\n",
       "                (20, 22),\n",
       "                (20, 23),\n",
       "                (20, 24),\n",
       "                (20, 25),\n",
       "                (20, 26),\n",
       "                (20, 27),\n",
       "                (21, 19),\n",
       "                (21, 20),\n",
       "                (21, 21),\n",
       "                (21, 22),\n",
       "                (21, 23),\n",
       "                (21, 24),\n",
       "                (21, 25),\n",
       "                (21, 26),\n",
       "                (21, 27),\n",
       "                (22, 19),\n",
       "                (22, 20),\n",
       "                (22, 21),\n",
       "                (22, 22),\n",
       "                (22, 23),\n",
       "                (22, 24),\n",
       "                (22, 25),\n",
       "                (22, 26),\n",
       "                (22, 27),\n",
       "                (23, 19),\n",
       "                (23, 20),\n",
       "                (23, 21),\n",
       "                (23, 22),\n",
       "                (23, 23),\n",
       "                (23, 24),\n",
       "                (23, 25),\n",
       "                (23, 26),\n",
       "                (23, 27),\n",
       "                (24, 19),\n",
       "                (24, 20),\n",
       "                (24, 21),\n",
       "                (24, 22),\n",
       "                (24, 23),\n",
       "                (24, 24),\n",
       "                (24, 25),\n",
       "                (24, 26),\n",
       "                (24, 27),\n",
       "                (25, 19),\n",
       "                (25, 20),\n",
       "                (25, 21),\n",
       "                (25, 22),\n",
       "                (25, 23),\n",
       "                (25, 24),\n",
       "                (25, 25),\n",
       "                (25, 26),\n",
       "                (25, 27),\n",
       "                (26, 19),\n",
       "                (26, 20),\n",
       "                (26, 21),\n",
       "                (26, 22),\n",
       "                (26, 23),\n",
       "                (26, 24),\n",
       "                (26, 25),\n",
       "                (26, 26),\n",
       "                (26, 27),\n",
       "                (27, 19),\n",
       "                (27, 20),\n",
       "                (27, 21),\n",
       "                (27, 22),\n",
       "                (27, 23),\n",
       "                (27, 24),\n",
       "                (27, 25),\n",
       "                (27, 26),\n",
       "                (27, 27)])]})"
      ]
     },
     "execution_count": 70,
     "metadata": {},
     "output_type": "execute_result"
    }
   ],
   "source": [
    "groups_rooms_points = get_room_points_from_node_data(room_ids_from_node_data, room_G)\n",
    "groups_rooms_points"
   ]
  },
  {
   "cell_type": "code",
   "execution_count": 71,
   "metadata": {
    "collapsed": false,
    "jupyter": {
     "outputs_hidden": false
    }
   },
   "outputs": [
    {
     "data": {
      "text/plain": [
       "{2: {'data': [['13'], ['8', '7']]},\n",
       " 1: {'data': [['15'], ['8', '19', '13'], ['19', '8', '7', '0']]},\n",
       " 0: {'data': [['17']]}}"
      ]
     },
     "execution_count": 71,
     "metadata": {},
     "output_type": "execute_result"
    }
   ],
   "source": [
    "node_data"
   ]
  },
  {
   "cell_type": "code",
   "execution_count": 72,
   "metadata": {
    "collapsed": false,
    "jupyter": {
     "outputs_hidden": false
    }
   },
   "outputs": [],
   "source": [
    "import random\n",
    "from collections import defaultdict\n",
    "\n",
    "\n",
    "def get_atom_placements(groups_rooms_points, node_data):\n",
    "    result = defaultdict(list)\n",
    "    for k, v in node_data.items():\n",
    "        idx_g = k\n",
    "        for i, data in enumerate(v[\"data\"]):\n",
    "            used_points = []\n",
    "            room_points = groups_rooms_points[k][i][1]\n",
    "            for symbol_id in data:\n",
    "                while True:\n",
    "                    sampled_point = random.sample(room_points, 1)[0]\n",
    "                    if sampled_point not in used_points:\n",
    "                        result[groups_rooms_points[k][i][0]].append((symbol_id, sampled_point, k))\n",
    "                        used_points.append(sampled_point)\n",
    "                        break\n",
    "                    #Vrací dict listů, kde klíč je ID roomky, value je list tuplů kde prvním prvkem je id atomu a druhým prvkem je (tuple) pozice umístění atomu v roomce.\n",
    "                    # 1: [('8', (8, 13)), ('7', (9, 14))]\n",
    "\n",
    "    return result\n"
   ]
  },
  {
   "cell_type": "code",
   "execution_count": 34,
   "metadata": {
    "collapsed": false,
    "jupyter": {
     "outputs_hidden": false
    }
   },
   "outputs": [],
   "source": [
    "# Získat hranu (crossing edge), který vede mezi dvěma groupami a jeho body.\n",
    "#"
   ]
  },
  {
   "cell_type": "code",
   "execution_count": 35,
   "metadata": {
    "collapsed": false,
    "jupyter": {
     "outputs_hidden": false
    }
   },
   "outputs": [
    {
     "data": {
      "text/plain": [
       "[{'edges': {0}, 'intersections': {12}},\n",
       " {'edges': {2, 6}, 'intersections': {5, 7, 8, 11, 12, 14, 16, 19, 20}},\n",
       " {'edges': {15}, 'intersections': set()}]"
      ]
     },
     "execution_count": 35,
     "metadata": {},
     "output_type": "execute_result"
    }
   ],
   "source": [
    "skels"
   ]
  },
  {
   "cell_type": "code",
   "execution_count": 36,
   "metadata": {
    "collapsed": false,
    "jupyter": {
     "outputs_hidden": false
    }
   },
   "outputs": [
    {
     "data": {
      "text/plain": [
       "{2: {'data': [['13'], ['8', '7']]},\n",
       " 1: {'data': [['15'], ['8', '19', '13'], ['19', '8', '7', '0']]},\n",
       " 0: {'data': [['17']]}}"
      ]
     },
     "execution_count": 36,
     "metadata": {},
     "output_type": "execute_result"
    }
   ],
   "source": [
    "node_data"
   ]
  },
  {
   "cell_type": "code",
   "execution_count": 73,
   "metadata": {
    "collapsed": false,
    "jupyter": {
     "outputs_hidden": false
    }
   },
   "outputs": [
    {
     "name": "stdout",
     "output_type": "stream",
     "text": [
      "defaultdict(<class 'list'>, {5: [('13', (3, 13), 2)], 6: [('8', (23, 24), 2), ('7', (20, 26), 2)], 2: [('15', (24, 3), 1)], 3: [('8', (23, 14), 1), ('19', (27, 16), 1), ('13', (22, 12), 1)], 4: [('19', (27, 9), 1), ('8', (24, 5), 1), ('7', (25, 7), 1), ('0', (25, 8), 1)], 0: [('17', (15, 0), 0)]})\n"
     ]
    }
   ],
   "source": [
    "atom_placements = get_atom_placements(groups_rooms_points, node_data)\n",
    "print(atom_placements)"
   ]
  },
  {
   "cell_type": "code",
   "execution_count": 74,
   "metadata": {
    "collapsed": false,
    "jupyter": {
     "outputs_hidden": false
    }
   },
   "outputs": [],
   "source": [
    "crossing_edge_this = [crossing_edges[0][0]]"
   ]
  },
  {
   "cell_type": "code",
   "execution_count": 77,
   "metadata": {
    "collapsed": false,
    "jupyter": {
     "outputs_hidden": false
    }
   },
   "outputs": [
    {
     "name": "stdout",
     "output_type": "stream",
     "text": [
      "wwwwwwwwwwwwwwwwwwwwwwwwwwwwww\n",
      "wwwwww      w      wwwwwwwwwww\n",
      "wwwwww      w      wwwwwwwwwww\n",
      "wwwwww      w      wwwwwwwwwww\n",
      "wwwwww      w x    wwwwwwwwwww\n",
      "wwwwww      w      wwwwwwwwwww\n",
      "wwwwww      w      wwwwwwwwwww\n",
      "wwwwww      w        wwwwwwwww\n",
      "wwww        wwwww ww wwwwwwwww\n",
      "wwww w      w     ww wwwwwwwww\n",
      "wwww w      w wwwwww wwwwwwwww\n",
      "wwww w      w wwwwww wwwwwwwww\n",
      "w    w      w wwwwww wwwwwwwww\n",
      "w    wwwwwww  wwwwww wwwwwwwww\n",
      "w    wwwww   wwwwwww wwwwwwwww\n",
      "w    wwwww wwwwwwwww wwwwwwwww\n",
      "wx   wwwww wwwwwwwww wwwwwwwww\n",
      "wwwwwwwwww wwwwwwwww      wwww\n",
      "wwwwwwwwww wwwwwwwwwwwwww  www\n",
      "wwwwwwwwww wwwwwwwwwwwwwww  ww\n",
      "wwwwwwwwww wwwwwwwwwwwwwwww ww\n",
      "wwwwwwwwww  wwwwwwww       x w\n",
      "wwww   wwww wwwwwwww         w\n",
      "wwww w       x     w         w\n",
      "w    wwwwwwww  x   w     x   w\n",
      "w   xwx     w      w         w\n",
      "w    w  xx  w      w         w\n",
      "w    w      w      w         w\n",
      "w         x w    x w         w\n",
      "wwwwwwwwwwwwwwwwwwwwwwwwwwwwww\n",
      "\n"
     ]
    }
   ],
   "source": [
    "\n",
    "layout = get_layout_str_with_atoms(walkable_points, skels, crossing_edge_this, paths_lst, grid_size, atom_placements)\n",
    "print(layout)"
   ]
  },
  {
   "cell_type": "code",
   "execution_count": 235,
   "metadata": {
    "collapsed": false,
    "jupyter": {
     "outputs_hidden": false
    }
   },
   "outputs": [
    {
     "name": "stdout",
     "output_type": "stream",
     "text": [
      "[{'edges': {0}, 'intersections': set()}, {'edges': {3, 4}, 'intersections': {12}}, {'edges': {13}, 'intersections': {17}}]\n"
     ]
    }
   ],
   "source": [
    "print(skels)"
   ]
  },
  {
   "cell_type": "code",
   "execution_count": 236,
   "metadata": {
    "collapsed": false,
    "jupyter": {
     "outputs_hidden": false
    }
   },
   "outputs": [],
   "source": [
    "def checkLayout(skels, crossing_edges, paths_lst, room_points):\n",
    "    # vytáhnout všechny edges ze skels (pro každou group bude jedno pole edges)\n",
    "    # edges = [[edge_z_groupy]]\n",
    "    # loop přes edges a v každé iteraci budu mít všechny edge v dané groupě\n",
    "    # vytvořit pole všech bodů mimo tuto groupu (všechny roomky a koridory v ostatních groupách)\n",
    "    # inner přes každý edge:\n",
    "    # check jestli edge se protíná s čímkoliv co je mimo tuto groupu\n",
    "    # loop přes všechny crossing_edges\n",
    "    # zjistit, jestli se neprotínají navzájem (intersection)\n",
    "    pass"
   ]
  },
  {
   "cell_type": "code",
   "execution_count": 237,
   "metadata": {
    "collapsed": false,
    "jupyter": {
     "outputs_hidden": false
    }
   },
   "outputs": [],
   "source": [
    "sorted_pairs = list(sorted(map(lambda x: (x[0], x[1]), distances.items()), key=lambda x: x[1]))"
   ]
  },
  {
   "cell_type": "code",
   "execution_count": 238,
   "metadata": {},
   "outputs": [],
   "source": [
    "G = get_grid_graph(grid_size, walkable_points, chosen_rooms)"
   ]
  },
  {
   "cell_type": "code",
   "execution_count": 239,
   "metadata": {
    "collapsed": false,
    "jupyter": {
     "outputs_hidden": false
    }
   },
   "outputs": [],
   "source": [
    "paths = get_paths(G, sorted_pairs, chosen_rooms, grid_size)"
   ]
  },
  {
   "cell_type": "code",
   "execution_count": 240,
   "metadata": {},
   "outputs": [],
   "source": [
    "paths_lst = [(k, v) for k, v in paths.items()]\n",
    "rooms_points = get_room_points(chosen_rooms)\n",
    "\n",
    "room_G = get_rooms_graph(chosen_rooms, paths_lst, rooms_points)"
   ]
  },
  {
   "cell_type": "code",
   "execution_count": 241,
   "metadata": {
    "collapsed": true,
    "jupyter": {
     "outputs_hidden": true
    }
   },
   "outputs": [
    {
     "data": {
      "image/png": "[encoded data removed]",
      "text/plain": [
       "<Figure size 640x480 with 1 Axes>"
      ]
     },
     "metadata": {},
     "output_type": "display_data"
    }
   ],
   "source": [
    "nx.draw(room_G, with_labels=True)\n",
    "edgs = room_G.edges(data=True)"
   ]
  },
  {
   "cell_type": "code",
   "execution_count": 242,
   "metadata": {
    "collapsed": true,
    "jupyter": {
     "outputs_hidden": true
    }
   },
   "outputs": [
    {
     "name": "stdout",
     "output_type": "stream",
     "text": [
      "(0, 1, {'corridor_key': 0, 'crossed_corridors': [], 'crossed_rooms': []})\n",
      "(0, 5, {'corridor_key': 1, 'crossed_corridors': [17, 19], 'crossed_rooms': []})\n",
      "(0, 2, {'corridor_key': 7, 'crossed_corridors': [6, 9, 16, 18, 20], 'crossed_rooms': []})\n",
      "(0, 3, {'corridor_key': 8, 'crossed_corridors': [19], 'crossed_rooms': []})\n",
      "(0, 4, {'corridor_key': 16, 'crossed_corridors': [6, 7, 9, 18, 20], 'crossed_rooms': []})\n",
      "(0, 6, {'corridor_key': 17, 'crossed_corridors': [1, 2, 13, 14, 18, 19], 'crossed_rooms': [5]})\n",
      "(1, 5, {'corridor_key': 2, 'crossed_corridors': [18], 'crossed_rooms': []})\n",
      "(1, 2, {'corridor_key': 6, 'crossed_corridors': [7, 9, 16, 18, 20], 'crossed_rooms': []})\n",
      "(1, 3, {'corridor_key': 9, 'crossed_corridors': [6, 7, 16, 18, 20], 'crossed_rooms': []})\n",
      "(1, 4, {'corridor_key': 10, 'crossed_corridors': [14], 'crossed_rooms': []})\n",
      "(1, 6, {'corridor_key': 11, 'crossed_corridors': [14, 20], 'crossed_rooms': []})\n",
      "(2, 3, {'corridor_key': 3, 'crossed_corridors': [12], 'crossed_rooms': []})\n",
      "(2, 4, {'corridor_key': 4, 'crossed_corridors': [], 'crossed_rooms': []})\n",
      "(2, 6, {'corridor_key': 15, 'crossed_corridors': [10, 12, 14, 16], 'crossed_rooms': [4]})\n",
      "(2, 5, {'corridor_key': 18, 'crossed_corridors': [0, 2, 6, 7, 9, 10, 11, 16, 20], 'crossed_rooms': [1]})\n",
      "(3, 4, {'corridor_key': 12, 'crossed_corridors': [3, 6, 7, 18], 'crossed_rooms': [2]})\n",
      "(3, 5, {'corridor_key': 19, 'crossed_corridors': [0, 1, 7, 8, 16, 17], 'crossed_rooms': [0]})\n",
      "(3, 6, {'corridor_key': 20, 'crossed_corridors': [0, 2, 6, 7, 9, 10, 11, 14, 16, 18], 'crossed_rooms': [1]})\n",
      "(4, 6, {'corridor_key': 5, 'crossed_corridors': [], 'crossed_rooms': []})\n",
      "(4, 5, {'corridor_key': 14, 'crossed_corridors': [10, 11, 20], 'crossed_rooms': []})\n",
      "(5, 6, {'corridor_key': 13, 'crossed_corridors': [17], 'crossed_rooms': []})\n"
     ]
    }
   ],
   "source": [
    "for e in edgs:\n",
    "    print(e)"
   ]
  },
  {
   "cell_type": "code",
   "execution_count": 243,
   "metadata": {},
   "outputs": [],
   "source": [
    "groups_to_connect = [(0, 1), (1, 2)]\n",
    "available_indices = set(range(num_rooms))\n",
    "splits_it = iterate_G(available_indices, [3, 3, 3], 0, room_G)\n",
    "found = False\n",
    "for i, split in enumerate(splits_it):\n",
    "    skels_it = get_possible_split(split)\n",
    "    for skels in skels_it:\n",
    "        if len(skels) == 3:\n",
    "            crossing_edges = get_crossing_edges_list(skels, room_G, groups_to_connect, paths_lst)\n",
    "            found = True\n",
    "            print(i, '::::', skels)\n",
    "            break\n",
    "    #if i>100:\n",
    "    if found == True:\n",
    "        break"
   ]
  },
  {
   "cell_type": "code",
   "execution_count": 244,
   "metadata": {
    "collapsed": false,
    "jupyter": {
     "outputs_hidden": false
    }
   },
   "outputs": [
    {
     "name": "stdout",
     "output_type": "stream",
     "text": [
      "The autoreload extension is already loaded. To reload it, use:\n",
      "  %reload_ext autoreload\n",
      "wwwwwwwwwwwwwwwwwwwwwwwwwwwwww\n",
      "wwwwwwwwwww   w        wwwwwww\n",
      "wwwwwwwwwww   w        wwwwwww\n",
      "wwwwwwwwwww   w        wwwwwww\n",
      "wwwwwwwwwww   w        wwwwwww\n",
      "wwwwwwwwwww            w     w\n",
      "wwwwwwwwwwwwwww        w     w\n",
      "wwwwwwwwwwwwwww              w\n",
      "wwwwwwwwwwwwwww        w     w\n",
      "wwwwwwwwwwwwwwwwwwwwwwww     w\n",
      "wwwwwwwwwwwwwwwwwwwwwwww     w\n",
      "wwwwwwwwwwwwwwwwwwwwwwww     w\n",
      "w         wwwwwwwwwwwwww     w\n",
      "w         w   wwwwwwwwww     w\n",
      "w         w   wwwwwwwwww     w\n",
      "w         w   wwwwwwwwww     w\n",
      "w         w   wwwwwwwwww     w\n",
      "w         w   wwwwwwwwww     w\n",
      "w         w   wwwwwwwwww     w\n",
      "w             wwwwwwwwww     w\n",
      "w         w   wwwwwwwwww     w\n",
      "w         w   wwwwwwwwwwwwwwww\n",
      "w         w   wwwwwwwwww     w\n",
      "w         wwwwwwwwwwwwww     w\n",
      "w         w   wwwwwwwwww     w\n",
      "wwwwwwwwwww   wwwwwwwwwwwwww w\n",
      "wwwwwwwwwww   w              w\n",
      "wwwwwwwwwww   w wwwwwwwwwwwwww\n",
      "wwwwwwwwwww     wwwwwwwwwwwwww\n",
      "wwwwwwwwwwwwwwwwwwwwwwwwwwwwww\n",
      "\n"
     ]
    }
   ],
   "source": [
    "% load_ext autoreload\n",
    "% autoreload 2\n",
    "from generateLayout import *\n",
    "\n",
    "string = get_layout_str(walkable_points, skels, [], paths_lst, grid_size)\n",
    "print(string)"
   ]
  },
  {
   "cell_type": "code",
   "execution_count": 245,
   "metadata": {},
   "outputs": [],
   "source": [
    "ix = 2\n",
    "\n",
    "\n",
    "def get_layout_str(walkable_points, skels, crossing_edges):\n",
    "    edges = []\n",
    "    for s in skels:\n",
    "        edges += list(s['edges'])\n",
    "    edges += crossing_edges\n",
    "    walkable_points_all = list(walkable_points)\n",
    "    for ix in edges:\n",
    "        walkable_points_all += list(map(toL, paths_lst[ix][1]))\n",
    "    walkable_points_all = set(walkable_points_all)\n",
    "    string = create_string(walkable_points, grid_size)\n",
    "    return string"
   ]
  },
  {
   "cell_type": "code",
   "execution_count": 246,
   "metadata": {
    "collapsed": true,
    "jupyter": {
     "outputs_hidden": true
    }
   },
   "outputs": [
    {
     "ename": "NameError",
     "evalue": "name 'vertices_edges_dict_inv' is not defined",
     "output_type": "error",
     "traceback": [
      "\u001b[1;31m---------------------------------------------------------------------------\u001b[0m",
      "\u001b[1;31mNameError\u001b[0m                                 Traceback (most recent call last)",
      "\u001b[1;32m~\\AppData\\Local\\Temp\\ipykernel_15832\\420774908.py\u001b[0m in \u001b[0;36m<module>\u001b[1;34m\u001b[0m\n\u001b[1;32m----> 1\u001b[1;33m \u001b[0mget_points_from_group\u001b[0m\u001b[1;33m(\u001b[0m\u001b[1;36m2\u001b[0m\u001b[1;33m,\u001b[0m \u001b[0mskels\u001b[0m\u001b[1;33m,\u001b[0m \u001b[0mvertices_edges_dict_inv\u001b[0m\u001b[1;33m,\u001b[0m\u001b[0mroom_G\u001b[0m\u001b[1;33m,\u001b[0m\u001b[0mpaths_lst\u001b[0m\u001b[1;33m)\u001b[0m\u001b[1;33m\u001b[0m\u001b[1;33m\u001b[0m\u001b[0m\n\u001b[0m",
      "\u001b[1;31mNameError\u001b[0m: name 'vertices_edges_dict_inv' is not defined"
     ]
    }
   ],
   "source": [
    "get_points_from_group(2, skels, vertices_edges_dict_inv, room_G, paths_lst)"
   ]
  },
  {
   "cell_type": "code",
   "execution_count": null,
   "metadata": {},
   "outputs": [],
   "source": []
  },
  {
   "cell_type": "code",
   "execution_count": null,
   "metadata": {
    "collapsed": true,
    "jupyter": {
     "outputs_hidden": true
    }
   },
   "outputs": [],
   "source": [
    "\n",
    "get_points_from_room(1, room_G)"
   ]
  },
  {
   "cell_type": "code",
   "execution_count": null,
   "metadata": {
    "jupyter": {
     "source_hidden": true
    }
   },
   "outputs": [],
   "source": [
    "# skels is a list of skeletons for each group such as the one in the cell above\n",
    "# [{'edges': {0, 12}, 'intersections': {15, 21, 24, 25, 28, 29}},\n",
    "# {'edges': {5, 34}, 'intersections': {31, 35}},\n",
    "# {'edges': {9, 10}, 'intersections': {14}}]\n",
    "# groups is a tuple of indices (i,j) of the groups which should be connected..it uses the skels list indices\n",
    "# [0,1]\n",
    "# setA = get all vertices from group i (use get_vertices_from_edge_ids)\n",
    "# setB = get all vertices from group j (use get_vertices_from_edge_ids)\n",
    "# create all possible pairs (crossing edges) where the first element is from setA and the second from setB\n",
    "# iterate over the crossing edges (refered here as e): (itertools)\n",
    "# now when we speak about corridors we mean corridors which are present in the skeletons in the skel list\n",
    "# these corridors are stored in the 'edges' key of a given skeleton\n",
    "# if the crossing_edge e intersects some room or corridor from some other group than i or j then skip this edge (other groups are present in skels list)\n",
    "# intA = get intersection between the crossing edge e and anything (either room or chosen corridor) in group i\n",
    "# intB = same thing but for group j\n",
    "# if both intA and intB are not empty then skip this crossing edge\n",
    "# else return this edge"
   ]
  },
  {
   "cell_type": "code",
   "execution_count": null,
   "metadata": {},
   "outputs": [],
   "source": [
    "\n",
    "print(crossing_edges)"
   ]
  },
  {
   "cell_type": "code",
   "execution_count": null,
   "metadata": {
    "collapsed": false,
    "jupyter": {
     "outputs_hidden": false
    }
   },
   "outputs": [],
   "source": [
    "\n",
    "crossing_edges = get_crossing_edges(skels, groups_to_connect, vertices_edges_dict_inv, vertices_edges_dict)\n",
    "get_edges_from_skels(crossing_edges, groups_to_connect, skels, vertices_edges_dict_inv, room_G, paths_lst,\n",
    "                     vertices_edges_dict)"
   ]
  },
  {
   "cell_type": "code",
   "execution_count": null,
   "metadata": {
    "collapsed": true,
    "jupyter": {
     "outputs_hidden": true
    }
   },
   "outputs": [],
   "source": [
    "paths_lst[4]"
   ]
  },
  {
   "cell_type": "code",
   "execution_count": null,
   "metadata": {},
   "outputs": [],
   "source": []
  },
  {
   "cell_type": "code",
   "execution_count": null,
   "metadata": {
    "collapsed": false,
    "jupyter": {
     "outputs_hidden": false
    }
   },
   "outputs": [],
   "source": []
  }
 ],
 "metadata": {
  "kernelspec": {
   "display_name": "Python 3",
   "language": "python",
   "name": "python3"
  },
  "language_info": {
   "codemirror_mode": {
    "name": "ipython",
    "version": 3
   },
   "file_extension": ".py",
   "mimetype": "text/x-python",
   "name": "python",
   "nbconvert_exporter": "python",
   "pygments_lexer": "ipython3",
   "version": "3.7.6"
  }
 },
 "nbformat": 4,
 "nbformat_minor": 4
}
